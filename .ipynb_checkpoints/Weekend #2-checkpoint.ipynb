{
 "cells": [
  {
   "cell_type": "markdown",
   "metadata": {},
   "source": [
    "# Helper"
   ]
  },
  {
   "cell_type": "code",
   "execution_count": 1,
   "metadata": {},
   "outputs": [],
   "source": [
    "def save_model(models, filename):\n",
    "    with open(filename, 'wb') as handle:\n",
    "        pickle.dump(models, handle)\n",
    "        \n",
    "def load_model(filename):\n",
    "    with open(filename, 'rb') as handle:\n",
    "        model = pickle.load(handle)\n",
    "    return model    \n",
    "        \n",
    "def augment(x,y,t=2):\n",
    "    xs,xn = [],[]\n",
    "    for i in range(t):\n",
    "        mask = y>0\n",
    "        x1 = x[mask].copy()\n",
    "        ids = np.arange(x1.shape[0])\n",
    "        for c in range(x1.shape[1]):\n",
    "            np.random.shuffle(ids)\n",
    "            x1[:,c] = x1[ids][:,c]\n",
    "        xs.append(x1)\n",
    "\n",
    "    for i in range(t//2):\n",
    "        mask = y==0\n",
    "        x1 = x[mask].copy()\n",
    "        ids = np.arange(x1.shape[0])\n",
    "        for c in range(x1.shape[1]):\n",
    "            np.random.shuffle(ids)\n",
    "            x1[:,c] = x1[ids][:,c]\n",
    "        xn.append(x1)\n",
    "    xs = np.vstack(xs)\n",
    "    xn = np.vstack(xn)\n",
    "    ys = np.ones(xs.shape[0])\n",
    "    yn = np.zeros(xn.shape[0])\n",
    "    x = np.vstack([x,xs,xn])\n",
    "    y = np.concatenate([y,ys,yn])\n",
    "    return x,y\n",
    "\n",
    "def lgb_trainer(X, y, params, n_folds):\n",
    "    skf = StratifiedKFold(n_splits=n_folds)\n",
    "    models = []\n",
    "    for train_idx, test_idx in tqdm(skf.split(X.values, y.values)):\n",
    "            gc.collect()\n",
    "            X_train, y_train = X.iloc[train_idx], y.iloc[train_idx]\n",
    "            X_tr, y_tr = augment(X_train.values, y_train.values)\n",
    "            X_tr = pd.DataFrame(X_tr)\n",
    "            trn_data = lgb.Dataset(X_tr, label=y_tr)\n",
    "            test_data = lgb.Dataset(X.values[test_idx], label=y.values[test_idx])\n",
    "            model_lgb     = lgb.train(params, trn_data, 1000000, valid_sets = [trn_data, test_data], verbose_eval=5000, early_stopping_rounds = 4000)\n",
    "            models.append(model_lgb)\n",
    "            auc = roc_auc_score(y.values[test_idx], model_lgb.predict(X.values[test_idx]))\n",
    "    return models\n",
    "\n",
    "def lgb_trainer_no_aug(X, y, params, n_folds):\n",
    "    skf = StratifiedKFold(n_splits=n_folds)\n",
    "    models = []\n",
    "    for train_idx, test_idx in tqdm(skf.split(X.values, y.values)):\n",
    "            gc.collect()\n",
    "            X_train, y_train = X.iloc[train_idx], y.iloc[train_idx]\n",
    "            X_tr, y_tr = X_train.values, y_train.values\n",
    "            X_tr = pd.DataFrame(X_tr)\n",
    "            trn_data = lgb.Dataset(X_tr, label=y_tr)\n",
    "            test_data = lgb.Dataset(X.values[test_idx], label=y.values[test_idx])\n",
    "            model_lgb     = lgb.train(params, trn_data, 1000000, valid_sets = [trn_data, test_data], verbose_eval=5000, early_stopping_rounds = 4000)\n",
    "            models.append(model_lgb)\n",
    "            auc = roc_auc_score(y.values[test_idx], model_lgb.predict(X.values[test_idx]))\n",
    "    return models\n",
    "\n",
    "def lgb_trainer_for_bayesian_optim(X, y, params):\n",
    "        X_tr, X_val, y_tr, y_val  = train_test_split(X, y, test_size = 0.2, random_state=42)    \n",
    "        trn_data = lgb.Dataset(X_tr, label=y_tr)\n",
    "        test_data = lgb.Dataset(X_val, label=y_val)\n",
    "        model_lgb     = lgb.train(params, trn_data, 1000000, valid_sets = [trn_data, test_data], verbose_eval=5000, early_stopping_rounds = 4000)\n",
    "        auc = roc_auc_score(y_val, model_lgb.predict(X_val))\n",
    "        return auc\n",
    "\n",
    "def test_f(X, y, models):\n",
    "    preds = pd.DataFrame({})\n",
    "    for i, model in enumerate(models):\n",
    "        preds[str(i)] = model.predict(X)\n",
    "        print(f\"Fold: {i} \\t Score: {roc_auc_score(y, preds[str(i)].values)}\")\n",
    "    averaged_preds = preds.mean(axis=1)\n",
    "    scorre = roc_auc_score(y, averaged_preds)\n",
    "    print(f\"Score: {scorre}\")\n",
    "    return scorre, averaged_preds, preds"
   ]
  },
  {
   "cell_type": "markdown",
   "metadata": {},
   "source": [
    "# Please workkkkk"
   ]
  },
  {
   "cell_type": "code",
   "execution_count": 2,
   "metadata": {},
   "outputs": [],
   "source": [
    "import numpy as np\n",
    "import pandas as pd\n",
    "import matplotlib.pyplot as plt\n",
    "from sklearn.model_selection import StratifiedKFold, train_test_split\n",
    "from sklearn.metrics import roc_auc_score\n",
    "import lightgbm as lgb\n",
    "import pickle\n",
    "import gc\n",
    "import seaborn as sns\n",
    "import scikitplot as skplt\n",
    "from tqdm import tqdm_notebook as tqdm\n",
    "import warnings\n",
    "warnings.filterwarnings(\"ignore\")\n",
    "TRAIN = 'data/train.csv'\n",
    "# TEST = 'data/test.csv'\n",
    "TEST = 'data/da_real_test.csv'\n",
    "SAMPLE = 'data/sample_submission.csv'"
   ]
  },
  {
   "cell_type": "code",
   "execution_count": 3,
   "metadata": {},
   "outputs": [],
   "source": [
    "train = pd.read_csv(TRAIN)\n",
    "test = pd.read_csv(TEST)\n",
    "whole = train.append(test)\n",
    "gc.enable()"
   ]
  },
  {
   "cell_type": "markdown",
   "metadata": {
    "heading_collapsed": true
   },
   "source": [
    "# Partition real test data"
   ]
  },
  {
   "cell_type": "code",
   "execution_count": 3,
   "metadata": {
    "hidden": true
   },
   "outputs": [
    {
     "data": {
      "application/vnd.jupyter.widget-view+json": {
       "model_id": "9322038c88144539b25a23f524c25dd2",
       "version_major": 2,
       "version_minor": 0
      },
      "text/plain": [
       "HBox(children=(IntProgress(value=0, max=200), HTML(value='')))"
      ]
     },
     "metadata": {},
     "output_type": "display_data"
    },
    {
     "name": "stdout",
     "output_type": "stream",
     "text": [
      "\n",
      "100000\n",
      "100000\n"
     ]
    }
   ],
   "source": [
    "df_test = pd.read_csv(TEST)\n",
    "df_test.drop(['ID_code'], axis=1, inplace=True)\n",
    "df_test = df_test.values\n",
    "\n",
    "unique_samples = []\n",
    "unique_count = np.zeros_like(df_test)\n",
    "for feature in tqdm(range(df_test.shape[1])):\n",
    "    _, index_, count_ = np.unique(df_test[:, feature], return_counts=True, return_index=True)\n",
    "    unique_count[index_[count_ == 1], feature] += 1\n",
    "\n",
    "# Samples which have unique values are real the others are fake\n",
    "real_samples_indexes = np.argwhere(np.sum(unique_count, axis=1) > 0)[:, 0]\n",
    "synthetic_samples_indexes = np.argwhere(np.sum(unique_count, axis=1) == 0)[:, 0]\n",
    "\n",
    "print(len(real_samples_indexes))\n",
    "print(len(synthetic_samples_indexes))"
   ]
  },
  {
   "cell_type": "code",
   "execution_count": 4,
   "metadata": {
    "hidden": true
   },
   "outputs": [
    {
     "data": {
      "application/vnd.jupyter.widget-view+json": {
       "model_id": "8e9c19e5c63e44b8b4a61d7be19a56ee",
       "version_major": 2,
       "version_minor": 0
      },
      "text/plain": [
       "HBox(children=(IntProgress(value=0, max=20000), HTML(value='')))"
      ]
     },
     "metadata": {},
     "output_type": "display_data"
    },
    {
     "name": "stdout",
     "output_type": "stream",
     "text": [
      "\n"
     ]
    }
   ],
   "source": [
    "df_test_real = df_test[real_samples_indexes].copy()\n",
    "\n",
    "generator_for_each_synthetic_sample = []\n",
    "# Using 20,000 samples should be enough. \n",
    "# You can use all of the 100,000 and get the same results (but 5 times slower)\n",
    "for cur_sample_index in tqdm(synthetic_samples_indexes[:20000]):\n",
    "    cur_synthetic_sample = df_test[cur_sample_index]\n",
    "    potential_generators = df_test_real == cur_synthetic_sample\n",
    "\n",
    "    # A verified generator for a synthetic sample is achieved\n",
    "    # only if the value of a feature appears only once in the\n",
    "    # entire real samples set\n",
    "    features_mask = np.sum(potential_generators, axis=0) == 1\n",
    "    verified_generators_mask = np.any(potential_generators[:, features_mask], axis=1)\n",
    "    verified_generators_for_sample = real_samples_indexes[np.argwhere(verified_generators_mask)[:, 0]]\n",
    "    generator_for_each_synthetic_sample.append(set(verified_generators_for_sample))"
   ]
  },
  {
   "cell_type": "code",
   "execution_count": 6,
   "metadata": {
    "hidden": true
   },
   "outputs": [
    {
     "data": {
      "application/vnd.jupyter.widget-view+json": {
       "model_id": "90cbbe7cfa0d4b65b4bd277a2e7a3f74",
       "version_major": 2,
       "version_minor": 0
      },
      "text/plain": [
       "HBox(children=(IntProgress(value=0, max=20000), HTML(value='')))"
      ]
     },
     "metadata": {},
     "output_type": "display_data"
    },
    {
     "name": "stdout",
     "output_type": "stream",
     "text": [
      "\n"
     ]
    },
    {
     "data": {
      "application/vnd.jupyter.widget-view+json": {
       "model_id": "4c0b0338ba1044e1b7dcb0b78373e81e",
       "version_major": 2,
       "version_minor": 0
      },
      "text/plain": [
       "HBox(children=(IntProgress(value=0, max=20000), HTML(value='')))"
      ]
     },
     "metadata": {},
     "output_type": "display_data"
    },
    {
     "name": "stdout",
     "output_type": "stream",
     "text": [
      "\n",
      "50000\n",
      "50000\n"
     ]
    }
   ],
   "source": [
    "public_LB = generator_for_each_synthetic_sample[0]\n",
    "for x in tqdm(generator_for_each_synthetic_sample):\n",
    "    if public_LB.intersection(x):\n",
    "        public_LB = public_LB.union(x)\n",
    "\n",
    "private_LB = generator_for_each_synthetic_sample[1]\n",
    "for x in tqdm(generator_for_each_synthetic_sample):\n",
    "    if private_LB.intersection(x):\n",
    "        private_LB = private_LB.union(x)\n",
    "        \n",
    "print(len(public_LB))\n",
    "print(len(private_LB))"
   ]
  },
  {
   "cell_type": "code",
   "execution_count": 18,
   "metadata": {
    "hidden": true
   },
   "outputs": [],
   "source": [
    "df_test = pd.read_csv(TEST)"
   ]
  },
  {
   "cell_type": "code",
   "execution_count": 26,
   "metadata": {
    "hidden": true
   },
   "outputs": [],
   "source": [
    "df_test.iloc[list(public_LB) + list(private_LB)].to_csv('data/da_real_test.csv', index=False)"
   ]
  },
  {
   "cell_type": "code",
   "execution_count": 27,
   "metadata": {
    "hidden": true
   },
   "outputs": [],
   "source": [
    "kekekek = pd.read_csv('data/da_real_test.csv')"
   ]
  },
  {
   "cell_type": "markdown",
   "metadata": {
    "heading_collapsed": true
   },
   "source": [
    "# Plots"
   ]
  },
  {
   "cell_type": "code",
   "execution_count": 6,
   "metadata": {
    "hidden": true
   },
   "outputs": [],
   "source": [
    "train_uniques = train.nunique()\n",
    "test_uniques = test.nunique()\n",
    "whole_uniques = whole.nunique()"
   ]
  },
  {
   "cell_type": "code",
   "execution_count": 12,
   "metadata": {
    "hidden": true
   },
   "outputs": [
    {
     "data": {
      "text/plain": [
       "<matplotlib.collections.PathCollection at 0x7ff6ac9ad8d0>"
      ]
     },
     "execution_count": 12,
     "metadata": {},
     "output_type": "execute_result"
    },
    {
     "data": {
      "image/png": "[encoded data removed]",
      "text/plain": [
       "<Figure size 2160x576 with 1 Axes>"
      ]
     },
     "metadata": {
      "needs_background": "light"
     },
     "output_type": "display_data"
    }
   ],
   "source": [
    "plt.figure(figsize=(30,8))\n",
    "plt.scatter(train.columns, train_uniques)"
   ]
  },
  {
   "cell_type": "code",
   "execution_count": 13,
   "metadata": {
    "hidden": true
   },
   "outputs": [
    {
     "data": {
      "text/plain": [
       "<matplotlib.collections.PathCollection at 0x7ff693710128>"
      ]
     },
     "execution_count": 13,
     "metadata": {},
     "output_type": "execute_result"
    },
    {
     "data": {
      "image/png": "[encoded data removed]",
      "text/plain": [
       "<Figure size 2160x576 with 1 Axes>"
      ]
     },
     "metadata": {
      "needs_background": "light"
     },
     "output_type": "display_data"
    }
   ],
   "source": [
    "plt.figure(figsize=(30,8))\n",
    "plt.scatter(test.columns, test_uniques)"
   ]
  },
  {
   "cell_type": "code",
   "execution_count": 14,
   "metadata": {
    "hidden": true
   },
   "outputs": [
    {
     "data": {
      "text/plain": [
       "<matplotlib.collections.PathCollection at 0x7ff693521cc0>"
      ]
     },
     "execution_count": 14,
     "metadata": {},
     "output_type": "execute_result"
    },
    {
     "data": {
      "image/png": "[encoded data removed]",
      "text/plain": [
       "<Figure size 2160x576 with 1 Axes>"
      ]
     },
     "metadata": {
      "needs_background": "light"
     },
     "output_type": "display_data"
    }
   ],
   "source": [
    "plt.figure(figsize=(30,8))\n",
    "plt.scatter(whole.columns, whole_uniques)"
   ]
  },
  {
   "cell_type": "markdown",
   "metadata": {},
   "source": [
    "# Augment unique count"
   ]
  },
  {
   "cell_type": "code",
   "execution_count": 4,
   "metadata": {},
   "outputs": [],
   "source": [
    "def augment_uniques(data):\n",
    "    maps = {}\n",
    "    for feature in tqdm(data.columns):\n",
    "        if feature in ['ID_code', 'target']:\n",
    "            continue\n",
    "        a, b = np.unique(data[feature], return_counts=True)\n",
    "        unique_map = dict(zip(a, b))\n",
    "        maps[feature] = unique_map\n",
    "        data[f'count_{feature}'] = data[feature].map(unique_map)\n",
    "    return data, maps  "
   ]
  },
  {
   "cell_type": "code",
   "execution_count": 5,
   "metadata": {},
   "outputs": [],
   "source": [
    "def answer_agument(testdf, maps):\n",
    "    for feature in tqdm(testdf.columns):\n",
    "        if feature in ['ID_code']:\n",
    "            continue\n",
    "        testdf[f'count_{feature}'] = testdf[feature].map(maps[feature])    \n",
    "    return testdf    "
   ]
  },
  {
   "cell_type": "code",
   "execution_count": 6,
   "metadata": {},
   "outputs": [
    {
     "data": {
      "application/vnd.jupyter.widget-view+json": {
       "model_id": "100602f5cc9b4500ba0d5438dcc4d8f8",
       "version_major": 2,
       "version_minor": 0
      },
      "text/plain": [
       "HBox(children=(IntProgress(value=0, max=202), HTML(value='')))"
      ]
     },
     "metadata": {},
     "output_type": "display_data"
    },
    {
     "name": "stdout",
     "output_type": "stream",
     "text": [
      "\n"
     ]
    }
   ],
   "source": [
    "whole, unique_map = augment_uniques(whole)\n",
    "# whole = pd.read_csv('whole.csv')"
   ]
  },
  {
   "cell_type": "code",
   "execution_count": 7,
   "metadata": {},
   "outputs": [],
   "source": [
    "# whole.to_csv('whole.csv', index=False)"
   ]
  },
  {
   "cell_type": "code",
   "execution_count": 8,
   "metadata": {},
   "outputs": [],
   "source": [
    "# save_model(unique_map, 'unique_model.dict')"
   ]
  },
  {
   "cell_type": "code",
   "execution_count": 7,
   "metadata": {},
   "outputs": [
    {
     "data": {
      "text/plain": [
       "(300000, 402)"
      ]
     },
     "execution_count": 7,
     "metadata": {},
     "output_type": "execute_result"
    }
   ],
   "source": [
    "whole.shape"
   ]
  },
  {
   "cell_type": "code",
   "execution_count": 8,
   "metadata": {},
   "outputs": [],
   "source": [
    "traindf, testdf = whole[:200000], whole[200000:]\n",
    "y = traindf.target\n",
    "X = traindf.drop(['target', 'ID_code'], axis=1)"
   ]
  },
  {
   "cell_type": "code",
   "execution_count": 9,
   "metadata": {},
   "outputs": [],
   "source": [
    "Xtr, Xval, ytr, yval  = train_test_split(X, y, test_size = 0.2, random_state=42)"
   ]
  },
  {
   "cell_type": "code",
   "execution_count": 9,
   "metadata": {},
   "outputs": [],
   "source": [
    "param = {\n",
    "    'bagging_freq': 5,\n",
    "    'bagging_fraction': 0.335,\n",
    "    'boost_from_average':'false',\n",
    "    'boost': 'gbdt',\n",
    "    'feature_fraction': 0.041,\n",
    "    'learning_rate': 0.001,\n",
    "    'max_depth': 4,\n",
    "    'metric':'auc',\n",
    "    'min_data_in_leaf': 100,\n",
    "    'min_sum_hessian_in_leaf': 10.0,\n",
    "    'num_leaves': 10,\n",
    "    'num_threads': 8,\n",
    "    'tree_learner': 'serial',\n",
    "    'objective': 'binary', \n",
    "    'verbosity': -1,\n",
    "    'seed':42,\n",
    "}"
   ]
  },
  {
   "cell_type": "code",
   "execution_count": 21,
   "metadata": {},
   "outputs": [
    {
     "name": "stdout",
     "output_type": "stream",
     "text": [
      "Training until validation scores don't improve for 4000 rounds.\n",
      "[5000]\ttraining's auc: 0.903531\tvalid_1's auc: 0.874673\n",
      "[10000]\ttraining's auc: 0.911923\tvalid_1's auc: 0.880603\n",
      "[15000]\ttraining's auc: 0.918925\tvalid_1's auc: 0.885082\n",
      "[20000]\ttraining's auc: 0.924452\tvalid_1's auc: 0.888236\n",
      "[25000]\ttraining's auc: 0.929235\tvalid_1's auc: 0.890761\n",
      "[30000]\ttraining's auc: 0.933417\tvalid_1's auc: 0.892645\n",
      "[35000]\ttraining's auc: 0.937157\tvalid_1's auc: 0.894111\n",
      "[40000]\ttraining's auc: 0.940436\tvalid_1's auc: 0.895054\n",
      "[45000]\ttraining's auc: 0.943518\tvalid_1's auc: 0.895902\n",
      "[50000]\ttraining's auc: 0.946378\tvalid_1's auc: 0.896558\n",
      "[55000]\ttraining's auc: 0.94904\tvalid_1's auc: 0.89703\n",
      "[60000]\ttraining's auc: 0.951526\tvalid_1's auc: 0.897374\n",
      "[65000]\ttraining's auc: 0.95383\tvalid_1's auc: 0.897618\n",
      "[70000]\ttraining's auc: 0.956053\tvalid_1's auc: 0.897785\n",
      "[75000]\ttraining's auc: 0.958153\tvalid_1's auc: 0.897918\n",
      "[80000]\ttraining's auc: 0.960189\tvalid_1's auc: 0.898014\n",
      "[85000]\ttraining's auc: 0.962113\tvalid_1's auc: 0.898062\n",
      "[90000]\ttraining's auc: 0.963918\tvalid_1's auc: 0.898037\n",
      "Early stopping, best iteration is:\n",
      "[86332]\ttraining's auc: 0.962597\tvalid_1's auc: 0.898071\n",
      "Training until validation scores don't improve for 4000 rounds.\n",
      "[5000]\ttraining's auc: 0.901634\tvalid_1's auc: 0.875386\n",
      "[10000]\ttraining's auc: 0.909727\tvalid_1's auc: 0.882054\n",
      "[15000]\ttraining's auc: 0.916719\tvalid_1's auc: 0.88707\n",
      "[20000]\ttraining's auc: 0.922409\tvalid_1's auc: 0.890463\n",
      "[25000]\ttraining's auc: 0.92734\tvalid_1's auc: 0.892989\n",
      "[30000]\ttraining's auc: 0.931584\tvalid_1's auc: 0.894828\n",
      "[35000]\ttraining's auc: 0.935381\tvalid_1's auc: 0.896315\n",
      "[40000]\ttraining's auc: 0.938707\tvalid_1's auc: 0.897337\n",
      "[45000]\ttraining's auc: 0.941806\tvalid_1's auc: 0.898153\n",
      "[50000]\ttraining's auc: 0.944691\tvalid_1's auc: 0.898759\n",
      "[55000]\ttraining's auc: 0.94734\tvalid_1's auc: 0.8992\n",
      "[60000]\ttraining's auc: 0.949877\tvalid_1's auc: 0.899548\n",
      "[65000]\ttraining's auc: 0.952229\tvalid_1's auc: 0.899703\n",
      "[70000]\ttraining's auc: 0.95448\tvalid_1's auc: 0.899874\n",
      "[75000]\ttraining's auc: 0.956599\tvalid_1's auc: 0.899971\n",
      "[80000]\ttraining's auc: 0.958635\tvalid_1's auc: 0.900018\n",
      "Early stopping, best iteration is:\n",
      "[79851]\ttraining's auc: 0.958575\tvalid_1's auc: 0.900025\n"
     ]
    }
   ],
   "source": [
    "rank_models = lgb_trainer_no_aug(Xtr, ytr, param, n_folds = 2)"
   ]
  },
  {
   "cell_type": "code",
   "execution_count": 22,
   "metadata": {},
   "outputs": [
    {
     "name": "stdout",
     "output_type": "stream",
     "text": [
      "Fold: 0 \t Score: 0.8988752618374661\n",
      "Fold: 1 \t Score: 0.8989653875172066\n",
      "Score: 0.9014838553784754\n"
     ]
    }
   ],
   "source": [
    "scorre, q, w = test_f(Xval, yval, rank_models)"
   ]
  },
  {
   "cell_type": "markdown",
   "metadata": {},
   "source": [
    "# Train on new bayesian params"
   ]
  },
  {
   "cell_type": "code",
   "execution_count": 20,
   "metadata": {},
   "outputs": [
    {
     "data": {
      "text/plain": [
       "{'target': 0.8620098138074975,\n",
       " 'params': {'bagging_fraction': 0.8,\n",
       "  'feature_fraction': 0.039575020369471824,\n",
       "  'learning_rate': 0.007665078680394379,\n",
       "  'min_data_in_leaf': 98.92002156410791,\n",
       "  'min_sum_hessian_in_leaf': 14.910533683368534,\n",
       "  'num_leaves': 37.894176676473215,\n",
       "  'num_threads': 6.37590307317559,\n",
       "  'reg_alpha': 0.6718099633747782,\n",
       "  'reg_lambda': 0.07763407837596625}}"
      ]
     },
     "execution_count": 20,
     "metadata": {},
     "output_type": "execute_result"
    }
   ],
   "source": [
    "opt_params[27]"
   ]
  },
  {
   "cell_type": "code",
   "execution_count": 29,
   "metadata": {},
   "outputs": [],
   "source": [
    "# param = {\n",
    "#     'bagging_fraction': 0.7244760011046869,\n",
    "#   'feature_fraction': 0.03797197526119348,\n",
    "#   'learning_rate': 0.006727693701374024,\n",
    "#   'min_data_in_leaf': 104,\n",
    "#   'min_sum_hessian_in_leaf': 10,\n",
    "#   'num_leaves': 10,\n",
    "#   'num_threads': 7,\n",
    "#   'reg_alpha': 0.41038292303562973,\n",
    "#   'reg_lambda': 0.7555511385430487,\n",
    "#     'boost': 'gbdt',\n",
    "#     'metric':'auc',\n",
    "#     'tree_learner': 'serial',\n",
    "#     'objective': 'binary', \n",
    "#     'verbosity': -1,\n",
    "#     'seed':42,\n",
    "# }\n",
    "\n",
    "#^best\n"
   ]
  },
  {
   "cell_type": "code",
   "execution_count": 10,
   "metadata": {},
   "outputs": [],
   "source": [
    "param = {\n",
    "    'bagging_fraction': 0.7244760011046869,\n",
    "  'feature_fraction': 0.79797197526119348,\n",
    "#   'feature_fraction': 0.58797197526119348,\n",
    "#   'feature_fraction': 0.38797197526119348,\n",
    "#   'feature_fraction': 0.09797197526119348,\n",
    "#   'feature_fraction': 0.13797197526119348,\n",
    "  'learning_rate': 0.006727693701374024,\n",
    "  'min_data_in_leaf': 104,\n",
    "  'min_sum_hessian_in_leaf': 10,\n",
    "  'num_leaves': 37,\n",
    "  'num_threads': 7,\n",
    "  'reg_alpha': 0.41038292303562973,\n",
    "  'reg_lambda': 0.7555511385430487,\n",
    "    'boost': 'gbdt',\n",
    "    'metric':'auc',\n",
    "    'tree_learner': 'serial',\n",
    "    'objective': 'binary', \n",
    "    'verbosity': -1,\n",
    "    'seed':42,\n",
    "}\n",
    "\n",
    "\n",
    "#^best"
   ]
  },
  {
   "cell_type": "code",
   "execution_count": 11,
   "metadata": {},
   "outputs": [
    {
     "data": {
      "application/vnd.jupyter.widget-view+json": {
       "model_id": "ec9c4fa84bc74468880d9893e8ea255e",
       "version_major": 2,
       "version_minor": 0
      },
      "text/plain": [
       "HBox(children=(IntProgress(value=1, bar_style='info', max=1), HTML(value='')))"
      ]
     },
     "metadata": {},
     "output_type": "display_data"
    },
    {
     "name": "stdout",
     "output_type": "stream",
     "text": [
      "Training until validation scores don't improve for 4000 rounds.\n",
      "[5000]\ttraining's auc: 0.997264\tvalid_1's auc: 0.905411\n",
      "[10000]\ttraining's auc: 0.999945\tvalid_1's auc: 0.908571\n",
      "[15000]\ttraining's auc: 1\tvalid_1's auc: 0.909231\n",
      "Early stopping, best iteration is:\n",
      "[15373]\ttraining's auc: 1\tvalid_1's auc: 0.909325\n",
      "Training until validation scores don't improve for 4000 rounds.\n",
      "[5000]\ttraining's auc: 0.997244\tvalid_1's auc: 0.907684\n",
      "[10000]\ttraining's auc: 0.999941\tvalid_1's auc: 0.9088\n",
      "Early stopping, best iteration is:\n",
      "[9050]\ttraining's auc: 0.999883\tvalid_1's auc: 0.908885\n",
      "Training until validation scores don't improve for 4000 rounds.\n",
      "[5000]\ttraining's auc: 0.997286\tvalid_1's auc: 0.906735\n",
      "[10000]\ttraining's auc: 0.999928\tvalid_1's auc: 0.908302\n",
      "Early stopping, best iteration is:\n",
      "[9624]\ttraining's auc: 0.99991\tvalid_1's auc: 0.908319\n",
      "Training until validation scores don't improve for 4000 rounds.\n",
      "[5000]\ttraining's auc: 0.997167\tvalid_1's auc: 0.906611\n",
      "[10000]\ttraining's auc: 0.999937\tvalid_1's auc: 0.908848\n",
      "[15000]\ttraining's auc: 1\tvalid_1's auc: 0.909572\n",
      "Early stopping, best iteration is:\n",
      "[15084]\ttraining's auc: 1\tvalid_1's auc: 0.909604\n",
      "Training until validation scores don't improve for 4000 rounds.\n",
      "[5000]\ttraining's auc: 0.997215\tvalid_1's auc: 0.901658\n",
      "Early stopping, best iteration is:\n",
      "[5112]\ttraining's auc: 0.99745\tvalid_1's auc: 0.901764\n",
      "Training until validation scores don't improve for 4000 rounds.\n",
      "[5000]\ttraining's auc: 0.997158\tvalid_1's auc: 0.906502\n",
      "[10000]\ttraining's auc: 0.99992\tvalid_1's auc: 0.909275\n",
      "[15000]\ttraining's auc: 1\tvalid_1's auc: 0.909566\n",
      "Early stopping, best iteration is:\n",
      "[15794]\ttraining's auc: 1\tvalid_1's auc: 0.909481\n",
      "Training until validation scores don't improve for 4000 rounds.\n",
      "[5000]\ttraining's auc: 0.997281\tvalid_1's auc: 0.904093\n",
      "[10000]\ttraining's auc: 0.999959\tvalid_1's auc: 0.905469\n",
      "[15000]\ttraining's auc: 1\tvalid_1's auc: 0.905521\n",
      "Early stopping, best iteration is:\n",
      "[14088]\ttraining's auc: 1\tvalid_1's auc: 0.905645\n",
      "Training until validation scores don't improve for 4000 rounds.\n",
      "[5000]\ttraining's auc: 0.997226\tvalid_1's auc: 0.907861\n",
      "[10000]\ttraining's auc: 0.999952\tvalid_1's auc: 0.90954\n",
      "[15000]\ttraining's auc: 1\tvalid_1's auc: 0.910067\n",
      "Early stopping, best iteration is:\n",
      "[14610]\ttraining's auc: 1\tvalid_1's auc: 0.910072\n",
      "Training until validation scores don't improve for 4000 rounds.\n",
      "[5000]\ttraining's auc: 0.997215\tvalid_1's auc: 0.909626\n",
      "[10000]\ttraining's auc: 0.999957\tvalid_1's auc: 0.911401\n",
      "Early stopping, best iteration is:\n",
      "[9834]\ttraining's auc: 0.99995\tvalid_1's auc: 0.911451\n",
      "Training until validation scores don't improve for 4000 rounds.\n",
      "[5000]\ttraining's auc: 0.997161\tvalid_1's auc: 0.908754\n",
      "[10000]\ttraining's auc: 0.999924\tvalid_1's auc: 0.91018\n",
      "[15000]\ttraining's auc: 1\tvalid_1's auc: 0.910337\n",
      "Early stopping, best iteration is:\n",
      "[15804]\ttraining's auc: 1\tvalid_1's auc: 0.910349\n",
      "\n"
     ]
    }
   ],
   "source": [
    "rank_models = lgb_trainer_no_aug(Xtr, ytr, param, n_folds = 10)"
   ]
  },
  {
   "cell_type": "code",
   "execution_count": 12,
   "metadata": {},
   "outputs": [
    {
     "name": "stdout",
     "output_type": "stream",
     "text": [
      "Fold: 0 \t Score: 0.9075586062848496\n",
      "Fold: 1 \t Score: 0.9069224238163864\n",
      "Fold: 2 \t Score: 0.907126822902686\n",
      "Fold: 3 \t Score: 0.9076478753729293\n",
      "Fold: 4 \t Score: 0.9059378464841036\n",
      "Fold: 5 \t Score: 0.9075008271378245\n",
      "Fold: 6 \t Score: 0.9076223067916888\n",
      "Fold: 7 \t Score: 0.9072668620425343\n",
      "Fold: 8 \t Score: 0.9069879802718239\n",
      "Fold: 9 \t Score: 0.9079793219588883\n",
      "Score: 0.9097140220472145\n"
     ]
    }
   ],
   "source": [
    "scorre, q, w = test_f(Xval, yval, rank_models)"
   ]
  },
  {
   "cell_type": "code",
   "execution_count": 13,
   "metadata": {},
   "outputs": [],
   "source": [
    "save_model(rank_models, 'ovvverrrx4.m')"
   ]
  },
  {
   "cell_type": "code",
   "execution_count": 11,
   "metadata": {},
   "outputs": [
    {
     "data": {
      "application/vnd.jupyter.widget-view+json": {
       "model_id": "e12e579c86164c03a68832d8c59f3195",
       "version_major": 2,
       "version_minor": 0
      },
      "text/plain": [
       "HBox(children=(IntProgress(value=1, bar_style='info', max=1), HTML(value='')))"
      ]
     },
     "metadata": {},
     "output_type": "display_data"
    },
    {
     "name": "stdout",
     "output_type": "stream",
     "text": [
      "Training until validation scores don't improve for 4000 rounds.\n",
      "[5000]\ttraining's auc: 0.986822\tvalid_1's auc: 0.904151\n",
      "[10000]\ttraining's auc: 0.998295\tvalid_1's auc: 0.907544\n",
      "[15000]\ttraining's auc: 0.999772\tvalid_1's auc: 0.908485\n",
      "[20000]\ttraining's auc: 0.999957\tvalid_1's auc: 0.909086\n",
      "[25000]\ttraining's auc: 0.999996\tvalid_1's auc: 0.90938\n",
      "[30000]\ttraining's auc: 1\tvalid_1's auc: 0.909517\n",
      "Early stopping, best iteration is:\n",
      "[28410]\ttraining's auc: 1\tvalid_1's auc: 0.909567\n",
      "Training until validation scores don't improve for 4000 rounds.\n",
      "[5000]\ttraining's auc: 0.987061\tvalid_1's auc: 0.90714\n",
      "[10000]\ttraining's auc: 0.998414\tvalid_1's auc: 0.908611\n",
      "[15000]\ttraining's auc: 0.999774\tvalid_1's auc: 0.90874\n",
      "Early stopping, best iteration is:\n",
      "[13015]\ttraining's auc: 0.99954\tvalid_1's auc: 0.908841\n",
      "Training until validation scores don't improve for 4000 rounds.\n",
      "[5000]\ttraining's auc: 0.986951\tvalid_1's auc: 0.906186\n",
      "[10000]\ttraining's auc: 0.99836\tvalid_1's auc: 0.907684\n",
      "[15000]\ttraining's auc: 0.999754\tvalid_1's auc: 0.908139\n",
      "[20000]\ttraining's auc: 0.999946\tvalid_1's auc: 0.908125\n",
      "Early stopping, best iteration is:\n",
      "[20500]\ttraining's auc: 0.999953\tvalid_1's auc: 0.908194\n",
      "Training until validation scores don't improve for 4000 rounds.\n",
      "[5000]\ttraining's auc: 0.986756\tvalid_1's auc: 0.905521\n",
      "[10000]\ttraining's auc: 0.998296\tvalid_1's auc: 0.908887\n",
      "[15000]\ttraining's auc: 0.999754\tvalid_1's auc: 0.909606\n",
      "[20000]\ttraining's auc: 0.999954\tvalid_1's auc: 0.909953\n",
      "[25000]\ttraining's auc: 0.999997\tvalid_1's auc: 0.910259\n",
      "Early stopping, best iteration is:\n",
      "[25178]\ttraining's auc: 0.999998\tvalid_1's auc: 0.910312\n",
      "Training until validation scores don't improve for 4000 rounds.\n",
      "[5000]\ttraining's auc: 0.98699\tvalid_1's auc: 0.901775\n",
      "[10000]\ttraining's auc: 0.998264\tvalid_1's auc: 0.902469\n",
      "Early stopping, best iteration is:\n",
      "[9352]\ttraining's auc: 0.99775\tvalid_1's auc: 0.902556\n",
      "Training until validation scores don't improve for 4000 rounds.\n",
      "[5000]\ttraining's auc: 0.986749\tvalid_1's auc: 0.905537\n",
      "[10000]\ttraining's auc: 0.998311\tvalid_1's auc: 0.908186\n",
      "[15000]\ttraining's auc: 0.999746\tvalid_1's auc: 0.908855\n",
      "[20000]\ttraining's auc: 0.999953\tvalid_1's auc: 0.909043\n",
      "[25000]\ttraining's auc: 0.999995\tvalid_1's auc: 0.909147\n",
      "[30000]\ttraining's auc: 1\tvalid_1's auc: 0.909175\n",
      "Early stopping, best iteration is:\n",
      "[28791]\ttraining's auc: 1\tvalid_1's auc: 0.909171\n",
      "Training until validation scores don't improve for 4000 rounds.\n",
      "[5000]\ttraining's auc: 0.987076\tvalid_1's auc: 0.90365\n",
      "[10000]\ttraining's auc: 0.998364\tvalid_1's auc: 0.905688\n",
      "[15000]\ttraining's auc: 0.999792\tvalid_1's auc: 0.905921\n",
      "Early stopping, best iteration is:\n",
      "[14043]\ttraining's auc: 0.99969\tvalid_1's auc: 0.906068\n",
      "Training until validation scores don't improve for 4000 rounds.\n",
      "[5000]\ttraining's auc: 0.986988\tvalid_1's auc: 0.906805\n",
      "[10000]\ttraining's auc: 0.998329\tvalid_1's auc: 0.908677\n",
      "[15000]\ttraining's auc: 0.999785\tvalid_1's auc: 0.909395\n",
      "[20000]\ttraining's auc: 0.999974\tvalid_1's auc: 0.909704\n",
      "[25000]\ttraining's auc: 1\tvalid_1's auc: 0.90977\n",
      "Early stopping, best iteration is:\n",
      "[23490]\ttraining's auc: 0.999997\tvalid_1's auc: 0.909838\n",
      "Training until validation scores don't improve for 4000 rounds.\n",
      "[5000]\ttraining's auc: 0.986763\tvalid_1's auc: 0.909485\n",
      "[10000]\ttraining's auc: 0.998335\tvalid_1's auc: 0.912187\n",
      "[15000]\ttraining's auc: 0.999782\tvalid_1's auc: 0.912369\n",
      "Early stopping, best iteration is:\n",
      "[14792]\ttraining's auc: 0.999765\tvalid_1's auc: 0.912415\n",
      "Training until validation scores don't improve for 4000 rounds.\n",
      "[5000]\ttraining's auc: 0.986922\tvalid_1's auc: 0.908421\n",
      "[10000]\ttraining's auc: 0.998288\tvalid_1's auc: 0.910977\n",
      "[15000]\ttraining's auc: 0.999737\tvalid_1's auc: 0.911275\n",
      "Early stopping, best iteration is:\n",
      "[13778]\ttraining's auc: 0.999603\tvalid_1's auc: 0.911448\n",
      "\n"
     ]
    }
   ],
   "source": [
    "rank_models = lgb_trainer_no_aug(Xtr, ytr, param, n_folds = 10)"
   ]
  },
  {
   "cell_type": "code",
   "execution_count": 12,
   "metadata": {},
   "outputs": [],
   "source": [
    "save_model(rank_models, 'ovvverrrx2.m')"
   ]
  },
  {
   "cell_type": "code",
   "execution_count": 13,
   "metadata": {},
   "outputs": [
    {
     "name": "stdout",
     "output_type": "stream",
     "text": [
      "Fold: 0 \t Score: 0.90744033545054\n",
      "Fold: 1 \t Score: 0.9073037430723745\n",
      "Fold: 2 \t Score: 0.9072289408656773\n",
      "Fold: 3 \t Score: 0.9078093293042977\n",
      "Fold: 4 \t Score: 0.907905757051257\n",
      "Fold: 5 \t Score: 0.9068124809565565\n",
      "Fold: 6 \t Score: 0.9077916264099745\n",
      "Fold: 7 \t Score: 0.9074814042618332\n",
      "Fold: 8 \t Score: 0.9076514920932749\n",
      "Fold: 9 \t Score: 0.9070558481650763\n",
      "Score: 0.9100698271087345\n"
     ]
    }
   ],
   "source": [
    "scorre, q, w = test_f(Xval, yval, rank_models)"
   ]
  },
  {
   "cell_type": "code",
   "execution_count": 10,
   "metadata": {},
   "outputs": [
    {
     "data": {
      "application/vnd.jupyter.widget-view+json": {
       "model_id": "c21536fdc4324a8e8c15df229313b5d8",
       "version_major": 2,
       "version_minor": 0
      },
      "text/plain": [
       "HBox(children=(IntProgress(value=1, bar_style='info', max=1), HTML(value='')))"
      ]
     },
     "metadata": {},
     "output_type": "display_data"
    },
    {
     "name": "stdout",
     "output_type": "stream",
     "text": [
      "Training until validation scores don't improve for 4000 rounds.\n",
      "[5000]\ttraining's auc: 0.968671\tvalid_1's auc: 0.89846\n",
      "[10000]\ttraining's auc: 0.98931\tvalid_1's auc: 0.902326\n",
      "[15000]\ttraining's auc: 0.997391\tvalid_1's auc: 0.903098\n",
      "[20000]\ttraining's auc: 0.999543\tvalid_1's auc: 0.903235\n",
      "[25000]\ttraining's auc: 0.999934\tvalid_1's auc: 0.903181\n",
      "Early stopping, best iteration is:\n",
      "[21383]\ttraining's auc: 0.999729\tvalid_1's auc: 0.903392\n",
      "Training until validation scores don't improve for 4000 rounds.\n",
      "[5000]\ttraining's auc: 0.968954\tvalid_1's auc: 0.901085\n",
      "[10000]\ttraining's auc: 0.989544\tvalid_1's auc: 0.903016\n",
      "[15000]\ttraining's auc: 0.997488\tvalid_1's auc: 0.903607\n",
      "[20000]\ttraining's auc: 0.999569\tvalid_1's auc: 0.903708\n",
      "Early stopping, best iteration is:\n",
      "[19083]\ttraining's auc: 0.999395\tvalid_1's auc: 0.903795\n",
      "Training until validation scores don't improve for 4000 rounds.\n",
      "[5000]\ttraining's auc: 0.969112\tvalid_1's auc: 0.900041\n",
      "[10000]\ttraining's auc: 0.989604\tvalid_1's auc: 0.901714\n",
      "[15000]\ttraining's auc: 0.99751\tvalid_1's auc: 0.901976\n",
      "[20000]\ttraining's auc: 0.999572\tvalid_1's auc: 0.901911\n",
      "Early stopping, best iteration is:\n",
      "[17115]\ttraining's auc: 0.998769\tvalid_1's auc: 0.902081\n",
      "Training until validation scores don't improve for 4000 rounds.\n",
      "[5000]\ttraining's auc: 0.968847\tvalid_1's auc: 0.897044\n",
      "[10000]\ttraining's auc: 0.989358\tvalid_1's auc: 0.900107\n",
      "[15000]\ttraining's auc: 0.997371\tvalid_1's auc: 0.900767\n",
      "[20000]\ttraining's auc: 0.999531\tvalid_1's auc: 0.901104\n",
      "[25000]\ttraining's auc: 0.999937\tvalid_1's auc: 0.901258\n",
      "[30000]\ttraining's auc: 0.999992\tvalid_1's auc: 0.901408\n",
      "Early stopping, best iteration is:\n",
      "[28735]\ttraining's auc: 0.999987\tvalid_1's auc: 0.901535\n",
      "Training until validation scores don't improve for 4000 rounds.\n",
      "[5000]\ttraining's auc: 0.968977\tvalid_1's auc: 0.896869\n",
      "[10000]\ttraining's auc: 0.989519\tvalid_1's auc: 0.898248\n",
      "Early stopping, best iteration is:\n",
      "[10485]\ttraining's auc: 0.990733\tvalid_1's auc: 0.898331\n",
      "Training until validation scores don't improve for 4000 rounds.\n",
      "[5000]\ttraining's auc: 0.968793\tvalid_1's auc: 0.899143\n",
      "[10000]\ttraining's auc: 0.98943\tvalid_1's auc: 0.901283\n",
      "[15000]\ttraining's auc: 0.997439\tvalid_1's auc: 0.901781\n",
      "Early stopping, best iteration is:\n",
      "[15268]\ttraining's auc: 0.997642\tvalid_1's auc: 0.90183\n",
      "Training until validation scores don't improve for 4000 rounds.\n",
      "[5000]\ttraining's auc: 0.9691\tvalid_1's auc: 0.897803\n",
      "[10000]\ttraining's auc: 0.989532\tvalid_1's auc: 0.89958\n",
      "[15000]\ttraining's auc: 0.997458\tvalid_1's auc: 0.899864\n",
      "Early stopping, best iteration is:\n",
      "[15205]\ttraining's auc: 0.997616\tvalid_1's auc: 0.899946\n",
      "Training until validation scores don't improve for 4000 rounds.\n",
      "[5000]\ttraining's auc: 0.968974\tvalid_1's auc: 0.898151\n",
      "[10000]\ttraining's auc: 0.989516\tvalid_1's auc: 0.900992\n",
      "[15000]\ttraining's auc: 0.997491\tvalid_1's auc: 0.901676\n",
      "[20000]\ttraining's auc: 0.999563\tvalid_1's auc: 0.901768\n",
      "Early stopping, best iteration is:\n",
      "[18535]\ttraining's auc: 0.999249\tvalid_1's auc: 0.901878\n",
      "Training until validation scores don't improve for 4000 rounds.\n",
      "[5000]\ttraining's auc: 0.968701\tvalid_1's auc: 0.904197\n",
      "[10000]\ttraining's auc: 0.989411\tvalid_1's auc: 0.906651\n",
      "[15000]\ttraining's auc: 0.997452\tvalid_1's auc: 0.906862\n",
      "Early stopping, best iteration is:\n",
      "[12729]\ttraining's auc: 0.994927\tvalid_1's auc: 0.907017\n",
      "Training until validation scores don't improve for 4000 rounds.\n",
      "[5000]\ttraining's auc: 0.96868\tvalid_1's auc: 0.90403\n",
      "[10000]\ttraining's auc: 0.989417\tvalid_1's auc: 0.906226\n",
      "[15000]\ttraining's auc: 0.997442\tvalid_1's auc: 0.906168\n",
      "Early stopping, best iteration is:\n",
      "[11247]\ttraining's auc: 0.992351\tvalid_1's auc: 0.906417\n",
      "\n"
     ]
    }
   ],
   "source": [
    "rank_models = lgb_trainer_no_aug(Xtr, ytr, param, n_folds = 10)"
   ]
  },
  {
   "cell_type": "code",
   "execution_count": 24,
   "metadata": {},
   "outputs": [
    {
     "name": "stdout",
     "output_type": "stream",
     "text": [
      "Fold: 0 \t Score: 0.9020389947581418\n",
      "Fold: 1 \t Score: 0.902182705005108\n",
      "Fold: 2 \t Score: 0.9014633039769626\n",
      "Fold: 3 \t Score: 0.9023763966956475\n",
      "Fold: 4 \t Score: 0.9017230687972748\n",
      "Fold: 5 \t Score: 0.9015229390725862\n",
      "Fold: 6 \t Score: 0.9018484235086522\n",
      "Fold: 7 \t Score: 0.9022023182348017\n",
      "Fold: 8 \t Score: 0.901656132277495\n",
      "Fold: 9 \t Score: 0.9016882612631216\n",
      "Score: 0.902924996065967\n"
     ]
    }
   ],
   "source": [
    "scorre, q, w = test_f(Xval, yval, rank_models)"
   ]
  },
  {
   "cell_type": "markdown",
   "metadata": {
    "heading_collapsed": true
   },
   "source": [
    "# Correlation analysis"
   ]
  },
  {
   "cell_type": "code",
   "execution_count": 7,
   "metadata": {
    "hidden": true
   },
   "outputs": [],
   "source": [
    "rank_models = load_model('ovvverrr.m')"
   ]
  },
  {
   "cell_type": "code",
   "execution_count": 11,
   "metadata": {
    "hidden": true
   },
   "outputs": [
    {
     "name": "stdout",
     "output_type": "stream",
     "text": [
      "Fold: 0 \t Score: 0.9777733667070686\n",
      "Fold: 1 \t Score: 0.977068600862588\n",
      "Fold: 2 \t Score: 0.9757015263069351\n",
      "Fold: 3 \t Score: 0.9792411816400534\n",
      "Fold: 4 \t Score: 0.9677598931227358\n",
      "Fold: 5 \t Score: 0.9744748821402248\n",
      "Fold: 6 \t Score: 0.97422102631282\n",
      "Fold: 7 \t Score: 0.9767953154433493\n",
      "Fold: 8 \t Score: 0.9721028852321305\n",
      "Fold: 9 \t Score: 0.969866233348998\n",
      "Score: 0.9818431082455337\n"
     ]
    }
   ],
   "source": [
    "scorre, q, w = test_f(X, y, rank_models)"
   ]
  },
  {
   "cell_type": "code",
   "execution_count": null,
   "metadata": {
    "hidden": true
   },
   "outputs": [],
   "source": []
  },
  {
   "cell_type": "markdown",
   "metadata": {},
   "source": [
    "# Make answer"
   ]
  },
  {
   "cell_type": "code",
   "execution_count": 14,
   "metadata": {},
   "outputs": [],
   "source": [
    "def make_answer(models, answer_qdf):\n",
    "    test_labels = answer_qdf.ID_code\n",
    "    answer_qdf = answer_qdf.drop(['ID_code'], axis=1)\n",
    "    y_preds = {}\n",
    "    for i, model in enumerate(tqdm(models)):\n",
    "            print(f\"On fold: {i}\")\n",
    "            y_preds[str(i)] = model.predict(answer_qdf)\n",
    "    y_preds = pd.DataFrame(y_preds)\n",
    "    answer_df = pd.DataFrame({\n",
    "        'ID_code' : test_labels,\n",
    "        'target' : y_preds.mean(axis = 1),\n",
    "        })\n",
    "    return answer_df "
   ]
  },
  {
   "cell_type": "code",
   "execution_count": 15,
   "metadata": {},
   "outputs": [],
   "source": [
    "def make_answer_and_get_all(models, answer_qdf):\n",
    "    test_labels = answer_qdf.ID_code\n",
    "    answer_qdf = answer_qdf.drop(['ID_code'], axis=1)\n",
    "    y_preds = {}\n",
    "    for i, model in enumerate(tqdm(models)):\n",
    "            print(f\"On fold: {i}\")\n",
    "            y_preds[str(i)] = model.predict(answer_qdf)\n",
    "    y_preds = pd.DataFrame(y_preds)\n",
    "    answer_df = pd.DataFrame({\n",
    "        'ID_code' : test_labels,\n",
    "        'target' : y_preds.mean(axis = 1),\n",
    "        })\n",
    "    return y_preds, answer_df "
   ]
  },
  {
   "cell_type": "code",
   "execution_count": 15,
   "metadata": {},
   "outputs": [
    {
     "data": {
      "application/vnd.jupyter.widget-view+json": {
       "model_id": "fd501f57ff814d438fd390158d98c6f3",
       "version_major": 2,
       "version_minor": 0
      },
      "text/plain": [
       "HBox(children=(IntProgress(value=0, max=201), HTML(value='')))"
      ]
     },
     "metadata": {},
     "output_type": "display_data"
    },
    {
     "name": "stdout",
     "output_type": "stream",
     "text": [
      "\n"
     ]
    }
   ],
   "source": [
    "ATEST = 'data/test.csv'\n",
    "test = pd.read_csv(ATEST)\n",
    "dftest = answer_agument(test, unique_map)"
   ]
  },
  {
   "cell_type": "code",
   "execution_count": 24,
   "metadata": {},
   "outputs": [],
   "source": [
    "# rank_model = load_model('ovvverrrx2.m')"
   ]
  },
  {
   "cell_type": "code",
   "execution_count": 16,
   "metadata": {},
   "outputs": [],
   "source": [
    "dftest.rename(columns=lambda x: 'z' + str(x) if x[0] == 'c' else x, inplace=True)\n",
    "kek= dftest.reindex(sorted(dftest.columns), axis=1)"
   ]
  },
  {
   "cell_type": "code",
   "execution_count": 17,
   "metadata": {},
   "outputs": [
    {
     "data": {
      "text/html": [
       "<div>\n",
       "<style scoped>\n",
       "    .dataframe tbody tr th:only-of-type {\n",
       "        vertical-align: middle;\n",
       "    }\n",
       "\n",
       "    .dataframe tbody tr th {\n",
       "        vertical-align: top;\n",
       "    }\n",
       "\n",
       "    .dataframe thead th {\n",
       "        text-align: right;\n",
       "    }\n",
       "</style>\n",
       "<table border=\"1\" class=\"dataframe\">\n",
       "  <thead>\n",
       "    <tr style=\"text-align: right;\">\n",
       "      <th></th>\n",
       "      <th>ID_code</th>\n",
       "      <th>var_0</th>\n",
       "      <th>var_1</th>\n",
       "      <th>var_10</th>\n",
       "      <th>var_100</th>\n",
       "      <th>var_101</th>\n",
       "      <th>var_102</th>\n",
       "      <th>var_103</th>\n",
       "      <th>var_104</th>\n",
       "      <th>var_105</th>\n",
       "      <th>...</th>\n",
       "      <th>zcount_var_90</th>\n",
       "      <th>zcount_var_91</th>\n",
       "      <th>zcount_var_92</th>\n",
       "      <th>zcount_var_93</th>\n",
       "      <th>zcount_var_94</th>\n",
       "      <th>zcount_var_95</th>\n",
       "      <th>zcount_var_96</th>\n",
       "      <th>zcount_var_97</th>\n",
       "      <th>zcount_var_98</th>\n",
       "      <th>zcount_var_99</th>\n",
       "    </tr>\n",
       "  </thead>\n",
       "  <tbody>\n",
       "    <tr>\n",
       "      <th>0</th>\n",
       "      <td>test_0</td>\n",
       "      <td>11.0656</td>\n",
       "      <td>7.7798</td>\n",
       "      <td>-2.0248</td>\n",
       "      <td>-9.2198</td>\n",
       "      <td>17.3089</td>\n",
       "      <td>30.9548</td>\n",
       "      <td>1.4918</td>\n",
       "      <td>12.8721</td>\n",
       "      <td>3.4902</td>\n",
       "      <td>...</td>\n",
       "      <td>1.0</td>\n",
       "      <td>54.0</td>\n",
       "      <td>2.0</td>\n",
       "      <td>16.0</td>\n",
       "      <td>2.0</td>\n",
       "      <td>12.0</td>\n",
       "      <td>1.0</td>\n",
       "      <td>1.0</td>\n",
       "      <td>17.0</td>\n",
       "      <td>4.0</td>\n",
       "    </tr>\n",
       "    <tr>\n",
       "      <th>1</th>\n",
       "      <td>test_1</td>\n",
       "      <td>8.5304</td>\n",
       "      <td>1.2543</td>\n",
       "      <td>-1.3809</td>\n",
       "      <td>-1.7257</td>\n",
       "      <td>15.4712</td>\n",
       "      <td>35.6020</td>\n",
       "      <td>1.6570</td>\n",
       "      <td>13.0783</td>\n",
       "      <td>2.7752</td>\n",
       "      <td>...</td>\n",
       "      <td>1.0</td>\n",
       "      <td>39.0</td>\n",
       "      <td>2.0</td>\n",
       "      <td>24.0</td>\n",
       "      <td>1.0</td>\n",
       "      <td>14.0</td>\n",
       "      <td>1.0</td>\n",
       "      <td>2.0</td>\n",
       "      <td>19.0</td>\n",
       "      <td>10.0</td>\n",
       "    </tr>\n",
       "    <tr>\n",
       "      <th>2</th>\n",
       "      <td>test_2</td>\n",
       "      <td>5.4827</td>\n",
       "      <td>-10.3581</td>\n",
       "      <td>-4.7057</td>\n",
       "      <td>-3.5065</td>\n",
       "      <td>14.1663</td>\n",
       "      <td>28.0256</td>\n",
       "      <td>1.3935</td>\n",
       "      <td>10.8257</td>\n",
       "      <td>4.2954</td>\n",
       "      <td>...</td>\n",
       "      <td>1.0</td>\n",
       "      <td>71.0</td>\n",
       "      <td>10.0</td>\n",
       "      <td>5.0</td>\n",
       "      <td>5.0</td>\n",
       "      <td>13.0</td>\n",
       "      <td>2.0</td>\n",
       "      <td>2.0</td>\n",
       "      <td>11.0</td>\n",
       "      <td>4.0</td>\n",
       "    </tr>\n",
       "    <tr>\n",
       "      <th>3</th>\n",
       "      <td>test_3</td>\n",
       "      <td>8.5374</td>\n",
       "      <td>-1.3222</td>\n",
       "      <td>0.0095</td>\n",
       "      <td>1.7021</td>\n",
       "      <td>2.5363</td>\n",
       "      <td>3.8763</td>\n",
       "      <td>1.5173</td>\n",
       "      <td>13.4083</td>\n",
       "      <td>2.8965</td>\n",
       "      <td>...</td>\n",
       "      <td>1.0</td>\n",
       "      <td>62.0</td>\n",
       "      <td>3.0</td>\n",
       "      <td>20.0</td>\n",
       "      <td>7.0</td>\n",
       "      <td>19.0</td>\n",
       "      <td>3.0</td>\n",
       "      <td>1.0</td>\n",
       "      <td>15.0</td>\n",
       "      <td>5.0</td>\n",
       "    </tr>\n",
       "    <tr>\n",
       "      <th>4</th>\n",
       "      <td>test_4</td>\n",
       "      <td>11.7058</td>\n",
       "      <td>-0.1327</td>\n",
       "      <td>5.1025</td>\n",
       "      <td>-14.3858</td>\n",
       "      <td>17.8630</td>\n",
       "      <td>23.2274</td>\n",
       "      <td>1.4375</td>\n",
       "      <td>14.4838</td>\n",
       "      <td>4.3806</td>\n",
       "      <td>...</td>\n",
       "      <td>2.0</td>\n",
       "      <td>69.0</td>\n",
       "      <td>1.0</td>\n",
       "      <td>10.0</td>\n",
       "      <td>8.0</td>\n",
       "      <td>16.0</td>\n",
       "      <td>2.0</td>\n",
       "      <td>1.0</td>\n",
       "      <td>10.0</td>\n",
       "      <td>3.0</td>\n",
       "    </tr>\n",
       "  </tbody>\n",
       "</table>\n",
       "<p>5 rows × 401 columns</p>\n",
       "</div>"
      ],
      "text/plain": [
       "  ID_code    var_0    var_1  var_10  var_100  var_101  var_102  var_103  \\\n",
       "0  test_0  11.0656   7.7798 -2.0248  -9.2198  17.3089  30.9548   1.4918   \n",
       "1  test_1   8.5304   1.2543 -1.3809  -1.7257  15.4712  35.6020   1.6570   \n",
       "2  test_2   5.4827 -10.3581 -4.7057  -3.5065  14.1663  28.0256   1.3935   \n",
       "3  test_3   8.5374  -1.3222  0.0095   1.7021   2.5363   3.8763   1.5173   \n",
       "4  test_4  11.7058  -0.1327  5.1025 -14.3858  17.8630  23.2274   1.4375   \n",
       "\n",
       "   var_104  var_105      ...        zcount_var_90  zcount_var_91  \\\n",
       "0  12.8721   3.4902      ...                  1.0           54.0   \n",
       "1  13.0783   2.7752      ...                  1.0           39.0   \n",
       "2  10.8257   4.2954      ...                  1.0           71.0   \n",
       "3  13.4083   2.8965      ...                  1.0           62.0   \n",
       "4  14.4838   4.3806      ...                  2.0           69.0   \n",
       "\n",
       "   zcount_var_92  zcount_var_93  zcount_var_94  zcount_var_95  zcount_var_96  \\\n",
       "0            2.0           16.0            2.0           12.0            1.0   \n",
       "1            2.0           24.0            1.0           14.0            1.0   \n",
       "2           10.0            5.0            5.0           13.0            2.0   \n",
       "3            3.0           20.0            7.0           19.0            3.0   \n",
       "4            1.0           10.0            8.0           16.0            2.0   \n",
       "\n",
       "   zcount_var_97  zcount_var_98  zcount_var_99  \n",
       "0            1.0           17.0            4.0  \n",
       "1            2.0           19.0           10.0  \n",
       "2            2.0           11.0            4.0  \n",
       "3            1.0           15.0            5.0  \n",
       "4            1.0           10.0            3.0  \n",
       "\n",
       "[5 rows x 401 columns]"
      ]
     },
     "execution_count": 17,
     "metadata": {},
     "output_type": "execute_result"
    }
   ],
   "source": [
    "kek.head()"
   ]
  },
  {
   "cell_type": "code",
   "execution_count": 19,
   "metadata": {},
   "outputs": [
    {
     "data": {
      "text/plain": [
       "(200000, 401)"
      ]
     },
     "execution_count": 19,
     "metadata": {},
     "output_type": "execute_result"
    }
   ],
   "source": [
    "kek.shape"
   ]
  },
  {
   "cell_type": "code",
   "execution_count": 18,
   "metadata": {},
   "outputs": [
    {
     "ename": "NameError",
     "evalue": "name 'rank_model' is not defined",
     "output_type": "error",
     "traceback": [
      "\u001b[0;31m---------------------------------------------------------------------------\u001b[0m",
      "\u001b[0;31mNameError\u001b[0m                                 Traceback (most recent call last)",
      "\u001b[0;32m<ipython-input-18-84374ec1e742>\u001b[0m in \u001b[0;36m<module>\u001b[0;34m\u001b[0m\n\u001b[0;32m----> 1\u001b[0;31m \u001b[0manswer\u001b[0m \u001b[0;34m=\u001b[0m \u001b[0mmake_answer\u001b[0m\u001b[0;34m(\u001b[0m\u001b[0mrank_model\u001b[0m\u001b[0;34m,\u001b[0m \u001b[0mkek\u001b[0m\u001b[0;34m)\u001b[0m\u001b[0;34m\u001b[0m\u001b[0;34m\u001b[0m\u001b[0m\n\u001b[0m",
      "\u001b[0;31mNameError\u001b[0m: name 'rank_model' is not defined"
     ]
    }
   ],
   "source": [
    "answer = make_answer(rank_model, kek)"
   ]
  },
  {
   "cell_type": "code",
   "execution_count": null,
   "metadata": {},
   "outputs": [],
   "source": [
    "answer.head()"
   ]
  },
  {
   "cell_type": "code",
   "execution_count": 27,
   "metadata": {},
   "outputs": [],
   "source": [
    "yanswer.to_csv('all_latest_answers.csv', index=False)"
   ]
  },
  {
   "cell_type": "code",
   "execution_count": null,
   "metadata": {},
   "outputs": [],
   "source": [
    "answer.to_csv('answer_23_nunique_aug_EvenbetterParams.csv', index=False)"
   ]
  },
  {
   "cell_type": "code",
   "execution_count": null,
   "metadata": {},
   "outputs": [],
   "source": []
  },
  {
   "cell_type": "markdown",
   "metadata": {
    "heading_collapsed": true
   },
   "source": [
    "# Bayesian search"
   ]
  },
  {
   "cell_type": "code",
   "execution_count": 11,
   "metadata": {
    "hidden": true
   },
   "outputs": [],
   "source": [
    "from bayes_opt import BayesianOptimization\n",
    "from skopt import BayesSearchCV"
   ]
  },
  {
   "cell_type": "code",
   "execution_count": 9,
   "metadata": {
    "hidden": true,
    "scrolled": false
   },
   "outputs": [
    {
     "name": "stdout",
     "output_type": "stream",
     "text": [
      "|   iter    |  target   | baggin... | featur... | learni... | min_da... | min_su... | num_le... | num_th... | reg_alpha | reg_la... |\n",
      "-------------------------------------------------------------------------------------------------------------------------------------\n",
      "Training until validation scores don't improve for 100 rounds.\n",
      "Did not meet early stopping. Best iteration is:\n",
      "[100]\ttraining's auc: 0.751413\tvalid_1's auc: 0.741352\n",
      "| \u001b[0m 1       \u001b[0m | \u001b[0m 0.7414  \u001b[0m | \u001b[0m 0.5378  \u001b[0m | \u001b[0m 0.8561  \u001b[0m | \u001b[0m 0.007588\u001b[0m | \u001b[0m 143.8   \u001b[0m | \u001b[0m 6.56    \u001b[0m | \u001b[0m 10.46   \u001b[0m | \u001b[0m 6.232   \u001b[0m | \u001b[0m 0.8662  \u001b[0m | \u001b[0m 0.6011  \u001b[0m |\n",
      "Training until validation scores don't improve for 100 rounds.\n",
      "Did not meet early stopping. Best iteration is:\n",
      "[100]\ttraining's auc: 0.856399\tvalid_1's auc: 0.839842\n",
      "| \u001b[95m 2       \u001b[0m | \u001b[95m 0.8398  \u001b[0m | \u001b[95m 0.3043  \u001b[0m | \u001b[95m 0.02832 \u001b[0m | \u001b[95m 0.009729\u001b[0m | \u001b[95m 176.5   \u001b[0m | \u001b[95m 7.123   \u001b[0m | \u001b[95m 11.36   \u001b[0m | \u001b[95m 6.734   \u001b[0m | \u001b[95m 0.3042  \u001b[0m | \u001b[95m 0.5248  \u001b[0m |\n",
      "Training until validation scores don't improve for 100 rounds.\n",
      "Did not meet early stopping. Best iteration is:\n",
      "[95]\ttraining's auc: 0.820737\tvalid_1's auc: 0.808159\n",
      "| \u001b[0m 3       \u001b[0m | \u001b[0m 0.8082  \u001b[0m | \u001b[0m 0.4976  \u001b[0m | \u001b[0m 0.2692  \u001b[0m | \u001b[0m 0.006507\u001b[0m | \u001b[0m 79.53   \u001b[0m | \u001b[0m 7.921   \u001b[0m | \u001b[0m 17.82   \u001b[0m | \u001b[0m 7.824   \u001b[0m | \u001b[0m 0.7852  \u001b[0m | \u001b[0m 0.1997  \u001b[0m |\n",
      "Training until validation scores don't improve for 100 rounds.\n",
      "Did not meet early stopping. Best iteration is:\n",
      "[92]\ttraining's auc: 0.722399\tvalid_1's auc: 0.717617\n",
      "| \u001b[0m 4       \u001b[0m | \u001b[0m 0.7176  \u001b[0m | \u001b[0m 0.44    \u001b[0m | \u001b[0m 0.5372  \u001b[0m | \u001b[0m 0.001418\u001b[0m | \u001b[0m 145.1   \u001b[0m | \u001b[0m 6.705   \u001b[0m | \u001b[0m 7.277   \u001b[0m | \u001b[0m 9.796   \u001b[0m | \u001b[0m 0.9656  \u001b[0m | \u001b[0m 0.8084  \u001b[0m |\n",
      "Training until validation scores don't improve for 100 rounds.\n",
      "Did not meet early stopping. Best iteration is:\n",
      "[100]\ttraining's auc: 0.867238\tvalid_1's auc: 0.846849\n",
      "| \u001b[95m 5       \u001b[0m | \u001b[95m 0.8468  \u001b[0m | \u001b[95m 0.5868  \u001b[0m | \u001b[95m 0.09693 \u001b[0m | \u001b[95m 0.007158\u001b[0m | \u001b[95m 121.6   \u001b[0m | \u001b[95m 6.22    \u001b[0m | \u001b[95m 22.33   \u001b[0m | \u001b[95m 6.138   \u001b[0m | \u001b[95m 0.9093  \u001b[0m | \u001b[95m 0.2588  \u001b[0m |\n",
      "Training until validation scores don't improve for 100 rounds.\n",
      "Did not meet early stopping. Best iteration is:\n",
      "[95]\ttraining's auc: 0.85123\tvalid_1's auc: 0.82969\n",
      "| \u001b[0m 6       \u001b[0m | \u001b[0m 0.8297  \u001b[0m | \u001b[0m 0.3362  \u001b[0m | \u001b[0m 0.2874  \u001b[0m | \u001b[0m 0.005681\u001b[0m | \u001b[0m 136.5   \u001b[0m | \u001b[0m 6.849   \u001b[0m | \u001b[0m 38.94   \u001b[0m | \u001b[0m 9.101   \u001b[0m | \u001b[0m 0.9395  \u001b[0m | \u001b[0m 0.8948  \u001b[0m |\n",
      "Training until validation scores don't improve for 100 rounds.\n",
      "Did not meet early stopping. Best iteration is:\n",
      "[100]\ttraining's auc: 0.739022\tvalid_1's auc: 0.728704\n",
      "| \u001b[0m 7       \u001b[0m | \u001b[0m 0.7287  \u001b[0m | \u001b[0m 0.3815  \u001b[0m | \u001b[0m 0.8305  \u001b[0m | \u001b[0m 0.001796\u001b[0m | \u001b[0m 87.44   \u001b[0m | \u001b[0m 5.452   \u001b[0m | \u001b[0m 16.39   \u001b[0m | \u001b[0m 7.555   \u001b[0m | \u001b[0m 0.2713  \u001b[0m | \u001b[0m 0.8287  \u001b[0m |\n",
      "Training until validation scores don't improve for 100 rounds.\n",
      "Did not meet early stopping. Best iteration is:\n",
      "[95]\ttraining's auc: 0.783443\tvalid_1's auc: 0.776797\n",
      "| \u001b[0m 8       \u001b[0m | \u001b[0m 0.7768  \u001b[0m | \u001b[0m 0.5503  \u001b[0m | \u001b[0m 0.26    \u001b[0m | \u001b[0m 0.005884\u001b[0m | \u001b[0m 79.73   \u001b[0m | \u001b[0m 13.02   \u001b[0m | \u001b[0m 7.609   \u001b[0m | \u001b[0m 9.948   \u001b[0m | \u001b[0m 0.7722  \u001b[0m | \u001b[0m 0.1987  \u001b[0m |\n",
      "Training until validation scores don't improve for 100 rounds.\n",
      "Did not meet early stopping. Best iteration is:\n",
      "[100]\ttraining's auc: 0.740033\tvalid_1's auc: 0.731143\n",
      "| \u001b[0m 9       \u001b[0m | \u001b[0m 0.7311  \u001b[0m | \u001b[0m 0.7961  \u001b[0m | \u001b[0m 0.7358  \u001b[0m | \u001b[0m 0.007362\u001b[0m | \u001b[0m 162.1   \u001b[0m | \u001b[0m 12.71   \u001b[0m | \u001b[0m 7.592   \u001b[0m | \u001b[0m 7.434   \u001b[0m | \u001b[0m 0.1159  \u001b[0m | \u001b[0m 0.8631  \u001b[0m |\n",
      "Training until validation scores don't improve for 100 rounds.\n",
      "Did not meet early stopping. Best iteration is:\n",
      "[95]\ttraining's auc: 0.83017\tvalid_1's auc: 0.811392\n",
      "| \u001b[0m 10      \u001b[0m | \u001b[0m 0.8114  \u001b[0m | \u001b[0m 0.3637  \u001b[0m | \u001b[0m 0.3045  \u001b[0m | \u001b[0m 0.001572\u001b[0m | \u001b[0m 103.5   \u001b[0m | \u001b[0m 8.252   \u001b[0m | \u001b[0m 30.54   \u001b[0m | \u001b[0m 8.55    \u001b[0m | \u001b[0m 0.8872  \u001b[0m | \u001b[0m 0.4722  \u001b[0m |\n",
      "Training until validation scores don't improve for 100 rounds.\n",
      "Did not meet early stopping. Best iteration is:\n",
      "[100]\ttraining's auc: 0.790981\tvalid_1's auc: 0.774274\n",
      "| \u001b[0m 11      \u001b[0m | \u001b[0m 0.7743  \u001b[0m | \u001b[0m 0.7163  \u001b[0m | \u001b[0m 0.6448  \u001b[0m | \u001b[0m 0.007847\u001b[0m | \u001b[0m 138.6   \u001b[0m | \u001b[0m 12.71   \u001b[0m | \u001b[0m 22.28   \u001b[0m | \u001b[0m 8.091   \u001b[0m | \u001b[0m 0.4275  \u001b[0m | \u001b[0m 0.02542 \u001b[0m |\n",
      "Training until validation scores don't improve for 100 rounds.\n",
      "Did not meet early stopping. Best iteration is:\n",
      "[100]\ttraining's auc: 0.897291\tvalid_1's auc: 0.85599\n",
      "| \u001b[95m 12      \u001b[0m | \u001b[95m 0.856   \u001b[0m | \u001b[95m 0.7245  \u001b[0m | \u001b[95m 0.03797 \u001b[0m | \u001b[95m 0.006728\u001b[0m | \u001b[95m 104.0   \u001b[0m | \u001b[95m 10.09   \u001b[0m | \u001b[95m 36.76   \u001b[0m | \u001b[95m 6.997   \u001b[0m | \u001b[95m 0.4104  \u001b[0m | \u001b[95m 0.7556  \u001b[0m |\n",
      "Training until validation scores don't improve for 100 rounds.\n",
      "Did not meet early stopping. Best iteration is:\n",
      "[95]\ttraining's auc: 0.881747\tvalid_1's auc: 0.853166\n",
      "| \u001b[0m 13      \u001b[0m | \u001b[0m 0.8532  \u001b[0m | \u001b[0m 0.6398  \u001b[0m | \u001b[0m 0.07851 \u001b[0m | \u001b[0m 0.003608\u001b[0m | \u001b[0m 82.57   \u001b[0m | \u001b[0m 14.3    \u001b[0m | \u001b[0m 33.28   \u001b[0m | \u001b[0m 8.534   \u001b[0m | \u001b[0m 0.8715  \u001b[0m | \u001b[0m 0.8037  \u001b[0m |\n",
      "Training until validation scores don't improve for 100 rounds.\n",
      "Did not meet early stopping. Best iteration is:\n",
      "[100]\ttraining's auc: 0.756966\tvalid_1's auc: 0.743828\n",
      "| \u001b[0m 14      \u001b[0m | \u001b[0m 0.7438  \u001b[0m | \u001b[0m 0.6694  \u001b[0m | \u001b[0m 0.8044  \u001b[0m | \u001b[0m 0.005854\u001b[0m | \u001b[0m 173.0   \u001b[0m | \u001b[0m 13.96   \u001b[0m | \u001b[0m 16.13   \u001b[0m | \u001b[0m 6.44    \u001b[0m | \u001b[0m 0.2279  \u001b[0m | \u001b[0m 0.4271  \u001b[0m |\n",
      "Training until validation scores don't improve for 100 rounds.\n",
      "Did not meet early stopping. Best iteration is:\n",
      "[88]\ttraining's auc: 0.737832\tvalid_1's auc: 0.730008\n",
      "| \u001b[0m 15      \u001b[0m | \u001b[0m 0.73    \u001b[0m | \u001b[0m 0.2274  \u001b[0m | \u001b[0m 0.7761  \u001b[0m | \u001b[0m 0.001063\u001b[0m | \u001b[0m 131.5   \u001b[0m | \u001b[0m 9.174   \u001b[0m | \u001b[0m 12.77   \u001b[0m | \u001b[0m 6.479   \u001b[0m | \u001b[0m 0.3376  \u001b[0m | \u001b[0m 0.9429  \u001b[0m |\n",
      "Training until validation scores don't improve for 100 rounds.\n",
      "Did not meet early stopping. Best iteration is:\n",
      "[95]\ttraining's auc: 0.835425\tvalid_1's auc: 0.809747\n",
      "| \u001b[0m 16      \u001b[0m | \u001b[0m 0.8097  \u001b[0m | \u001b[0m 0.8     \u001b[0m | \u001b[0m 0.3509  \u001b[0m | \u001b[0m 0.006417\u001b[0m | \u001b[0m 60.07   \u001b[0m | \u001b[0m 7.361   \u001b[0m | \u001b[0m 39.61   \u001b[0m | \u001b[0m 6.449   \u001b[0m | \u001b[0m 0.07893 \u001b[0m | \u001b[0m 0.4932  \u001b[0m |\n",
      "Training until validation scores don't improve for 100 rounds.\n",
      "Did not meet early stopping. Best iteration is:\n",
      "[95]\ttraining's auc: 0.727742\tvalid_1's auc: 0.721539\n",
      "| \u001b[0m 17      \u001b[0m | \u001b[0m 0.7215  \u001b[0m | \u001b[0m 0.8     \u001b[0m | \u001b[0m 0.4105  \u001b[0m | \u001b[0m 0.003865\u001b[0m | \u001b[0m 200.0   \u001b[0m | \u001b[0m 6.384   \u001b[0m | \u001b[0m 5.887   \u001b[0m | \u001b[0m 9.946   \u001b[0m | \u001b[0m 0.6954  \u001b[0m | \u001b[0m 0.7848  \u001b[0m |\n",
      "Training until validation scores don't improve for 100 rounds.\n",
      "Did not meet early stopping. Best iteration is:\n",
      "[95]\ttraining's auc: 0.754985\tvalid_1's auc: 0.748632\n",
      "| \u001b[0m 18      \u001b[0m | \u001b[0m 0.7486  \u001b[0m | \u001b[0m 0.8     \u001b[0m | \u001b[0m 0.3011  \u001b[0m | \u001b[0m 0.006179\u001b[0m | \u001b[0m 60.02   \u001b[0m | \u001b[0m 14.49   \u001b[0m | \u001b[0m 5.584   \u001b[0m | \u001b[0m 6.419   \u001b[0m | \u001b[0m 0.3764  \u001b[0m | \u001b[0m 0.02202 \u001b[0m |\n",
      "Training until validation scores don't improve for 100 rounds.\n",
      "Did not meet early stopping. Best iteration is:\n",
      "[98]\ttraining's auc: 0.876856\tvalid_1's auc: 0.847165\n",
      "| \u001b[0m 19      \u001b[0m | \u001b[0m 0.8472  \u001b[0m | \u001b[0m 0.8     \u001b[0m | \u001b[0m 0.1239  \u001b[0m | \u001b[0m 0.00132 \u001b[0m | \u001b[0m 199.5   \u001b[0m | \u001b[0m 5.442   \u001b[0m | \u001b[0m 39.81   \u001b[0m | \u001b[0m 9.465   \u001b[0m | \u001b[0m 0.4562  \u001b[0m | \u001b[0m 0.1286  \u001b[0m |\n",
      "Training until validation scores don't improve for 100 rounds.\n",
      "Did not meet early stopping. Best iteration is:\n",
      "[95]\ttraining's auc: 0.855847\tvalid_1's auc: 0.830787\n",
      "| \u001b[0m 20      \u001b[0m | \u001b[0m 0.8308  \u001b[0m | \u001b[0m 0.8     \u001b[0m | \u001b[0m 0.2148  \u001b[0m | \u001b[0m 0.005497\u001b[0m | \u001b[0m 174.6   \u001b[0m | \u001b[0m 5.072   \u001b[0m | \u001b[0m 38.53   \u001b[0m | \u001b[0m 6.219   \u001b[0m | \u001b[0m 0.2524  \u001b[0m | \u001b[0m 0.131   \u001b[0m |\n",
      "Training until validation scores don't improve for 100 rounds.\n",
      "Did not meet early stopping. Best iteration is:\n",
      "[95]\ttraining's auc: 0.806237\tvalid_1's auc: 0.785077\n"
     ]
    },
    {
     "name": "stdout",
     "output_type": "stream",
     "text": [
      "| \u001b[0m 21      \u001b[0m | \u001b[0m 0.7851  \u001b[0m | \u001b[0m 0.8     \u001b[0m | \u001b[0m 0.4583  \u001b[0m | \u001b[0m 0.002687\u001b[0m | \u001b[0m 120.8   \u001b[0m | \u001b[0m 14.96   \u001b[0m | \u001b[0m 37.07   \u001b[0m | \u001b[0m 6.128   \u001b[0m | \u001b[0m 0.5338  \u001b[0m | \u001b[0m 0.008403\u001b[0m |\n",
      "Training until validation scores don't improve for 100 rounds.\n",
      "Did not meet early stopping. Best iteration is:\n",
      "[95]\ttraining's auc: 0.834664\tvalid_1's auc: 0.810807\n",
      "| \u001b[0m 22      \u001b[0m | \u001b[0m 0.8108  \u001b[0m | \u001b[0m 0.8     \u001b[0m | \u001b[0m 0.3084  \u001b[0m | \u001b[0m 0.002069\u001b[0m | \u001b[0m 81.52   \u001b[0m | \u001b[0m 5.304   \u001b[0m | \u001b[0m 39.94   \u001b[0m | \u001b[0m 9.665   \u001b[0m | \u001b[0m 0.7663  \u001b[0m | \u001b[0m 0.3836  \u001b[0m |\n",
      "Training until validation scores don't improve for 100 rounds.\n",
      "Did not meet early stopping. Best iteration is:\n",
      "[100]\ttraining's auc: 0.884804\tvalid_1's auc: 0.854816\n",
      "| \u001b[0m 23      \u001b[0m | \u001b[0m 0.8548  \u001b[0m | \u001b[0m 0.8     \u001b[0m | \u001b[0m 0.04967 \u001b[0m | \u001b[0m 0.009168\u001b[0m | \u001b[0m 166.7   \u001b[0m | \u001b[0m 5.228   \u001b[0m | \u001b[0m 24.78   \u001b[0m | \u001b[0m 9.694   \u001b[0m | \u001b[0m 0.0646  \u001b[0m | \u001b[0m 0.3557  \u001b[0m |\n",
      "Training until validation scores don't improve for 100 rounds.\n",
      "Did not meet early stopping. Best iteration is:\n",
      "[100]\ttraining's auc: 0.881874\tvalid_1's auc: 0.847946\n",
      "| \u001b[0m 24      \u001b[0m | \u001b[0m 0.8479  \u001b[0m | \u001b[0m 0.8     \u001b[0m | \u001b[0m 0.02821 \u001b[0m | \u001b[0m 0.004251\u001b[0m | \u001b[0m 65.13   \u001b[0m | \u001b[0m 14.92   \u001b[0m | \u001b[0m 26.22   \u001b[0m | \u001b[0m 9.945   \u001b[0m | \u001b[0m 0.5897  \u001b[0m | \u001b[0m 0.9033  \u001b[0m |\n",
      "Training until validation scores don't improve for 100 rounds.\n",
      "Did not meet early stopping. Best iteration is:\n",
      "[100]\ttraining's auc: 0.816384\tvalid_1's auc: 0.795554\n",
      "| \u001b[0m 25      \u001b[0m | \u001b[0m 0.7956  \u001b[0m | \u001b[0m 0.8     \u001b[0m | \u001b[0m 0.4478  \u001b[0m | \u001b[0m 0.008542\u001b[0m | \u001b[0m 199.4   \u001b[0m | \u001b[0m 5.087   \u001b[0m | \u001b[0m 28.96   \u001b[0m | \u001b[0m 6.166   \u001b[0m | \u001b[0m 0.1602  \u001b[0m | \u001b[0m 0.5786  \u001b[0m |\n",
      "Training until validation scores don't improve for 100 rounds.\n",
      "Did not meet early stopping. Best iteration is:\n",
      "[100]\ttraining's auc: 0.897254\tvalid_1's auc: 0.849628\n",
      "| \u001b[0m 26      \u001b[0m | \u001b[0m 0.8496  \u001b[0m | \u001b[0m 0.8     \u001b[0m | \u001b[0m 0.03708 \u001b[0m | \u001b[0m 0.005694\u001b[0m | \u001b[0m 113.4   \u001b[0m | \u001b[0m 5.042   \u001b[0m | \u001b[0m 38.7    \u001b[0m | \u001b[0m 6.589   \u001b[0m | \u001b[0m 0.3567  \u001b[0m | \u001b[0m 0.1136  \u001b[0m |\n",
      "Training until validation scores don't improve for 100 rounds.\n",
      "Did not meet early stopping. Best iteration is:\n",
      "[100]\ttraining's auc: 0.817167\tvalid_1's auc: 0.789091\n",
      "| \u001b[0m 27      \u001b[0m | \u001b[0m 0.7891  \u001b[0m | \u001b[0m 0.8     \u001b[0m | \u001b[0m 0.6565  \u001b[0m | \u001b[0m 0.008688\u001b[0m | \u001b[0m 72.56   \u001b[0m | \u001b[0m 14.5    \u001b[0m | \u001b[0m 39.93   \u001b[0m | \u001b[0m 6.05    \u001b[0m | \u001b[0m 0.1463  \u001b[0m | \u001b[0m 0.3144  \u001b[0m |\n",
      "Training until validation scores don't improve for 100 rounds.\n",
      "Did not meet early stopping. Best iteration is:\n",
      "[99]\ttraining's auc: 0.869319\tvalid_1's auc: 0.842935\n",
      "| \u001b[0m 28      \u001b[0m | \u001b[0m 0.8429  \u001b[0m | \u001b[0m 0.8     \u001b[0m | \u001b[0m 0.02303 \u001b[0m | \u001b[0m 0.009985\u001b[0m | \u001b[0m 60.04   \u001b[0m | \u001b[0m 5.506   \u001b[0m | \u001b[0m 15.65   \u001b[0m | \u001b[0m 9.69    \u001b[0m | \u001b[0m 0.66    \u001b[0m | \u001b[0m 0.6922  \u001b[0m |\n",
      "Training until validation scores don't improve for 100 rounds.\n",
      "Did not meet early stopping. Best iteration is:\n",
      "[100]\ttraining's auc: 0.870451\tvalid_1's auc: 0.842642\n",
      "| \u001b[0m 29      \u001b[0m | \u001b[0m 0.8426  \u001b[0m | \u001b[0m 0.8     \u001b[0m | \u001b[0m 0.1604  \u001b[0m | \u001b[0m 0.001925\u001b[0m | \u001b[0m 199.4   \u001b[0m | \u001b[0m 14.9    \u001b[0m | \u001b[0m 39.65   \u001b[0m | \u001b[0m 6.114   \u001b[0m | \u001b[0m 0.6128  \u001b[0m | \u001b[0m 0.9108  \u001b[0m |\n",
      "Training until validation scores don't improve for 100 rounds.\n",
      "Did not meet early stopping. Best iteration is:\n",
      "[95]\ttraining's auc: 0.84611\tvalid_1's auc: 0.825035\n",
      "| \u001b[0m 30      \u001b[0m | \u001b[0m 0.825   \u001b[0m | \u001b[0m 0.8     \u001b[0m | \u001b[0m 0.2082  \u001b[0m | \u001b[0m 0.003259\u001b[0m | \u001b[0m 142.5   \u001b[0m | \u001b[0m 5.114   \u001b[0m | \u001b[0m 32.47   \u001b[0m | \u001b[0m 6.137   \u001b[0m | \u001b[0m 0.2249  \u001b[0m | \u001b[0m 0.5054  \u001b[0m |\n",
      "Training until validation scores don't improve for 100 rounds.\n",
      "Did not meet early stopping. Best iteration is:\n",
      "[100]\ttraining's auc: 0.875348\tvalid_1's auc: 0.845935\n",
      "| \u001b[0m 31      \u001b[0m | \u001b[0m 0.8459  \u001b[0m | \u001b[0m 0.8     \u001b[0m | \u001b[0m 0.1516  \u001b[0m | \u001b[0m 0.007849\u001b[0m | \u001b[0m 184.8   \u001b[0m | \u001b[0m 14.25   \u001b[0m | \u001b[0m 39.42   \u001b[0m | \u001b[0m 9.601   \u001b[0m | \u001b[0m 0.9867  \u001b[0m | \u001b[0m 0.3944  \u001b[0m |\n",
      "Training until validation scores don't improve for 100 rounds.\n",
      "Did not meet early stopping. Best iteration is:\n",
      "[100]\ttraining's auc: 0.863924\tvalid_1's auc: 0.840952\n",
      "| \u001b[0m 32      \u001b[0m | \u001b[0m 0.841   \u001b[0m | \u001b[0m 0.8     \u001b[0m | \u001b[0m 0.1592  \u001b[0m | \u001b[0m 0.005765\u001b[0m | \u001b[0m 185.7   \u001b[0m | \u001b[0m 5.163   \u001b[0m | \u001b[0m 30.53   \u001b[0m | \u001b[0m 9.612   \u001b[0m | \u001b[0m 0.598   \u001b[0m | \u001b[0m 0.91    \u001b[0m |\n",
      "Training until validation scores don't improve for 100 rounds.\n",
      "Did not meet early stopping. Best iteration is:\n",
      "[95]\ttraining's auc: 0.858459\tvalid_1's auc: 0.83241\n",
      "| \u001b[0m 33      \u001b[0m | \u001b[0m 0.8324  \u001b[0m | \u001b[0m 0.8     \u001b[0m | \u001b[0m 0.2124  \u001b[0m | \u001b[0m 0.006824\u001b[0m | \u001b[0m 96.98   \u001b[0m | \u001b[0m 14.82   \u001b[0m | \u001b[0m 39.43   \u001b[0m | \u001b[0m 9.744   \u001b[0m | \u001b[0m 0.5619  \u001b[0m | \u001b[0m 0.1329  \u001b[0m |\n",
      "Training until validation scores don't improve for 100 rounds.\n",
      "Did not meet early stopping. Best iteration is:\n",
      "[100]\ttraining's auc: 0.873268\tvalid_1's auc: 0.848135\n",
      "| \u001b[0m 34      \u001b[0m | \u001b[0m 0.8481  \u001b[0m | \u001b[0m 0.8     \u001b[0m | \u001b[0m 0.09509 \u001b[0m | \u001b[0m 0.005022\u001b[0m | \u001b[0m 63.97   \u001b[0m | \u001b[0m 5.506   \u001b[0m | \u001b[0m 26.56   \u001b[0m | \u001b[0m 6.157   \u001b[0m | \u001b[0m 0.9475  \u001b[0m | \u001b[0m 0.8912  \u001b[0m |\n",
      "Training until validation scores don't improve for 100 rounds.\n",
      "Did not meet early stopping. Best iteration is:\n",
      "[95]\ttraining's auc: 0.834492\tvalid_1's auc: 0.814095\n",
      "| \u001b[0m 35      \u001b[0m | \u001b[0m 0.8141  \u001b[0m | \u001b[0m 0.8     \u001b[0m | \u001b[0m 0.306   \u001b[0m | \u001b[0m 0.007959\u001b[0m | \u001b[0m 125.4   \u001b[0m | \u001b[0m 5.007   \u001b[0m | \u001b[0m 30.82   \u001b[0m | \u001b[0m 9.811   \u001b[0m | \u001b[0m 0.1617  \u001b[0m | \u001b[0m 0.9743  \u001b[0m |\n",
      "Training until validation scores don't improve for 100 rounds.\n",
      "Did not meet early stopping. Best iteration is:\n",
      "[95]\ttraining's auc: 0.860941\tvalid_1's auc: 0.834287\n",
      "| \u001b[0m 36      \u001b[0m | \u001b[0m 0.8343  \u001b[0m | \u001b[0m 0.8     \u001b[0m | \u001b[0m 0.2204  \u001b[0m | \u001b[0m 0.009254\u001b[0m | \u001b[0m 156.5   \u001b[0m | \u001b[0m 5.315   \u001b[0m | \u001b[0m 39.95   \u001b[0m | \u001b[0m 9.875   \u001b[0m | \u001b[0m 0.5646  \u001b[0m | \u001b[0m 0.1744  \u001b[0m |\n",
      "Training until validation scores don't improve for 100 rounds.\n",
      "Did not meet early stopping. Best iteration is:\n",
      "[95]\ttraining's auc: 0.723404\tvalid_1's auc: 0.718373\n",
      "| \u001b[0m 37      \u001b[0m | \u001b[0m 0.7184  \u001b[0m | \u001b[0m 0.8     \u001b[0m | \u001b[0m 0.3943  \u001b[0m | \u001b[0m 0.004301\u001b[0m | \u001b[0m 172.0   \u001b[0m | \u001b[0m 5.008   \u001b[0m | \u001b[0m 5.491   \u001b[0m | \u001b[0m 9.855   \u001b[0m | \u001b[0m 0.4491  \u001b[0m | \u001b[0m 0.02218 \u001b[0m |\n",
      "Training until validation scores don't improve for 100 rounds.\n",
      "Did not meet early stopping. Best iteration is:\n",
      "[100]\ttraining's auc: 0.861052\tvalid_1's auc: 0.807535\n",
      "| \u001b[0m 38      \u001b[0m | \u001b[0m 0.8075  \u001b[0m | \u001b[0m 0.8     \u001b[0m | \u001b[0m 0.01177 \u001b[0m | \u001b[0m 0.008852\u001b[0m | \u001b[0m 155.1   \u001b[0m | \u001b[0m 6.096   \u001b[0m | \u001b[0m 23.84   \u001b[0m | \u001b[0m 6.705   \u001b[0m | \u001b[0m 0.9042  \u001b[0m | \u001b[0m 0.9034  \u001b[0m |\n",
      "Training until validation scores don't improve for 100 rounds.\n",
      "Did not meet early stopping. Best iteration is:\n",
      "[100]\ttraining's auc: 0.886216\tvalid_1's auc: 0.837066\n",
      "| \u001b[0m 39      \u001b[0m | \u001b[0m 0.8371  \u001b[0m | \u001b[0m 0.8     \u001b[0m | \u001b[0m 0.01755 \u001b[0m | \u001b[0m 0.00392 \u001b[0m | \u001b[0m 90.69   \u001b[0m | \u001b[0m 14.79   \u001b[0m | \u001b[0m 30.39   \u001b[0m | \u001b[0m 6.024   \u001b[0m | \u001b[0m 0.4889  \u001b[0m | \u001b[0m 0.04621 \u001b[0m |\n",
      "Training until validation scores don't improve for 100 rounds.\n",
      "Did not meet early stopping. Best iteration is:\n",
      "[90]\ttraining's auc: 0.817587\tvalid_1's auc: 0.809256\n",
      "| \u001b[0m 40      \u001b[0m | \u001b[0m 0.8093  \u001b[0m | \u001b[0m 0.8     \u001b[0m | \u001b[0m 0.1212  \u001b[0m | \u001b[0m 0.005014\u001b[0m | \u001b[0m 198.5   \u001b[0m | \u001b[0m 14.92   \u001b[0m | \u001b[0m 6.776   \u001b[0m | \u001b[0m 6.088   \u001b[0m | \u001b[0m 0.5839  \u001b[0m | \u001b[0m 0.8784  \u001b[0m |\n",
      "=====================================================================================================================================\n"
     ]
    }
   ],
   "source": [
    "def bayes_parameter_opt_lgb(X, y, init_round=15, opt_round=25, n_folds=5, random_seed=6, n_estimators=10000, output_process=False):\n",
    "    # prepare data\n",
    "#     Xtr, Xval, ytr, yval  = train_test_split(X, y, test_size = 0.2, random_state=42)\n",
    "#     train_data = lgb.Dataset(data=Xtr, label=ytr, free_raw_data=False)\n",
    "#     val_data = lgb.Dataset(data=Xval, label=yval, free_raw_data=False)\n",
    "\n",
    "    # parameters\n",
    "    def lgb_eval(num_leaves, feature_fraction, bagging_fraction, learning_rate, num_threads, min_data_in_leaf, min_sum_hessian_in_leaf, reg_alpha, reg_lambda):\n",
    "        # fixed parameters\n",
    "        params = {'application':'binary',\n",
    "                  'num_iterations': n_estimators,\n",
    "                  'learning_rate':learning_rate,\n",
    "                  'early_stopping_round':100,\n",
    "                  'metric':'auc',\n",
    "                  'max_depth':-1,\n",
    "                  'bagging_freq':7,\n",
    "                  'verbosity':-1}\n",
    "        # variables\n",
    "        params[\"num_leaves\"] = int(round(num_leaves))\n",
    "        params['feature_fraction'] = max(min(feature_fraction, 1), 0)\n",
    "        params['bagging_fraction'] = max(min(bagging_fraction, 1), 0)\n",
    "        params['learning_rate'] = learning_rate\n",
    "        params['num_threads'] = int(num_threads)\n",
    "        params['min_data_in_leaf'] = int(min_data_in_leaf)\n",
    "        params['min_sum_hessian_in_leaf'] = min_sum_hessian_in_leaf\n",
    "        params['reg_alpha'] = max(min(reg_alpha, 1), 0)\n",
    "        params['reg_lambda'] = max(min(reg_lambda, 1), 0)\n",
    "        \n",
    "        score = lgb_trainer_for_bayesian_optim(X, y, params)\n",
    "#         cv_result = lgb.cv(params, train_data, nfold=n_folds, seed=random_seed, stratified=True, verbose_eval =200, metrics=['auc'])\n",
    "        \n",
    "        return score\n",
    "    # range of variables\n",
    "    lgbBO = BayesianOptimization(lgb_eval, {'num_leaves': (5, 40),\n",
    "                                            'feature_fraction': (0.01, 0.9),\n",
    "                                            'bagging_fraction': (0.8, 0.1),\n",
    "                                            'learning_rate': (0.001, 0.01),\n",
    "                                            'num_threads': (6, 10),\n",
    "                                            'min_data_in_leaf': (60, 200),\n",
    "                                            'min_sum_hessian_in_leaf': (5.0 , 15.0),\n",
    "                                            'reg_alpha': (0.0 , 1.0),\n",
    "                                            'reg_lambda': (0.0 , 1.0),\n",
    "                                           },\n",
    "                                             random_state=42)\n",
    "    # optimize!\n",
    "    lgbBO.maximize(init_points=init_round, n_iter=opt_round)\n",
    "    \n",
    "    # output optimization process\n",
    "    if output_process==True: lgbBO.points_to_csv(\"bayes_opt_result.csv\")\n",
    "    \n",
    "    # return best parameters\n",
    "    return lgbBO.res\n",
    "\n",
    "opt_params = bayes_parameter_opt_lgb(X, y, init_round=15, opt_round=25, n_folds=5, random_seed=42, n_estimators=100) "
   ]
  },
  {
   "cell_type": "code",
   "execution_count": 12,
   "metadata": {
    "hidden": true
   },
   "outputs": [
    {
     "data": {
      "text/plain": [
       "{'target': 0.855989966347573,\n",
       " 'params': {'bagging_fraction': 0.7244760011046869,\n",
       "  'feature_fraction': 0.03797197526119348,\n",
       "  'learning_rate': 0.006727693701374024,\n",
       "  'min_data_in_leaf': 104.00983735068573,\n",
       "  'min_sum_hessian_in_leaf': 10.085706911647028,\n",
       "  'num_leaves': 36.76482658741325,\n",
       "  'num_threads': 6.9971689165955,\n",
       "  'reg_alpha': 0.41038292303562973,\n",
       "  'reg_lambda': 0.7555511385430487}}"
      ]
     },
     "execution_count": 12,
     "metadata": {},
     "output_type": "execute_result"
    }
   ],
   "source": [
    "opt_params[11]"
   ]
  },
  {
   "cell_type": "markdown",
   "metadata": {
    "heading_collapsed": true
   },
   "source": [
    "# Bayesian search method #2"
   ]
  },
  {
   "cell_type": "code",
   "execution_count": 17,
   "metadata": {
    "hidden": true,
    "scrolled": false
   },
   "outputs": [
    {
     "name": "stdout",
     "output_type": "stream",
     "text": [
      "|   iter    |  target   | baggin... | featur... | learni... | min_da... | min_su... | num_le... | num_th... | reg_alpha | reg_la... |\n",
      "-------------------------------------------------------------------------------------------------------------------------------------\n"
     ]
    },
    {
     "data": {
      "application/vnd.jupyter.widget-view+json": {
       "model_id": "c5f57dc30c2940c0b8c87ddc1b870a44",
       "version_major": 2,
       "version_minor": 0
      },
      "text/plain": [
       "HBox(children=(IntProgress(value=1, bar_style='info', max=1), HTML(value='')))"
      ]
     },
     "metadata": {},
     "output_type": "display_data"
    },
    {
     "name": "stdout",
     "output_type": "stream",
     "text": [
      "Training until validation scores don't improve for 100 rounds.\n",
      "Did not meet early stopping. Best iteration is:\n",
      "[100]\ttraining's auc: 0.767201\tvalid_1's auc: 0.751954\n",
      "Training until validation scores don't improve for 100 rounds.\n",
      "Did not meet early stopping. Best iteration is:\n",
      "[100]\ttraining's auc: 0.766277\tvalid_1's auc: 0.752167\n",
      "Training until validation scores don't improve for 100 rounds.\n",
      "Did not meet early stopping. Best iteration is:\n",
      "[100]\ttraining's auc: 0.759154\tvalid_1's auc: 0.745013\n",
      "\n",
      "Fold: 0 \t Score: 0.7518408137794815\n",
      "Fold: 1 \t Score: 0.7542204628041014\n",
      "Fold: 2 \t Score: 0.7472713187665752\n",
      "Score: 0.7562639845811869\n",
      "| \u001b[0m 1       \u001b[0m | \u001b[0m 0.7563  \u001b[0m | \u001b[0m 0.5378  \u001b[0m | \u001b[0m 0.8561  \u001b[0m | \u001b[0m 0.007588\u001b[0m | \u001b[0m 143.8   \u001b[0m | \u001b[0m 6.56    \u001b[0m | \u001b[0m 10.46   \u001b[0m | \u001b[0m 6.232   \u001b[0m | \u001b[0m 0.8662  \u001b[0m | \u001b[0m 0.6011  \u001b[0m |\n"
     ]
    },
    {
     "data": {
      "application/vnd.jupyter.widget-view+json": {
       "model_id": "00e16055ef7f43f384b46243aed99b63",
       "version_major": 2,
       "version_minor": 0
      },
      "text/plain": [
       "HBox(children=(IntProgress(value=1, bar_style='info', max=1), HTML(value='')))"
      ]
     },
     "metadata": {},
     "output_type": "display_data"
    },
    {
     "name": "stdout",
     "output_type": "stream",
     "text": [
      "Training until validation scores don't improve for 100 rounds.\n",
      "Did not meet early stopping. Best iteration is:\n",
      "[100]\ttraining's auc: 0.859415\tvalid_1's auc: 0.835373\n",
      "Training until validation scores don't improve for 100 rounds.\n",
      "Did not meet early stopping. Best iteration is:\n",
      "[100]\ttraining's auc: 0.860071\tvalid_1's auc: 0.838353\n",
      "Training until validation scores don't improve for 100 rounds.\n",
      "Did not meet early stopping. Best iteration is:\n",
      "[100]\ttraining's auc: 0.859816\tvalid_1's auc: 0.837847\n",
      "\n",
      "Fold: 0 \t Score: 0.8361230835469673\n",
      "Fold: 1 \t Score: 0.8390002185736388\n",
      "Fold: 2 \t Score: 0.835786477016004\n",
      "Score: 0.8469717421492404\n",
      "| \u001b[95m 2       \u001b[0m | \u001b[95m 0.847   \u001b[0m | \u001b[95m 0.3043  \u001b[0m | \u001b[95m 0.02832 \u001b[0m | \u001b[95m 0.009729\u001b[0m | \u001b[95m 176.5   \u001b[0m | \u001b[95m 7.123   \u001b[0m | \u001b[95m 11.36   \u001b[0m | \u001b[95m 6.734   \u001b[0m | \u001b[95m 0.3042  \u001b[0m | \u001b[95m 0.5248  \u001b[0m |\n"
     ]
    },
    {
     "data": {
      "application/vnd.jupyter.widget-view+json": {
       "model_id": "977603d2d1474b76bb7632d1c670fc3e",
       "version_major": 2,
       "version_minor": 0
      },
      "text/plain": [
       "HBox(children=(IntProgress(value=1, bar_style='info', max=1), HTML(value='')))"
      ]
     },
     "metadata": {},
     "output_type": "display_data"
    },
    {
     "name": "stdout",
     "output_type": "stream",
     "text": [
      "Training until validation scores don't improve for 100 rounds.\n",
      "Did not meet early stopping. Best iteration is:\n",
      "[95]\ttraining's auc: 0.828133\tvalid_1's auc: 0.80709\n",
      "Training until validation scores don't improve for 100 rounds.\n",
      "Did not meet early stopping. Best iteration is:\n",
      "[95]\ttraining's auc: 0.82801\tvalid_1's auc: 0.805623\n",
      "Training until validation scores don't improve for 100 rounds.\n",
      "Did not meet early stopping. Best iteration is:\n",
      "[95]\ttraining's auc: 0.826439\tvalid_1's auc: 0.802504\n",
      "\n",
      "Fold: 0 \t Score: 0.8066997038660655\n",
      "Fold: 1 \t Score: 0.8102106419399202\n",
      "Fold: 2 \t Score: 0.8070895006601568\n",
      "Score: 0.813737984423914\n",
      "| \u001b[0m 3       \u001b[0m | \u001b[0m 0.8137  \u001b[0m | \u001b[0m 0.4976  \u001b[0m | \u001b[0m 0.2692  \u001b[0m | \u001b[0m 0.006507\u001b[0m | \u001b[0m 79.53   \u001b[0m | \u001b[0m 7.921   \u001b[0m | \u001b[0m 17.82   \u001b[0m | \u001b[0m 7.824   \u001b[0m | \u001b[0m 0.7852  \u001b[0m | \u001b[0m 0.1997  \u001b[0m |\n"
     ]
    },
    {
     "data": {
      "application/vnd.jupyter.widget-view+json": {
       "model_id": "4e42983e11924de5976947b237590e2c",
       "version_major": 2,
       "version_minor": 0
      },
      "text/plain": [
       "HBox(children=(IntProgress(value=1, bar_style='info', max=1), HTML(value='')))"
      ]
     },
     "metadata": {},
     "output_type": "display_data"
    },
    {
     "name": "stdout",
     "output_type": "stream",
     "text": [
      "Training until validation scores don't improve for 100 rounds.\n",
      "Did not meet early stopping. Best iteration is:\n",
      "[92]\ttraining's auc: 0.736838\tvalid_1's auc: 0.726811\n",
      "Training until validation scores don't improve for 100 rounds.\n",
      "Did not meet early stopping. Best iteration is:\n",
      "[94]\ttraining's auc: 0.733559\tvalid_1's auc: 0.725261\n",
      "Training until validation scores don't improve for 100 rounds.\n",
      "Did not meet early stopping. Best iteration is:\n",
      "[93]\ttraining's auc: 0.726603\tvalid_1's auc: 0.714184\n",
      "\n",
      "Fold: 0 \t Score: 0.7272947820358671\n",
      "Fold: 1 \t Score: 0.7250038684291252\n",
      "Fold: 2 \t Score: 0.7171327088431144\n",
      "Score: 0.7278905177417435\n",
      "| \u001b[0m 4       \u001b[0m | \u001b[0m 0.7279  \u001b[0m | \u001b[0m 0.44    \u001b[0m | \u001b[0m 0.5372  \u001b[0m | \u001b[0m 0.001418\u001b[0m | \u001b[0m 145.1   \u001b[0m | \u001b[0m 6.705   \u001b[0m | \u001b[0m 7.277   \u001b[0m | \u001b[0m 9.796   \u001b[0m | \u001b[0m 0.9656  \u001b[0m | \u001b[0m 0.8084  \u001b[0m |\n"
     ]
    },
    {
     "data": {
      "application/vnd.jupyter.widget-view+json": {
       "model_id": "0bc8a8affa2c41329129a4ff1c10bf65",
       "version_major": 2,
       "version_minor": 0
      },
      "text/plain": [
       "HBox(children=(IntProgress(value=1, bar_style='info', max=1), HTML(value='')))"
      ]
     },
     "metadata": {},
     "output_type": "display_data"
    },
    {
     "name": "stdout",
     "output_type": "stream",
     "text": [
      "Training until validation scores don't improve for 100 rounds.\n",
      "Did not meet early stopping. Best iteration is:\n",
      "[100]\ttraining's auc: 0.875012\tvalid_1's auc: 0.845555\n",
      "Training until validation scores don't improve for 100 rounds.\n",
      "Did not meet early stopping. Best iteration is:\n",
      "[100]\ttraining's auc: 0.876435\tvalid_1's auc: 0.846544\n",
      "Training until validation scores don't improve for 100 rounds.\n",
      "Did not meet early stopping. Best iteration is:\n",
      "[100]\ttraining's auc: 0.873744\tvalid_1's auc: 0.846113\n",
      "\n",
      "Fold: 0 \t Score: 0.8455542257158866\n",
      "Fold: 1 \t Score: 0.8470968113300645\n",
      "Fold: 2 \t Score: 0.8449288526183807\n",
      "Score: 0.851553623749496\n",
      "| \u001b[95m 5       \u001b[0m | \u001b[95m 0.8516  \u001b[0m | \u001b[95m 0.5868  \u001b[0m | \u001b[95m 0.09693 \u001b[0m | \u001b[95m 0.007158\u001b[0m | \u001b[95m 121.6   \u001b[0m | \u001b[95m 6.22    \u001b[0m | \u001b[95m 22.33   \u001b[0m | \u001b[95m 6.138   \u001b[0m | \u001b[95m 0.9093  \u001b[0m | \u001b[95m 0.2588  \u001b[0m |\n"
     ]
    },
    {
     "data": {
      "application/vnd.jupyter.widget-view+json": {
       "model_id": "7c1480ada68a40538e4f02d9006bede7",
       "version_major": 2,
       "version_minor": 0
      },
      "text/plain": [
       "HBox(children=(IntProgress(value=1, bar_style='info', max=1), HTML(value='')))"
      ]
     },
     "metadata": {},
     "output_type": "display_data"
    },
    {
     "name": "stdout",
     "output_type": "stream",
     "text": [
      "Training until validation scores don't improve for 100 rounds.\n",
      "Did not meet early stopping. Best iteration is:\n",
      "[95]\ttraining's auc: 0.864277\tvalid_1's auc: 0.830546\n",
      "Training until validation scores don't improve for 100 rounds.\n",
      "Did not meet early stopping. Best iteration is:\n",
      "[99]\ttraining's auc: 0.865446\tvalid_1's auc: 0.829247\n",
      "Training until validation scores don't improve for 100 rounds.\n",
      "Did not meet early stopping. Best iteration is:\n",
      "[95]\ttraining's auc: 0.862701\tvalid_1's auc: 0.826078\n",
      "\n",
      "Fold: 0 \t Score: 0.8311234231583674\n",
      "Fold: 1 \t Score: 0.8308484368402098\n",
      "Fold: 2 \t Score: 0.828943465365086\n",
      "Score: 0.8369460641826049\n",
      "| \u001b[0m 6       \u001b[0m | \u001b[0m 0.8369  \u001b[0m | \u001b[0m 0.3362  \u001b[0m | \u001b[0m 0.2874  \u001b[0m | \u001b[0m 0.005681\u001b[0m | \u001b[0m 136.5   \u001b[0m | \u001b[0m 6.849   \u001b[0m | \u001b[0m 38.94   \u001b[0m | \u001b[0m 9.101   \u001b[0m | \u001b[0m 0.9395  \u001b[0m | \u001b[0m 0.8948  \u001b[0m |\n"
     ]
    },
    {
     "data": {
      "application/vnd.jupyter.widget-view+json": {
       "model_id": "729ef5cce5ba4f9eb6cfa812c7081810",
       "version_major": 2,
       "version_minor": 0
      },
      "text/plain": [
       "HBox(children=(IntProgress(value=1, bar_style='info', max=1), HTML(value='')))"
      ]
     },
     "metadata": {},
     "output_type": "display_data"
    },
    {
     "name": "stdout",
     "output_type": "stream",
     "text": [
      "Training until validation scores don't improve for 100 rounds.\n",
      "Did not meet early stopping. Best iteration is:\n",
      "[100]\ttraining's auc: 0.74505\tvalid_1's auc: 0.731012\n",
      "Training until validation scores don't improve for 100 rounds.\n",
      "Did not meet early stopping. Best iteration is:\n",
      "[93]\ttraining's auc: 0.746272\tvalid_1's auc: 0.733955\n",
      "Training until validation scores don't improve for 100 rounds.\n",
      "Did not meet early stopping. Best iteration is:\n",
      "[100]\ttraining's auc: 0.743898\tvalid_1's auc: 0.7277\n",
      "\n",
      "Fold: 0 \t Score: 0.7293581311905616\n",
      "Fold: 1 \t Score: 0.7332090987628498\n",
      "Fold: 2 \t Score: 0.7318917899571168\n",
      "Score: 0.7370946597213762\n",
      "| \u001b[0m 7       \u001b[0m | \u001b[0m 0.7371  \u001b[0m | \u001b[0m 0.3815  \u001b[0m | \u001b[0m 0.8305  \u001b[0m | \u001b[0m 0.001796\u001b[0m | \u001b[0m 87.44   \u001b[0m | \u001b[0m 5.452   \u001b[0m | \u001b[0m 16.39   \u001b[0m | \u001b[0m 7.555   \u001b[0m | \u001b[0m 0.2713  \u001b[0m | \u001b[0m 0.8287  \u001b[0m |\n"
     ]
    },
    {
     "data": {
      "application/vnd.jupyter.widget-view+json": {
       "model_id": "ba49444965894384863fe1902d9193b5",
       "version_major": 2,
       "version_minor": 0
      },
      "text/plain": [
       "HBox(children=(IntProgress(value=1, bar_style='info', max=1), HTML(value='')))"
      ]
     },
     "metadata": {},
     "output_type": "display_data"
    },
    {
     "name": "stdout",
     "output_type": "stream",
     "text": [
      "Training until validation scores don't improve for 100 rounds.\n",
      "Did not meet early stopping. Best iteration is:\n",
      "[95]\ttraining's auc: 0.789438\tvalid_1's auc: 0.777064\n",
      "Training until validation scores don't improve for 100 rounds.\n",
      "Did not meet early stopping. Best iteration is:\n",
      "[95]\ttraining's auc: 0.790367\tvalid_1's auc: 0.77603\n",
      "Training until validation scores don't improve for 100 rounds.\n",
      "Did not meet early stopping. Best iteration is:\n",
      "[95]\ttraining's auc: 0.785702\tvalid_1's auc: 0.77\n",
      "\n",
      "Fold: 0 \t Score: 0.7779648675184799\n",
      "Fold: 1 \t Score: 0.7793539804600972\n",
      "Fold: 2 \t Score: 0.7746802124083543\n",
      "Score: 0.78285206965904\n",
      "| \u001b[0m 8       \u001b[0m | \u001b[0m 0.7829  \u001b[0m | \u001b[0m 0.5503  \u001b[0m | \u001b[0m 0.26    \u001b[0m | \u001b[0m 0.005884\u001b[0m | \u001b[0m 79.73   \u001b[0m | \u001b[0m 13.02   \u001b[0m | \u001b[0m 7.609   \u001b[0m | \u001b[0m 9.948   \u001b[0m | \u001b[0m 0.7722  \u001b[0m | \u001b[0m 0.1987  \u001b[0m |\n"
     ]
    },
    {
     "data": {
      "application/vnd.jupyter.widget-view+json": {
       "model_id": "b9919bf10af04940bebff5d0f6fe9a22",
       "version_major": 2,
       "version_minor": 0
      },
      "text/plain": [
       "HBox(children=(IntProgress(value=1, bar_style='info', max=1), HTML(value='')))"
      ]
     },
     "metadata": {},
     "output_type": "display_data"
    },
    {
     "name": "stdout",
     "output_type": "stream",
     "text": [
      "Training until validation scores don't improve for 100 rounds.\n",
      "Did not meet early stopping. Best iteration is:\n",
      "[100]\ttraining's auc: 0.744424\tvalid_1's auc: 0.730922\n",
      "Training until validation scores don't improve for 100 rounds.\n",
      "Did not meet early stopping. Best iteration is:\n",
      "[100]\ttraining's auc: 0.746247\tvalid_1's auc: 0.735853\n",
      "Training until validation scores don't improve for 100 rounds.\n",
      "Did not meet early stopping. Best iteration is:\n",
      "[100]\ttraining's auc: 0.741689\tvalid_1's auc: 0.72648\n",
      "\n",
      "Fold: 0 \t Score: 0.7310623270980781\n",
      "Fold: 1 \t Score: 0.735950110497265\n",
      "Fold: 2 \t Score: 0.7306694336571493\n",
      "Score: 0.7370721843877998\n",
      "| \u001b[0m 9       \u001b[0m | \u001b[0m 0.7371  \u001b[0m | \u001b[0m 0.7961  \u001b[0m | \u001b[0m 0.7358  \u001b[0m | \u001b[0m 0.007362\u001b[0m | \u001b[0m 162.1   \u001b[0m | \u001b[0m 12.71   \u001b[0m | \u001b[0m 7.592   \u001b[0m | \u001b[0m 7.434   \u001b[0m | \u001b[0m 0.1159  \u001b[0m | \u001b[0m 0.8631  \u001b[0m |\n"
     ]
    },
    {
     "data": {
      "application/vnd.jupyter.widget-view+json": {
       "model_id": "84466e6ae8f9421d850ad8234560e29b",
       "version_major": 2,
       "version_minor": 0
      },
      "text/plain": [
       "HBox(children=(IntProgress(value=1, bar_style='info', max=1), HTML(value='')))"
      ]
     },
     "metadata": {},
     "output_type": "display_data"
    },
    {
     "name": "stdout",
     "output_type": "stream",
     "text": [
      "Training until validation scores don't improve for 100 rounds.\n",
      "Did not meet early stopping. Best iteration is:\n",
      "[95]\ttraining's auc: 0.843614\tvalid_1's auc: 0.814029\n",
      "Training until validation scores don't improve for 100 rounds.\n",
      "Did not meet early stopping. Best iteration is:\n",
      "[95]\ttraining's auc: 0.84248\tvalid_1's auc: 0.81172\n",
      "Training until validation scores don't improve for 100 rounds.\n",
      "Did not meet early stopping. Best iteration is:\n",
      "[95]\ttraining's auc: 0.84051\tvalid_1's auc: 0.810284\n",
      "\n",
      "Fold: 0 \t Score: 0.8154275978781571\n",
      "Fold: 1 \t Score: 0.8165131238578311\n",
      "Fold: 2 \t Score: 0.8128612288673485\n",
      "Score: 0.821784867670627\n",
      "| \u001b[0m 10      \u001b[0m | \u001b[0m 0.8218  \u001b[0m | \u001b[0m 0.3637  \u001b[0m | \u001b[0m 0.3045  \u001b[0m | \u001b[0m 0.001572\u001b[0m | \u001b[0m 103.5   \u001b[0m | \u001b[0m 8.252   \u001b[0m | \u001b[0m 30.54   \u001b[0m | \u001b[0m 8.55    \u001b[0m | \u001b[0m 0.8872  \u001b[0m | \u001b[0m 0.4722  \u001b[0m |\n"
     ]
    },
    {
     "data": {
      "application/vnd.jupyter.widget-view+json": {
       "model_id": "04be0e23ab7e4569b3bc155417428704",
       "version_major": 2,
       "version_minor": 0
      },
      "text/plain": [
       "HBox(children=(IntProgress(value=1, bar_style='info', max=1), HTML(value='')))"
      ]
     },
     "metadata": {},
     "output_type": "display_data"
    },
    {
     "name": "stdout",
     "output_type": "stream",
     "text": [
      "Training until validation scores don't improve for 100 rounds.\n",
      "Did not meet early stopping. Best iteration is:\n",
      "[100]\ttraining's auc: 0.803071\tvalid_1's auc: 0.776778\n",
      "Training until validation scores don't improve for 100 rounds.\n",
      "Did not meet early stopping. Best iteration is:\n",
      "[100]\ttraining's auc: 0.802533\tvalid_1's auc: 0.775257\n",
      "Training until validation scores don't improve for 100 rounds.\n",
      "Did not meet early stopping. Best iteration is:\n",
      "[100]\ttraining's auc: 0.798879\tvalid_1's auc: 0.770968\n",
      "\n",
      "Fold: 0 \t Score: 0.776373323611879\n",
      "Fold: 1 \t Score: 0.7783825579283198\n",
      "Fold: 2 \t Score: 0.7740885455128668\n",
      "Score: 0.7823998980356797\n",
      "| \u001b[0m 11      \u001b[0m | \u001b[0m 0.7824  \u001b[0m | \u001b[0m 0.7163  \u001b[0m | \u001b[0m 0.6448  \u001b[0m | \u001b[0m 0.007847\u001b[0m | \u001b[0m 138.6   \u001b[0m | \u001b[0m 12.71   \u001b[0m | \u001b[0m 22.28   \u001b[0m | \u001b[0m 8.091   \u001b[0m | \u001b[0m 0.4275  \u001b[0m | \u001b[0m 0.02542 \u001b[0m |\n"
     ]
    },
    {
     "data": {
      "application/vnd.jupyter.widget-view+json": {
       "model_id": "0ab63e5eaa5d46288eaf9197f025cdb6",
       "version_major": 2,
       "version_minor": 0
      },
      "text/plain": [
       "HBox(children=(IntProgress(value=1, bar_style='info', max=1), HTML(value='')))"
      ]
     },
     "metadata": {},
     "output_type": "display_data"
    },
    {
     "name": "stdout",
     "output_type": "stream",
     "text": [
      "Training until validation scores don't improve for 100 rounds.\n",
      "Did not meet early stopping. Best iteration is:\n",
      "[100]\ttraining's auc: 0.908426\tvalid_1's auc: 0.851058\n",
      "Training until validation scores don't improve for 100 rounds.\n",
      "Did not meet early stopping. Best iteration is:\n",
      "[100]\ttraining's auc: 0.910643\tvalid_1's auc: 0.852085\n",
      "Training until validation scores don't improve for 100 rounds.\n",
      "Did not meet early stopping. Best iteration is:\n",
      "[100]\ttraining's auc: 0.908561\tvalid_1's auc: 0.854317\n",
      "\n",
      "Fold: 0 \t Score: 0.8517033505331273\n",
      "Fold: 1 \t Score: 0.8535507672066608\n",
      "Fold: 2 \t Score: 0.8513917619173366\n",
      "Score: 0.8613145741028642\n",
      "| \u001b[95m 12      \u001b[0m | \u001b[95m 0.8613  \u001b[0m | \u001b[95m 0.7245  \u001b[0m | \u001b[95m 0.03797 \u001b[0m | \u001b[95m 0.006728\u001b[0m | \u001b[95m 104.0   \u001b[0m | \u001b[95m 10.09   \u001b[0m | \u001b[95m 36.76   \u001b[0m | \u001b[95m 6.997   \u001b[0m | \u001b[95m 0.4104  \u001b[0m | \u001b[95m 0.7556  \u001b[0m |\n"
     ]
    },
    {
     "data": {
      "application/vnd.jupyter.widget-view+json": {
       "model_id": "7b961ccea83d431590bb9fae8d15337a",
       "version_major": 2,
       "version_minor": 0
      },
      "text/plain": [
       "HBox(children=(IntProgress(value=1, bar_style='info', max=1), HTML(value='')))"
      ]
     },
     "metadata": {},
     "output_type": "display_data"
    },
    {
     "name": "stdout",
     "output_type": "stream",
     "text": [
      "Training until validation scores don't improve for 100 rounds.\n",
      "Did not meet early stopping. Best iteration is:\n",
      "[95]\ttraining's auc: 0.891066\tvalid_1's auc: 0.852953\n",
      "Training until validation scores don't improve for 100 rounds.\n",
      "Did not meet early stopping. Best iteration is:\n",
      "[95]\ttraining's auc: 0.893847\tvalid_1's auc: 0.85316\n",
      "Training until validation scores don't improve for 100 rounds.\n",
      "Did not meet early stopping. Best iteration is:\n",
      "[95]\ttraining's auc: 0.892568\tvalid_1's auc: 0.853593\n",
      "\n",
      "Fold: 0 \t Score: 0.8505809231285738\n",
      "Fold: 1 \t Score: 0.8530690295743097\n",
      "Fold: 2 \t Score: 0.8532468403273917\n",
      "Score: 0.8588486846535369\n",
      "| \u001b[0m 13      \u001b[0m | \u001b[0m 0.8588  \u001b[0m | \u001b[0m 0.6398  \u001b[0m | \u001b[0m 0.07851 \u001b[0m | \u001b[0m 0.003608\u001b[0m | \u001b[0m 82.57   \u001b[0m | \u001b[0m 14.3    \u001b[0m | \u001b[0m 33.28   \u001b[0m | \u001b[0m 8.534   \u001b[0m | \u001b[0m 0.8715  \u001b[0m | \u001b[0m 0.8037  \u001b[0m |\n"
     ]
    },
    {
     "data": {
      "application/vnd.jupyter.widget-view+json": {
       "model_id": "c36315941a184150b7018fd1cb4f47d2",
       "version_major": 2,
       "version_minor": 0
      },
      "text/plain": [
       "HBox(children=(IntProgress(value=1, bar_style='info', max=1), HTML(value='')))"
      ]
     },
     "metadata": {},
     "output_type": "display_data"
    },
    {
     "name": "stdout",
     "output_type": "stream",
     "text": [
      "Training until validation scores don't improve for 100 rounds.\n",
      "Did not meet early stopping. Best iteration is:\n",
      "[100]\ttraining's auc: 0.77165\tvalid_1's auc: 0.751545\n",
      "Training until validation scores don't improve for 100 rounds.\n",
      "Did not meet early stopping. Best iteration is:\n",
      "[100]\ttraining's auc: 0.769864\tvalid_1's auc: 0.750892\n",
      "Training until validation scores don't improve for 100 rounds.\n",
      "Did not meet early stopping. Best iteration is:\n",
      "[100]\ttraining's auc: 0.764045\tvalid_1's auc: 0.743914\n",
      "\n",
      "Fold: 0 \t Score: 0.7507895990546655\n",
      "Fold: 1 \t Score: 0.7529023687893458\n",
      "Fold: 2 \t Score: 0.747354285787436\n",
      "Score: 0.756070867350928\n",
      "| \u001b[0m 14      \u001b[0m | \u001b[0m 0.7561  \u001b[0m | \u001b[0m 0.6694  \u001b[0m | \u001b[0m 0.8044  \u001b[0m | \u001b[0m 0.005854\u001b[0m | \u001b[0m 173.0   \u001b[0m | \u001b[0m 13.96   \u001b[0m | \u001b[0m 16.13   \u001b[0m | \u001b[0m 6.44    \u001b[0m | \u001b[0m 0.2279  \u001b[0m | \u001b[0m 0.4271  \u001b[0m |\n"
     ]
    },
    {
     "data": {
      "application/vnd.jupyter.widget-view+json": {
       "model_id": "b912829f071f41ee8238457eb14e35bb",
       "version_major": 2,
       "version_minor": 0
      },
      "text/plain": [
       "HBox(children=(IntProgress(value=1, bar_style='info', max=1), HTML(value='')))"
      ]
     },
     "metadata": {},
     "output_type": "display_data"
    },
    {
     "name": "stdout",
     "output_type": "stream",
     "text": [
      "Training until validation scores don't improve for 100 rounds.\n",
      "Did not meet early stopping. Best iteration is:\n",
      "[100]\ttraining's auc: 0.753628\tvalid_1's auc: 0.741169\n",
      "Training until validation scores don't improve for 100 rounds.\n",
      "Did not meet early stopping. Best iteration is:\n",
      "[100]\ttraining's auc: 0.752455\tvalid_1's auc: 0.740059\n",
      "Training until validation scores don't improve for 100 rounds.\n",
      "Did not meet early stopping. Best iteration is:\n",
      "[100]\ttraining's auc: 0.749255\tvalid_1's auc: 0.73618\n",
      "\n",
      "Fold: 0 \t Score: 0.7425848174118109\n",
      "Fold: 1 \t Score: 0.7422146780366656\n",
      "Fold: 2 \t Score: 0.7382300923628116\n",
      "Score: 0.7479140208493457\n",
      "| \u001b[0m 15      \u001b[0m | \u001b[0m 0.7479  \u001b[0m | \u001b[0m 0.2274  \u001b[0m | \u001b[0m 0.7761  \u001b[0m | \u001b[0m 0.001063\u001b[0m | \u001b[0m 131.5   \u001b[0m | \u001b[0m 9.174   \u001b[0m | \u001b[0m 12.77   \u001b[0m | \u001b[0m 6.479   \u001b[0m | \u001b[0m 0.3376  \u001b[0m | \u001b[0m 0.9429  \u001b[0m |\n"
     ]
    },
    {
     "data": {
      "application/vnd.jupyter.widget-view+json": {
       "model_id": "7205711423574aa1aa5e46039a3ef18b",
       "version_major": 2,
       "version_minor": 0
      },
      "text/plain": [
       "HBox(children=(IntProgress(value=1, bar_style='info', max=1), HTML(value='')))"
      ]
     },
     "metadata": {},
     "output_type": "display_data"
    },
    {
     "name": "stdout",
     "output_type": "stream",
     "text": [
      "Training until validation scores don't improve for 100 rounds.\n",
      "Did not meet early stopping. Best iteration is:\n",
      "[100]\ttraining's auc: 0.848534\tvalid_1's auc: 0.810554\n",
      "Training until validation scores don't improve for 100 rounds.\n",
      "Did not meet early stopping. Best iteration is:\n",
      "[95]\ttraining's auc: 0.847757\tvalid_1's auc: 0.807442\n",
      "Training until validation scores don't improve for 100 rounds.\n",
      "Did not meet early stopping. Best iteration is:\n",
      "[100]\ttraining's auc: 0.845803\tvalid_1's auc: 0.805744\n",
      "\n",
      "Fold: 0 \t Score: 0.8102521186520041\n",
      "Fold: 1 \t Score: 0.8120966256332294\n",
      "Fold: 2 \t Score: 0.8091804137107937\n",
      "Score: 0.8166036846317484\n",
      "| \u001b[0m 16      \u001b[0m | \u001b[0m 0.8166  \u001b[0m | \u001b[0m 0.8     \u001b[0m | \u001b[0m 0.3509  \u001b[0m | \u001b[0m 0.006417\u001b[0m | \u001b[0m 60.07   \u001b[0m | \u001b[0m 7.361   \u001b[0m | \u001b[0m 39.61   \u001b[0m | \u001b[0m 6.449   \u001b[0m | \u001b[0m 0.07893 \u001b[0m | \u001b[0m 0.4932  \u001b[0m |\n"
     ]
    },
    {
     "data": {
      "application/vnd.jupyter.widget-view+json": {
       "model_id": "6364233490cf4150a08a4b4297909f1a",
       "version_major": 2,
       "version_minor": 0
      },
      "text/plain": [
       "HBox(children=(IntProgress(value=1, bar_style='info', max=1), HTML(value='')))"
      ]
     },
     "metadata": {},
     "output_type": "display_data"
    },
    {
     "name": "stdout",
     "output_type": "stream",
     "text": [
      "Training until validation scores don't improve for 100 rounds.\n",
      "Did not meet early stopping. Best iteration is:\n",
      "[95]\ttraining's auc: 0.736286\tvalid_1's auc: 0.726649\n",
      "Training until validation scores don't improve for 100 rounds.\n",
      "Did not meet early stopping. Best iteration is:\n",
      "[95]\ttraining's auc: 0.734431\tvalid_1's auc: 0.726839\n",
      "Training until validation scores don't improve for 100 rounds.\n",
      "Did not meet early stopping. Best iteration is:\n",
      "[95]\ttraining's auc: 0.729499\tvalid_1's auc: 0.716876\n",
      "\n",
      "Fold: 0 \t Score: 0.7256430455692283\n",
      "Fold: 1 \t Score: 0.7275648871412274\n",
      "Fold: 2 \t Score: 0.7210373153694006\n",
      "Score: 0.7286261634188846\n",
      "| \u001b[0m 17      \u001b[0m | \u001b[0m 0.7286  \u001b[0m | \u001b[0m 0.8     \u001b[0m | \u001b[0m 0.4105  \u001b[0m | \u001b[0m 0.003865\u001b[0m | \u001b[0m 200.0   \u001b[0m | \u001b[0m 6.384   \u001b[0m | \u001b[0m 5.887   \u001b[0m | \u001b[0m 9.946   \u001b[0m | \u001b[0m 0.6954  \u001b[0m | \u001b[0m 0.7848  \u001b[0m |\n"
     ]
    },
    {
     "data": {
      "application/vnd.jupyter.widget-view+json": {
       "model_id": "4e6223504df54c7bb11cdeddc2e26178",
       "version_major": 2,
       "version_minor": 0
      },
      "text/plain": [
       "HBox(children=(IntProgress(value=1, bar_style='info', max=1), HTML(value='')))"
      ]
     },
     "metadata": {},
     "output_type": "display_data"
    },
    {
     "name": "stdout",
     "output_type": "stream",
     "text": [
      "Training until validation scores don't improve for 100 rounds.\n",
      "Did not meet early stopping. Best iteration is:\n",
      "[95]\ttraining's auc: 0.857882\tvalid_1's auc: 0.821949\n",
      "Training until validation scores don't improve for 100 rounds.\n",
      "Did not meet early stopping. Best iteration is:\n",
      "[95]\ttraining's auc: 0.856438\tvalid_1's auc: 0.816875\n",
      "Training until validation scores don't improve for 100 rounds.\n",
      "Did not meet early stopping. Best iteration is:\n",
      "[95]\ttraining's auc: 0.856483\tvalid_1's auc: 0.817984\n",
      "\n",
      "Fold: 0 \t Score: 0.8214465887464211\n",
      "Fold: 1 \t Score: 0.8217456412112394\n",
      "Fold: 2 \t Score: 0.8194101508464033\n",
      "Score: 0.8267193455128476\n",
      "| \u001b[0m 18      \u001b[0m | \u001b[0m 0.8267  \u001b[0m | \u001b[0m 0.8     \u001b[0m | \u001b[0m 0.2854  \u001b[0m | \u001b[0m 0.006009\u001b[0m | \u001b[0m 199.5   \u001b[0m | \u001b[0m 5.22    \u001b[0m | \u001b[0m 39.55   \u001b[0m | \u001b[0m 8.097   \u001b[0m | \u001b[0m 0.8658  \u001b[0m | \u001b[0m 0.8095  \u001b[0m |\n"
     ]
    },
    {
     "data": {
      "application/vnd.jupyter.widget-view+json": {
       "model_id": "0ba64fb0fdd04873a1226a2866ec9502",
       "version_major": 2,
       "version_minor": 0
      },
      "text/plain": [
       "HBox(children=(IntProgress(value=1, bar_style='info', max=1), HTML(value='')))"
      ]
     },
     "metadata": {},
     "output_type": "display_data"
    },
    {
     "name": "stdout",
     "output_type": "stream",
     "text": [
      "Training until validation scores don't improve for 100 rounds.\n",
      "Did not meet early stopping. Best iteration is:\n",
      "[100]\ttraining's auc: 0.739758\tvalid_1's auc: 0.727279\n",
      "Training until validation scores don't improve for 100 rounds.\n",
      "Did not meet early stopping. Best iteration is:\n",
      "[100]\ttraining's auc: 0.742174\tvalid_1's auc: 0.732617\n",
      "Training until validation scores don't improve for 100 rounds.\n",
      "Did not meet early stopping. Best iteration is:\n",
      "[100]\ttraining's auc: 0.735594\tvalid_1's auc: 0.724546\n",
      "\n",
      "Fold: 0 \t Score: 0.7278187713918046\n",
      "Fold: 1 \t Score: 0.7338886444845548\n",
      "Fold: 2 \t Score: 0.7281166001542505\n",
      "Score: 0.7346489103735976\n",
      "| \u001b[0m 19      \u001b[0m | \u001b[0m 0.7346  \u001b[0m | \u001b[0m 0.8     \u001b[0m | \u001b[0m 0.4905  \u001b[0m | \u001b[0m 0.009602\u001b[0m | \u001b[0m 60.54   \u001b[0m | \u001b[0m 14.9    \u001b[0m | \u001b[0m 5.07    \u001b[0m | \u001b[0m 6.31    \u001b[0m | \u001b[0m 0.9158  \u001b[0m | \u001b[0m 0.8414  \u001b[0m |\n"
     ]
    },
    {
     "data": {
      "application/vnd.jupyter.widget-view+json": {
       "model_id": "56c0ccf9deaf4dd78acae8c7c3149b27",
       "version_major": 2,
       "version_minor": 0
      },
      "text/plain": [
       "HBox(children=(IntProgress(value=1, bar_style='info', max=1), HTML(value='')))"
      ]
     },
     "metadata": {},
     "output_type": "display_data"
    },
    {
     "name": "stdout",
     "output_type": "stream",
     "text": [
      "Training until validation scores don't improve for 100 rounds.\n",
      "Did not meet early stopping. Best iteration is:\n",
      "[95]\ttraining's auc: 0.867045\tvalid_1's auc: 0.831371\n",
      "Training until validation scores don't improve for 100 rounds.\n",
      "Did not meet early stopping. Best iteration is:\n",
      "[95]\ttraining's auc: 0.867676\tvalid_1's auc: 0.82855\n",
      "Training until validation scores don't improve for 100 rounds.\n",
      "Did not meet early stopping. Best iteration is:\n",
      "[95]\ttraining's auc: 0.864868\tvalid_1's auc: 0.825478\n",
      "\n",
      "Fold: 0 \t Score: 0.8301069207908536\n",
      "Fold: 1 \t Score: 0.8317870709467489\n",
      "Fold: 2 \t Score: 0.8267184821228402\n",
      "Score: 0.8356415974534374\n",
      "| \u001b[0m 20      \u001b[0m | \u001b[0m 0.8356  \u001b[0m | \u001b[0m 0.8     \u001b[0m | \u001b[0m 0.2148  \u001b[0m | \u001b[0m 0.005497\u001b[0m | \u001b[0m 174.6   \u001b[0m | \u001b[0m 5.072   \u001b[0m | \u001b[0m 38.53   \u001b[0m | \u001b[0m 6.219   \u001b[0m | \u001b[0m 0.2524  \u001b[0m | \u001b[0m 0.131   \u001b[0m |\n"
     ]
    },
    {
     "data": {
      "application/vnd.jupyter.widget-view+json": {
       "model_id": "aa8469c4729a49a1a0f065da0ec899ee",
       "version_major": 2,
       "version_minor": 0
      },
      "text/plain": [
       "HBox(children=(IntProgress(value=1, bar_style='info', max=1), HTML(value='')))"
      ]
     },
     "metadata": {},
     "output_type": "display_data"
    },
    {
     "name": "stdout",
     "output_type": "stream",
     "text": [
      "Training until validation scores don't improve for 100 rounds.\n",
      "Did not meet early stopping. Best iteration is:\n",
      "[95]\ttraining's auc: 0.856118\tvalid_1's auc: 0.821298\n",
      "Training until validation scores don't improve for 100 rounds.\n",
      "Did not meet early stopping. Best iteration is:\n",
      "[95]\ttraining's auc: 0.854788\tvalid_1's auc: 0.816738\n",
      "Training until validation scores don't improve for 100 rounds.\n",
      "Did not meet early stopping. Best iteration is:\n",
      "[95]\ttraining's auc: 0.85379\tvalid_1's auc: 0.814866\n",
      "\n",
      "Fold: 0 \t Score: 0.8204725080611563\n",
      "Fold: 1 \t Score: 0.8206203313077637\n",
      "Fold: 2 \t Score: 0.8183937232607011\n",
      "Score: 0.8262750803664834\n",
      "| \u001b[0m 21      \u001b[0m | \u001b[0m 0.8263  \u001b[0m | \u001b[0m 0.8     \u001b[0m | \u001b[0m 0.2522  \u001b[0m | \u001b[0m 0.001977\u001b[0m | \u001b[0m 118.4   \u001b[0m | \u001b[0m 14.11   \u001b[0m | \u001b[0m 39.94   \u001b[0m | \u001b[0m 6.666   \u001b[0m | \u001b[0m 0.867   \u001b[0m | \u001b[0m 0.1801  \u001b[0m |\n"
     ]
    },
    {
     "data": {
      "application/vnd.jupyter.widget-view+json": {
       "model_id": "80903ba51e3e4330b413d85547a8c57f",
       "version_major": 2,
       "version_minor": 0
      },
      "text/plain": [
       "HBox(children=(IntProgress(value=1, bar_style='info', max=1), HTML(value='')))"
      ]
     },
     "metadata": {},
     "output_type": "display_data"
    },
    {
     "name": "stdout",
     "output_type": "stream",
     "text": [
      "Training until validation scores don't improve for 100 rounds.\n",
      "Did not meet early stopping. Best iteration is:\n",
      "[95]\ttraining's auc: 0.846409\tvalid_1's auc: 0.810815\n",
      "Training until validation scores don't improve for 100 rounds.\n",
      "Did not meet early stopping. Best iteration is:\n",
      "[95]\ttraining's auc: 0.84581\tvalid_1's auc: 0.808109\n",
      "Training until validation scores don't improve for 100 rounds.\n",
      "Did not meet early stopping. Best iteration is:\n",
      "[95]\ttraining's auc: 0.845076\tvalid_1's auc: 0.807397\n",
      "\n",
      "Fold: 0 \t Score: 0.8102688969712013\n",
      "Fold: 1 \t Score: 0.81126629598501\n",
      "Fold: 2 \t Score: 0.8100772991713883\n",
      "Score: 0.816920242838841\n",
      "| \u001b[0m 22      \u001b[0m | \u001b[0m 0.8169  \u001b[0m | \u001b[0m 0.8     \u001b[0m | \u001b[0m 0.3084  \u001b[0m | \u001b[0m 0.002069\u001b[0m | \u001b[0m 81.52   \u001b[0m | \u001b[0m 5.304   \u001b[0m | \u001b[0m 39.94   \u001b[0m | \u001b[0m 9.665   \u001b[0m | \u001b[0m 0.7663  \u001b[0m | \u001b[0m 0.3836  \u001b[0m |\n"
     ]
    },
    {
     "data": {
      "application/vnd.jupyter.widget-view+json": {
       "model_id": "5ee69c2975474d6e9dde84ab613eb4bd",
       "version_major": 2,
       "version_minor": 0
      },
      "text/plain": [
       "HBox(children=(IntProgress(value=1, bar_style='info', max=1), HTML(value='')))"
      ]
     },
     "metadata": {},
     "output_type": "display_data"
    },
    {
     "name": "stdout",
     "output_type": "stream",
     "text": [
      "Training until validation scores don't improve for 100 rounds.\n",
      "Did not meet early stopping. Best iteration is:\n",
      "[95]\ttraining's auc: 0.829469\tvalid_1's auc: 0.801968\n",
      "Training until validation scores don't improve for 100 rounds.\n",
      "Did not meet early stopping. Best iteration is:\n",
      "[95]\ttraining's auc: 0.826822\tvalid_1's auc: 0.797062\n",
      "Training until validation scores don't improve for 100 rounds.\n",
      "Did not meet early stopping. Best iteration is:\n",
      "[95]\ttraining's auc: 0.825764\tvalid_1's auc: 0.79547\n",
      "\n",
      "Fold: 0 \t Score: 0.8017395486690602\n",
      "Fold: 1 \t Score: 0.8005332432652129\n",
      "Fold: 2 \t Score: 0.7992054582075013\n",
      "Score: 0.8060167963620091\n",
      "| \u001b[0m 23      \u001b[0m | \u001b[0m 0.806   \u001b[0m | \u001b[0m 0.8     \u001b[0m | \u001b[0m 0.3613  \u001b[0m | \u001b[0m 0.00773 \u001b[0m | \u001b[0m 61.42   \u001b[0m | \u001b[0m 14.88   \u001b[0m | \u001b[0m 26.42   \u001b[0m | \u001b[0m 9.988   \u001b[0m | \u001b[0m 0.09399 \u001b[0m | \u001b[0m 0.3815  \u001b[0m |\n"
     ]
    },
    {
     "data": {
      "application/vnd.jupyter.widget-view+json": {
       "model_id": "10e5a8ceb253422ea268718385f1b530",
       "version_major": 2,
       "version_minor": 0
      },
      "text/plain": [
       "HBox(children=(IntProgress(value=1, bar_style='info', max=1), HTML(value='')))"
      ]
     },
     "metadata": {},
     "output_type": "display_data"
    },
    {
     "name": "stdout",
     "output_type": "stream",
     "text": [
      "Training until validation scores don't improve for 100 rounds.\n",
      "Did not meet early stopping. Best iteration is:\n",
      "[95]\ttraining's auc: 0.826754\tvalid_1's auc: 0.803176\n",
      "Training until validation scores don't improve for 100 rounds.\n",
      "Did not meet early stopping. Best iteration is:\n",
      "[95]\ttraining's auc: 0.825102\tvalid_1's auc: 0.799227\n",
      "Training until validation scores don't improve for 100 rounds.\n",
      "Did not meet early stopping. Best iteration is:\n",
      "[95]\ttraining's auc: 0.824431\tvalid_1's auc: 0.797413\n",
      "\n",
      "Fold: 0 \t Score: 0.8028262915527601\n",
      "Fold: 1 \t Score: 0.8043526223204224\n",
      "Fold: 2 \t Score: 0.8012828221535353\n",
      "Score: 0.8088965555504348\n",
      "| \u001b[0m 24      \u001b[0m | \u001b[0m 0.8089  \u001b[0m | \u001b[0m 0.8     \u001b[0m | \u001b[0m 0.2743  \u001b[0m | \u001b[0m 0.002667\u001b[0m | \u001b[0m 167.1   \u001b[0m | \u001b[0m 5.092   \u001b[0m | \u001b[0m 23.22   \u001b[0m | \u001b[0m 9.925   \u001b[0m | \u001b[0m 0.2172  \u001b[0m | \u001b[0m 0.4309  \u001b[0m |\n"
     ]
    },
    {
     "data": {
      "application/vnd.jupyter.widget-view+json": {
       "model_id": "fce58335b8cd4d0d9a32e80e1136eac2",
       "version_major": 2,
       "version_minor": 0
      },
      "text/plain": [
       "HBox(children=(IntProgress(value=1, bar_style='info', max=1), HTML(value='')))"
      ]
     },
     "metadata": {},
     "output_type": "display_data"
    },
    {
     "name": "stdout",
     "output_type": "stream",
     "text": [
      "Training until validation scores don't improve for 100 rounds.\n",
      "Did not meet early stopping. Best iteration is:\n",
      "[98]\ttraining's auc: 0.882017\tvalid_1's auc: 0.843385\n",
      "Training until validation scores don't improve for 100 rounds.\n",
      "Did not meet early stopping. Best iteration is:\n",
      "[98]\ttraining's auc: 0.885445\tvalid_1's auc: 0.846429\n",
      "Training until validation scores don't improve for 100 rounds.\n",
      "Did not meet early stopping. Best iteration is:\n",
      "[98]\ttraining's auc: 0.882821\tvalid_1's auc: 0.84267\n",
      "\n",
      "Fold: 0 \t Score: 0.8425543873329782\n",
      "Fold: 1 \t Score: 0.8457572855279226\n",
      "Fold: 2 \t Score: 0.8418890807480475\n",
      "Score: 0.8496149800640869\n",
      "| \u001b[0m 25      \u001b[0m | \u001b[0m 0.8496  \u001b[0m | \u001b[0m 0.8     \u001b[0m | \u001b[0m 0.1276  \u001b[0m | \u001b[0m 0.001595\u001b[0m | \u001b[0m 123.2   \u001b[0m | \u001b[0m 5.006   \u001b[0m | \u001b[0m 37.4    \u001b[0m | \u001b[0m 6.082   \u001b[0m | \u001b[0m 0.08664 \u001b[0m | \u001b[0m 0.07625 \u001b[0m |\n"
     ]
    },
    {
     "data": {
      "application/vnd.jupyter.widget-view+json": {
       "model_id": "71936c7dfedf405aaa2812409b67799f",
       "version_major": 2,
       "version_minor": 0
      },
      "text/plain": [
       "HBox(children=(IntProgress(value=1, bar_style='info', max=1), HTML(value='')))"
      ]
     },
     "metadata": {},
     "output_type": "display_data"
    },
    {
     "name": "stdout",
     "output_type": "stream",
     "text": [
      "Training until validation scores don't improve for 100 rounds.\n",
      "Did not meet early stopping. Best iteration is:\n",
      "[100]\ttraining's auc: 0.872074\tvalid_1's auc: 0.834406\n",
      "Training until validation scores don't improve for 100 rounds.\n",
      "Did not meet early stopping. Best iteration is:\n",
      "[99]\ttraining's auc: 0.872222\tvalid_1's auc: 0.831941\n",
      "Training until validation scores don't improve for 100 rounds.\n",
      "Did not meet early stopping. Best iteration is:\n",
      "[99]\ttraining's auc: 0.870175\tvalid_1's auc: 0.828973\n",
      "\n",
      "Fold: 0 \t Score: 0.8332255534807531\n",
      "Fold: 1 \t Score: 0.8342227077540874\n",
      "Fold: 2 \t Score: 0.8308457107032576\n",
      "Score: 0.8386275400160703\n",
      "| \u001b[0m 26      \u001b[0m | \u001b[0m 0.8386  \u001b[0m | \u001b[0m 0.8     \u001b[0m | \u001b[0m 0.2132  \u001b[0m | \u001b[0m 0.009061\u001b[0m | \u001b[0m 70.3    \u001b[0m | \u001b[0m 13.69   \u001b[0m | \u001b[0m 38.94   \u001b[0m | \u001b[0m 6.287   \u001b[0m | \u001b[0m 0.5196  \u001b[0m | \u001b[0m 0.1065  \u001b[0m |\n"
     ]
    },
    {
     "data": {
      "application/vnd.jupyter.widget-view+json": {
       "model_id": "fad245446267449d853fdbc6c37603c1",
       "version_major": 2,
       "version_minor": 0
      },
      "text/plain": [
       "HBox(children=(IntProgress(value=1, bar_style='info', max=1), HTML(value='')))"
      ]
     },
     "metadata": {},
     "output_type": "display_data"
    },
    {
     "name": "stdout",
     "output_type": "stream",
     "text": [
      "Training until validation scores don't improve for 100 rounds.\n",
      "Did not meet early stopping. Best iteration is:\n",
      "[98]\ttraining's auc: 0.8836\tvalid_1's auc: 0.849689\n",
      "Training until validation scores don't improve for 100 rounds.\n",
      "Did not meet early stopping. Best iteration is:\n",
      "[98]\ttraining's auc: 0.884684\tvalid_1's auc: 0.849871\n",
      "Training until validation scores don't improve for 100 rounds.\n",
      "Did not meet early stopping. Best iteration is:\n",
      "[98]\ttraining's auc: 0.884636\tvalid_1's auc: 0.849704\n",
      "\n",
      "Fold: 0 \t Score: 0.8482005160883177\n",
      "Fold: 1 \t Score: 0.8492977828124217\n",
      "Fold: 2 \t Score: 0.8483372716267997\n",
      "Score: 0.8546310788545584\n",
      "| \u001b[0m 27      \u001b[0m | \u001b[0m 0.8546  \u001b[0m | \u001b[0m 0.8     \u001b[0m | \u001b[0m 0.07683 \u001b[0m | \u001b[0m 0.002046\u001b[0m | \u001b[0m 188.9   \u001b[0m | \u001b[0m 5.0     \u001b[0m | \u001b[0m 25.93   \u001b[0m | \u001b[0m 6.093   \u001b[0m | \u001b[0m 0.6619  \u001b[0m | \u001b[0m 0.1439  \u001b[0m |\n"
     ]
    },
    {
     "data": {
      "application/vnd.jupyter.widget-view+json": {
       "model_id": "8f027e7cfc74441f91dd828ec4272e46",
       "version_major": 2,
       "version_minor": 0
      },
      "text/plain": [
       "HBox(children=(IntProgress(value=1, bar_style='info', max=1), HTML(value='')))"
      ]
     },
     "metadata": {},
     "output_type": "display_data"
    },
    {
     "name": "stdout",
     "output_type": "stream",
     "text": [
      "Training until validation scores don't improve for 100 rounds.\n",
      "Did not meet early stopping. Best iteration is:\n",
      "[100]\ttraining's auc: 0.909881\tvalid_1's auc: 0.851392\n",
      "Training until validation scores don't improve for 100 rounds.\n",
      "Did not meet early stopping. Best iteration is:\n",
      "[100]\ttraining's auc: 0.912702\tvalid_1's auc: 0.853729\n",
      "Training until validation scores don't improve for 100 rounds.\n",
      "Did not meet early stopping. Best iteration is:\n",
      "[100]\ttraining's auc: 0.910828\tvalid_1's auc: 0.855954\n",
      "\n",
      "Fold: 0 \t Score: 0.8521514499469256\n",
      "Fold: 1 \t Score: 0.8550566417496616\n",
      "Fold: 2 \t Score: 0.8534180906760874\n",
      "Score: 0.8620098138074975\n",
      "| \u001b[95m 28      \u001b[0m | \u001b[95m 0.862   \u001b[0m | \u001b[95m 0.8     \u001b[0m | \u001b[95m 0.03958 \u001b[0m | \u001b[95m 0.007665\u001b[0m | \u001b[95m 98.92   \u001b[0m | \u001b[95m 14.91   \u001b[0m | \u001b[95m 37.89   \u001b[0m | \u001b[95m 6.376   \u001b[0m | \u001b[95m 0.6718  \u001b[0m | \u001b[95m 0.07763 \u001b[0m |\n"
     ]
    },
    {
     "data": {
      "application/vnd.jupyter.widget-view+json": {
       "model_id": "0f1047d6b83c4577a07ecc3c867edb67",
       "version_major": 2,
       "version_minor": 0
      },
      "text/plain": [
       "HBox(children=(IntProgress(value=1, bar_style='info', max=1), HTML(value='')))"
      ]
     },
     "metadata": {},
     "output_type": "display_data"
    },
    {
     "name": "stdout",
     "output_type": "stream",
     "text": [
      "Training until validation scores don't improve for 100 rounds.\n",
      "Did not meet early stopping. Best iteration is:\n",
      "[100]\ttraining's auc: 0.879594\tvalid_1's auc: 0.840075\n",
      "Training until validation scores don't improve for 100 rounds.\n",
      "Did not meet early stopping. Best iteration is:\n",
      "[100]\ttraining's auc: 0.882364\tvalid_1's auc: 0.840709\n",
      "Training until validation scores don't improve for 100 rounds.\n",
      "Did not meet early stopping. Best iteration is:\n",
      "[100]\ttraining's auc: 0.880778\tvalid_1's auc: 0.840065\n",
      "\n",
      "Fold: 0 \t Score: 0.8392103486660498\n",
      "Fold: 1 \t Score: 0.84327215675796\n",
      "Fold: 2 \t Score: 0.8404846375350403\n",
      "Score: 0.8468754027807862\n",
      "| \u001b[0m 29      \u001b[0m | \u001b[0m 0.8469  \u001b[0m | \u001b[0m 0.8     \u001b[0m | \u001b[0m 0.1604  \u001b[0m | \u001b[0m 0.001925\u001b[0m | \u001b[0m 199.4   \u001b[0m | \u001b[0m 14.9    \u001b[0m | \u001b[0m 39.65   \u001b[0m | \u001b[0m 6.114   \u001b[0m | \u001b[0m 0.6128  \u001b[0m | \u001b[0m 0.9108  \u001b[0m |\n"
     ]
    },
    {
     "data": {
      "application/vnd.jupyter.widget-view+json": {
       "model_id": "f1db81583cad40fbb6fcf1f55c259eb1",
       "version_major": 2,
       "version_minor": 0
      },
      "text/plain": [
       "HBox(children=(IntProgress(value=1, bar_style='info', max=1), HTML(value='')))"
      ]
     },
     "metadata": {},
     "output_type": "display_data"
    },
    {
     "name": "stdout",
     "output_type": "stream",
     "text": [
      "Training until validation scores don't improve for 100 rounds.\n",
      "Did not meet early stopping. Best iteration is:\n",
      "[98]\ttraining's auc: 0.879372\tvalid_1's auc: 0.841874\n",
      "Training until validation scores don't improve for 100 rounds.\n",
      "Did not meet early stopping. Best iteration is:\n",
      "[100]\ttraining's auc: 0.880893\tvalid_1's auc: 0.841469\n",
      "Training until validation scores don't improve for 100 rounds.\n",
      "Did not meet early stopping. Best iteration is:\n",
      "[100]\ttraining's auc: 0.880082\tvalid_1's auc: 0.842285\n",
      "\n",
      "Fold: 0 \t Score: 0.8417849096844084\n",
      "Fold: 1 \t Score: 0.844693663820718\n",
      "Fold: 2 \t Score: 0.8429627300163609\n",
      "Score: 0.8489550441729024\n",
      "| \u001b[0m 30      \u001b[0m | \u001b[0m 0.849   \u001b[0m | \u001b[0m 0.8     \u001b[0m | \u001b[0m 0.1608  \u001b[0m | \u001b[0m 0.008573\u001b[0m | \u001b[0m 149.1   \u001b[0m | \u001b[0m 5.788   \u001b[0m | \u001b[0m 33.93   \u001b[0m | \u001b[0m 6.039   \u001b[0m | \u001b[0m 0.8799  \u001b[0m | \u001b[0m 0.8948  \u001b[0m |\n"
     ]
    },
    {
     "data": {
      "application/vnd.jupyter.widget-view+json": {
       "model_id": "54823a3efee44d80b25e108c1938b760",
       "version_major": 2,
       "version_minor": 0
      },
      "text/plain": [
       "HBox(children=(IntProgress(value=1, bar_style='info', max=1), HTML(value='')))"
      ]
     },
     "metadata": {},
     "output_type": "display_data"
    },
    {
     "name": "stdout",
     "output_type": "stream",
     "text": [
      "Training until validation scores don't improve for 100 rounds.\n",
      "Did not meet early stopping. Best iteration is:\n",
      "[100]\ttraining's auc: 0.874002\tvalid_1's auc: 0.845148\n",
      "Training until validation scores don't improve for 100 rounds.\n",
      "Did not meet early stopping. Best iteration is:\n",
      "[100]\ttraining's auc: 0.875531\tvalid_1's auc: 0.845908\n",
      "Training until validation scores don't improve for 100 rounds.\n",
      "Did not meet early stopping. Best iteration is:\n",
      "[100]\ttraining's auc: 0.873142\tvalid_1's auc: 0.844577\n",
      "\n",
      "Fold: 0 \t Score: 0.8442080239374675\n",
      "Fold: 1 \t Score: 0.847331904950876\n",
      "Fold: 2 \t Score: 0.8434215436242656\n",
      "Score: 0.8508606139025193\n",
      "| \u001b[0m 31      \u001b[0m | \u001b[0m 0.8509  \u001b[0m | \u001b[0m 0.8     \u001b[0m | \u001b[0m 0.1081  \u001b[0m | \u001b[0m 0.004235\u001b[0m | \u001b[0m 76.26   \u001b[0m | \u001b[0m 14.08   \u001b[0m | \u001b[0m 23.25   \u001b[0m | \u001b[0m 6.096   \u001b[0m | \u001b[0m 0.8059  \u001b[0m | \u001b[0m 0.9912  \u001b[0m |\n"
     ]
    },
    {
     "data": {
      "application/vnd.jupyter.widget-view+json": {
       "model_id": "88409ba816d3437b95932176ac773097",
       "version_major": 2,
       "version_minor": 0
      },
      "text/plain": [
       "HBox(children=(IntProgress(value=1, bar_style='info', max=1), HTML(value='')))"
      ]
     },
     "metadata": {},
     "output_type": "display_data"
    },
    {
     "name": "stdout",
     "output_type": "stream",
     "text": [
      "Training until validation scores don't improve for 100 rounds.\n",
      "Did not meet early stopping. Best iteration is:\n",
      "[98]\ttraining's auc: 0.795703\tvalid_1's auc: 0.787219\n",
      "Training until validation scores don't improve for 100 rounds.\n",
      "Did not meet early stopping. Best iteration is:\n",
      "[97]\ttraining's auc: 0.79657\tvalid_1's auc: 0.784644\n",
      "Training until validation scores don't improve for 100 rounds.\n",
      "Did not meet early stopping. Best iteration is:\n",
      "[96]\ttraining's auc: 0.796028\tvalid_1's auc: 0.782744\n",
      "\n",
      "Fold: 0 \t Score: 0.786032067623751\n",
      "Fold: 1 \t Score: 0.7884902545464775\n",
      "Fold: 2 \t Score: 0.7862113740130662\n",
      "Score: 0.7933833542526387\n",
      "| \u001b[0m 32      \u001b[0m | \u001b[0m 0.7934  \u001b[0m | \u001b[0m 0.8     \u001b[0m | \u001b[0m 0.1285  \u001b[0m | \u001b[0m 0.005385\u001b[0m | \u001b[0m 174.7   \u001b[0m | \u001b[0m 5.168   \u001b[0m | \u001b[0m 5.048   \u001b[0m | \u001b[0m 6.381   \u001b[0m | \u001b[0m 0.4469  \u001b[0m | \u001b[0m 0.09482 \u001b[0m |\n"
     ]
    },
    {
     "data": {
      "application/vnd.jupyter.widget-view+json": {
       "model_id": "8c4a093737e14587b414402d85964cc0",
       "version_major": 2,
       "version_minor": 0
      },
      "text/plain": [
       "HBox(children=(IntProgress(value=1, bar_style='info', max=1), HTML(value='')))"
      ]
     },
     "metadata": {},
     "output_type": "display_data"
    },
    {
     "name": "stdout",
     "output_type": "stream",
     "text": [
      "Training until validation scores don't improve for 100 rounds.\n",
      "Did not meet early stopping. Best iteration is:\n",
      "[98]\ttraining's auc: 0.872637\tvalid_1's auc: 0.845526\n",
      "Training until validation scores don't improve for 100 rounds.\n",
      "Did not meet early stopping. Best iteration is:\n",
      "[98]\ttraining's auc: 0.873368\tvalid_1's auc: 0.845794\n",
      "Training until validation scores don't improve for 100 rounds.\n",
      "Did not meet early stopping. Best iteration is:\n",
      "[99]\ttraining's auc: 0.873087\tvalid_1's auc: 0.845054\n",
      "\n",
      "Fold: 0 \t Score: 0.8442358155780182\n",
      "Fold: 1 \t Score: 0.8459347087752533\n",
      "Fold: 2 \t Score: 0.8437040557120148\n",
      "Score: 0.8502226842590017\n",
      "| \u001b[0m 33      \u001b[0m | \u001b[0m 0.8502  \u001b[0m | \u001b[0m 0.8     \u001b[0m | \u001b[0m 0.07611 \u001b[0m | \u001b[0m 0.002582\u001b[0m | \u001b[0m 200.0   \u001b[0m | \u001b[0m 13.91   \u001b[0m | \u001b[0m 19.11   \u001b[0m | \u001b[0m 6.449   \u001b[0m | \u001b[0m 0.07819 \u001b[0m | \u001b[0m 0.9942  \u001b[0m |\n"
     ]
    },
    {
     "data": {
      "application/vnd.jupyter.widget-view+json": {
       "model_id": "81844bc1bdc24f16a211c9663ce5f072",
       "version_major": 2,
       "version_minor": 0
      },
      "text/plain": [
       "HBox(children=(IntProgress(value=1, bar_style='info', max=1), HTML(value='')))"
      ]
     },
     "metadata": {},
     "output_type": "display_data"
    },
    {
     "name": "stdout",
     "output_type": "stream",
     "text": [
      "Training until validation scores don't improve for 100 rounds.\n",
      "Did not meet early stopping. Best iteration is:\n",
      "[100]\ttraining's auc: 0.862336\tvalid_1's auc: 0.83573\n",
      "Training until validation scores don't improve for 100 rounds.\n",
      "Did not meet early stopping. Best iteration is:\n",
      "[100]\ttraining's auc: 0.863252\tvalid_1's auc: 0.833124\n",
      "Training until validation scores don't improve for 100 rounds.\n",
      "Did not meet early stopping. Best iteration is:\n",
      "[100]\ttraining's auc: 0.861917\tvalid_1's auc: 0.832039\n",
      "\n",
      "Fold: 0 \t Score: 0.834645381351922\n",
      "Fold: 1 \t Score: 0.8366576443317348\n",
      "Fold: 2 \t Score: 0.8331192545346553\n",
      "Score: 0.840282447911358\n",
      "| \u001b[0m 34      \u001b[0m | \u001b[0m 0.8403  \u001b[0m | \u001b[0m 0.8     \u001b[0m | \u001b[0m 0.1504  \u001b[0m | \u001b[0m 0.004494\u001b[0m | \u001b[0m 193.1   \u001b[0m | \u001b[0m 11.59   \u001b[0m | \u001b[0m 23.5    \u001b[0m | \u001b[0m 9.995   \u001b[0m | \u001b[0m 0.8876  \u001b[0m | \u001b[0m 0.9995  \u001b[0m |\n"
     ]
    },
    {
     "data": {
      "application/vnd.jupyter.widget-view+json": {
       "model_id": "58fb1fa771754e1a92048eb830a9c624",
       "version_major": 2,
       "version_minor": 0
      },
      "text/plain": [
       "HBox(children=(IntProgress(value=1, bar_style='info', max=1), HTML(value='')))"
      ]
     },
     "metadata": {},
     "output_type": "display_data"
    },
    {
     "name": "stdout",
     "output_type": "stream",
     "text": [
      "Training until validation scores don't improve for 100 rounds.\n",
      "Did not meet early stopping. Best iteration is:\n",
      "[100]\ttraining's auc: 0.88315\tvalid_1's auc: 0.846003\n",
      "Training until validation scores don't improve for 100 rounds.\n",
      "Did not meet early stopping. Best iteration is:\n",
      "[100]\ttraining's auc: 0.884582\tvalid_1's auc: 0.847517\n",
      "Training until validation scores don't improve for 100 rounds.\n",
      "Did not meet early stopping. Best iteration is:\n",
      "[100]\ttraining's auc: 0.88292\tvalid_1's auc: 0.847766\n",
      "\n",
      "Fold: 0 \t Score: 0.846391115768492\n",
      "Fold: 1 \t Score: 0.8491958416064396\n",
      "Fold: 2 \t Score: 0.8474076453293922\n",
      "Score: 0.8551640352295483\n",
      "| \u001b[0m 35      \u001b[0m | \u001b[0m 0.8552  \u001b[0m | \u001b[0m 0.8     \u001b[0m | \u001b[0m 0.03256 \u001b[0m | \u001b[0m 0.003214\u001b[0m | \u001b[0m 60.33   \u001b[0m | \u001b[0m 5.408   \u001b[0m | \u001b[0m 18.82   \u001b[0m | \u001b[0m 9.501   \u001b[0m | \u001b[0m 0.8828  \u001b[0m | \u001b[0m 0.9641  \u001b[0m |\n"
     ]
    },
    {
     "data": {
      "application/vnd.jupyter.widget-view+json": {
       "model_id": "99281b8546304a03b67c68dfe07fd088",
       "version_major": 2,
       "version_minor": 0
      },
      "text/plain": [
       "HBox(children=(IntProgress(value=1, bar_style='info', max=1), HTML(value='')))"
      ]
     },
     "metadata": {},
     "output_type": "display_data"
    },
    {
     "name": "stdout",
     "output_type": "stream",
     "text": [
      "Training until validation scores don't improve for 100 rounds.\n",
      "Did not meet early stopping. Best iteration is:\n",
      "[90]\ttraining's auc: 0.857083\tvalid_1's auc: 0.829144\n",
      "Training until validation scores don't improve for 100 rounds.\n",
      "Did not meet early stopping. Best iteration is:\n",
      "[95]\ttraining's auc: 0.857218\tvalid_1's auc: 0.825828\n",
      "Training until validation scores don't improve for 100 rounds.\n",
      "Did not meet early stopping. Best iteration is:\n",
      "[95]\ttraining's auc: 0.854504\tvalid_1's auc: 0.822396\n",
      "\n",
      "Fold: 0 \t Score: 0.8287660013276762\n",
      "Fold: 1 \t Score: 0.8295088702479889\n",
      "Fold: 2 \t Score: 0.8252034230136988\n",
      "Score: 0.8341483746332997\n",
      "| \u001b[0m 36      \u001b[0m | \u001b[0m 0.8341  \u001b[0m | \u001b[0m 0.8     \u001b[0m | \u001b[0m 0.1791  \u001b[0m | \u001b[0m 0.003127\u001b[0m | \u001b[0m 133.2   \u001b[0m | \u001b[0m 5.559   \u001b[0m | \u001b[0m 27.74   \u001b[0m | \u001b[0m 6.286   \u001b[0m | \u001b[0m 0.5271  \u001b[0m | \u001b[0m 0.9724  \u001b[0m |\n"
     ]
    },
    {
     "data": {
      "application/vnd.jupyter.widget-view+json": {
       "model_id": "2a55113550464453a77d8e7795ab6a2a",
       "version_major": 2,
       "version_minor": 0
      },
      "text/plain": [
       "HBox(children=(IntProgress(value=1, bar_style='info', max=1), HTML(value='')))"
      ]
     },
     "metadata": {},
     "output_type": "display_data"
    },
    {
     "name": "stdout",
     "output_type": "stream",
     "text": [
      "Training until validation scores don't improve for 100 rounds.\n",
      "Did not meet early stopping. Best iteration is:\n",
      "[100]\ttraining's auc: 0.90217\tvalid_1's auc: 0.854819\n",
      "Training until validation scores don't improve for 100 rounds.\n",
      "Did not meet early stopping. Best iteration is:\n",
      "[100]\ttraining's auc: 0.90463\tvalid_1's auc: 0.855848\n",
      "Training until validation scores don't improve for 100 rounds.\n",
      "Did not meet early stopping. Best iteration is:\n",
      "[100]\ttraining's auc: 0.903297\tvalid_1's auc: 0.857765\n",
      "\n",
      "Fold: 0 \t Score: 0.8540125856837252\n",
      "Fold: 1 \t Score: 0.857291190265453\n",
      "Fold: 2 \t Score: 0.8538080098404162\n",
      "Score: 0.8615894040590519\n",
      "| \u001b[0m 37      \u001b[0m | \u001b[0m 0.8616  \u001b[0m | \u001b[0m 0.8     \u001b[0m | \u001b[0m 0.08078 \u001b[0m | \u001b[0m 0.008005\u001b[0m | \u001b[0m 158.1   \u001b[0m | \u001b[0m 13.86   \u001b[0m | \u001b[0m 39.8    \u001b[0m | \u001b[0m 6.114   \u001b[0m | \u001b[0m 0.1391  \u001b[0m | \u001b[0m 0.6918  \u001b[0m |\n"
     ]
    },
    {
     "data": {
      "application/vnd.jupyter.widget-view+json": {
       "model_id": "ef4193d201b34cff805e2e72cd38f156",
       "version_major": 2,
       "version_minor": 0
      },
      "text/plain": [
       "HBox(children=(IntProgress(value=1, bar_style='info', max=1), HTML(value='')))"
      ]
     },
     "metadata": {},
     "output_type": "display_data"
    },
    {
     "name": "stdout",
     "output_type": "stream",
     "text": [
      "Training until validation scores don't improve for 100 rounds.\n",
      "Did not meet early stopping. Best iteration is:\n",
      "[99]\ttraining's auc: 0.885152\tvalid_1's auc: 0.845273\n",
      "Training until validation scores don't improve for 100 rounds.\n",
      "Did not meet early stopping. Best iteration is:\n",
      "[100]\ttraining's auc: 0.887682\tvalid_1's auc: 0.845392\n",
      "Training until validation scores don't improve for 100 rounds.\n",
      "Did not meet early stopping. Best iteration is:\n",
      "[100]\ttraining's auc: 0.885929\tvalid_1's auc: 0.843644\n",
      "\n",
      "Fold: 0 \t Score: 0.8439208209906237\n",
      "Fold: 1 \t Score: 0.8479599158068293\n",
      "Fold: 2 \t Score: 0.8430022148129159\n",
      "Score: 0.8508589551059698\n",
      "| \u001b[0m 38      \u001b[0m | \u001b[0m 0.8509  \u001b[0m | \u001b[0m 0.8     \u001b[0m | \u001b[0m 0.1428  \u001b[0m | \u001b[0m 0.005284\u001b[0m | \u001b[0m 160.0   \u001b[0m | \u001b[0m 5.168   \u001b[0m | \u001b[0m 39.25   \u001b[0m | \u001b[0m 9.251   \u001b[0m | \u001b[0m 0.2923  \u001b[0m | \u001b[0m 0.7592  \u001b[0m |\n"
     ]
    },
    {
     "data": {
      "application/vnd.jupyter.widget-view+json": {
       "model_id": "ba901710b3394c4b92e7b2e4b947d348",
       "version_major": 2,
       "version_minor": 0
      },
      "text/plain": [
       "HBox(children=(IntProgress(value=1, bar_style='info', max=1), HTML(value='')))"
      ]
     },
     "metadata": {},
     "output_type": "display_data"
    },
    {
     "name": "stdout",
     "output_type": "stream",
     "text": [
      "Training until validation scores don't improve for 100 rounds.\n",
      "Did not meet early stopping. Best iteration is:\n",
      "[100]\ttraining's auc: 0.867894\tvalid_1's auc: 0.839998\n",
      "Training until validation scores don't improve for 100 rounds.\n",
      "Did not meet early stopping. Best iteration is:\n",
      "[100]\ttraining's auc: 0.870967\tvalid_1's auc: 0.842324\n",
      "Training until validation scores don't improve for 100 rounds.\n",
      "Did not meet early stopping. Best iteration is:\n",
      "[100]\ttraining's auc: 0.867595\tvalid_1's auc: 0.840109\n",
      "\n",
      "Fold: 0 \t Score: 0.8400209223192985\n",
      "Fold: 1 \t Score: 0.8433031844114512\n",
      "Fold: 2 \t Score: 0.8392386433842425\n",
      "Score: 0.8465645687814582\n",
      "| \u001b[0m 39      \u001b[0m | \u001b[0m 0.8466  \u001b[0m | \u001b[0m 0.8     \u001b[0m | \u001b[0m 0.09536 \u001b[0m | \u001b[0m 0.001585\u001b[0m | \u001b[0m 199.5   \u001b[0m | \u001b[0m 5.402   \u001b[0m | \u001b[0m 20.51   \u001b[0m | \u001b[0m 6.842   \u001b[0m | \u001b[0m 0.5052  \u001b[0m | \u001b[0m 0.3261  \u001b[0m |\n"
     ]
    },
    {
     "data": {
      "application/vnd.jupyter.widget-view+json": {
       "model_id": "b49e8265530e44d6977c12166ffc0fcf",
       "version_major": 2,
       "version_minor": 0
      },
      "text/plain": [
       "HBox(children=(IntProgress(value=1, bar_style='info', max=1), HTML(value='')))"
      ]
     },
     "metadata": {},
     "output_type": "display_data"
    },
    {
     "name": "stdout",
     "output_type": "stream",
     "text": [
      "Training until validation scores don't improve for 100 rounds.\n",
      "Did not meet early stopping. Best iteration is:\n",
      "[100]\ttraining's auc: 0.897639\tvalid_1's auc: 0.83985\n",
      "Training until validation scores don't improve for 100 rounds.\n",
      "Did not meet early stopping. Best iteration is:\n",
      "[100]\ttraining's auc: 0.899184\tvalid_1's auc: 0.845221\n",
      "Training until validation scores don't improve for 100 rounds.\n",
      "Did not meet early stopping. Best iteration is:\n",
      "[100]\ttraining's auc: 0.900126\tvalid_1's auc: 0.840007\n",
      "\n",
      "Fold: 0 \t Score: 0.8395472407275669\n",
      "Fold: 1 \t Score: 0.8431426754502482\n",
      "Fold: 2 \t Score: 0.8398102891492454\n",
      "Score: 0.8504788323589684\n",
      "| \u001b[0m 40      \u001b[0m | \u001b[0m 0.8505  \u001b[0m | \u001b[0m 0.8     \u001b[0m | \u001b[0m 0.02707 \u001b[0m | \u001b[0m 0.001732\u001b[0m | \u001b[0m 66.17   \u001b[0m | \u001b[0m 5.273   \u001b[0m | \u001b[0m 31.14   \u001b[0m | \u001b[0m 6.074   \u001b[0m | \u001b[0m 0.3935  \u001b[0m | \u001b[0m 0.01326 \u001b[0m |\n"
     ]
    },
    {
     "data": {
      "application/vnd.jupyter.widget-view+json": {
       "model_id": "9f4c3c52bbd848c288263714f089b4b1",
       "version_major": 2,
       "version_minor": 0
      },
      "text/plain": [
       "HBox(children=(IntProgress(value=1, bar_style='info', max=1), HTML(value='')))"
      ]
     },
     "metadata": {},
     "output_type": "display_data"
    },
    {
     "name": "stdout",
     "output_type": "stream",
     "text": [
      "Training until validation scores don't improve for 100 rounds.\n",
      "Did not meet early stopping. Best iteration is:\n",
      "[100]\ttraining's auc: 0.906579\tvalid_1's auc: 0.838978\n",
      "Training until validation scores don't improve for 100 rounds.\n",
      "Did not meet early stopping. Best iteration is:\n",
      "[100]\ttraining's auc: 0.907094\tvalid_1's auc: 0.846567\n",
      "Training until validation scores don't improve for 100 rounds.\n",
      "Did not meet early stopping. Best iteration is:\n",
      "[100]\ttraining's auc: 0.907644\tvalid_1's auc: 0.842569\n",
      "\n",
      "Fold: 0 \t Score: 0.8424106974810515\n",
      "Fold: 1 \t Score: 0.8456626185527107\n",
      "Fold: 2 \t Score: 0.8435697679733173\n",
      "Score: 0.8540392895888334\n",
      "| \u001b[0m 41      \u001b[0m | \u001b[0m 0.854   \u001b[0m | \u001b[0m 0.8     \u001b[0m | \u001b[0m 0.0276  \u001b[0m | \u001b[0m 0.001014\u001b[0m | \u001b[0m 140.9   \u001b[0m | \u001b[0m 14.97   \u001b[0m | \u001b[0m 38.79   \u001b[0m | \u001b[0m 6.036   \u001b[0m | \u001b[0m 0.06013 \u001b[0m | \u001b[0m 0.2837  \u001b[0m |\n"
     ]
    },
    {
     "data": {
      "application/vnd.jupyter.widget-view+json": {
       "model_id": "14daf3a8bb824c5b8f4cf3caf6903ff7",
       "version_major": 2,
       "version_minor": 0
      },
      "text/plain": [
       "HBox(children=(IntProgress(value=1, bar_style='info', max=1), HTML(value='')))"
      ]
     },
     "metadata": {},
     "output_type": "display_data"
    },
    {
     "name": "stdout",
     "output_type": "stream",
     "text": [
      "Training until validation scores don't improve for 100 rounds.\n",
      "Did not meet early stopping. Best iteration is:\n",
      "[100]\ttraining's auc: 0.912985\tvalid_1's auc: 0.848954\n",
      "Training until validation scores don't improve for 100 rounds.\n",
      "Did not meet early stopping. Best iteration is:\n",
      "[100]\ttraining's auc: 0.914573\tvalid_1's auc: 0.84948\n",
      "Training until validation scores don't improve for 100 rounds.\n",
      "Did not meet early stopping. Best iteration is:\n",
      "[100]\ttraining's auc: 0.913367\tvalid_1's auc: 0.849147\n",
      "\n",
      "Fold: 0 \t Score: 0.8488953274971205\n",
      "Fold: 1 \t Score: 0.8501552650566193\n",
      "Fold: 2 \t Score: 0.8473361335224081\n",
      "Score: 0.8590718267811764\n",
      "| \u001b[0m 42      \u001b[0m | \u001b[0m 0.8591  \u001b[0m | \u001b[0m 0.8     \u001b[0m | \u001b[0m 0.03358 \u001b[0m | \u001b[0m 0.008724\u001b[0m | \u001b[0m 92.98   \u001b[0m | \u001b[0m 6.174   \u001b[0m | \u001b[0m 39.53   \u001b[0m | \u001b[0m 6.154   \u001b[0m | \u001b[0m 0.6205  \u001b[0m | \u001b[0m 0.4519  \u001b[0m |\n"
     ]
    },
    {
     "data": {
      "application/vnd.jupyter.widget-view+json": {
       "model_id": "d4e814e371bb4bc6a7b6d8bab41b6e56",
       "version_major": 2,
       "version_minor": 0
      },
      "text/plain": [
       "HBox(children=(IntProgress(value=1, bar_style='info', max=1), HTML(value='')))"
      ]
     },
     "metadata": {},
     "output_type": "display_data"
    },
    {
     "name": "stdout",
     "output_type": "stream",
     "text": [
      "Training until validation scores don't improve for 100 rounds.\n",
      "Did not meet early stopping. Best iteration is:\n",
      "[99]\ttraining's auc: 0.872639\tvalid_1's auc: 0.844359\n",
      "Training until validation scores don't improve for 100 rounds.\n",
      "Did not meet early stopping. Best iteration is:\n",
      "[99]\ttraining's auc: 0.874867\tvalid_1's auc: 0.848127\n",
      "Training until validation scores don't improve for 100 rounds.\n",
      "Did not meet early stopping. Best iteration is:\n",
      "[99]\ttraining's auc: 0.872919\tvalid_1's auc: 0.847025\n",
      "\n",
      "Fold: 0 \t Score: 0.8445536518742555\n",
      "Fold: 1 \t Score: 0.8477309542945736\n",
      "Fold: 2 \t Score: 0.846467434006462\n",
      "Score: 0.8519582613340282\n",
      "| \u001b[0m 43      \u001b[0m | \u001b[0m 0.852   \u001b[0m | \u001b[0m 0.8     \u001b[0m | \u001b[0m 0.06408 \u001b[0m | \u001b[0m 0.003574\u001b[0m | \u001b[0m 186.7   \u001b[0m | \u001b[0m 5.475   \u001b[0m | \u001b[0m 17.24   \u001b[0m | \u001b[0m 6.375   \u001b[0m | \u001b[0m 0.1591  \u001b[0m | \u001b[0m 0.7789  \u001b[0m |\n"
     ]
    },
    {
     "data": {
      "application/vnd.jupyter.widget-view+json": {
       "model_id": "31ff267b70a14987b27973158820a34e",
       "version_major": 2,
       "version_minor": 0
      },
      "text/plain": [
       "HBox(children=(IntProgress(value=1, bar_style='info', max=1), HTML(value='')))"
      ]
     },
     "metadata": {},
     "output_type": "display_data"
    },
    {
     "name": "stdout",
     "output_type": "stream",
     "text": [
      "Training until validation scores don't improve for 100 rounds.\n",
      "Did not meet early stopping. Best iteration is:\n",
      "[100]\ttraining's auc: 0.883623\tvalid_1's auc: 0.847497\n",
      "Training until validation scores don't improve for 100 rounds.\n",
      "Did not meet early stopping. Best iteration is:\n",
      "[100]\ttraining's auc: 0.885559\tvalid_1's auc: 0.848686\n",
      "Training until validation scores don't improve for 100 rounds.\n",
      "Did not meet early stopping. Best iteration is:\n",
      "[100]\ttraining's auc: 0.884389\tvalid_1's auc: 0.849432\n",
      "\n",
      "Fold: 0 \t Score: 0.847435348591438\n",
      "Fold: 1 \t Score: 0.8499192128689491\n",
      "Fold: 2 \t Score: 0.8481593249067875\n",
      "Score: 0.8543727620820537\n",
      "| \u001b[0m 44      \u001b[0m | \u001b[0m 0.8544  \u001b[0m | \u001b[0m 0.8     \u001b[0m | \u001b[0m 0.1093  \u001b[0m | \u001b[0m 0.002221\u001b[0m | \u001b[0m 199.9   \u001b[0m | \u001b[0m 13.74   \u001b[0m | \u001b[0m 30.88   \u001b[0m | \u001b[0m 8.827   \u001b[0m | \u001b[0m 0.7277  \u001b[0m | \u001b[0m 0.007392\u001b[0m |\n"
     ]
    },
    {
     "data": {
      "application/vnd.jupyter.widget-view+json": {
       "model_id": "38df87467a0f48c89eedcb181097dd98",
       "version_major": 2,
       "version_minor": 0
      },
      "text/plain": [
       "HBox(children=(IntProgress(value=1, bar_style='info', max=1), HTML(value='')))"
      ]
     },
     "metadata": {},
     "output_type": "display_data"
    },
    {
     "name": "stdout",
     "output_type": "stream",
     "text": [
      "Training until validation scores don't improve for 100 rounds.\n",
      "Did not meet early stopping. Best iteration is:\n",
      "[100]\ttraining's auc: 0.88064\tvalid_1's auc: 0.841398\n",
      "Training until validation scores don't improve for 100 rounds.\n",
      "Did not meet early stopping. Best iteration is:\n",
      "[95]\ttraining's auc: 0.881808\tvalid_1's auc: 0.838889\n",
      "Training until validation scores don't improve for 100 rounds.\n",
      "Did not meet early stopping. Best iteration is:\n",
      "[100]\ttraining's auc: 0.878746\tvalid_1's auc: 0.837511\n",
      "\n",
      "Fold: 0 \t Score: 0.8405211990425944\n",
      "Fold: 1 \t Score: 0.842845383757177\n",
      "Fold: 2 \t Score: 0.8395635567592012\n",
      "Score: 0.8469181235902821\n",
      "| \u001b[0m 45      \u001b[0m | \u001b[0m 0.8469  \u001b[0m | \u001b[0m 0.8     \u001b[0m | \u001b[0m 0.1765  \u001b[0m | \u001b[0m 0.009601\u001b[0m | \u001b[0m 149.1   \u001b[0m | \u001b[0m 6.918   \u001b[0m | \u001b[0m 39.69   \u001b[0m | \u001b[0m 6.297   \u001b[0m | \u001b[0m 0.5643  \u001b[0m | \u001b[0m 0.1238  \u001b[0m |\n"
     ]
    },
    {
     "data": {
      "application/vnd.jupyter.widget-view+json": {
       "model_id": "ddefe710d6634979b8cb61f1d118a907",
       "version_major": 2,
       "version_minor": 0
      },
      "text/plain": [
       "HBox(children=(IntProgress(value=1, bar_style='info', max=1), HTML(value='')))"
      ]
     },
     "metadata": {},
     "output_type": "display_data"
    },
    {
     "name": "stdout",
     "output_type": "stream",
     "text": [
      "Training until validation scores don't improve for 100 rounds.\n",
      "Did not meet early stopping. Best iteration is:\n",
      "[100]\ttraining's auc: 0.89599\tvalid_1's auc: 0.835803\n",
      "Training until validation scores don't improve for 100 rounds.\n",
      "Did not meet early stopping. Best iteration is:\n",
      "[100]\ttraining's auc: 0.897563\tvalid_1's auc: 0.840315\n",
      "Training until validation scores don't improve for 100 rounds.\n",
      "Did not meet early stopping. Best iteration is:\n",
      "[100]\ttraining's auc: 0.898963\tvalid_1's auc: 0.838666\n",
      "\n",
      "Fold: 0 \t Score: 0.8375142903793111\n",
      "Fold: 1 \t Score: 0.8405598340458352\n",
      "Fold: 2 \t Score: 0.8396732276851702\n",
      "Score: 0.8490578759622779\n",
      "| \u001b[0m 46      \u001b[0m | \u001b[0m 0.8491  \u001b[0m | \u001b[0m 0.8     \u001b[0m | \u001b[0m 0.02127 \u001b[0m | \u001b[0m 0.001504\u001b[0m | \u001b[0m 199.0   \u001b[0m | \u001b[0m 11.99   \u001b[0m | \u001b[0m 30.26   \u001b[0m | \u001b[0m 6.159   \u001b[0m | \u001b[0m 0.9291  \u001b[0m | \u001b[0m 0.5209  \u001b[0m |\n"
     ]
    },
    {
     "data": {
      "application/vnd.jupyter.widget-view+json": {
       "model_id": "e47535e607234978ac5f19ff212b3d60",
       "version_major": 2,
       "version_minor": 0
      },
      "text/plain": [
       "HBox(children=(IntProgress(value=1, bar_style='info', max=1), HTML(value='')))"
      ]
     },
     "metadata": {},
     "output_type": "display_data"
    },
    {
     "name": "stdout",
     "output_type": "stream",
     "text": [
      "Training until validation scores don't improve for 100 rounds.\n",
      "Did not meet early stopping. Best iteration is:\n",
      "[100]\ttraining's auc: 0.886067\tvalid_1's auc: 0.84544\n",
      "Training until validation scores don't improve for 100 rounds.\n",
      "Did not meet early stopping. Best iteration is:\n",
      "[100]\ttraining's auc: 0.885932\tvalid_1's auc: 0.844316\n",
      "Training until validation scores don't improve for 100 rounds.\n",
      "Did not meet early stopping. Best iteration is:\n",
      "[100]\ttraining's auc: 0.886284\tvalid_1's auc: 0.845266\n",
      "\n",
      "Fold: 0 \t Score: 0.8455721325606053\n",
      "Fold: 1 \t Score: 0.8470361632808102\n",
      "Fold: 2 \t Score: 0.8447264726409961\n",
      "Score: 0.851411014834665\n",
      "| \u001b[0m 47      \u001b[0m | \u001b[0m 0.8514  \u001b[0m | \u001b[0m 0.8     \u001b[0m | \u001b[0m 0.1488  \u001b[0m | \u001b[0m 0.005461\u001b[0m | \u001b[0m 187.8   \u001b[0m | \u001b[0m 14.95   \u001b[0m | \u001b[0m 39.67   \u001b[0m | \u001b[0m 9.819   \u001b[0m | \u001b[0m 0.7908  \u001b[0m | \u001b[0m 0.9187  \u001b[0m |\n"
     ]
    },
    {
     "data": {
      "application/vnd.jupyter.widget-view+json": {
       "model_id": "2d01fe81f1484508ad08dcdc59ec7c07",
       "version_major": 2,
       "version_minor": 0
      },
      "text/plain": [
       "HBox(children=(IntProgress(value=1, bar_style='info', max=1), HTML(value='')))"
      ]
     },
     "metadata": {},
     "output_type": "display_data"
    },
    {
     "name": "stdout",
     "output_type": "stream",
     "text": [
      "Training until validation scores don't improve for 100 rounds.\n",
      "Did not meet early stopping. Best iteration is:\n",
      "[100]\ttraining's auc: 0.902696\tvalid_1's auc: 0.818238\n",
      "Training until validation scores don't improve for 100 rounds.\n",
      "Did not meet early stopping. Best iteration is:\n",
      "[100]\ttraining's auc: 0.90374\tvalid_1's auc: 0.816101\n",
      "Training until validation scores don't improve for 100 rounds.\n",
      "Did not meet early stopping. Best iteration is:\n",
      "[100]\ttraining's auc: 0.905997\tvalid_1's auc: 0.812185\n",
      "\n",
      "Fold: 0 \t Score: 0.8114718847819495\n",
      "Fold: 1 \t Score: 0.8108694425072367\n",
      "Fold: 2 \t Score: 0.8114898460134405\n",
      "Score: 0.8268492143263106\n",
      "| \u001b[0m 48      \u001b[0m | \u001b[0m 0.8268  \u001b[0m | \u001b[0m 0.8     \u001b[0m | \u001b[0m 0.01368 \u001b[0m | \u001b[0m 0.003141\u001b[0m | \u001b[0m 153.0   \u001b[0m | \u001b[0m 14.84   \u001b[0m | \u001b[0m 39.95   \u001b[0m | \u001b[0m 9.127   \u001b[0m | \u001b[0m 0.3599  \u001b[0m | \u001b[0m 0.2544  \u001b[0m |\n"
     ]
    },
    {
     "data": {
      "application/vnd.jupyter.widget-view+json": {
       "model_id": "714b161843264334a47f3ef1712f978a",
       "version_major": 2,
       "version_minor": 0
      },
      "text/plain": [
       "HBox(children=(IntProgress(value=1, bar_style='info', max=1), HTML(value='')))"
      ]
     },
     "metadata": {},
     "output_type": "display_data"
    },
    {
     "name": "stdout",
     "output_type": "stream",
     "text": [
      "Training until validation scores don't improve for 100 rounds.\n",
      "Did not meet early stopping. Best iteration is:\n",
      "[100]\ttraining's auc: 0.878615\tvalid_1's auc: 0.804837\n",
      "Training until validation scores don't improve for 100 rounds.\n",
      "Did not meet early stopping. Best iteration is:\n",
      "[100]\ttraining's auc: 0.880074\tvalid_1's auc: 0.802163\n",
      "Training until validation scores don't improve for 100 rounds.\n",
      "Did not meet early stopping. Best iteration is:\n",
      "[100]\ttraining's auc: 0.880506\tvalid_1's auc: 0.800533\n",
      "\n",
      "Fold: 0 \t Score: 0.7988859359213284\n",
      "Fold: 1 \t Score: 0.7970483496568546\n",
      "Fold: 2 \t Score: 0.7977825098952822\n",
      "Score: 0.8129069137559245\n",
      "| \u001b[0m 49      \u001b[0m | \u001b[0m 0.8129  \u001b[0m | \u001b[0m 0.8     \u001b[0m | \u001b[0m 0.01086 \u001b[0m | \u001b[0m 0.003537\u001b[0m | \u001b[0m 119.2   \u001b[0m | \u001b[0m 14.59   \u001b[0m | \u001b[0m 28.09   \u001b[0m | \u001b[0m 6.253   \u001b[0m | \u001b[0m 0.6914  \u001b[0m | \u001b[0m 0.2054  \u001b[0m |\n"
     ]
    },
    {
     "data": {
      "application/vnd.jupyter.widget-view+json": {
       "model_id": "0501f47b045f4ecc9062a148d96e9750",
       "version_major": 2,
       "version_minor": 0
      },
      "text/plain": [
       "HBox(children=(IntProgress(value=1, bar_style='info', max=1), HTML(value='')))"
      ]
     },
     "metadata": {},
     "output_type": "display_data"
    },
    {
     "name": "stdout",
     "output_type": "stream",
     "text": [
      "Training until validation scores don't improve for 100 rounds.\n",
      "Did not meet early stopping. Best iteration is:\n",
      "[95]\ttraining's auc: 0.88168\tvalid_1's auc: 0.842851\n",
      "Training until validation scores don't improve for 100 rounds.\n",
      "Did not meet early stopping. Best iteration is:\n",
      "[95]\ttraining's auc: 0.882175\tvalid_1's auc: 0.840508\n",
      "Training until validation scores don't improve for 100 rounds.\n",
      "Did not meet early stopping. Best iteration is:\n",
      "[95]\ttraining's auc: 0.879384\tvalid_1's auc: 0.838719\n",
      "\n",
      "Fold: 0 \t Score: 0.8427068878419873\n",
      "Fold: 1 \t Score: 0.8444314787890467\n",
      "Fold: 2 \t Score: 0.8402730797898614\n",
      "Score: 0.8485136411304207\n",
      "| \u001b[0m 50      \u001b[0m | \u001b[0m 0.8485  \u001b[0m | \u001b[0m 0.8     \u001b[0m | \u001b[0m 0.174   \u001b[0m | \u001b[0m 0.009252\u001b[0m | \u001b[0m 84.77   \u001b[0m | \u001b[0m 14.83   \u001b[0m | \u001b[0m 39.44   \u001b[0m | \u001b[0m 6.128   \u001b[0m | \u001b[0m 0.7806  \u001b[0m | \u001b[0m 0.9664  \u001b[0m |\n",
      "=====================================================================================================================================\n"
     ]
    }
   ],
   "source": [
    "def bayes_parameter_opt_lgb(X, y, init_round=15, opt_round=25, n_folds=5, random_seed=6, n_estimators=10000, output_process=False):\n",
    "    # prepare data\n",
    "    Xtr, Xval, ytr, yval  = train_test_split(X, y, test_size = 0.2, random_state=42)\n",
    "\n",
    "    # parameters\n",
    "    def lgb_eval(num_leaves, feature_fraction, bagging_fraction, learning_rate, num_threads, min_data_in_leaf, min_sum_hessian_in_leaf, reg_alpha, reg_lambda):\n",
    "        # fixed parameters\n",
    "        params = {'application':'binary',\n",
    "                  'num_iterations': n_estimators,\n",
    "                  'learning_rate':learning_rate,\n",
    "                  'early_stopping_round':100,\n",
    "                  'metric':'auc',\n",
    "                  'max_depth':-1,\n",
    "                  'bagging_freq':7,\n",
    "                  'verbosity':-1}\n",
    "        # variables\n",
    "        params[\"num_leaves\"] = int(round(num_leaves))\n",
    "        params['feature_fraction'] = max(min(feature_fraction, 1), 0)\n",
    "        params['bagging_fraction'] = max(min(bagging_fraction, 1), 0)\n",
    "        params['learning_rate'] = learning_rate\n",
    "        params['num_threads'] = int(num_threads)\n",
    "        params['min_data_in_leaf'] = int(min_data_in_leaf)\n",
    "        params['min_sum_hessian_in_leaf'] = min_sum_hessian_in_leaf\n",
    "        params['reg_alpha'] = max(min(reg_alpha, 1), 0)\n",
    "        params['reg_lambda'] = max(min(reg_lambda, 1), 0)\n",
    "        \n",
    "        ms = lgb_trainer_no_aug(Xtr, ytr, params, n_folds)\n",
    "        scorre, q, w = test_f(Xval, yval, ms)\n",
    "#         cv_result = lgb.cv(params, train_data, nfold=n_folds, seed=random_seed, stratified=True, verbose_eval =200, metrics=['auc'])\n",
    "        \n",
    "        return scorre\n",
    "    # range of variables\n",
    "    lgbBO = BayesianOptimization(lgb_eval, {'num_leaves': (5, 40),\n",
    "                                            'feature_fraction': (0.01, 0.9),\n",
    "                                            'bagging_fraction': (0.8, 0.1),\n",
    "                                            'learning_rate': (0.001, 0.01),\n",
    "                                            'num_threads': (6, 10),\n",
    "                                            'min_data_in_leaf': (60, 200),\n",
    "                                            'min_sum_hessian_in_leaf': (5.0 , 15.0),\n",
    "                                            'reg_alpha': (0.0 , 1.0),\n",
    "                                            'reg_lambda': (0.0 , 1.0),\n",
    "                                           },\n",
    "                                             random_state=42)\n",
    "    # optimize!\n",
    "    lgbBO.maximize(init_points=init_round, n_iter=opt_round)\n",
    "    \n",
    "    # output optimization process\n",
    "    if output_process==True: lgbBO.points_to_csv(\"bayes_opt_result.csv\")\n",
    "    \n",
    "    # return best parameters\n",
    "    return lgbBO.res\n",
    "\n",
    "opt_params = bayes_parameter_opt_lgb(X, y, init_round=15, opt_round=35, n_folds=3, random_seed=6, n_estimators=100) "
   ]
  },
  {
   "cell_type": "code",
   "execution_count": 19,
   "metadata": {
    "hidden": true
   },
   "outputs": [
    {
     "data": {
      "text/plain": [
       "{'target': 0.8620098138074975,\n",
       " 'params': {'bagging_fraction': 0.8,\n",
       "  'feature_fraction': 0.039575020369471824,\n",
       "  'learning_rate': 0.007665078680394379,\n",
       "  'min_data_in_leaf': 98.92002156410791,\n",
       "  'min_sum_hessian_in_leaf': 14.910533683368534,\n",
       "  'num_leaves': 37.894176676473215,\n",
       "  'num_threads': 6.37590307317559,\n",
       "  'reg_alpha': 0.6718099633747782,\n",
       "  'reg_lambda': 0.07763407837596625}}"
      ]
     },
     "execution_count": 19,
     "metadata": {},
     "output_type": "execute_result"
    }
   ],
   "source": [
    "opt_params[27]"
   ]
  },
  {
   "cell_type": "markdown",
   "metadata": {
    "heading_collapsed": true
   },
   "source": [
    "# Add #unique values as features (its not good, fuck it)"
   ]
  },
  {
   "cell_type": "code",
   "execution_count": 39,
   "metadata": {
    "hidden": true
   },
   "outputs": [],
   "source": [
    "def augment_uniques_no_count(data):\n",
    "    for feature in data.columns:\n",
    "        if feature in ['ID_code', 'target']:\n",
    "            continue\n",
    "        a = np.unique(data[feature])\n",
    "        data[f'count_{feature}'] = np.full(data.shape[0], len(a))\n",
    "    return data    "
   ]
  },
  {
   "cell_type": "code",
   "execution_count": 40,
   "metadata": {
    "hidden": true
   },
   "outputs": [],
   "source": [
    "traindf = augment_uniques_no_count(train)\n",
    "y = traindf.target\n",
    "traindf = traindf.drop(['target', 'ID_code'], axis=1)\n",
    "Xtr, Xval, ytr, yval  = train_test_split(traindf, y, test_size = 0.2, random_state=42)"
   ]
  },
  {
   "cell_type": "code",
   "execution_count": 41,
   "metadata": {
    "hidden": true
   },
   "outputs": [
    {
     "data": {
      "text/html": [
       "<div>\n",
       "<style scoped>\n",
       "    .dataframe tbody tr th:only-of-type {\n",
       "        vertical-align: middle;\n",
       "    }\n",
       "\n",
       "    .dataframe tbody tr th {\n",
       "        vertical-align: top;\n",
       "    }\n",
       "\n",
       "    .dataframe thead th {\n",
       "        text-align: right;\n",
       "    }\n",
       "</style>\n",
       "<table border=\"1\" class=\"dataframe\">\n",
       "  <thead>\n",
       "    <tr style=\"text-align: right;\">\n",
       "      <th></th>\n",
       "      <th>var_0</th>\n",
       "      <th>var_1</th>\n",
       "      <th>var_2</th>\n",
       "      <th>var_3</th>\n",
       "      <th>var_4</th>\n",
       "      <th>var_5</th>\n",
       "      <th>var_6</th>\n",
       "      <th>var_7</th>\n",
       "      <th>var_8</th>\n",
       "      <th>var_9</th>\n",
       "      <th>...</th>\n",
       "      <th>count_var_190</th>\n",
       "      <th>count_var_191</th>\n",
       "      <th>count_var_192</th>\n",
       "      <th>count_var_193</th>\n",
       "      <th>count_var_194</th>\n",
       "      <th>count_var_195</th>\n",
       "      <th>count_var_196</th>\n",
       "      <th>count_var_197</th>\n",
       "      <th>count_var_198</th>\n",
       "      <th>count_var_199</th>\n",
       "    </tr>\n",
       "  </thead>\n",
       "  <tbody>\n",
       "    <tr>\n",
       "      <th>0</th>\n",
       "      <td>8.9255</td>\n",
       "      <td>-6.7863</td>\n",
       "      <td>11.9081</td>\n",
       "      <td>5.0930</td>\n",
       "      <td>11.4607</td>\n",
       "      <td>-9.2834</td>\n",
       "      <td>5.1187</td>\n",
       "      <td>18.6266</td>\n",
       "      <td>-4.9200</td>\n",
       "      <td>5.7470</td>\n",
       "      <td>...</td>\n",
       "      <td>114959</td>\n",
       "      <td>94266</td>\n",
       "      <td>59065</td>\n",
       "      <td>110557</td>\n",
       "      <td>97069</td>\n",
       "      <td>57870</td>\n",
       "      <td>125560</td>\n",
       "      <td>40537</td>\n",
       "      <td>94153</td>\n",
       "      <td>149430</td>\n",
       "    </tr>\n",
       "    <tr>\n",
       "      <th>1</th>\n",
       "      <td>11.5006</td>\n",
       "      <td>-4.1473</td>\n",
       "      <td>13.8588</td>\n",
       "      <td>5.3890</td>\n",
       "      <td>12.3622</td>\n",
       "      <td>7.0433</td>\n",
       "      <td>5.6208</td>\n",
       "      <td>16.5338</td>\n",
       "      <td>3.1468</td>\n",
       "      <td>8.0851</td>\n",
       "      <td>...</td>\n",
       "      <td>114959</td>\n",
       "      <td>94266</td>\n",
       "      <td>59065</td>\n",
       "      <td>110557</td>\n",
       "      <td>97069</td>\n",
       "      <td>57870</td>\n",
       "      <td>125560</td>\n",
       "      <td>40537</td>\n",
       "      <td>94153</td>\n",
       "      <td>149430</td>\n",
       "    </tr>\n",
       "    <tr>\n",
       "      <th>2</th>\n",
       "      <td>8.6093</td>\n",
       "      <td>-2.7457</td>\n",
       "      <td>12.0805</td>\n",
       "      <td>7.8928</td>\n",
       "      <td>10.5825</td>\n",
       "      <td>-9.0837</td>\n",
       "      <td>6.9427</td>\n",
       "      <td>14.6155</td>\n",
       "      <td>-4.9193</td>\n",
       "      <td>5.9525</td>\n",
       "      <td>...</td>\n",
       "      <td>114959</td>\n",
       "      <td>94266</td>\n",
       "      <td>59065</td>\n",
       "      <td>110557</td>\n",
       "      <td>97069</td>\n",
       "      <td>57870</td>\n",
       "      <td>125560</td>\n",
       "      <td>40537</td>\n",
       "      <td>94153</td>\n",
       "      <td>149430</td>\n",
       "    </tr>\n",
       "    <tr>\n",
       "      <th>3</th>\n",
       "      <td>11.0604</td>\n",
       "      <td>-2.1518</td>\n",
       "      <td>8.9522</td>\n",
       "      <td>7.1957</td>\n",
       "      <td>12.5846</td>\n",
       "      <td>-1.8361</td>\n",
       "      <td>5.8428</td>\n",
       "      <td>14.9250</td>\n",
       "      <td>-5.8609</td>\n",
       "      <td>8.2450</td>\n",
       "      <td>...</td>\n",
       "      <td>114959</td>\n",
       "      <td>94266</td>\n",
       "      <td>59065</td>\n",
       "      <td>110557</td>\n",
       "      <td>97069</td>\n",
       "      <td>57870</td>\n",
       "      <td>125560</td>\n",
       "      <td>40537</td>\n",
       "      <td>94153</td>\n",
       "      <td>149430</td>\n",
       "    </tr>\n",
       "    <tr>\n",
       "      <th>4</th>\n",
       "      <td>9.8369</td>\n",
       "      <td>-1.4834</td>\n",
       "      <td>12.8746</td>\n",
       "      <td>6.6375</td>\n",
       "      <td>12.2772</td>\n",
       "      <td>2.4486</td>\n",
       "      <td>5.9405</td>\n",
       "      <td>19.2514</td>\n",
       "      <td>6.2654</td>\n",
       "      <td>7.6784</td>\n",
       "      <td>...</td>\n",
       "      <td>114959</td>\n",
       "      <td>94266</td>\n",
       "      <td>59065</td>\n",
       "      <td>110557</td>\n",
       "      <td>97069</td>\n",
       "      <td>57870</td>\n",
       "      <td>125560</td>\n",
       "      <td>40537</td>\n",
       "      <td>94153</td>\n",
       "      <td>149430</td>\n",
       "    </tr>\n",
       "  </tbody>\n",
       "</table>\n",
       "<p>5 rows × 400 columns</p>\n",
       "</div>"
      ],
      "text/plain": [
       "     var_0   var_1    var_2   var_3    var_4   var_5   var_6    var_7   var_8  \\\n",
       "0   8.9255 -6.7863  11.9081  5.0930  11.4607 -9.2834  5.1187  18.6266 -4.9200   \n",
       "1  11.5006 -4.1473  13.8588  5.3890  12.3622  7.0433  5.6208  16.5338  3.1468   \n",
       "2   8.6093 -2.7457  12.0805  7.8928  10.5825 -9.0837  6.9427  14.6155 -4.9193   \n",
       "3  11.0604 -2.1518   8.9522  7.1957  12.5846 -1.8361  5.8428  14.9250 -5.8609   \n",
       "4   9.8369 -1.4834  12.8746  6.6375  12.2772  2.4486  5.9405  19.2514  6.2654   \n",
       "\n",
       "    var_9      ...        count_var_190  count_var_191  count_var_192  \\\n",
       "0  5.7470      ...               114959          94266          59065   \n",
       "1  8.0851      ...               114959          94266          59065   \n",
       "2  5.9525      ...               114959          94266          59065   \n",
       "3  8.2450      ...               114959          94266          59065   \n",
       "4  7.6784      ...               114959          94266          59065   \n",
       "\n",
       "   count_var_193  count_var_194  count_var_195  count_var_196  count_var_197  \\\n",
       "0         110557          97069          57870         125560          40537   \n",
       "1         110557          97069          57870         125560          40537   \n",
       "2         110557          97069          57870         125560          40537   \n",
       "3         110557          97069          57870         125560          40537   \n",
       "4         110557          97069          57870         125560          40537   \n",
       "\n",
       "   count_var_198  count_var_199  \n",
       "0          94153         149430  \n",
       "1          94153         149430  \n",
       "2          94153         149430  \n",
       "3          94153         149430  \n",
       "4          94153         149430  \n",
       "\n",
       "[5 rows x 400 columns]"
      ]
     },
     "execution_count": 41,
     "metadata": {},
     "output_type": "execute_result"
    }
   ],
   "source": [
    "traindf.head()"
   ]
  },
  {
   "cell_type": "code",
   "execution_count": 43,
   "metadata": {
    "hidden": true
   },
   "outputs": [
    {
     "data": {
      "application/vnd.jupyter.widget-view+json": {
       "model_id": "062e02e96d5840a595b0fe72dd307d64",
       "version_major": 2,
       "version_minor": 0
      },
      "text/plain": [
       "HBox(children=(IntProgress(value=1, bar_style='info', max=1), HTML(value='')))"
      ]
     },
     "metadata": {},
     "output_type": "display_data"
    },
    {
     "name": "stdout",
     "output_type": "stream",
     "text": [
      "Training until validation scores don't improve for 4000 rounds.\n",
      "[5000]\ttraining's auc: 0.905608\tvalid_1's auc: 0.877137\n",
      "[10000]\ttraining's auc: 0.912866\tvalid_1's auc: 0.882447\n",
      "[15000]\ttraining's auc: 0.91866\tvalid_1's auc: 0.886165\n",
      "[20000]\ttraining's auc: 0.923428\tvalid_1's auc: 0.888896\n",
      "[25000]\ttraining's auc: 0.9276\tvalid_1's auc: 0.890983\n",
      "[30000]\ttraining's auc: 0.93129\tvalid_1's auc: 0.892571\n",
      "[35000]\ttraining's auc: 0.9346\tvalid_1's auc: 0.893747\n",
      "[40000]\ttraining's auc: 0.937573\tvalid_1's auc: 0.894667\n",
      "[45000]\ttraining's auc: 0.940304\tvalid_1's auc: 0.89531\n",
      "[50000]\ttraining's auc: 0.942856\tvalid_1's auc: 0.895718\n",
      "[55000]\ttraining's auc: 0.945253\tvalid_1's auc: 0.89606\n",
      "[60000]\ttraining's auc: 0.94749\tvalid_1's auc: 0.896274\n",
      "[65000]\ttraining's auc: 0.949614\tvalid_1's auc: 0.896385\n",
      "[70000]\ttraining's auc: 0.951646\tvalid_1's auc: 0.896463\n",
      "[75000]\ttraining's auc: 0.953596\tvalid_1's auc: 0.8965\n",
      "Early stopping, best iteration is:\n",
      "[74139]\ttraining's auc: 0.953271\tvalid_1's auc: 0.89651\n",
      "Training until validation scores don't improve for 4000 rounds.\n"
     ]
    },
    {
     "ename": "KeyboardInterrupt",
     "evalue": "",
     "output_type": "error",
     "traceback": [
      "\u001b[0;31m---------------------------------------------------------------------------\u001b[0m",
      "\u001b[0;31mKeyboardInterrupt\u001b[0m                         Traceback (most recent call last)",
      "\u001b[0;32m<ipython-input-43-e2cd42d44d3f>\u001b[0m in \u001b[0;36m<module>\u001b[0;34m\u001b[0m\n\u001b[0;32m----> 1\u001b[0;31m \u001b[0mrank_models\u001b[0m \u001b[0;34m=\u001b[0m \u001b[0mlgb_trainer_no_aug\u001b[0m\u001b[0;34m(\u001b[0m\u001b[0mXtr\u001b[0m\u001b[0;34m,\u001b[0m \u001b[0mytr\u001b[0m\u001b[0;34m,\u001b[0m \u001b[0mparam\u001b[0m\u001b[0;34m,\u001b[0m \u001b[0mn_folds\u001b[0m \u001b[0;34m=\u001b[0m \u001b[0;36m2\u001b[0m\u001b[0;34m)\u001b[0m\u001b[0;34m\u001b[0m\u001b[0;34m\u001b[0m\u001b[0m\n\u001b[0m",
      "\u001b[0;32m<ipython-input-42-b3fbc410fdf3>\u001b[0m in \u001b[0;36mlgb_trainer_no_aug\u001b[0;34m(X, y, params, n_folds)\u001b[0m\n\u001b[1;32m     55\u001b[0m             \u001b[0mtrn_data\u001b[0m \u001b[0;34m=\u001b[0m \u001b[0mlgb\u001b[0m\u001b[0;34m.\u001b[0m\u001b[0mDataset\u001b[0m\u001b[0;34m(\u001b[0m\u001b[0mX_tr\u001b[0m\u001b[0;34m,\u001b[0m \u001b[0mlabel\u001b[0m\u001b[0;34m=\u001b[0m\u001b[0my_tr\u001b[0m\u001b[0;34m)\u001b[0m\u001b[0;34m\u001b[0m\u001b[0;34m\u001b[0m\u001b[0m\n\u001b[1;32m     56\u001b[0m             \u001b[0mtest_data\u001b[0m \u001b[0;34m=\u001b[0m \u001b[0mlgb\u001b[0m\u001b[0;34m.\u001b[0m\u001b[0mDataset\u001b[0m\u001b[0;34m(\u001b[0m\u001b[0mX\u001b[0m\u001b[0;34m.\u001b[0m\u001b[0mvalues\u001b[0m\u001b[0;34m[\u001b[0m\u001b[0mtest_idx\u001b[0m\u001b[0;34m]\u001b[0m\u001b[0;34m,\u001b[0m \u001b[0mlabel\u001b[0m\u001b[0;34m=\u001b[0m\u001b[0my\u001b[0m\u001b[0;34m.\u001b[0m\u001b[0mvalues\u001b[0m\u001b[0;34m[\u001b[0m\u001b[0mtest_idx\u001b[0m\u001b[0;34m]\u001b[0m\u001b[0;34m)\u001b[0m\u001b[0;34m\u001b[0m\u001b[0;34m\u001b[0m\u001b[0m\n\u001b[0;32m---> 57\u001b[0;31m             \u001b[0mmodel_lgb\u001b[0m     \u001b[0;34m=\u001b[0m \u001b[0mlgb\u001b[0m\u001b[0;34m.\u001b[0m\u001b[0mtrain\u001b[0m\u001b[0;34m(\u001b[0m\u001b[0mparam\u001b[0m\u001b[0;34m,\u001b[0m \u001b[0mtrn_data\u001b[0m\u001b[0;34m,\u001b[0m \u001b[0;36m1000000\u001b[0m\u001b[0;34m,\u001b[0m \u001b[0mvalid_sets\u001b[0m \u001b[0;34m=\u001b[0m \u001b[0;34m[\u001b[0m\u001b[0mtrn_data\u001b[0m\u001b[0;34m,\u001b[0m \u001b[0mtest_data\u001b[0m\u001b[0;34m]\u001b[0m\u001b[0;34m,\u001b[0m \u001b[0mverbose_eval\u001b[0m\u001b[0;34m=\u001b[0m\u001b[0;36m5000\u001b[0m\u001b[0;34m,\u001b[0m \u001b[0mearly_stopping_rounds\u001b[0m \u001b[0;34m=\u001b[0m \u001b[0;36m4000\u001b[0m\u001b[0;34m)\u001b[0m\u001b[0;34m\u001b[0m\u001b[0;34m\u001b[0m\u001b[0m\n\u001b[0m\u001b[1;32m     58\u001b[0m             \u001b[0mmodels\u001b[0m\u001b[0;34m.\u001b[0m\u001b[0mappend\u001b[0m\u001b[0;34m(\u001b[0m\u001b[0mmodel_lgb\u001b[0m\u001b[0;34m)\u001b[0m\u001b[0;34m\u001b[0m\u001b[0;34m\u001b[0m\u001b[0m\n\u001b[1;32m     59\u001b[0m             \u001b[0mauc\u001b[0m \u001b[0;34m=\u001b[0m \u001b[0mroc_auc_score\u001b[0m\u001b[0;34m(\u001b[0m\u001b[0my\u001b[0m\u001b[0;34m.\u001b[0m\u001b[0mvalues\u001b[0m\u001b[0;34m[\u001b[0m\u001b[0mtest_idx\u001b[0m\u001b[0;34m]\u001b[0m\u001b[0;34m,\u001b[0m \u001b[0mmodel_lgb\u001b[0m\u001b[0;34m.\u001b[0m\u001b[0mpredict\u001b[0m\u001b[0;34m(\u001b[0m\u001b[0mX\u001b[0m\u001b[0;34m.\u001b[0m\u001b[0mvalues\u001b[0m\u001b[0;34m[\u001b[0m\u001b[0mtest_idx\u001b[0m\u001b[0;34m]\u001b[0m\u001b[0;34m)\u001b[0m\u001b[0;34m)\u001b[0m\u001b[0;34m\u001b[0m\u001b[0;34m\u001b[0m\u001b[0m\n",
      "\u001b[0;32m~/.local/lib/python3.6/site-packages/lightgbm/engine.py\u001b[0m in \u001b[0;36mtrain\u001b[0;34m(params, train_set, num_boost_round, valid_sets, valid_names, fobj, feval, init_model, feature_name, categorical_feature, early_stopping_rounds, evals_result, verbose_eval, learning_rates, keep_training_booster, callbacks)\u001b[0m\n\u001b[1;32m    223\u001b[0m             \u001b[0;32mif\u001b[0m \u001b[0mis_valid_contain_train\u001b[0m\u001b[0;34m:\u001b[0m\u001b[0;34m\u001b[0m\u001b[0;34m\u001b[0m\u001b[0m\n\u001b[1;32m    224\u001b[0m                 \u001b[0mevaluation_result_list\u001b[0m\u001b[0;34m.\u001b[0m\u001b[0mextend\u001b[0m\u001b[0;34m(\u001b[0m\u001b[0mbooster\u001b[0m\u001b[0;34m.\u001b[0m\u001b[0meval_train\u001b[0m\u001b[0;34m(\u001b[0m\u001b[0mfeval\u001b[0m\u001b[0;34m)\u001b[0m\u001b[0;34m)\u001b[0m\u001b[0;34m\u001b[0m\u001b[0;34m\u001b[0m\u001b[0m\n\u001b[0;32m--> 225\u001b[0;31m             \u001b[0mevaluation_result_list\u001b[0m\u001b[0;34m.\u001b[0m\u001b[0mextend\u001b[0m\u001b[0;34m(\u001b[0m\u001b[0mbooster\u001b[0m\u001b[0;34m.\u001b[0m\u001b[0meval_valid\u001b[0m\u001b[0;34m(\u001b[0m\u001b[0mfeval\u001b[0m\u001b[0;34m)\u001b[0m\u001b[0;34m)\u001b[0m\u001b[0;34m\u001b[0m\u001b[0;34m\u001b[0m\u001b[0m\n\u001b[0m\u001b[1;32m    226\u001b[0m         \u001b[0;32mtry\u001b[0m\u001b[0;34m:\u001b[0m\u001b[0;34m\u001b[0m\u001b[0;34m\u001b[0m\u001b[0m\n\u001b[1;32m    227\u001b[0m             \u001b[0;32mfor\u001b[0m \u001b[0mcb\u001b[0m \u001b[0;32min\u001b[0m \u001b[0mcallbacks_after_iter\u001b[0m\u001b[0;34m:\u001b[0m\u001b[0;34m\u001b[0m\u001b[0;34m\u001b[0m\u001b[0m\n",
      "\u001b[0;32m~/.local/lib/python3.6/site-packages/lightgbm/basic.py\u001b[0m in \u001b[0;36meval_valid\u001b[0;34m(self, feval)\u001b[0m\n\u001b[1;32m   1975\u001b[0m             \u001b[0mList\u001b[0m \u001b[0;32mwith\u001b[0m \u001b[0mevaluation\u001b[0m \u001b[0mresults\u001b[0m\u001b[0;34m.\u001b[0m\u001b[0;34m\u001b[0m\u001b[0;34m\u001b[0m\u001b[0m\n\u001b[1;32m   1976\u001b[0m         \"\"\"\n\u001b[0;32m-> 1977\u001b[0;31m         return [item for i in range_(1, self.__num_dataset)\n\u001b[0m\u001b[1;32m   1978\u001b[0m                 for item in self.__inner_eval(self.name_valid_sets[i - 1], i, feval)]\n\u001b[1;32m   1979\u001b[0m \u001b[0;34m\u001b[0m\u001b[0m\n",
      "\u001b[0;32m~/.local/lib/python3.6/site-packages/lightgbm/basic.py\u001b[0m in \u001b[0;36m<listcomp>\u001b[0;34m(.0)\u001b[0m\n\u001b[1;32m   1976\u001b[0m         \"\"\"\n\u001b[1;32m   1977\u001b[0m         return [item for i in range_(1, self.__num_dataset)\n\u001b[0;32m-> 1978\u001b[0;31m                 for item in self.__inner_eval(self.name_valid_sets[i - 1], i, feval)]\n\u001b[0m\u001b[1;32m   1979\u001b[0m \u001b[0;34m\u001b[0m\u001b[0m\n\u001b[1;32m   1980\u001b[0m     \u001b[0;32mdef\u001b[0m \u001b[0msave_model\u001b[0m\u001b[0;34m(\u001b[0m\u001b[0mself\u001b[0m\u001b[0;34m,\u001b[0m \u001b[0mfilename\u001b[0m\u001b[0;34m,\u001b[0m \u001b[0mnum_iteration\u001b[0m\u001b[0;34m=\u001b[0m\u001b[0;32mNone\u001b[0m\u001b[0;34m,\u001b[0m \u001b[0mstart_iteration\u001b[0m\u001b[0;34m=\u001b[0m\u001b[0;36m0\u001b[0m\u001b[0;34m)\u001b[0m\u001b[0;34m:\u001b[0m\u001b[0;34m\u001b[0m\u001b[0;34m\u001b[0m\u001b[0m\n",
      "\u001b[0;32m~/.local/lib/python3.6/site-packages/lightgbm/basic.py\u001b[0m in \u001b[0;36m__inner_eval\u001b[0;34m(self, data_name, data_idx, feval)\u001b[0m\n\u001b[1;32m   2362\u001b[0m                 \u001b[0mctypes\u001b[0m\u001b[0;34m.\u001b[0m\u001b[0mc_int\u001b[0m\u001b[0;34m(\u001b[0m\u001b[0mdata_idx\u001b[0m\u001b[0;34m)\u001b[0m\u001b[0;34m,\u001b[0m\u001b[0;34m\u001b[0m\u001b[0;34m\u001b[0m\u001b[0m\n\u001b[1;32m   2363\u001b[0m                 \u001b[0mctypes\u001b[0m\u001b[0;34m.\u001b[0m\u001b[0mbyref\u001b[0m\u001b[0;34m(\u001b[0m\u001b[0mtmp_out_len\u001b[0m\u001b[0;34m)\u001b[0m\u001b[0;34m,\u001b[0m\u001b[0;34m\u001b[0m\u001b[0;34m\u001b[0m\u001b[0m\n\u001b[0;32m-> 2364\u001b[0;31m                 result.ctypes.data_as(ctypes.POINTER(ctypes.c_double))))\n\u001b[0m\u001b[1;32m   2365\u001b[0m             \u001b[0;32mif\u001b[0m \u001b[0mtmp_out_len\u001b[0m\u001b[0;34m.\u001b[0m\u001b[0mvalue\u001b[0m \u001b[0;34m!=\u001b[0m \u001b[0mself\u001b[0m\u001b[0;34m.\u001b[0m\u001b[0m__num_inner_eval\u001b[0m\u001b[0;34m:\u001b[0m\u001b[0;34m\u001b[0m\u001b[0;34m\u001b[0m\u001b[0m\n\u001b[1;32m   2366\u001b[0m                 \u001b[0;32mraise\u001b[0m \u001b[0mValueError\u001b[0m\u001b[0;34m(\u001b[0m\u001b[0;34m\"Wrong length of eval results\"\u001b[0m\u001b[0;34m)\u001b[0m\u001b[0;34m\u001b[0m\u001b[0;34m\u001b[0m\u001b[0m\n",
      "\u001b[0;31mKeyboardInterrupt\u001b[0m: "
     ]
    }
   ],
   "source": [
    "rank_models = lgb_trainer_no_aug(Xtr, ytr, param, n_folds = 2)"
   ]
  }
 ],
 "metadata": {
  "kernelspec": {
   "display_name": "Python 3",
   "language": "python",
   "name": "python3"
  },
  "language_info": {
   "codemirror_mode": {
    "name": "ipython",
    "version": 3
   },
   "file_extension": ".py",
   "mimetype": "text/x-python",
   "name": "python",
   "nbconvert_exporter": "python",
   "pygments_lexer": "ipython3",
   "version": "3.6.8"
  }
 },
 "nbformat": 4,
 "nbformat_minor": 2
}

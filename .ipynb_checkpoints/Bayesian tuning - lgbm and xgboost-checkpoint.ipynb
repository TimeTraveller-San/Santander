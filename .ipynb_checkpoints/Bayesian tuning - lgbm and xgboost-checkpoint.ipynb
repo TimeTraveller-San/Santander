{
 "cells": [
  {
   "cell_type": "markdown",
   "metadata": {},
   "source": [
    "# LightGBM parameter tuning using Baysian optimization"
   ]
  },
  {
   "cell_type": "code",
   "execution_count": 19,
   "metadata": {},
   "outputs": [],
   "source": [
    "from fastai import *\n",
    "import numpy as np\n",
    "import pandas as pd\n",
    "import pandas_profiling\n",
    "import matplotlib.pyplot as plt\n",
    "import seaborn as sns\n",
    "import lightgbm as lgb\n",
    "from skopt.space import Real, Integer\n",
    "from skopt.utils import use_named_args\n",
    "import itertools\n",
    "from sklearn.metrics import roc_auc_score\n",
    "from skopt import gp_minimize\n",
    "from sklearn.model_selection import train_test_split, ParameterGrid\n",
    "from sklearn.ensemble import RandomForestRegressor, RandomForestClassifier"
   ]
  },
  {
   "cell_type": "code",
   "execution_count": 9,
   "metadata": {},
   "outputs": [],
   "source": [
    "TRAIN = 'data/train.csv'\n",
    "TEST = 'data/test.csv'\n",
    "SAMPLE = 'data/sample_submission.csv'\n",
    "train = pd.read_csv(TRAIN)\n",
    "test = pd.read_csv(TEST)\n",
    "X = train.drop(['ID_code', 'target'], axis=1)\n",
    "y = train.target\n",
    "X_train, X_test, y_train, y_test = train_test_split(X, y)"
   ]
  },
  {
   "cell_type": "code",
   "execution_count": 4,
   "metadata": {},
   "outputs": [],
   "source": [
    "??gp_minimize"
   ]
  },
  {
   "cell_type": "code",
   "execution_count": 5,
   "metadata": {},
   "outputs": [],
   "source": [
    "baysian_space  = [\n",
    "          Integer(5, 20, name='num_leaves'),\n",
    "          Integer(50, 200, name='min_child_samples'),\n",
    "          Integer(20, 50,  name='min_data_in_leaf'),\n",
    "          Integer(1, 5, name='bagging_freq'),\n",
    "          Real(0.6, 0.9, name='subsample'),\n",
    "          Real(0.01, 0.1, name='feature_fraction'),\n",
    "          Real(0.001, 0.01, name='learning_rate'),\n",
    "          Real(0.1, 0.5, name='bagging_fraction'),\n",
    "         ]"
   ]
  },
  {
   "cell_type": "code",
   "execution_count": 10,
   "metadata": {},
   "outputs": [],
   "source": [
    "trn_data = lgb.Dataset(X_train, label=y_train)\n",
    "val_data = lgb.Dataset(X_test, label=y_test)"
   ]
  },
  {
   "cell_type": "code",
   "execution_count": 17,
   "metadata": {},
   "outputs": [],
   "source": [
    "def lgb_optim(values):\n",
    "    params = {'num_leaves': values[0], \n",
    "          'min_child_samples': values[1], \n",
    "          'min_data_in_leaf': values[2], \n",
    "          'bagging_freq': values[3],\n",
    "            'subsample': values[4],\n",
    "            'feature_fraction': values[5],\n",
    "             'learning_rate':values[6],\n",
    "             'bagging_fraction': values[7],\n",
    "             'boosting_type': 'gbdt',\n",
    "             'objective': 'binary',\n",
    "              'max_depth':-1,\n",
    "              'metric':'auc',\n",
    "              'boost_from_average':'false',\n",
    "               'verbosity': -1,\n",
    "              'objective': 'binary',\n",
    "              'tree_learner': 'serial',\n",
    "               'gpu_platform_id': -1,\n",
    "             }\n",
    "    print('\\nNext set of params.....',params)\n",
    "    trn_data = lgb.Dataset(X_train, label=y_train)\n",
    "    val_data = lgb.Dataset(X_test, label=y_test)\n",
    "    evals_results = {}\n",
    "    model_lgb     = lgb.train(params, trn_data, 1000000, valid_sets = [trn_data, val_data], verbose_eval=5000, early_stopping_rounds = 4000)\n",
    "    auc = -roc_auc_score(y_train, model_lgb.predict(X_train))\n",
    "    return  auc"
   ]
  },
  {
   "cell_type": "code",
   "execution_count": 18,
   "metadata": {},
   "outputs": [
    {
     "name": "stdout",
     "output_type": "stream",
     "text": [
      "\n",
      "Next set of params..... {'num_leaves': 14, 'min_child_samples': 177, 'min_data_in_leaf': 46, 'bagging_freq': 4, 'subsample': 0.7870691090357917, 'feature_fraction': 0.044594353656343, 'learning_rate': 0.003677811458900251, 'bagging_fraction': 0.12268519092697729, 'boosting_type': 'gbdt', 'objective': 'binary', 'max_depth': -1, 'metric': 'auc', 'boost_from_average': 'false', 'verbosity': -1, 'tree_learner': 'serial', 'gpu_platform_id': -1}\n",
      "Training until validation scores don't improve for 4000 rounds.\n",
      "[5000]\ttraining's auc: 0.920242\tvalid_1's auc: 0.894864\n",
      "[10000]\ttraining's auc: 0.93113\tvalid_1's auc: 0.89807\n",
      "[15000]\ttraining's auc: 0.940321\tvalid_1's auc: 0.898608\n",
      "[20000]\ttraining's auc: 0.9484\tvalid_1's auc: 0.898751\n",
      "Early stopping, best iteration is:\n",
      "[17179]\ttraining's auc: 0.943988\tvalid_1's auc: 0.898935\n",
      "\n",
      "Next set of params..... {'num_leaves': 9, 'min_child_samples': 122, 'min_data_in_leaf': 44, 'bagging_freq': 3, 'subsample': 0.7178354388302489, 'feature_fraction': 0.085247088718364, 'learning_rate': 0.004036565443755417, 'bagging_fraction': 0.359268748820479, 'boosting_type': 'gbdt', 'objective': 'binary', 'max_depth': -1, 'metric': 'auc', 'boost_from_average': 'false', 'verbosity': -1, 'tree_learner': 'serial', 'gpu_platform_id': -1}\n",
      "Training until validation scores don't improve for 4000 rounds.\n",
      "[5000]\ttraining's auc: 0.902755\tvalid_1's auc: 0.88388\n",
      "[10000]\ttraining's auc: 0.921353\tvalid_1's auc: 0.895501\n",
      "[15000]\ttraining's auc: 0.931306\tvalid_1's auc: 0.898365\n",
      "[20000]\ttraining's auc: 0.93924\tvalid_1's auc: 0.899187\n",
      "[25000]\ttraining's auc: 0.946444\tvalid_1's auc: 0.899367\n",
      "[30000]\ttraining's auc: 0.953087\tvalid_1's auc: 0.899438\n",
      "Early stopping, best iteration is:\n",
      "[28391]\ttraining's auc: 0.951032\tvalid_1's auc: 0.899463\n",
      "\n",
      "Next set of params..... {'num_leaves': 11, 'min_child_samples': 194, 'min_data_in_leaf': 24, 'bagging_freq': 4, 'subsample': 0.7420824135821131, 'feature_fraction': 0.082081967678168, 'learning_rate': 0.005684297315960845, 'bagging_fraction': 0.37155181204758414, 'boosting_type': 'gbdt', 'objective': 'binary', 'max_depth': -1, 'metric': 'auc', 'boost_from_average': 'false', 'verbosity': -1, 'tree_learner': 'serial', 'gpu_platform_id': -1}\n",
      "Training until validation scores don't improve for 4000 rounds.\n",
      "[5000]\ttraining's auc: 0.918137\tvalid_1's auc: 0.891878\n",
      "[10000]\ttraining's auc: 0.937245\tvalid_1's auc: 0.898294\n",
      "[15000]\ttraining's auc: 0.950713\tvalid_1's auc: 0.899185\n",
      "Early stopping, best iteration is:\n",
      "[14991]\ttraining's auc: 0.95069\tvalid_1's auc: 0.89919\n",
      "\n",
      "Next set of params..... {'num_leaves': 16, 'min_child_samples': 137, 'min_data_in_leaf': 36, 'bagging_freq': 4, 'subsample': 0.6317722821563376, 'feature_fraction': 0.052624037741199184, 'learning_rate': 0.0026769910899408405, 'bagging_fraction': 0.39476727085158336, 'boosting_type': 'gbdt', 'objective': 'binary', 'max_depth': -1, 'metric': 'auc', 'boost_from_average': 'false', 'verbosity': -1, 'tree_learner': 'serial', 'gpu_platform_id': -1}\n",
      "Training until validation scores don't improve for 4000 rounds.\n",
      "[5000]\ttraining's auc: 0.915233\tvalid_1's auc: 0.888999\n",
      "[10000]\ttraining's auc: 0.928634\tvalid_1's auc: 0.895153\n",
      "[15000]\ttraining's auc: 0.938609\tvalid_1's auc: 0.897744\n",
      "[20000]\ttraining's auc: 0.946968\tvalid_1's auc: 0.898942\n",
      "[25000]\ttraining's auc: 0.954429\tvalid_1's auc: 0.899477\n",
      "[30000]\ttraining's auc: 0.961104\tvalid_1's auc: 0.899668\n",
      "[35000]\ttraining's auc: 0.967081\tvalid_1's auc: 0.899681\n",
      "Early stopping, best iteration is:\n",
      "[31115]\ttraining's auc: 0.962488\tvalid_1's auc: 0.899711\n",
      "\n",
      "Next set of params..... {'num_leaves': 8, 'min_child_samples': 70, 'min_data_in_leaf': 30, 'bagging_freq': 2, 'subsample': 0.6666964164754763, 'feature_fraction': 0.04478400830132759, 'learning_rate': 0.009123386279764646, 'bagging_fraction': 0.2799799959644911, 'boosting_type': 'gbdt', 'objective': 'binary', 'max_depth': -1, 'metric': 'auc', 'boost_from_average': 'false', 'verbosity': -1, 'tree_learner': 'serial', 'gpu_platform_id': -1}\n",
      "Training until validation scores don't improve for 4000 rounds.\n",
      "[5000]\ttraining's auc: 0.919527\tvalid_1's auc: 0.896325\n",
      "[10000]\ttraining's auc: 0.934698\tvalid_1's auc: 0.899217\n",
      "[15000]\ttraining's auc: 0.946744\tvalid_1's auc: 0.899211\n",
      "Early stopping, best iteration is:\n",
      "[11051]\ttraining's auc: 0.937332\tvalid_1's auc: 0.899299\n",
      "\n",
      "Next set of params..... {'num_leaves': 14, 'min_child_samples': 185, 'min_data_in_leaf': 23, 'bagging_freq': 5, 'subsample': 0.7959420107393813, 'feature_fraction': 0.02538186266224407, 'learning_rate': 0.004223369502725726, 'bagging_fraction': 0.4002744564873826, 'boosting_type': 'gbdt', 'objective': 'binary', 'max_depth': -1, 'metric': 'auc', 'boost_from_average': 'false', 'verbosity': -1, 'tree_learner': 'serial', 'gpu_platform_id': -1}\n",
      "Training until validation scores don't improve for 4000 rounds.\n",
      "[5000]\ttraining's auc: 0.925477\tvalid_1's auc: 0.896533\n",
      "[10000]\ttraining's auc: 0.935674\tvalid_1's auc: 0.898887\n",
      "[15000]\ttraining's auc: 0.944644\tvalid_1's auc: 0.899822\n",
      "[20000]\ttraining's auc: 0.95294\tvalid_1's auc: 0.900028\n",
      "Early stopping, best iteration is:\n",
      "[18200]\ttraining's auc: 0.950017\tvalid_1's auc: 0.900062\n",
      "\n",
      "Next set of params..... {'num_leaves': 14, 'min_child_samples': 99, 'min_data_in_leaf': 21, 'bagging_freq': 4, 'subsample': 0.8876847805873562, 'feature_fraction': 0.06875112853049418, 'learning_rate': 0.006715529862432076, 'bagging_fraction': 0.4981198270711552, 'boosting_type': 'gbdt', 'objective': 'binary', 'max_depth': -1, 'metric': 'auc', 'boost_from_average': 'false', 'verbosity': -1, 'tree_learner': 'serial', 'gpu_platform_id': -1}\n",
      "Training until validation scores don't improve for 4000 rounds.\n",
      "[5000]\ttraining's auc: 0.929719\tvalid_1's auc: 0.8951\n",
      "[10000]\ttraining's auc: 0.951578\tvalid_1's auc: 0.898833\n",
      "[15000]\ttraining's auc: 0.967549\tvalid_1's auc: 0.89927\n",
      "[20000]\ttraining's auc: 0.979347\tvalid_1's auc: 0.899217\n",
      "Early stopping, best iteration is:\n",
      "[16561]\ttraining's auc: 0.971638\tvalid_1's auc: 0.899348\n",
      "\n",
      "Next set of params..... {'num_leaves': 14, 'min_child_samples': 112, 'min_data_in_leaf': 34, 'bagging_freq': 3, 'subsample': 0.7014022844516675, 'feature_fraction': 0.07072770900331188, 'learning_rate': 0.0038548156786236657, 'bagging_fraction': 0.41133819281036377, 'boosting_type': 'gbdt', 'objective': 'binary', 'max_depth': -1, 'metric': 'auc', 'boost_from_average': 'false', 'verbosity': -1, 'tree_learner': 'serial', 'gpu_platform_id': -1}\n",
      "Training until validation scores don't improve for 4000 rounds.\n",
      "[5000]\ttraining's auc: 0.915174\tvalid_1's auc: 0.888642\n",
      "[10000]\ttraining's auc: 0.933708\tvalid_1's auc: 0.896762\n",
      "[15000]\ttraining's auc: 0.945973\tvalid_1's auc: 0.898625\n",
      "[20000]\ttraining's auc: 0.956155\tvalid_1's auc: 0.899036\n",
      "[25000]\ttraining's auc: 0.964914\tvalid_1's auc: 0.899175\n",
      "[30000]\ttraining's auc: 0.972422\tvalid_1's auc: 0.899111\n",
      "Early stopping, best iteration is:\n",
      "[26192]\ttraining's auc: 0.966806\tvalid_1's auc: 0.899194\n",
      "\n",
      "Next set of params..... {'num_leaves': 19, 'min_child_samples': 149, 'min_data_in_leaf': 20, 'bagging_freq': 3, 'subsample': 0.8020978892507369, 'feature_fraction': 0.09747505022496994, 'learning_rate': 0.008903741242124594, 'bagging_fraction': 0.3038497506879601, 'boosting_type': 'gbdt', 'objective': 'binary', 'max_depth': -1, 'metric': 'auc', 'boost_from_average': 'false', 'verbosity': -1, 'tree_learner': 'serial', 'gpu_platform_id': -1}\n",
      "Training until validation scores don't improve for 4000 rounds.\n",
      "[5000]\ttraining's auc: 0.95347\tvalid_1's auc: 0.897404\n",
      "[10000]\ttraining's auc: 0.980447\tvalid_1's auc: 0.89833\n",
      "Early stopping, best iteration is:\n",
      "[10084]\ttraining's auc: 0.98076\tvalid_1's auc: 0.898364\n",
      "\n",
      "Next set of params..... {'num_leaves': 6, 'min_child_samples': 118, 'min_data_in_leaf': 21, 'bagging_freq': 3, 'subsample': 0.8938760186438186, 'feature_fraction': 0.04235000175723894, 'learning_rate': 0.005328041777525467, 'bagging_fraction': 0.37546447312230824, 'boosting_type': 'gbdt', 'objective': 'binary', 'max_depth': -1, 'metric': 'auc', 'boost_from_average': 'false', 'verbosity': -1, 'tree_learner': 'serial', 'gpu_platform_id': -1}\n",
      "Training until validation scores don't improve for 4000 rounds.\n",
      "[5000]\ttraining's auc: 0.901335\tvalid_1's auc: 0.887107\n",
      "[10000]\ttraining's auc: 0.914254\tvalid_1's auc: 0.895522\n"
     ]
    },
    {
     "name": "stdout",
     "output_type": "stream",
     "text": [
      "[15000]\ttraining's auc: 0.922202\tvalid_1's auc: 0.898322\n",
      "[20000]\ttraining's auc: 0.928414\tvalid_1's auc: 0.899286\n",
      "[25000]\ttraining's auc: 0.934128\tvalid_1's auc: 0.899549\n",
      "[30000]\ttraining's auc: 0.939421\tvalid_1's auc: 0.899561\n",
      "Early stopping, best iteration is:\n",
      "[29583]\ttraining's auc: 0.938981\tvalid_1's auc: 0.899591\n",
      "\n",
      "Next set of params..... {'num_leaves': 20, 'min_child_samples': 50, 'min_data_in_leaf': 50, 'bagging_freq': 1, 'subsample': 0.9, 'feature_fraction': 0.1, 'learning_rate': 0.001, 'bagging_fraction': 0.5, 'boosting_type': 'gbdt', 'objective': 'binary', 'max_depth': -1, 'metric': 'auc', 'boost_from_average': 'false', 'verbosity': -1, 'tree_learner': 'serial', 'gpu_platform_id': -1}\n",
      "Training until validation scores don't improve for 4000 rounds.\n",
      "[5000]\ttraining's auc: 0.890409\tvalid_1's auc: 0.865891\n",
      "[10000]\ttraining's auc: 0.906373\tvalid_1's auc: 0.87754\n",
      "[15000]\ttraining's auc: 0.918606\tvalid_1's auc: 0.885474\n",
      "[20000]\ttraining's auc: 0.927773\tvalid_1's auc: 0.890648\n",
      "[25000]\ttraining's auc: 0.934922\tvalid_1's auc: 0.893868\n",
      "[30000]\ttraining's auc: 0.940819\tvalid_1's auc: 0.895935\n",
      "[35000]\ttraining's auc: 0.94587\tvalid_1's auc: 0.897221\n",
      "[40000]\ttraining's auc: 0.950317\tvalid_1's auc: 0.898004\n",
      "[45000]\ttraining's auc: 0.9544\tvalid_1's auc: 0.898586\n",
      "[50000]\ttraining's auc: 0.958196\tvalid_1's auc: 0.898888\n",
      "[55000]\ttraining's auc: 0.961742\tvalid_1's auc: 0.899133\n",
      "[60000]\ttraining's auc: 0.96507\tvalid_1's auc: 0.899272\n",
      "[65000]\ttraining's auc: 0.968168\tvalid_1's auc: 0.899365\n",
      "[70000]\ttraining's auc: 0.971085\tvalid_1's auc: 0.899415\n",
      "[75000]\ttraining's auc: 0.97382\tvalid_1's auc: 0.899458\n",
      "[80000]\ttraining's auc: 0.976379\tvalid_1's auc: 0.899473\n",
      "[85000]\ttraining's auc: 0.978764\tvalid_1's auc: 0.899518\n",
      "[90000]\ttraining's auc: 0.980952\tvalid_1's auc: 0.899515\n",
      "Early stopping, best iteration is:\n",
      "[88300]\ttraining's auc: 0.980228\tvalid_1's auc: 0.899525\n",
      "\n",
      "Next set of params..... {'num_leaves': 20, 'min_child_samples': 50, 'min_data_in_leaf': 20, 'bagging_freq': 5, 'subsample': 0.9, 'feature_fraction': 0.1, 'learning_rate': 0.01, 'bagging_fraction': 0.5, 'boosting_type': 'gbdt', 'objective': 'binary', 'max_depth': -1, 'metric': 'auc', 'boost_from_average': 'false', 'verbosity': -1, 'tree_learner': 'serial', 'gpu_platform_id': -1}\n",
      "Training until validation scores don't improve for 4000 rounds.\n",
      "[5000]\ttraining's auc: 0.960215\tvalid_1's auc: 0.897869\n",
      "[10000]\ttraining's auc: 0.987183\tvalid_1's auc: 0.898606\n",
      "Early stopping, best iteration is:\n",
      "[9120]\ttraining's auc: 0.984001\tvalid_1's auc: 0.898756\n",
      "\n",
      "Next set of params..... {'num_leaves': 20, 'min_child_samples': 200, 'min_data_in_leaf': 20, 'bagging_freq': 1, 'subsample': 0.6, 'feature_fraction': 0.1, 'learning_rate': 0.01, 'bagging_fraction': 0.5, 'boosting_type': 'gbdt', 'objective': 'binary', 'max_depth': -1, 'metric': 'auc', 'boost_from_average': 'false', 'verbosity': -1, 'tree_learner': 'serial', 'gpu_platform_id': -1}\n",
      "Training until validation scores don't improve for 4000 rounds.\n",
      "[5000]\ttraining's auc: 0.960233\tvalid_1's auc: 0.897892\n",
      "[10000]\ttraining's auc: 0.987183\tvalid_1's auc: 0.898313\n",
      "Early stopping, best iteration is:\n",
      "[6760]\ttraining's auc: 0.972374\tvalid_1's auc: 0.8985\n",
      "\n",
      "Next set of params..... {'num_leaves': 20, 'min_child_samples': 50, 'min_data_in_leaf': 20, 'bagging_freq': 5, 'subsample': 0.9, 'feature_fraction': 0.1, 'learning_rate': 0.01, 'bagging_fraction': 0.1, 'boosting_type': 'gbdt', 'objective': 'binary', 'max_depth': -1, 'metric': 'auc', 'boost_from_average': 'false', 'verbosity': -1, 'tree_learner': 'serial', 'gpu_platform_id': -1}\n",
      "Training until validation scores don't improve for 4000 rounds.\n",
      "[5000]\ttraining's auc: 0.958382\tvalid_1's auc: 0.896253\n",
      "Early stopping, best iteration is:\n",
      "[4441]\ttraining's auc: 0.954055\tvalid_1's auc: 0.896441\n",
      "\n",
      "Next set of params..... {'num_leaves': 20, 'min_child_samples': 50, 'min_data_in_leaf': 50, 'bagging_freq': 5, 'subsample': 0.9, 'feature_fraction': 0.1, 'learning_rate': 0.001, 'bagging_fraction': 0.5, 'boosting_type': 'gbdt', 'objective': 'binary', 'max_depth': -1, 'metric': 'auc', 'boost_from_average': 'false', 'verbosity': -1, 'tree_learner': 'serial', 'gpu_platform_id': -1}\n",
      "Training until validation scores don't improve for 4000 rounds.\n",
      "[5000]\ttraining's auc: 0.890526\tvalid_1's auc: 0.86574\n",
      "[10000]\ttraining's auc: 0.906363\tvalid_1's auc: 0.877241\n",
      "[15000]\ttraining's auc: 0.918547\tvalid_1's auc: 0.885248\n",
      "[20000]\ttraining's auc: 0.927761\tvalid_1's auc: 0.890422\n",
      "[25000]\ttraining's auc: 0.934945\tvalid_1's auc: 0.893645\n",
      "[30000]\ttraining's auc: 0.940827\tvalid_1's auc: 0.895696\n",
      "[35000]\ttraining's auc: 0.945866\tvalid_1's auc: 0.897032\n",
      "[40000]\ttraining's auc: 0.950322\tvalid_1's auc: 0.897949\n"
     ]
    },
    {
     "ename": "KeyboardInterrupt",
     "evalue": "",
     "output_type": "error",
     "traceback": [
      "\u001b[0;31m---------------------------------------------------------------------------\u001b[0m",
      "\u001b[0;31mKeyboardInterrupt\u001b[0m                         Traceback (most recent call last)",
      "\u001b[0;32m<ipython-input-18-b62f5269820d>\u001b[0m in \u001b[0;36m<module>\u001b[0;34m\u001b[0m\n\u001b[1;32m      1\u001b[0m res_gp = gp_minimize(lgb_optim, baysian_space, n_calls=20,\n\u001b[0;32m----> 2\u001b[0;31m                      random_state=0,n_random_starts=10)\n\u001b[0m",
      "\u001b[0;32m~/.local/lib/python3.6/site-packages/skopt/optimizer/gp.py\u001b[0m in \u001b[0;36mgp_minimize\u001b[0;34m(func, dimensions, base_estimator, n_calls, n_random_starts, acq_func, acq_optimizer, x0, y0, random_state, verbose, callback, n_points, n_restarts_optimizer, xi, kappa, noise, n_jobs)\u001b[0m\n\u001b[1;32m    226\u001b[0m         \u001b[0mn_restarts_optimizer\u001b[0m\u001b[0;34m=\u001b[0m\u001b[0mn_restarts_optimizer\u001b[0m\u001b[0;34m,\u001b[0m\u001b[0;34m\u001b[0m\u001b[0;34m\u001b[0m\u001b[0m\n\u001b[1;32m    227\u001b[0m         \u001b[0mx0\u001b[0m\u001b[0;34m=\u001b[0m\u001b[0mx0\u001b[0m\u001b[0;34m,\u001b[0m \u001b[0my0\u001b[0m\u001b[0;34m=\u001b[0m\u001b[0my0\u001b[0m\u001b[0;34m,\u001b[0m \u001b[0mrandom_state\u001b[0m\u001b[0;34m=\u001b[0m\u001b[0mrng\u001b[0m\u001b[0;34m,\u001b[0m \u001b[0mverbose\u001b[0m\u001b[0;34m=\u001b[0m\u001b[0mverbose\u001b[0m\u001b[0;34m,\u001b[0m\u001b[0;34m\u001b[0m\u001b[0;34m\u001b[0m\u001b[0m\n\u001b[0;32m--> 228\u001b[0;31m         callback=callback, n_jobs=n_jobs)\n\u001b[0m",
      "\u001b[0;32m~/.local/lib/python3.6/site-packages/skopt/optimizer/base.py\u001b[0m in \u001b[0;36mbase_minimize\u001b[0;34m(func, dimensions, base_estimator, n_calls, n_random_starts, acq_func, acq_optimizer, x0, y0, random_state, verbose, callback, n_points, n_restarts_optimizer, xi, kappa, n_jobs)\u001b[0m\n\u001b[1;32m    246\u001b[0m     \u001b[0;32mfor\u001b[0m \u001b[0mn\u001b[0m \u001b[0;32min\u001b[0m \u001b[0mrange\u001b[0m\u001b[0;34m(\u001b[0m\u001b[0mn_calls\u001b[0m\u001b[0;34m)\u001b[0m\u001b[0;34m:\u001b[0m\u001b[0;34m\u001b[0m\u001b[0;34m\u001b[0m\u001b[0m\n\u001b[1;32m    247\u001b[0m         \u001b[0mnext_x\u001b[0m \u001b[0;34m=\u001b[0m \u001b[0moptimizer\u001b[0m\u001b[0;34m.\u001b[0m\u001b[0mask\u001b[0m\u001b[0;34m(\u001b[0m\u001b[0;34m)\u001b[0m\u001b[0;34m\u001b[0m\u001b[0;34m\u001b[0m\u001b[0m\n\u001b[0;32m--> 248\u001b[0;31m         \u001b[0mnext_y\u001b[0m \u001b[0;34m=\u001b[0m \u001b[0mfunc\u001b[0m\u001b[0;34m(\u001b[0m\u001b[0mnext_x\u001b[0m\u001b[0;34m)\u001b[0m\u001b[0;34m\u001b[0m\u001b[0;34m\u001b[0m\u001b[0m\n\u001b[0m\u001b[1;32m    249\u001b[0m         \u001b[0mresult\u001b[0m \u001b[0;34m=\u001b[0m \u001b[0moptimizer\u001b[0m\u001b[0;34m.\u001b[0m\u001b[0mtell\u001b[0m\u001b[0;34m(\u001b[0m\u001b[0mnext_x\u001b[0m\u001b[0;34m,\u001b[0m \u001b[0mnext_y\u001b[0m\u001b[0;34m)\u001b[0m\u001b[0;34m\u001b[0m\u001b[0;34m\u001b[0m\u001b[0m\n\u001b[1;32m    250\u001b[0m         \u001b[0mresult\u001b[0m\u001b[0;34m.\u001b[0m\u001b[0mspecs\u001b[0m \u001b[0;34m=\u001b[0m \u001b[0mspecs\u001b[0m\u001b[0;34m\u001b[0m\u001b[0;34m\u001b[0m\u001b[0m\n",
      "\u001b[0;32m<ipython-input-17-894c39d5f10b>\u001b[0m in \u001b[0;36mlgb_optim\u001b[0;34m(values)\u001b[0m\n\u001b[1;32m     22\u001b[0m     \u001b[0mval_data\u001b[0m \u001b[0;34m=\u001b[0m \u001b[0mlgb\u001b[0m\u001b[0;34m.\u001b[0m\u001b[0mDataset\u001b[0m\u001b[0;34m(\u001b[0m\u001b[0mX_test\u001b[0m\u001b[0;34m,\u001b[0m \u001b[0mlabel\u001b[0m\u001b[0;34m=\u001b[0m\u001b[0my_test\u001b[0m\u001b[0;34m)\u001b[0m\u001b[0;34m\u001b[0m\u001b[0;34m\u001b[0m\u001b[0m\n\u001b[1;32m     23\u001b[0m     \u001b[0mevals_results\u001b[0m \u001b[0;34m=\u001b[0m \u001b[0;34m{\u001b[0m\u001b[0;34m}\u001b[0m\u001b[0;34m\u001b[0m\u001b[0;34m\u001b[0m\u001b[0m\n\u001b[0;32m---> 24\u001b[0;31m     \u001b[0mmodel_lgb\u001b[0m     \u001b[0;34m=\u001b[0m \u001b[0mlgb\u001b[0m\u001b[0;34m.\u001b[0m\u001b[0mtrain\u001b[0m\u001b[0;34m(\u001b[0m\u001b[0mparams\u001b[0m\u001b[0;34m,\u001b[0m \u001b[0mtrn_data\u001b[0m\u001b[0;34m,\u001b[0m \u001b[0;36m1000000\u001b[0m\u001b[0;34m,\u001b[0m \u001b[0mvalid_sets\u001b[0m \u001b[0;34m=\u001b[0m \u001b[0;34m[\u001b[0m\u001b[0mtrn_data\u001b[0m\u001b[0;34m,\u001b[0m \u001b[0mval_data\u001b[0m\u001b[0;34m]\u001b[0m\u001b[0;34m,\u001b[0m \u001b[0mverbose_eval\u001b[0m\u001b[0;34m=\u001b[0m\u001b[0;36m5000\u001b[0m\u001b[0;34m,\u001b[0m \u001b[0mearly_stopping_rounds\u001b[0m \u001b[0;34m=\u001b[0m \u001b[0;36m4000\u001b[0m\u001b[0;34m)\u001b[0m\u001b[0;34m\u001b[0m\u001b[0;34m\u001b[0m\u001b[0m\n\u001b[0m\u001b[1;32m     25\u001b[0m     \u001b[0mauc\u001b[0m \u001b[0;34m=\u001b[0m \u001b[0;34m-\u001b[0m\u001b[0mroc_auc_score\u001b[0m\u001b[0;34m(\u001b[0m\u001b[0my_train\u001b[0m\u001b[0;34m,\u001b[0m \u001b[0mmodel_lgb\u001b[0m\u001b[0;34m.\u001b[0m\u001b[0mpredict\u001b[0m\u001b[0;34m(\u001b[0m\u001b[0mX_train\u001b[0m\u001b[0;34m)\u001b[0m\u001b[0;34m)\u001b[0m\u001b[0;34m\u001b[0m\u001b[0;34m\u001b[0m\u001b[0m\n\u001b[1;32m     26\u001b[0m     \u001b[0;32mreturn\u001b[0m  \u001b[0mauc\u001b[0m\u001b[0;34m\u001b[0m\u001b[0;34m\u001b[0m\u001b[0m\n",
      "\u001b[0;32m~/.local/lib/python3.6/site-packages/lightgbm/engine.py\u001b[0m in \u001b[0;36mtrain\u001b[0;34m(params, train_set, num_boost_round, valid_sets, valid_names, fobj, feval, init_model, feature_name, categorical_feature, early_stopping_rounds, evals_result, verbose_eval, learning_rates, keep_training_booster, callbacks)\u001b[0m\n\u001b[1;32m    217\u001b[0m         \u001b[0;32mif\u001b[0m \u001b[0mvalid_sets\u001b[0m \u001b[0;32mis\u001b[0m \u001b[0;32mnot\u001b[0m \u001b[0;32mNone\u001b[0m\u001b[0;34m:\u001b[0m\u001b[0;34m\u001b[0m\u001b[0;34m\u001b[0m\u001b[0m\n\u001b[1;32m    218\u001b[0m             \u001b[0;32mif\u001b[0m \u001b[0mis_valid_contain_train\u001b[0m\u001b[0;34m:\u001b[0m\u001b[0;34m\u001b[0m\u001b[0;34m\u001b[0m\u001b[0m\n\u001b[0;32m--> 219\u001b[0;31m                 \u001b[0mevaluation_result_list\u001b[0m\u001b[0;34m.\u001b[0m\u001b[0mextend\u001b[0m\u001b[0;34m(\u001b[0m\u001b[0mbooster\u001b[0m\u001b[0;34m.\u001b[0m\u001b[0meval_train\u001b[0m\u001b[0;34m(\u001b[0m\u001b[0mfeval\u001b[0m\u001b[0;34m)\u001b[0m\u001b[0;34m)\u001b[0m\u001b[0;34m\u001b[0m\u001b[0;34m\u001b[0m\u001b[0m\n\u001b[0m\u001b[1;32m    220\u001b[0m             \u001b[0mevaluation_result_list\u001b[0m\u001b[0;34m.\u001b[0m\u001b[0mextend\u001b[0m\u001b[0;34m(\u001b[0m\u001b[0mbooster\u001b[0m\u001b[0;34m.\u001b[0m\u001b[0meval_valid\u001b[0m\u001b[0;34m(\u001b[0m\u001b[0mfeval\u001b[0m\u001b[0;34m)\u001b[0m\u001b[0;34m)\u001b[0m\u001b[0;34m\u001b[0m\u001b[0;34m\u001b[0m\u001b[0m\n\u001b[1;32m    221\u001b[0m         \u001b[0;32mtry\u001b[0m\u001b[0;34m:\u001b[0m\u001b[0;34m\u001b[0m\u001b[0;34m\u001b[0m\u001b[0m\n",
      "\u001b[0;32m~/.local/lib/python3.6/site-packages/lightgbm/basic.py\u001b[0m in \u001b[0;36meval_train\u001b[0;34m(self, feval)\u001b[0m\n\u001b[1;32m   1908\u001b[0m             \u001b[0mList\u001b[0m \u001b[0;32mwith\u001b[0m \u001b[0mevaluation\u001b[0m \u001b[0mresults\u001b[0m\u001b[0;34m.\u001b[0m\u001b[0;34m\u001b[0m\u001b[0;34m\u001b[0m\u001b[0m\n\u001b[1;32m   1909\u001b[0m         \"\"\"\n\u001b[0;32m-> 1910\u001b[0;31m         \u001b[0;32mreturn\u001b[0m \u001b[0mself\u001b[0m\u001b[0;34m.\u001b[0m\u001b[0m__inner_eval\u001b[0m\u001b[0;34m(\u001b[0m\u001b[0mself\u001b[0m\u001b[0;34m.\u001b[0m\u001b[0m__train_data_name\u001b[0m\u001b[0;34m,\u001b[0m \u001b[0;36m0\u001b[0m\u001b[0;34m,\u001b[0m \u001b[0mfeval\u001b[0m\u001b[0;34m)\u001b[0m\u001b[0;34m\u001b[0m\u001b[0;34m\u001b[0m\u001b[0m\n\u001b[0m\u001b[1;32m   1911\u001b[0m \u001b[0;34m\u001b[0m\u001b[0m\n\u001b[1;32m   1912\u001b[0m     \u001b[0;32mdef\u001b[0m \u001b[0meval_valid\u001b[0m\u001b[0;34m(\u001b[0m\u001b[0mself\u001b[0m\u001b[0;34m,\u001b[0m \u001b[0mfeval\u001b[0m\u001b[0;34m=\u001b[0m\u001b[0;32mNone\u001b[0m\u001b[0;34m)\u001b[0m\u001b[0;34m:\u001b[0m\u001b[0;34m\u001b[0m\u001b[0;34m\u001b[0m\u001b[0m\n",
      "\u001b[0;32m~/.local/lib/python3.6/site-packages/lightgbm/basic.py\u001b[0m in \u001b[0;36m__inner_eval\u001b[0;34m(self, data_name, data_idx, feval)\u001b[0m\n\u001b[1;32m   2302\u001b[0m                 \u001b[0mctypes\u001b[0m\u001b[0;34m.\u001b[0m\u001b[0mc_int\u001b[0m\u001b[0;34m(\u001b[0m\u001b[0mdata_idx\u001b[0m\u001b[0;34m)\u001b[0m\u001b[0;34m,\u001b[0m\u001b[0;34m\u001b[0m\u001b[0;34m\u001b[0m\u001b[0m\n\u001b[1;32m   2303\u001b[0m                 \u001b[0mctypes\u001b[0m\u001b[0;34m.\u001b[0m\u001b[0mbyref\u001b[0m\u001b[0;34m(\u001b[0m\u001b[0mtmp_out_len\u001b[0m\u001b[0;34m)\u001b[0m\u001b[0;34m,\u001b[0m\u001b[0;34m\u001b[0m\u001b[0;34m\u001b[0m\u001b[0m\n\u001b[0;32m-> 2304\u001b[0;31m                 result.ctypes.data_as(ctypes.POINTER(ctypes.c_double))))\n\u001b[0m\u001b[1;32m   2305\u001b[0m             \u001b[0;32mif\u001b[0m \u001b[0mtmp_out_len\u001b[0m\u001b[0;34m.\u001b[0m\u001b[0mvalue\u001b[0m \u001b[0;34m!=\u001b[0m \u001b[0mself\u001b[0m\u001b[0;34m.\u001b[0m\u001b[0m__num_inner_eval\u001b[0m\u001b[0;34m:\u001b[0m\u001b[0;34m\u001b[0m\u001b[0;34m\u001b[0m\u001b[0m\n\u001b[1;32m   2306\u001b[0m                 \u001b[0;32mraise\u001b[0m \u001b[0mValueError\u001b[0m\u001b[0;34m(\u001b[0m\u001b[0;34m\"Wrong length of eval results\"\u001b[0m\u001b[0;34m)\u001b[0m\u001b[0;34m\u001b[0m\u001b[0;34m\u001b[0m\u001b[0m\n",
      "\u001b[0;31mKeyboardInterrupt\u001b[0m: "
     ]
    }
   ],
   "source": [
    "res_gp = gp_minimize(lgb_optim, baysian_space, n_calls=20,\n",
    "                     random_state=0,n_random_starts=10)"
   ]
  },
  {
   "cell_type": "code",
   "execution_count": null,
   "metadata": {},
   "outputs": [],
   "source": [
    "clf = lgb.train(param, trn_data, 1000000, valid_sets = [trn_data, val_data], verbose_eval=5000, early_stopping_rounds = 4000)"
   ]
  },
  {
   "cell_type": "markdown",
   "metadata": {},
   "source": [
    "# RandomForest parameter tuning using Baysian optimization"
   ]
  },
  {
   "cell_type": "code",
   "execution_count": 23,
   "metadata": {},
   "outputs": [],
   "source": [
    "rf_baysian_space  = [\n",
    "          Integer(15, 200, name='min_samples_leaf'),\n",
    "          Integer(100, 250, name='n_estimators'),\n",
    "          Real(0.1, 0.7, name='max_features'),\n",
    "         ]"
   ]
  },
  {
   "cell_type": "code",
   "execution_count": 29,
   "metadata": {},
   "outputs": [],
   "source": [
    "??RandomForestClassifier"
   ]
  },
  {
   "cell_type": "code",
   "execution_count": 24,
   "metadata": {},
   "outputs": [],
   "source": [
    "def rf_optim(values):\n",
    "    params = {'min_samples_leaf': values[0], \n",
    "          'n_estimators': values[1], \n",
    "          'max_features': values[2], \n",
    "           'n_jobs' : -1,\n",
    "           'random_state' : 42,\n",
    "             }\n",
    "    print('\\nNext set of params.....',params)\n",
    "    rf = RandomForestClassifier(**params)\n",
    "    rf.fit(X_train, y_train)\n",
    "    auc = -roc_auc_score(y_train, rf.predict(X_train))\n",
    "    return  auc"
   ]
  },
  {
   "cell_type": "code",
   "execution_count": 25,
   "metadata": {},
   "outputs": [
    {
     "name": "stdout",
     "output_type": "stream",
     "text": [
      "\n",
      "Next set of params..... {'min_samples_leaf': 125, 'n_estimators': 227, 'max_features': 0.6147673705736542, 'n_jobs': -1, 'random_state': 42, 'metric': 'auc'}\n"
     ]
    },
    {
     "ename": "ValueError",
     "evalue": "n_estimators must be an integer, got <class 'dict'>.",
     "output_type": "error",
     "traceback": [
      "\u001b[0;31m---------------------------------------------------------------------------\u001b[0m",
      "\u001b[0;31mValueError\u001b[0m                                Traceback (most recent call last)",
      "\u001b[0;32m<ipython-input-25-a20fe4015bf1>\u001b[0m in \u001b[0;36m<module>\u001b[0;34m\u001b[0m\n\u001b[1;32m      1\u001b[0m res_gp = gp_minimize(rf_optim, rf_baysian_space, n_calls=10,\n\u001b[0;32m----> 2\u001b[0;31m                      random_state=0,n_random_starts=10)\n\u001b[0m",
      "\u001b[0;32m~/.local/lib/python3.6/site-packages/skopt/optimizer/gp.py\u001b[0m in \u001b[0;36mgp_minimize\u001b[0;34m(func, dimensions, base_estimator, n_calls, n_random_starts, acq_func, acq_optimizer, x0, y0, random_state, verbose, callback, n_points, n_restarts_optimizer, xi, kappa, noise, n_jobs)\u001b[0m\n\u001b[1;32m    226\u001b[0m         \u001b[0mn_restarts_optimizer\u001b[0m\u001b[0;34m=\u001b[0m\u001b[0mn_restarts_optimizer\u001b[0m\u001b[0;34m,\u001b[0m\u001b[0;34m\u001b[0m\u001b[0;34m\u001b[0m\u001b[0m\n\u001b[1;32m    227\u001b[0m         \u001b[0mx0\u001b[0m\u001b[0;34m=\u001b[0m\u001b[0mx0\u001b[0m\u001b[0;34m,\u001b[0m \u001b[0my0\u001b[0m\u001b[0;34m=\u001b[0m\u001b[0my0\u001b[0m\u001b[0;34m,\u001b[0m \u001b[0mrandom_state\u001b[0m\u001b[0;34m=\u001b[0m\u001b[0mrng\u001b[0m\u001b[0;34m,\u001b[0m \u001b[0mverbose\u001b[0m\u001b[0;34m=\u001b[0m\u001b[0mverbose\u001b[0m\u001b[0;34m,\u001b[0m\u001b[0;34m\u001b[0m\u001b[0;34m\u001b[0m\u001b[0m\n\u001b[0;32m--> 228\u001b[0;31m         callback=callback, n_jobs=n_jobs)\n\u001b[0m",
      "\u001b[0;32m~/.local/lib/python3.6/site-packages/skopt/optimizer/base.py\u001b[0m in \u001b[0;36mbase_minimize\u001b[0;34m(func, dimensions, base_estimator, n_calls, n_random_starts, acq_func, acq_optimizer, x0, y0, random_state, verbose, callback, n_points, n_restarts_optimizer, xi, kappa, n_jobs)\u001b[0m\n\u001b[1;32m    246\u001b[0m     \u001b[0;32mfor\u001b[0m \u001b[0mn\u001b[0m \u001b[0;32min\u001b[0m \u001b[0mrange\u001b[0m\u001b[0;34m(\u001b[0m\u001b[0mn_calls\u001b[0m\u001b[0;34m)\u001b[0m\u001b[0;34m:\u001b[0m\u001b[0;34m\u001b[0m\u001b[0;34m\u001b[0m\u001b[0m\n\u001b[1;32m    247\u001b[0m         \u001b[0mnext_x\u001b[0m \u001b[0;34m=\u001b[0m \u001b[0moptimizer\u001b[0m\u001b[0;34m.\u001b[0m\u001b[0mask\u001b[0m\u001b[0;34m(\u001b[0m\u001b[0;34m)\u001b[0m\u001b[0;34m\u001b[0m\u001b[0;34m\u001b[0m\u001b[0m\n\u001b[0;32m--> 248\u001b[0;31m         \u001b[0mnext_y\u001b[0m \u001b[0;34m=\u001b[0m \u001b[0mfunc\u001b[0m\u001b[0;34m(\u001b[0m\u001b[0mnext_x\u001b[0m\u001b[0;34m)\u001b[0m\u001b[0;34m\u001b[0m\u001b[0;34m\u001b[0m\u001b[0m\n\u001b[0m\u001b[1;32m    249\u001b[0m         \u001b[0mresult\u001b[0m \u001b[0;34m=\u001b[0m \u001b[0moptimizer\u001b[0m\u001b[0;34m.\u001b[0m\u001b[0mtell\u001b[0m\u001b[0;34m(\u001b[0m\u001b[0mnext_x\u001b[0m\u001b[0;34m,\u001b[0m \u001b[0mnext_y\u001b[0m\u001b[0;34m)\u001b[0m\u001b[0;34m\u001b[0m\u001b[0;34m\u001b[0m\u001b[0m\n\u001b[1;32m    250\u001b[0m         \u001b[0mresult\u001b[0m\u001b[0;34m.\u001b[0m\u001b[0mspecs\u001b[0m \u001b[0;34m=\u001b[0m \u001b[0mspecs\u001b[0m\u001b[0;34m\u001b[0m\u001b[0;34m\u001b[0m\u001b[0m\n",
      "\u001b[0;32m<ipython-input-24-667846977c88>\u001b[0m in \u001b[0;36mrf_optim\u001b[0;34m(values)\u001b[0m\n\u001b[1;32m      9\u001b[0m     \u001b[0mprint\u001b[0m\u001b[0;34m(\u001b[0m\u001b[0;34m'\\nNext set of params.....'\u001b[0m\u001b[0;34m,\u001b[0m\u001b[0mparams\u001b[0m\u001b[0;34m)\u001b[0m\u001b[0;34m\u001b[0m\u001b[0;34m\u001b[0m\u001b[0m\n\u001b[1;32m     10\u001b[0m     \u001b[0mrf\u001b[0m \u001b[0;34m=\u001b[0m \u001b[0mRandomForestClassifier\u001b[0m\u001b[0;34m(\u001b[0m\u001b[0mparams\u001b[0m\u001b[0;34m)\u001b[0m\u001b[0;34m\u001b[0m\u001b[0;34m\u001b[0m\u001b[0m\n\u001b[0;32m---> 11\u001b[0;31m     \u001b[0mrf\u001b[0m\u001b[0;34m.\u001b[0m\u001b[0mfit\u001b[0m\u001b[0;34m(\u001b[0m\u001b[0mX_train\u001b[0m\u001b[0;34m,\u001b[0m \u001b[0my_train\u001b[0m\u001b[0;34m)\u001b[0m\u001b[0;34m\u001b[0m\u001b[0;34m\u001b[0m\u001b[0m\n\u001b[0m\u001b[1;32m     12\u001b[0m     \u001b[0mauc\u001b[0m \u001b[0;34m=\u001b[0m \u001b[0;34m-\u001b[0m\u001b[0mroc_auc_score\u001b[0m\u001b[0;34m(\u001b[0m\u001b[0my_train\u001b[0m\u001b[0;34m,\u001b[0m \u001b[0mrf\u001b[0m\u001b[0;34m.\u001b[0m\u001b[0mpredict\u001b[0m\u001b[0;34m(\u001b[0m\u001b[0mX_train\u001b[0m\u001b[0;34m)\u001b[0m\u001b[0;34m)\u001b[0m\u001b[0;34m\u001b[0m\u001b[0;34m\u001b[0m\u001b[0m\n\u001b[1;32m     13\u001b[0m     \u001b[0;32mreturn\u001b[0m  \u001b[0mauc\u001b[0m\u001b[0;34m\u001b[0m\u001b[0;34m\u001b[0m\u001b[0m\n",
      "\u001b[0;32m~/.local/lib/python3.6/site-packages/sklearn/ensemble/forest.py\u001b[0m in \u001b[0;36mfit\u001b[0;34m(self, X, y, sample_weight)\u001b[0m\n\u001b[1;32m    288\u001b[0m \u001b[0;34m\u001b[0m\u001b[0m\n\u001b[1;32m    289\u001b[0m         \u001b[0;31m# Check parameters\u001b[0m\u001b[0;34m\u001b[0m\u001b[0;34m\u001b[0m\u001b[0;34m\u001b[0m\u001b[0m\n\u001b[0;32m--> 290\u001b[0;31m         \u001b[0mself\u001b[0m\u001b[0;34m.\u001b[0m\u001b[0m_validate_estimator\u001b[0m\u001b[0;34m(\u001b[0m\u001b[0;34m)\u001b[0m\u001b[0;34m\u001b[0m\u001b[0;34m\u001b[0m\u001b[0m\n\u001b[0m\u001b[1;32m    291\u001b[0m \u001b[0;34m\u001b[0m\u001b[0m\n\u001b[1;32m    292\u001b[0m         \u001b[0;32mif\u001b[0m \u001b[0;32mnot\u001b[0m \u001b[0mself\u001b[0m\u001b[0;34m.\u001b[0m\u001b[0mbootstrap\u001b[0m \u001b[0;32mand\u001b[0m \u001b[0mself\u001b[0m\u001b[0;34m.\u001b[0m\u001b[0moob_score\u001b[0m\u001b[0;34m:\u001b[0m\u001b[0;34m\u001b[0m\u001b[0;34m\u001b[0m\u001b[0m\n",
      "\u001b[0;32m~/.local/lib/python3.6/site-packages/sklearn/ensemble/base.py\u001b[0m in \u001b[0;36m_validate_estimator\u001b[0;34m(self, default)\u001b[0m\n\u001b[1;32m    104\u001b[0m         \u001b[0;32mif\u001b[0m \u001b[0;32mnot\u001b[0m \u001b[0misinstance\u001b[0m\u001b[0;34m(\u001b[0m\u001b[0mself\u001b[0m\u001b[0;34m.\u001b[0m\u001b[0mn_estimators\u001b[0m\u001b[0;34m,\u001b[0m \u001b[0;34m(\u001b[0m\u001b[0mnumbers\u001b[0m\u001b[0;34m.\u001b[0m\u001b[0mIntegral\u001b[0m\u001b[0;34m,\u001b[0m \u001b[0mnp\u001b[0m\u001b[0;34m.\u001b[0m\u001b[0minteger\u001b[0m\u001b[0;34m)\u001b[0m\u001b[0;34m)\u001b[0m\u001b[0;34m:\u001b[0m\u001b[0;34m\u001b[0m\u001b[0;34m\u001b[0m\u001b[0m\n\u001b[1;32m    105\u001b[0m             raise ValueError(\"n_estimators must be an integer, \"\n\u001b[0;32m--> 106\u001b[0;31m                              \"got {0}.\".format(type(self.n_estimators)))\n\u001b[0m\u001b[1;32m    107\u001b[0m \u001b[0;34m\u001b[0m\u001b[0m\n\u001b[1;32m    108\u001b[0m         \u001b[0;32mif\u001b[0m \u001b[0mself\u001b[0m\u001b[0;34m.\u001b[0m\u001b[0mn_estimators\u001b[0m \u001b[0;34m<=\u001b[0m \u001b[0;36m0\u001b[0m\u001b[0;34m:\u001b[0m\u001b[0;34m\u001b[0m\u001b[0;34m\u001b[0m\u001b[0m\n",
      "\u001b[0;31mValueError\u001b[0m: n_estimators must be an integer, got <class 'dict'>."
     ]
    }
   ],
   "source": [
    "res_gp = gp_minimize(rf_optim, rf_baysian_space, n_calls=10,\n",
    "                     random_state=0,n_random_starts=10)"
   ]
  },
  {
   "cell_type": "code",
   "execution_count": null,
   "metadata": {},
   "outputs": [],
   "source": []
  }
 ],
 "metadata": {
  "kernelspec": {
   "display_name": "Python 3",
   "language": "python",
   "name": "python3"
  },
  "language_info": {
   "codemirror_mode": {
    "name": "ipython",
    "version": 3
   },
   "file_extension": ".py",
   "mimetype": "text/x-python",
   "name": "python",
   "nbconvert_exporter": "python",
   "pygments_lexer": "ipython3",
   "version": "3.6.8"
  }
 },
 "nbformat": 4,
 "nbformat_minor": 2
}

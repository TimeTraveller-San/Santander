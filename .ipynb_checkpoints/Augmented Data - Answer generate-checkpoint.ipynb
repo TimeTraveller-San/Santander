{
 "cells": [
  {
   "cell_type": "markdown",
   "metadata": {},
   "source": [
    "# Augmented answer generate"
   ]
  },
  {
   "cell_type": "markdown",
   "metadata": {},
   "source": [
    "## Imports"
   ]
  },
  {
   "cell_type": "code",
   "execution_count": 1,
   "metadata": {},
   "outputs": [],
   "source": [
    "from fastai import *\n",
    "import numpy as np\n",
    "import pandas as pd\n",
    "import pandas_profiling\n",
    "import matplotlib.pyplot as plt\n",
    "import seaborn as sns\n",
    "from sklearn.model_selection import StratifiedKFold\n",
    "from skopt.space import Real, Integer\n",
    "from skopt.utils import use_named_args\n",
    "import itertools\n",
    "from sklearn.metrics import roc_auc_score\n",
    "from skopt import gp_minimize\n",
    "from fastai import *\n",
    "import numpy as np\n",
    "import pandas as pd\n",
    "import pandas_profiling\n",
    "import matplotlib.pyplot as plt\n",
    "import seaborn as sns\n",
    "import lightgbm as lgb\n",
    "import pickle"
   ]
  },
  {
   "cell_type": "markdown",
   "metadata": {},
   "source": [
    "## Load data"
   ]
  },
  {
   "cell_type": "code",
   "execution_count": 18,
   "metadata": {},
   "outputs": [],
   "source": [
    "df_train = pd.read_csv('data/train.csv')\n",
    "X_train = df_train.drop(['ID_code', 'target'], axis=1)\n",
    "y_train = df_train.target"
   ]
  },
  {
   "cell_type": "markdown",
   "metadata": {
    "heading_collapsed": true
   },
   "source": [
    "## Train super model"
   ]
  },
  {
   "cell_type": "code",
   "execution_count": 6,
   "metadata": {
    "hidden": true
   },
   "outputs": [],
   "source": [
    "def load_model(model_name):\n",
    "    with open(model_name, 'rb') as handle:\n",
    "        model = pickle.load(handle)\n",
    "    return model    \n",
    "\n",
    "def make_prediction(model, X):\n",
    "    return model.predict(X)\n",
    "\n",
    "def get_all_preds(X, model_names):\n",
    "    all_preds = {}\n",
    "    for model_name in model_names:\n",
    "        i = 0\n",
    "        models = load_model(model_name)\n",
    "        for model in models:\n",
    "            i = i + 1\n",
    "            y_pred = make_prediction(model, X)\n",
    "            key = str(model_name) + str(i)\n",
    "            all_preds[key] = y_pred\n",
    "            print(f\"{key} Done with {len(y_pred)} shape\")\n",
    "    return pd.DataFrame(all_preds)      "
   ]
  },
  {
   "cell_type": "code",
   "execution_count": 7,
   "metadata": {
    "hidden": true
   },
   "outputs": [],
   "source": [
    "model_names = !ls *m\n",
    "model_names = list(model_names)"
   ]
  },
  {
   "cell_type": "code",
   "execution_count": 8,
   "metadata": {
    "hidden": true
   },
   "outputs": [
    {
     "name": "stdout",
     "output_type": "stream",
     "text": [
      "adasyn_aug_lgbm_models_cv10.m1 Done with 200000 shape\n",
      "adasyn_aug_lgbm_models_cv10.m2 Done with 200000 shape\n",
      "adasyn_aug_lgbm_models_cv10.m3 Done with 200000 shape\n",
      "adasyn_aug_lgbm_models_cv10.m4 Done with 200000 shape\n",
      "adasyn_aug_lgbm_models_cv10.m5 Done with 200000 shape\n",
      "bsmote_aug_lgbm_models_cv10.m1 Done with 200000 shape\n",
      "bsmote_aug_lgbm_models_cv10.m2 Done with 200000 shape\n",
      "bsmote_aug_lgbm_models_cv10.m3 Done with 200000 shape\n",
      "bsmote_aug_lgbm_models_cv10.m4 Done with 200000 shape\n",
      "bsmote_aug_lgbm_models_cv10.m5 Done with 200000 shape\n",
      "lgbm_cv10_models.m1 Done with 200000 shape\n",
      "lgbm_cv10_models.m2 Done with 200000 shape\n",
      "lgbm_cv10_models.m3 Done with 200000 shape\n",
      "lgbm_cv10_models.m4 Done with 200000 shape\n",
      "lgbm_cv10_models.m5 Done with 200000 shape\n",
      "lgbm_cv10_models.m6 Done with 200000 shape\n",
      "lgbm_cv10_models.m7 Done with 200000 shape\n",
      "lgbm_cv10_models.m8 Done with 200000 shape\n",
      "lgbm_cv10_models.m9 Done with 200000 shape\n",
      "lgbm_cv10_models.m10 Done with 200000 shape\n",
      "random_aug_lgbm_models_cv10.m1 Done with 200000 shape\n",
      "random_aug_lgbm_models_cv10.m2 Done with 200000 shape\n",
      "random_aug_lgbm_models_cv10.m3 Done with 200000 shape\n",
      "random_aug_lgbm_models_cv10.m4 Done with 200000 shape\n",
      "random_aug_lgbm_models_cv10.m5 Done with 200000 shape\n",
      "smote_aug_lgbm_models_cv10.m1 Done with 200000 shape\n",
      "smote_aug_lgbm_models_cv10.m2 Done with 200000 shape\n",
      "smote_aug_lgbm_models_cv10.m3 Done with 200000 shape\n",
      "smote_aug_lgbm_models_cv10.m4 Done with 200000 shape\n",
      "smote_aug_lgbm_models_cv10.m5 Done with 200000 shape\n"
     ]
    }
   ],
   "source": [
    "X_aug = get_all_preds(X_train, model_names)"
   ]
  },
  {
   "cell_type": "code",
   "execution_count": null,
   "metadata": {
    "hidden": true
   },
   "outputs": [],
   "source": [
    "#train super model (linear regression) on X_aug and y_train now"
   ]
  },
  {
   "cell_type": "code",
   "execution_count": 20,
   "metadata": {
    "hidden": true
   },
   "outputs": [],
   "source": [
    "X_aug.to_csv('train_augmented.csv', index=False)"
   ]
  },
  {
   "cell_type": "markdown",
   "metadata": {
    "hidden": true
   },
   "source": [
    "### Get preds on test set"
   ]
  },
  {
   "cell_type": "code",
   "execution_count": 14,
   "metadata": {
    "hidden": true
   },
   "outputs": [],
   "source": [
    "df_test = pd.read_csv('data/test.csv')\n",
    "test_labels = df_test.ID_code\n",
    "X_test = df_test.drop('ID_code', axis=1)"
   ]
  },
  {
   "cell_type": "code",
   "execution_count": 15,
   "metadata": {
    "hidden": true
   },
   "outputs": [
    {
     "name": "stdout",
     "output_type": "stream",
     "text": [
      "adasyn_aug_lgbm_models_cv10.m1 Done with 200000 shape\n",
      "adasyn_aug_lgbm_models_cv10.m2 Done with 200000 shape\n",
      "adasyn_aug_lgbm_models_cv10.m3 Done with 200000 shape\n",
      "adasyn_aug_lgbm_models_cv10.m4 Done with 200000 shape\n",
      "adasyn_aug_lgbm_models_cv10.m5 Done with 200000 shape\n",
      "bsmote_aug_lgbm_models_cv10.m1 Done with 200000 shape\n",
      "bsmote_aug_lgbm_models_cv10.m2 Done with 200000 shape\n",
      "bsmote_aug_lgbm_models_cv10.m3 Done with 200000 shape\n",
      "bsmote_aug_lgbm_models_cv10.m4 Done with 200000 shape\n",
      "bsmote_aug_lgbm_models_cv10.m5 Done with 200000 shape\n",
      "lgbm_cv10_models.m1 Done with 200000 shape\n",
      "lgbm_cv10_models.m2 Done with 200000 shape\n",
      "lgbm_cv10_models.m3 Done with 200000 shape\n",
      "lgbm_cv10_models.m4 Done with 200000 shape\n",
      "lgbm_cv10_models.m5 Done with 200000 shape\n",
      "lgbm_cv10_models.m6 Done with 200000 shape\n",
      "lgbm_cv10_models.m7 Done with 200000 shape\n",
      "lgbm_cv10_models.m8 Done with 200000 shape\n",
      "lgbm_cv10_models.m9 Done with 200000 shape\n",
      "lgbm_cv10_models.m10 Done with 200000 shape\n",
      "random_aug_lgbm_models_cv10.m1 Done with 200000 shape\n",
      "random_aug_lgbm_models_cv10.m2 Done with 200000 shape\n",
      "random_aug_lgbm_models_cv10.m3 Done with 200000 shape\n",
      "random_aug_lgbm_models_cv10.m4 Done with 200000 shape\n",
      "random_aug_lgbm_models_cv10.m5 Done with 200000 shape\n",
      "smote_aug_lgbm_models_cv10.m1 Done with 200000 shape\n",
      "smote_aug_lgbm_models_cv10.m2 Done with 200000 shape\n",
      "smote_aug_lgbm_models_cv10.m3 Done with 200000 shape\n",
      "smote_aug_lgbm_models_cv10.m4 Done with 200000 shape\n",
      "smote_aug_lgbm_models_cv10.m5 Done with 200000 shape\n"
     ]
    }
   ],
   "source": [
    "X_test_aug = get_all_preds(X_test, model_names)"
   ]
  },
  {
   "cell_type": "code",
   "execution_count": 17,
   "metadata": {
    "hidden": true
   },
   "outputs": [],
   "source": [
    "X_test_aug.to_csv('test_augmented.csv')"
   ]
  },
  {
   "cell_type": "markdown",
   "metadata": {},
   "source": [
    "# Super-learner"
   ]
  },
  {
   "cell_type": "markdown",
   "metadata": {},
   "source": [
    "### Simple linear regression"
   ]
  },
  {
   "cell_type": "code",
   "execution_count": 62,
   "metadata": {},
   "outputs": [
    {
     "name": "stdout",
     "output_type": "stream",
     "text": [
      "answer_1_simple_gbm.csv\t\t\t\t      test_augmented.csv\r\n",
      "answer_2_lgbm_with_CV10.csv\t\t\t      train_augmented.csv\r\n",
      "answer_3_lgbm_with_augmented_data_smote_and_shiz.csv\r\n"
     ]
    }
   ],
   "source": [
    "!ls *.csv"
   ]
  },
  {
   "cell_type": "code",
   "execution_count": 63,
   "metadata": {},
   "outputs": [],
   "source": [
    "augmented_train_x = pd.read_csv('train_augmented.csv')\n",
    "augmented_y = y_train.copy()"
   ]
  },
  {
   "cell_type": "code",
   "execution_count": 64,
   "metadata": {},
   "outputs": [],
   "source": [
    "from sklearn import linear_model"
   ]
  },
  {
   "cell_type": "code",
   "execution_count": 65,
   "metadata": {},
   "outputs": [
    {
     "data": {
      "text/plain": [
       "LinearRegression(copy_X=True, fit_intercept=True, n_jobs=None,\n",
       "         normalize=False)"
      ]
     },
     "execution_count": 65,
     "metadata": {},
     "output_type": "execute_result"
    }
   ],
   "source": [
    "reg = linear_model.LinearRegression()\n",
    "reg.fit(augmented_train_x, augmented_y)"
   ]
  },
  {
   "cell_type": "code",
   "execution_count": 66,
   "metadata": {},
   "outputs": [
    {
     "data": {
      "text/plain": [
       "array([-0.04072782,  0.44887592, -0.05197011, ...,  0.16407198,\n",
       "        0.00194383, -0.05755002])"
      ]
     },
     "execution_count": 66,
     "metadata": {},
     "output_type": "execute_result"
    }
   ],
   "source": [
    "reg.predict(augmented_train_x)"
   ]
  },
  {
   "cell_type": "code",
   "execution_count": 67,
   "metadata": {},
   "outputs": [],
   "source": [
    "augmented_test_x = pd.read_csv('test_augmented.csv')\n",
    "augmented_test_x = augmented_test_x.drop('Unnamed: 0', axis = 1)"
   ]
  },
  {
   "cell_type": "code",
   "execution_count": 69,
   "metadata": {},
   "outputs": [],
   "source": [
    "psss = reg.predict(augmented_test_x)"
   ]
  },
  {
   "cell_type": "code",
   "execution_count": 72,
   "metadata": {},
   "outputs": [],
   "source": [
    "answer_df = pd.DataFrame({\n",
    "    'ID_code' : test_labels,\n",
    "    'target' : psss\n",
    "})\n",
    "answer_df.to_csv('answer_4_lgbm_with_augmented_data_smote_and_shiz_and_super_learner.csv', index=False)"
   ]
  },
  {
   "cell_type": "markdown",
   "metadata": {
    "heading_collapsed": true
   },
   "source": [
    "### Submit average"
   ]
  },
  {
   "cell_type": "code",
   "execution_count": 48,
   "metadata": {
    "hidden": true
   },
   "outputs": [],
   "source": [
    "augmented_test_x = pd.read_csv('test_augmented.csv')"
   ]
  },
  {
   "cell_type": "code",
   "execution_count": 50,
   "metadata": {
    "hidden": true
   },
   "outputs": [],
   "source": [
    "augmented_test_x = augmented_test_x.drop('Unnamed: 0', axis = 1)"
   ]
  },
  {
   "cell_type": "code",
   "execution_count": 60,
   "metadata": {
    "hidden": true
   },
   "outputs": [],
   "source": [
    "predss = np.average(augmented_test_x, axis=1)"
   ]
  },
  {
   "cell_type": "code",
   "execution_count": 55,
   "metadata": {
    "hidden": true
   },
   "outputs": [
    {
     "data": {
      "text/plain": [
       "(200000,)"
      ]
     },
     "execution_count": 55,
     "metadata": {},
     "output_type": "execute_result"
    }
   ],
   "source": [
    "test_labels.shape"
   ]
  },
  {
   "cell_type": "markdown",
   "metadata": {},
   "source": [
    "# Evaluate all models"
   ]
  },
  {
   "cell_type": "code",
   "execution_count": 77,
   "metadata": {},
   "outputs": [
    {
     "name": "stdout",
     "output_type": "stream",
     "text": [
      "answer_1_simple_gbm.csv\r\n",
      "answer_2_lgbm_with_CV10.csv\r\n",
      "answer_3_lgbm_with_augmented_data_smote_and_shiz.csv\r\n",
      "answer_4_lgbm_with_augmented_data_smote_and_shiz_and_super_learner.csv\r\n",
      "test_augmented.csv\r\n",
      "train_augmented.csv\r\n"
     ]
    }
   ],
   "source": [
    "from sklearn.model_selection import train_test_split\n",
    "!ls *csv"
   ]
  },
  {
   "cell_type": "code",
   "execution_count": 87,
   "metadata": {},
   "outputs": [
    {
     "data": {
      "text/html": [
       "<div>\n",
       "<style scoped>\n",
       "    .dataframe tbody tr th:only-of-type {\n",
       "        vertical-align: middle;\n",
       "    }\n",
       "\n",
       "    .dataframe tbody tr th {\n",
       "        vertical-align: top;\n",
       "    }\n",
       "\n",
       "    .dataframe thead th {\n",
       "        text-align: right;\n",
       "    }\n",
       "</style>\n",
       "<table border=\"1\" class=\"dataframe\">\n",
       "  <thead>\n",
       "    <tr style=\"text-align: right;\">\n",
       "      <th></th>\n",
       "      <th>adasyn_aug_lgbm_models_cv10.m1</th>\n",
       "      <th>adasyn_aug_lgbm_models_cv10.m2</th>\n",
       "      <th>adasyn_aug_lgbm_models_cv10.m3</th>\n",
       "      <th>adasyn_aug_lgbm_models_cv10.m4</th>\n",
       "      <th>adasyn_aug_lgbm_models_cv10.m5</th>\n",
       "      <th>bsmote_aug_lgbm_models_cv10.m1</th>\n",
       "      <th>bsmote_aug_lgbm_models_cv10.m2</th>\n",
       "      <th>bsmote_aug_lgbm_models_cv10.m3</th>\n",
       "      <th>bsmote_aug_lgbm_models_cv10.m4</th>\n",
       "      <th>bsmote_aug_lgbm_models_cv10.m5</th>\n",
       "      <th>...</th>\n",
       "      <th>random_aug_lgbm_models_cv10.m1</th>\n",
       "      <th>random_aug_lgbm_models_cv10.m2</th>\n",
       "      <th>random_aug_lgbm_models_cv10.m3</th>\n",
       "      <th>random_aug_lgbm_models_cv10.m4</th>\n",
       "      <th>random_aug_lgbm_models_cv10.m5</th>\n",
       "      <th>smote_aug_lgbm_models_cv10.m1</th>\n",
       "      <th>smote_aug_lgbm_models_cv10.m2</th>\n",
       "      <th>smote_aug_lgbm_models_cv10.m3</th>\n",
       "      <th>smote_aug_lgbm_models_cv10.m4</th>\n",
       "      <th>smote_aug_lgbm_models_cv10.m5</th>\n",
       "    </tr>\n",
       "  </thead>\n",
       "  <tbody>\n",
       "    <tr>\n",
       "      <th>0</th>\n",
       "      <td>0.016623</td>\n",
       "      <td>0.033341</td>\n",
       "      <td>0.037256</td>\n",
       "      <td>0.048084</td>\n",
       "      <td>0.028348</td>\n",
       "      <td>0.007562</td>\n",
       "      <td>0.019911</td>\n",
       "      <td>0.024626</td>\n",
       "      <td>0.029157</td>\n",
       "      <td>0.027314</td>\n",
       "      <td>...</td>\n",
       "      <td>0.020105</td>\n",
       "      <td>0.015250</td>\n",
       "      <td>0.016137</td>\n",
       "      <td>0.018904</td>\n",
       "      <td>0.014611</td>\n",
       "      <td>0.012706</td>\n",
       "      <td>0.039920</td>\n",
       "      <td>0.026462</td>\n",
       "      <td>0.040999</td>\n",
       "      <td>0.035827</td>\n",
       "    </tr>\n",
       "    <tr>\n",
       "      <th>1</th>\n",
       "      <td>0.224061</td>\n",
       "      <td>0.370540</td>\n",
       "      <td>0.425310</td>\n",
       "      <td>0.296699</td>\n",
       "      <td>0.280636</td>\n",
       "      <td>0.158633</td>\n",
       "      <td>0.345929</td>\n",
       "      <td>0.362552</td>\n",
       "      <td>0.341628</td>\n",
       "      <td>0.301488</td>\n",
       "      <td>...</td>\n",
       "      <td>0.686547</td>\n",
       "      <td>0.508209</td>\n",
       "      <td>0.502711</td>\n",
       "      <td>0.450762</td>\n",
       "      <td>0.460311</td>\n",
       "      <td>0.206920</td>\n",
       "      <td>0.383714</td>\n",
       "      <td>0.364566</td>\n",
       "      <td>0.383416</td>\n",
       "      <td>0.381592</td>\n",
       "    </tr>\n",
       "    <tr>\n",
       "      <th>2</th>\n",
       "      <td>0.097611</td>\n",
       "      <td>0.056676</td>\n",
       "      <td>0.053823</td>\n",
       "      <td>0.091625</td>\n",
       "      <td>0.054415</td>\n",
       "      <td>0.039425</td>\n",
       "      <td>0.037340</td>\n",
       "      <td>0.042293</td>\n",
       "      <td>0.066892</td>\n",
       "      <td>0.057396</td>\n",
       "      <td>...</td>\n",
       "      <td>0.005116</td>\n",
       "      <td>0.005897</td>\n",
       "      <td>0.004836</td>\n",
       "      <td>0.006172</td>\n",
       "      <td>0.005005</td>\n",
       "      <td>0.074559</td>\n",
       "      <td>0.075694</td>\n",
       "      <td>0.063259</td>\n",
       "      <td>0.067911</td>\n",
       "      <td>0.050489</td>\n",
       "    </tr>\n",
       "    <tr>\n",
       "      <th>3</th>\n",
       "      <td>0.036070</td>\n",
       "      <td>0.164682</td>\n",
       "      <td>0.159335</td>\n",
       "      <td>0.203573</td>\n",
       "      <td>0.155360</td>\n",
       "      <td>0.074917</td>\n",
       "      <td>0.176158</td>\n",
       "      <td>0.158951</td>\n",
       "      <td>0.184137</td>\n",
       "      <td>0.165549</td>\n",
       "      <td>...</td>\n",
       "      <td>0.551771</td>\n",
       "      <td>0.362405</td>\n",
       "      <td>0.380677</td>\n",
       "      <td>0.429487</td>\n",
       "      <td>0.372332</td>\n",
       "      <td>0.130420</td>\n",
       "      <td>0.175960</td>\n",
       "      <td>0.143898</td>\n",
       "      <td>0.153527</td>\n",
       "      <td>0.129754</td>\n",
       "    </tr>\n",
       "    <tr>\n",
       "      <th>4</th>\n",
       "      <td>0.055706</td>\n",
       "      <td>0.150601</td>\n",
       "      <td>0.228857</td>\n",
       "      <td>0.149102</td>\n",
       "      <td>0.123431</td>\n",
       "      <td>0.026243</td>\n",
       "      <td>0.112539</td>\n",
       "      <td>0.150596</td>\n",
       "      <td>0.133850</td>\n",
       "      <td>0.099653</td>\n",
       "      <td>...</td>\n",
       "      <td>0.301496</td>\n",
       "      <td>0.166761</td>\n",
       "      <td>0.235498</td>\n",
       "      <td>0.218351</td>\n",
       "      <td>0.180874</td>\n",
       "      <td>0.045743</td>\n",
       "      <td>0.125034</td>\n",
       "      <td>0.137385</td>\n",
       "      <td>0.158880</td>\n",
       "      <td>0.154681</td>\n",
       "    </tr>\n",
       "  </tbody>\n",
       "</table>\n",
       "<p>5 rows × 30 columns</p>\n",
       "</div>"
      ],
      "text/plain": [
       "   adasyn_aug_lgbm_models_cv10.m1  adasyn_aug_lgbm_models_cv10.m2  \\\n",
       "0                        0.016623                        0.033341   \n",
       "1                        0.224061                        0.370540   \n",
       "2                        0.097611                        0.056676   \n",
       "3                        0.036070                        0.164682   \n",
       "4                        0.055706                        0.150601   \n",
       "\n",
       "   adasyn_aug_lgbm_models_cv10.m3  adasyn_aug_lgbm_models_cv10.m4  \\\n",
       "0                        0.037256                        0.048084   \n",
       "1                        0.425310                        0.296699   \n",
       "2                        0.053823                        0.091625   \n",
       "3                        0.159335                        0.203573   \n",
       "4                        0.228857                        0.149102   \n",
       "\n",
       "   adasyn_aug_lgbm_models_cv10.m5  bsmote_aug_lgbm_models_cv10.m1  \\\n",
       "0                        0.028348                        0.007562   \n",
       "1                        0.280636                        0.158633   \n",
       "2                        0.054415                        0.039425   \n",
       "3                        0.155360                        0.074917   \n",
       "4                        0.123431                        0.026243   \n",
       "\n",
       "   bsmote_aug_lgbm_models_cv10.m2  bsmote_aug_lgbm_models_cv10.m3  \\\n",
       "0                        0.019911                        0.024626   \n",
       "1                        0.345929                        0.362552   \n",
       "2                        0.037340                        0.042293   \n",
       "3                        0.176158                        0.158951   \n",
       "4                        0.112539                        0.150596   \n",
       "\n",
       "   bsmote_aug_lgbm_models_cv10.m4  bsmote_aug_lgbm_models_cv10.m5  \\\n",
       "0                        0.029157                        0.027314   \n",
       "1                        0.341628                        0.301488   \n",
       "2                        0.066892                        0.057396   \n",
       "3                        0.184137                        0.165549   \n",
       "4                        0.133850                        0.099653   \n",
       "\n",
       "               ...                random_aug_lgbm_models_cv10.m1  \\\n",
       "0              ...                                      0.020105   \n",
       "1              ...                                      0.686547   \n",
       "2              ...                                      0.005116   \n",
       "3              ...                                      0.551771   \n",
       "4              ...                                      0.301496   \n",
       "\n",
       "   random_aug_lgbm_models_cv10.m2  random_aug_lgbm_models_cv10.m3  \\\n",
       "0                        0.015250                        0.016137   \n",
       "1                        0.508209                        0.502711   \n",
       "2                        0.005897                        0.004836   \n",
       "3                        0.362405                        0.380677   \n",
       "4                        0.166761                        0.235498   \n",
       "\n",
       "   random_aug_lgbm_models_cv10.m4  random_aug_lgbm_models_cv10.m5  \\\n",
       "0                        0.018904                        0.014611   \n",
       "1                        0.450762                        0.460311   \n",
       "2                        0.006172                        0.005005   \n",
       "3                        0.429487                        0.372332   \n",
       "4                        0.218351                        0.180874   \n",
       "\n",
       "   smote_aug_lgbm_models_cv10.m1  smote_aug_lgbm_models_cv10.m2  \\\n",
       "0                       0.012706                       0.039920   \n",
       "1                       0.206920                       0.383714   \n",
       "2                       0.074559                       0.075694   \n",
       "3                       0.130420                       0.175960   \n",
       "4                       0.045743                       0.125034   \n",
       "\n",
       "   smote_aug_lgbm_models_cv10.m3  smote_aug_lgbm_models_cv10.m4  \\\n",
       "0                       0.026462                       0.040999   \n",
       "1                       0.364566                       0.383416   \n",
       "2                       0.063259                       0.067911   \n",
       "3                       0.143898                       0.153527   \n",
       "4                       0.137385                       0.158880   \n",
       "\n",
       "   smote_aug_lgbm_models_cv10.m5  \n",
       "0                       0.035827  \n",
       "1                       0.381592  \n",
       "2                       0.050489  \n",
       "3                       0.129754  \n",
       "4                       0.154681  \n",
       "\n",
       "[5 rows x 30 columns]"
      ]
     },
     "execution_count": 87,
     "metadata": {},
     "output_type": "execute_result"
    }
   ],
   "source": [
    "all_augments = pd.read_csv('train_augmented.csv')\n",
    "all_augments.head()"
   ]
  },
  {
   "cell_type": "code",
   "execution_count": 90,
   "metadata": {},
   "outputs": [
    {
     "name": "stdout",
     "output_type": "stream",
     "text": [
      "Score for column random_aug_lgbm_models_cv10.m1 is 0.9964923658378732\n",
      "Score for column random_aug_lgbm_models_cv10.m2 is 0.9968663277458768\n",
      "Score for column random_aug_lgbm_models_cv10.m3 is 0.9967476952509252\n",
      "Score for column random_aug_lgbm_models_cv10.m4 is 0.9967630722056556\n",
      "Score for column random_aug_lgbm_models_cv10.m5 is 0.996846146149656\n"
     ]
    }
   ],
   "source": [
    "for column in all_augments:\n",
    "    if 'random_aug_lgbm' in column:\n",
    "        y_pred = all_augments[column]\n",
    "        score = roc_auc_score(y_train, y_pred)\n",
    "        print(f\"Score for column {column} is {score}\")"
   ]
  },
  {
   "cell_type": "code",
   "execution_count": 91,
   "metadata": {},
   "outputs": [],
   "source": [
    "# Let's try making a prediction only for random wale models"
   ]
  },
  {
   "cell_type": "code",
   "execution_count": 92,
   "metadata": {},
   "outputs": [
    {
     "data": {
      "text/html": [
       "<div>\n",
       "<style scoped>\n",
       "    .dataframe tbody tr th:only-of-type {\n",
       "        vertical-align: middle;\n",
       "    }\n",
       "\n",
       "    .dataframe tbody tr th {\n",
       "        vertical-align: top;\n",
       "    }\n",
       "\n",
       "    .dataframe thead th {\n",
       "        text-align: right;\n",
       "    }\n",
       "</style>\n",
       "<table border=\"1\" class=\"dataframe\">\n",
       "  <thead>\n",
       "    <tr style=\"text-align: right;\">\n",
       "      <th></th>\n",
       "      <th>adasyn_aug_lgbm_models_cv10.m1</th>\n",
       "      <th>adasyn_aug_lgbm_models_cv10.m2</th>\n",
       "      <th>adasyn_aug_lgbm_models_cv10.m3</th>\n",
       "      <th>adasyn_aug_lgbm_models_cv10.m4</th>\n",
       "      <th>adasyn_aug_lgbm_models_cv10.m5</th>\n",
       "      <th>bsmote_aug_lgbm_models_cv10.m1</th>\n",
       "      <th>bsmote_aug_lgbm_models_cv10.m2</th>\n",
       "      <th>bsmote_aug_lgbm_models_cv10.m3</th>\n",
       "      <th>bsmote_aug_lgbm_models_cv10.m4</th>\n",
       "      <th>bsmote_aug_lgbm_models_cv10.m5</th>\n",
       "      <th>...</th>\n",
       "      <th>random_aug_lgbm_models_cv10.m1</th>\n",
       "      <th>random_aug_lgbm_models_cv10.m2</th>\n",
       "      <th>random_aug_lgbm_models_cv10.m3</th>\n",
       "      <th>random_aug_lgbm_models_cv10.m4</th>\n",
       "      <th>random_aug_lgbm_models_cv10.m5</th>\n",
       "      <th>smote_aug_lgbm_models_cv10.m1</th>\n",
       "      <th>smote_aug_lgbm_models_cv10.m2</th>\n",
       "      <th>smote_aug_lgbm_models_cv10.m3</th>\n",
       "      <th>smote_aug_lgbm_models_cv10.m4</th>\n",
       "      <th>smote_aug_lgbm_models_cv10.m5</th>\n",
       "    </tr>\n",
       "  </thead>\n",
       "  <tbody>\n",
       "    <tr>\n",
       "      <th>0</th>\n",
       "      <td>0.210840</td>\n",
       "      <td>0.423976</td>\n",
       "      <td>0.414336</td>\n",
       "      <td>0.426701</td>\n",
       "      <td>0.382931</td>\n",
       "      <td>0.097990</td>\n",
       "      <td>0.345339</td>\n",
       "      <td>0.366936</td>\n",
       "      <td>0.327532</td>\n",
       "      <td>0.354420</td>\n",
       "      <td>...</td>\n",
       "      <td>0.321245</td>\n",
       "      <td>0.221360</td>\n",
       "      <td>0.295038</td>\n",
       "      <td>0.265720</td>\n",
       "      <td>0.296561</td>\n",
       "      <td>0.358321</td>\n",
       "      <td>0.408347</td>\n",
       "      <td>0.438010</td>\n",
       "      <td>0.429142</td>\n",
       "      <td>0.375794</td>\n",
       "    </tr>\n",
       "    <tr>\n",
       "      <th>1</th>\n",
       "      <td>0.248277</td>\n",
       "      <td>0.262594</td>\n",
       "      <td>0.227486</td>\n",
       "      <td>0.272556</td>\n",
       "      <td>0.325919</td>\n",
       "      <td>0.138981</td>\n",
       "      <td>0.259454</td>\n",
       "      <td>0.362740</td>\n",
       "      <td>0.319277</td>\n",
       "      <td>0.338423</td>\n",
       "      <td>...</td>\n",
       "      <td>0.577859</td>\n",
       "      <td>0.482904</td>\n",
       "      <td>0.498362</td>\n",
       "      <td>0.586837</td>\n",
       "      <td>0.542625</td>\n",
       "      <td>0.159322</td>\n",
       "      <td>0.301628</td>\n",
       "      <td>0.304506</td>\n",
       "      <td>0.335108</td>\n",
       "      <td>0.354454</td>\n",
       "    </tr>\n",
       "    <tr>\n",
       "      <th>2</th>\n",
       "      <td>0.018197</td>\n",
       "      <td>0.130239</td>\n",
       "      <td>0.115850</td>\n",
       "      <td>0.148812</td>\n",
       "      <td>0.101614</td>\n",
       "      <td>0.005240</td>\n",
       "      <td>0.126774</td>\n",
       "      <td>0.102754</td>\n",
       "      <td>0.103884</td>\n",
       "      <td>0.121339</td>\n",
       "      <td>...</td>\n",
       "      <td>0.484063</td>\n",
       "      <td>0.518016</td>\n",
       "      <td>0.466096</td>\n",
       "      <td>0.434962</td>\n",
       "      <td>0.461928</td>\n",
       "      <td>0.021069</td>\n",
       "      <td>0.091714</td>\n",
       "      <td>0.115162</td>\n",
       "      <td>0.128861</td>\n",
       "      <td>0.110598</td>\n",
       "    </tr>\n",
       "    <tr>\n",
       "      <th>3</th>\n",
       "      <td>0.030662</td>\n",
       "      <td>0.198692</td>\n",
       "      <td>0.324841</td>\n",
       "      <td>0.291769</td>\n",
       "      <td>0.255262</td>\n",
       "      <td>0.071924</td>\n",
       "      <td>0.288979</td>\n",
       "      <td>0.287383</td>\n",
       "      <td>0.326068</td>\n",
       "      <td>0.263984</td>\n",
       "      <td>...</td>\n",
       "      <td>0.542375</td>\n",
       "      <td>0.493405</td>\n",
       "      <td>0.571898</td>\n",
       "      <td>0.626264</td>\n",
       "      <td>0.488509</td>\n",
       "      <td>0.028589</td>\n",
       "      <td>0.290549</td>\n",
       "      <td>0.349548</td>\n",
       "      <td>0.214495</td>\n",
       "      <td>0.249461</td>\n",
       "    </tr>\n",
       "    <tr>\n",
       "      <th>4</th>\n",
       "      <td>0.096198</td>\n",
       "      <td>0.181725</td>\n",
       "      <td>0.160747</td>\n",
       "      <td>0.236469</td>\n",
       "      <td>0.263639</td>\n",
       "      <td>0.021169</td>\n",
       "      <td>0.107579</td>\n",
       "      <td>0.127188</td>\n",
       "      <td>0.099395</td>\n",
       "      <td>0.141326</td>\n",
       "      <td>...</td>\n",
       "      <td>0.095421</td>\n",
       "      <td>0.089001</td>\n",
       "      <td>0.139223</td>\n",
       "      <td>0.126109</td>\n",
       "      <td>0.113628</td>\n",
       "      <td>0.063415</td>\n",
       "      <td>0.172751</td>\n",
       "      <td>0.214105</td>\n",
       "      <td>0.153486</td>\n",
       "      <td>0.177251</td>\n",
       "    </tr>\n",
       "  </tbody>\n",
       "</table>\n",
       "<p>5 rows × 30 columns</p>\n",
       "</div>"
      ],
      "text/plain": [
       "   adasyn_aug_lgbm_models_cv10.m1  adasyn_aug_lgbm_models_cv10.m2  \\\n",
       "0                        0.210840                        0.423976   \n",
       "1                        0.248277                        0.262594   \n",
       "2                        0.018197                        0.130239   \n",
       "3                        0.030662                        0.198692   \n",
       "4                        0.096198                        0.181725   \n",
       "\n",
       "   adasyn_aug_lgbm_models_cv10.m3  adasyn_aug_lgbm_models_cv10.m4  \\\n",
       "0                        0.414336                        0.426701   \n",
       "1                        0.227486                        0.272556   \n",
       "2                        0.115850                        0.148812   \n",
       "3                        0.324841                        0.291769   \n",
       "4                        0.160747                        0.236469   \n",
       "\n",
       "   adasyn_aug_lgbm_models_cv10.m5  bsmote_aug_lgbm_models_cv10.m1  \\\n",
       "0                        0.382931                        0.097990   \n",
       "1                        0.325919                        0.138981   \n",
       "2                        0.101614                        0.005240   \n",
       "3                        0.255262                        0.071924   \n",
       "4                        0.263639                        0.021169   \n",
       "\n",
       "   bsmote_aug_lgbm_models_cv10.m2  bsmote_aug_lgbm_models_cv10.m3  \\\n",
       "0                        0.345339                        0.366936   \n",
       "1                        0.259454                        0.362740   \n",
       "2                        0.126774                        0.102754   \n",
       "3                        0.288979                        0.287383   \n",
       "4                        0.107579                        0.127188   \n",
       "\n",
       "   bsmote_aug_lgbm_models_cv10.m4  bsmote_aug_lgbm_models_cv10.m5  \\\n",
       "0                        0.327532                        0.354420   \n",
       "1                        0.319277                        0.338423   \n",
       "2                        0.103884                        0.121339   \n",
       "3                        0.326068                        0.263984   \n",
       "4                        0.099395                        0.141326   \n",
       "\n",
       "               ...                random_aug_lgbm_models_cv10.m1  \\\n",
       "0              ...                                      0.321245   \n",
       "1              ...                                      0.577859   \n",
       "2              ...                                      0.484063   \n",
       "3              ...                                      0.542375   \n",
       "4              ...                                      0.095421   \n",
       "\n",
       "   random_aug_lgbm_models_cv10.m2  random_aug_lgbm_models_cv10.m3  \\\n",
       "0                        0.221360                        0.295038   \n",
       "1                        0.482904                        0.498362   \n",
       "2                        0.518016                        0.466096   \n",
       "3                        0.493405                        0.571898   \n",
       "4                        0.089001                        0.139223   \n",
       "\n",
       "   random_aug_lgbm_models_cv10.m4  random_aug_lgbm_models_cv10.m5  \\\n",
       "0                        0.265720                        0.296561   \n",
       "1                        0.586837                        0.542625   \n",
       "2                        0.434962                        0.461928   \n",
       "3                        0.626264                        0.488509   \n",
       "4                        0.126109                        0.113628   \n",
       "\n",
       "   smote_aug_lgbm_models_cv10.m1  smote_aug_lgbm_models_cv10.m2  \\\n",
       "0                       0.358321                       0.408347   \n",
       "1                       0.159322                       0.301628   \n",
       "2                       0.021069                       0.091714   \n",
       "3                       0.028589                       0.290549   \n",
       "4                       0.063415                       0.172751   \n",
       "\n",
       "   smote_aug_lgbm_models_cv10.m3  smote_aug_lgbm_models_cv10.m4  \\\n",
       "0                       0.438010                       0.429142   \n",
       "1                       0.304506                       0.335108   \n",
       "2                       0.115162                       0.128861   \n",
       "3                       0.349548                       0.214495   \n",
       "4                       0.214105                       0.153486   \n",
       "\n",
       "   smote_aug_lgbm_models_cv10.m5  \n",
       "0                       0.375794  \n",
       "1                       0.354454  \n",
       "2                       0.110598  \n",
       "3                       0.249461  \n",
       "4                       0.177251  \n",
       "\n",
       "[5 rows x 30 columns]"
      ]
     },
     "execution_count": 92,
     "metadata": {},
     "output_type": "execute_result"
    }
   ],
   "source": [
    "test_augments = pd.read_csv('test_augmented.csv')\n",
    "test_augments.head()"
   ]
  },
  {
   "cell_type": "code",
   "execution_count": 101,
   "metadata": {},
   "outputs": [
    {
     "data": {
      "text/plain": [
       "Index(['adasyn_aug_lgbm_models_cv10.m1', 'adasyn_aug_lgbm_models_cv10.m2',\n",
       "       'adasyn_aug_lgbm_models_cv10.m3', 'adasyn_aug_lgbm_models_cv10.m4',\n",
       "       'adasyn_aug_lgbm_models_cv10.m5', 'bsmote_aug_lgbm_models_cv10.m1',\n",
       "       'bsmote_aug_lgbm_models_cv10.m2', 'bsmote_aug_lgbm_models_cv10.m3',\n",
       "       'bsmote_aug_lgbm_models_cv10.m4', 'bsmote_aug_lgbm_models_cv10.m5',\n",
       "       'lgbm_cv10_models.m1', 'lgbm_cv10_models.m2', 'lgbm_cv10_models.m3',\n",
       "       'lgbm_cv10_models.m4', 'lgbm_cv10_models.m5', 'lgbm_cv10_models.m6',\n",
       "       'lgbm_cv10_models.m7', 'lgbm_cv10_models.m8', 'lgbm_cv10_models.m9',\n",
       "       'lgbm_cv10_models.m10', 'random_aug_lgbm_models_cv10.m1',\n",
       "       'random_aug_lgbm_models_cv10.m2', 'random_aug_lgbm_models_cv10.m3',\n",
       "       'random_aug_lgbm_models_cv10.m4', 'random_aug_lgbm_models_cv10.m5',\n",
       "       'smote_aug_lgbm_models_cv10.m1', 'smote_aug_lgbm_models_cv10.m2',\n",
       "       'smote_aug_lgbm_models_cv10.m3', 'smote_aug_lgbm_models_cv10.m4',\n",
       "       'smote_aug_lgbm_models_cv10.m5'],\n",
       "      dtype='object')"
      ]
     },
     "execution_count": 101,
     "metadata": {},
     "output_type": "execute_result"
    }
   ],
   "source": [
    "test_augments.columns"
   ]
  },
  {
   "cell_type": "code",
   "execution_count": 107,
   "metadata": {},
   "outputs": [],
   "source": [
    "preds = {}\n",
    "for column in test_augments:\n",
    "    if 'random_aug_lgbm' in column:\n",
    "        preds[column] = test_augments[column]"
   ]
  },
  {
   "cell_type": "code",
   "execution_count": 110,
   "metadata": {},
   "outputs": [],
   "source": [
    "random_preds = np.average(pd.DataFrame(preds), axis = 1)"
   ]
  },
  {
   "cell_type": "code",
   "execution_count": 100,
   "metadata": {},
   "outputs": [],
   "source": [
    "answer_df = pd.DataFrame({\n",
    "    'ID_code' : test_labels,\n",
    "    'target' : random_preds\n",
    "})\n",
    "answer_df.to_csv('answer_5_lgbm_with_only_random_augmented_data.csv', index=False)"
   ]
  },
  {
   "cell_type": "code",
   "execution_count": 102,
   "metadata": {},
   "outputs": [],
   "source": [
    "# Try averaging with old non augmented model"
   ]
  },
  {
   "cell_type": "code",
   "execution_count": 103,
   "metadata": {},
   "outputs": [],
   "source": [
    "old_answer = pd.read_csv('answer_2_lgbm_with_CV10.csv')"
   ]
  },
  {
   "cell_type": "code",
   "execution_count": 105,
   "metadata": {},
   "outputs": [],
   "source": [
    "old_answer = old_answer.target"
   ]
  },
  {
   "cell_type": "code",
   "execution_count": 114,
   "metadata": {},
   "outputs": [
    {
     "data": {
      "text/plain": [
       "0    0.095370\n",
       "1    0.211337\n",
       "2    0.181671\n",
       "3    0.212378\n",
       "4    0.044031\n",
       "Name: target, dtype: float64"
      ]
     },
     "execution_count": 114,
     "metadata": {},
     "output_type": "execute_result"
    }
   ],
   "source": [
    "old_answer.head()"
   ]
  },
  {
   "cell_type": "code",
   "execution_count": 120,
   "metadata": {},
   "outputs": [
    {
     "name": "stdout",
     "output_type": "stream",
     "text": [
      "(200000, 5)\n"
     ]
    },
    {
     "data": {
      "text/html": [
       "<div>\n",
       "<style scoped>\n",
       "    .dataframe tbody tr th:only-of-type {\n",
       "        vertical-align: middle;\n",
       "    }\n",
       "\n",
       "    .dataframe tbody tr th {\n",
       "        vertical-align: top;\n",
       "    }\n",
       "\n",
       "    .dataframe thead th {\n",
       "        text-align: right;\n",
       "    }\n",
       "</style>\n",
       "<table border=\"1\" class=\"dataframe\">\n",
       "  <thead>\n",
       "    <tr style=\"text-align: right;\">\n",
       "      <th></th>\n",
       "      <th>random_aug_lgbm_models_cv10.m1</th>\n",
       "      <th>random_aug_lgbm_models_cv10.m2</th>\n",
       "      <th>random_aug_lgbm_models_cv10.m3</th>\n",
       "      <th>random_aug_lgbm_models_cv10.m4</th>\n",
       "      <th>random_aug_lgbm_models_cv10.m5</th>\n",
       "    </tr>\n",
       "  </thead>\n",
       "  <tbody>\n",
       "    <tr>\n",
       "      <th>0</th>\n",
       "      <td>0.321245</td>\n",
       "      <td>0.221360</td>\n",
       "      <td>0.295038</td>\n",
       "      <td>0.265720</td>\n",
       "      <td>0.296561</td>\n",
       "    </tr>\n",
       "    <tr>\n",
       "      <th>1</th>\n",
       "      <td>0.577859</td>\n",
       "      <td>0.482904</td>\n",
       "      <td>0.498362</td>\n",
       "      <td>0.586837</td>\n",
       "      <td>0.542625</td>\n",
       "    </tr>\n",
       "    <tr>\n",
       "      <th>2</th>\n",
       "      <td>0.484063</td>\n",
       "      <td>0.518016</td>\n",
       "      <td>0.466096</td>\n",
       "      <td>0.434962</td>\n",
       "      <td>0.461928</td>\n",
       "    </tr>\n",
       "    <tr>\n",
       "      <th>3</th>\n",
       "      <td>0.542375</td>\n",
       "      <td>0.493405</td>\n",
       "      <td>0.571898</td>\n",
       "      <td>0.626264</td>\n",
       "      <td>0.488509</td>\n",
       "    </tr>\n",
       "    <tr>\n",
       "      <th>4</th>\n",
       "      <td>0.095421</td>\n",
       "      <td>0.089001</td>\n",
       "      <td>0.139223</td>\n",
       "      <td>0.126109</td>\n",
       "      <td>0.113628</td>\n",
       "    </tr>\n",
       "  </tbody>\n",
       "</table>\n",
       "</div>"
      ],
      "text/plain": [
       "   random_aug_lgbm_models_cv10.m1  random_aug_lgbm_models_cv10.m2  \\\n",
       "0                        0.321245                        0.221360   \n",
       "1                        0.577859                        0.482904   \n",
       "2                        0.484063                        0.518016   \n",
       "3                        0.542375                        0.493405   \n",
       "4                        0.095421                        0.089001   \n",
       "\n",
       "   random_aug_lgbm_models_cv10.m3  random_aug_lgbm_models_cv10.m4  \\\n",
       "0                        0.295038                        0.265720   \n",
       "1                        0.498362                        0.586837   \n",
       "2                        0.466096                        0.434962   \n",
       "3                        0.571898                        0.626264   \n",
       "4                        0.139223                        0.126109   \n",
       "\n",
       "   random_aug_lgbm_models_cv10.m5  \n",
       "0                        0.296561  \n",
       "1                        0.542625  \n",
       "2                        0.461928  \n",
       "3                        0.488509  \n",
       "4                        0.113628  "
      ]
     },
     "execution_count": 120,
     "metadata": {},
     "output_type": "execute_result"
    }
   ],
   "source": [
    "new_preds = pd.DataFrame(preds)\n",
    "print(new_preds.shape)\n",
    "new_preds.head()"
   ]
  },
  {
   "cell_type": "code",
   "execution_count": 121,
   "metadata": {},
   "outputs": [
    {
     "data": {
      "text/html": [
       "<div>\n",
       "<style scoped>\n",
       "    .dataframe tbody tr th:only-of-type {\n",
       "        vertical-align: middle;\n",
       "    }\n",
       "\n",
       "    .dataframe tbody tr th {\n",
       "        vertical-align: top;\n",
       "    }\n",
       "\n",
       "    .dataframe thead th {\n",
       "        text-align: right;\n",
       "    }\n",
       "</style>\n",
       "<table border=\"1\" class=\"dataframe\">\n",
       "  <thead>\n",
       "    <tr style=\"text-align: right;\">\n",
       "      <th></th>\n",
       "      <th>random_aug_lgbm_models_cv10.m1</th>\n",
       "      <th>random_aug_lgbm_models_cv10.m2</th>\n",
       "      <th>random_aug_lgbm_models_cv10.m3</th>\n",
       "      <th>random_aug_lgbm_models_cv10.m4</th>\n",
       "      <th>random_aug_lgbm_models_cv10.m5</th>\n",
       "      <th>old</th>\n",
       "    </tr>\n",
       "  </thead>\n",
       "  <tbody>\n",
       "    <tr>\n",
       "      <th>0</th>\n",
       "      <td>0.321245</td>\n",
       "      <td>0.221360</td>\n",
       "      <td>0.295038</td>\n",
       "      <td>0.265720</td>\n",
       "      <td>0.296561</td>\n",
       "      <td>0.953704</td>\n",
       "    </tr>\n",
       "    <tr>\n",
       "      <th>1</th>\n",
       "      <td>0.577859</td>\n",
       "      <td>0.482904</td>\n",
       "      <td>0.498362</td>\n",
       "      <td>0.586837</td>\n",
       "      <td>0.542625</td>\n",
       "      <td>2.113365</td>\n",
       "    </tr>\n",
       "    <tr>\n",
       "      <th>2</th>\n",
       "      <td>0.484063</td>\n",
       "      <td>0.518016</td>\n",
       "      <td>0.466096</td>\n",
       "      <td>0.434962</td>\n",
       "      <td>0.461928</td>\n",
       "      <td>1.816714</td>\n",
       "    </tr>\n",
       "    <tr>\n",
       "      <th>3</th>\n",
       "      <td>0.542375</td>\n",
       "      <td>0.493405</td>\n",
       "      <td>0.571898</td>\n",
       "      <td>0.626264</td>\n",
       "      <td>0.488509</td>\n",
       "      <td>2.123776</td>\n",
       "    </tr>\n",
       "    <tr>\n",
       "      <th>4</th>\n",
       "      <td>0.095421</td>\n",
       "      <td>0.089001</td>\n",
       "      <td>0.139223</td>\n",
       "      <td>0.126109</td>\n",
       "      <td>0.113628</td>\n",
       "      <td>0.440313</td>\n",
       "    </tr>\n",
       "  </tbody>\n",
       "</table>\n",
       "</div>"
      ],
      "text/plain": [
       "   random_aug_lgbm_models_cv10.m1  random_aug_lgbm_models_cv10.m2  \\\n",
       "0                        0.321245                        0.221360   \n",
       "1                        0.577859                        0.482904   \n",
       "2                        0.484063                        0.518016   \n",
       "3                        0.542375                        0.493405   \n",
       "4                        0.095421                        0.089001   \n",
       "\n",
       "   random_aug_lgbm_models_cv10.m3  random_aug_lgbm_models_cv10.m4  \\\n",
       "0                        0.295038                        0.265720   \n",
       "1                        0.498362                        0.586837   \n",
       "2                        0.466096                        0.434962   \n",
       "3                        0.571898                        0.626264   \n",
       "4                        0.139223                        0.126109   \n",
       "\n",
       "   random_aug_lgbm_models_cv10.m5       old  \n",
       "0                        0.296561  0.953704  \n",
       "1                        0.542625  2.113365  \n",
       "2                        0.461928  1.816714  \n",
       "3                        0.488509  2.123776  \n",
       "4                        0.113628  0.440313  "
      ]
     },
     "execution_count": 121,
     "metadata": {},
     "output_type": "execute_result"
    }
   ],
   "source": [
    "new_preds['old'] = 10 * old_answer\n",
    "new_preds.head()"
   ]
  },
  {
   "cell_type": "code",
   "execution_count": 122,
   "metadata": {},
   "outputs": [],
   "source": [
    "a = new_preds.sum(axis = 1)/15"
   ]
  },
  {
   "cell_type": "code",
   "execution_count": 124,
   "metadata": {},
   "outputs": [],
   "source": [
    "answer_df = pd.DataFrame({\n",
    "    'ID_code' : test_labels,\n",
    "    'target' : a\n",
    "})\n",
    "answer_df.to_csv('answer_6_lgbm_with_best_and_random_averaged.csv', index=False)"
   ]
  },
  {
   "cell_type": "code",
   "execution_count": null,
   "metadata": {},
   "outputs": [],
   "source": []
  }
 ],
 "metadata": {
  "kernelspec": {
   "display_name": "Python 3",
   "language": "python",
   "name": "python3"
  },
  "language_info": {
   "codemirror_mode": {
    "name": "ipython",
    "version": 3
   },
   "file_extension": ".py",
   "mimetype": "text/x-python",
   "name": "python",
   "nbconvert_exporter": "python",
   "pygments_lexer": "ipython3",
   "version": "3.6.8"
  }
 },
 "nbformat": 4,
 "nbformat_minor": 2
}

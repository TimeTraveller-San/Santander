{
 "cells": [
  {
   "cell_type": "code",
   "execution_count": 1,
   "metadata": {},
   "outputs": [],
   "source": [
    "def save_model(models, filename):\n",
    "    with open(filename, 'wb') as handle:\n",
    "        pickle.dump(models, handle)\n",
    "        \n",
    "def load_model(filename):\n",
    "    with open(filename, 'rb') as handle:\n",
    "        model = pickle.load(handle)\n",
    "    return model    \n",
    "        \n",
    "def augment(x,y,t=2):\n",
    "    xs,xn = [],[]\n",
    "    for i in range(t):\n",
    "        mask = y>0\n",
    "        x1 = x[mask].copy()\n",
    "        ids = np.arange(x1.shape[0])\n",
    "        for c in range(x1.shape[1]):\n",
    "            np.random.shuffle(ids)\n",
    "            x1[:,c] = x1[ids][:,c]\n",
    "        xs.append(x1)\n",
    "\n",
    "    for i in range(t//2):\n",
    "        mask = y==0\n",
    "        x1 = x[mask].copy()\n",
    "        ids = np.arange(x1.shape[0])\n",
    "        for c in range(x1.shape[1]):\n",
    "            np.random.shuffle(ids)\n",
    "            x1[:,c] = x1[ids][:,c]\n",
    "        xn.append(x1)\n",
    "    xs = np.vstack(xs)\n",
    "    xn = np.vstack(xn)\n",
    "    ys = np.ones(xs.shape[0])\n",
    "    yn = np.zeros(xn.shape[0])\n",
    "    x = np.vstack([x,xs,xn])\n",
    "    y = np.concatenate([y,ys,yn])\n",
    "    return x,y\n",
    "\n",
    "def lgb_trainer(X, y, params, n_folds):\n",
    "    skf = StratifiedKFold(n_splits=n_folds)\n",
    "    models = []\n",
    "    for train_idx, test_idx in tqdm(skf.split(X.values, y.values)):\n",
    "            gc.collect()\n",
    "            X_train, y_train = X.iloc[train_idx], y.iloc[train_idx]\n",
    "            X_tr, y_tr = augment(X_train.values, y_train.values)\n",
    "            X_tr = pd.DataFrame(X_tr)\n",
    "            trn_data = lgb.Dataset(X_tr, label=y_tr)\n",
    "            test_data = lgb.Dataset(X.values[test_idx], label=y.values[test_idx])\n",
    "            model_lgb     = lgb.train(params, trn_data, 1000000, valid_sets = [trn_data, test_data], verbose_eval=5000, early_stopping_rounds = 4000)\n",
    "            models.append(model_lgb)\n",
    "            auc = roc_auc_score(y.values[test_idx], model_lgb.predict(X.values[test_idx]))\n",
    "    return models\n",
    "\n",
    "def lgb_trainer_no_aug(X, y, params, n_folds):\n",
    "    skf = StratifiedKFold(n_splits=n_folds)\n",
    "    models = []\n",
    "    for train_idx, test_idx in tqdm(skf.split(X.values, y.values)):\n",
    "            gc.collect()\n",
    "            X_train, y_train = X.iloc[train_idx], y.iloc[train_idx]\n",
    "            X_tr, y_tr = X_train.values, y_train.values\n",
    "            X_tr = pd.DataFrame(X_tr)\n",
    "            trn_data = lgb.Dataset(X_tr, label=y_tr)\n",
    "            test_data = lgb.Dataset(X.values[test_idx], label=y.values[test_idx])\n",
    "            model_lgb     = lgb.train(params, trn_data, 1000000, valid_sets = [trn_data, test_data], verbose_eval=5000, early_stopping_rounds = 4000)\n",
    "            models.append(model_lgb)\n",
    "            auc = roc_auc_score(y.values[test_idx], model_lgb.predict(X.values[test_idx]))\n",
    "    return models\n",
    "\n",
    "def lgb_trainer_for_bayesian_optim(X, y, params):\n",
    "        X_tr, X_val, y_tr, y_val  = train_test_split(X, y, test_size = 0.2, random_state=42)    \n",
    "        trn_data = lgb.Dataset(X_tr, label=y_tr)\n",
    "        test_data = lgb.Dataset(X_val, label=y_val)\n",
    "        model_lgb     = lgb.train(params, trn_data, 1000000, valid_sets = [trn_data, test_data], verbose_eval=5000, early_stopping_rounds = 4000)\n",
    "        auc = roc_auc_score(y_val, model_lgb.predict(X_val))\n",
    "        return auc\n",
    "\n",
    "def test_f(X, y, models):\n",
    "    preds = pd.DataFrame({})\n",
    "    for i, model in enumerate(models):\n",
    "        preds[str(i)] = model.predict(X)\n",
    "        print(f\"Fold: {i} \\t Score: {roc_auc_score(y, preds[str(i)].values)}\")\n",
    "    averaged_preds = preds.mean(axis=1)\n",
    "    scorre = roc_auc_score(y, averaged_preds)\n",
    "    print(f\"Score: {scorre}\")\n",
    "    return scorre, averaged_preds, preds\n",
    "\n",
    "def augment_uniques(data):\n",
    "    maps = {}\n",
    "    for feature in tqdm(data.columns):\n",
    "        if feature in ['ID_code', 'target']:\n",
    "            continue\n",
    "        a, b = np.unique(data[feature], return_counts=True)\n",
    "        unique_map = dict(zip(a, b))\n",
    "        maps[feature] = unique_map\n",
    "        data[f'count_{feature}'] = data[feature].map(unique_map)\n",
    "    return data, maps  \n",
    "\n",
    "def answer_agument(testdf, maps):\n",
    "    for feature in tqdm(testdf.columns):\n",
    "        if feature in ['ID_code']:\n",
    "            continue\n",
    "        testdf[f'count_{feature}'] = testdf[feature].map(maps[feature])    \n",
    "    return testdf    \n",
    "\n",
    "\n",
    "import numpy as np\n",
    "import pandas as pd\n",
    "import matplotlib.pyplot as plt\n",
    "from sklearn.model_selection import StratifiedKFold, train_test_split\n",
    "from sklearn.metrics import roc_auc_score\n",
    "import lightgbm as lgb\n",
    "import pickle\n",
    "import gc\n",
    "import seaborn as sns\n",
    "import scikitplot as skplt\n",
    "from tqdm import tqdm_notebook as tqdm\n",
    "import warnings\n",
    "warnings.filterwarnings(\"ignore\")\n",
    "ANSWERX = 'MakeAnswersFromThis.csv'\n",
    "X = 'finalX.csv'\n",
    "y = 'finalY.csv'"
   ]
  },
  {
   "cell_type": "markdown",
   "metadata": {},
   "source": [
    "# Stupidity"
   ]
  },
  {
   "cell_type": "code",
   "execution_count": 2,
   "metadata": {},
   "outputs": [],
   "source": [
    "train = pd.read_csv(TRAIN)\n",
    "test = pd.read_csv(TEST)\n",
    "whole = train.append(test)"
   ]
  },
  {
   "cell_type": "code",
   "execution_count": 5,
   "metadata": {},
   "outputs": [
    {
     "data": {
      "application/vnd.jupyter.widget-view+json": {
       "model_id": "382c2ecede6e4fe7ba42b33938c35a2b",
       "version_major": 2,
       "version_minor": 0
      },
      "text/plain": [
       "HBox(children=(IntProgress(value=0, max=202), HTML(value='')))"
      ]
     },
     "metadata": {},
     "output_type": "display_data"
    },
    {
     "name": "stdout",
     "output_type": "stream",
     "text": [
      "\n"
     ]
    }
   ],
   "source": [
    "whole, unique_map = augment_uniques(whole)"
   ]
  },
  {
   "cell_type": "code",
   "execution_count": 6,
   "metadata": {},
   "outputs": [],
   "source": [
    "traindf, testdf = whole[:200000], whole[200000:]\n",
    "y = traindf.target\n",
    "X = traindf.drop(['target', 'ID_code'], axis=1)"
   ]
  },
  {
   "cell_type": "code",
   "execution_count": 7,
   "metadata": {},
   "outputs": [
    {
     "data": {
      "application/vnd.jupyter.widget-view+json": {
       "model_id": "74c43aebdf8d4b43b31725eb39b1ac74",
       "version_major": 2,
       "version_minor": 0
      },
      "text/plain": [
       "HBox(children=(IntProgress(value=0, max=201), HTML(value='')))"
      ]
     },
     "metadata": {},
     "output_type": "display_data"
    },
    {
     "name": "stdout",
     "output_type": "stream",
     "text": [
      "\n"
     ]
    }
   ],
   "source": [
    "ATEST = 'data/test.csv'\n",
    "test = pd.read_csv(ATEST)\n",
    "dftest = answer_agument(test, unique_map)"
   ]
  },
  {
   "cell_type": "code",
   "execution_count": 9,
   "metadata": {},
   "outputs": [],
   "source": [
    "dftest.to_csv('MakeAnswersFromThis.csv', index=False)"
   ]
  },
  {
   "cell_type": "code",
   "execution_count": 12,
   "metadata": {},
   "outputs": [],
   "source": [
    "X.to_csv('finalX.csv', index=False)"
   ]
  },
  {
   "cell_type": "code",
   "execution_count": 14,
   "metadata": {},
   "outputs": [],
   "source": [
    "y.to_csv('finalY.csv', index=False)"
   ]
  },
  {
   "cell_type": "markdown",
   "metadata": {},
   "source": [
    "# Stacking"
   ]
  },
  {
   "cell_type": "code",
   "execution_count": 4,
   "metadata": {},
   "outputs": [],
   "source": [
    "X = pd.read_csv(X)\n",
    "y = pd.read_csv(y)"
   ]
  },
  {
   "cell_type": "code",
   "execution_count": 5,
   "metadata": {},
   "outputs": [
    {
     "data": {
      "text/html": [
       "<div>\n",
       "<style scoped>\n",
       "    .dataframe tbody tr th:only-of-type {\n",
       "        vertical-align: middle;\n",
       "    }\n",
       "\n",
       "    .dataframe tbody tr th {\n",
       "        vertical-align: top;\n",
       "    }\n",
       "\n",
       "    .dataframe thead th {\n",
       "        text-align: right;\n",
       "    }\n",
       "</style>\n",
       "<table border=\"1\" class=\"dataframe\">\n",
       "  <thead>\n",
       "    <tr style=\"text-align: right;\">\n",
       "      <th></th>\n",
       "      <th>var_0</th>\n",
       "      <th>var_1</th>\n",
       "      <th>var_10</th>\n",
       "      <th>var_100</th>\n",
       "      <th>var_101</th>\n",
       "      <th>var_102</th>\n",
       "      <th>var_103</th>\n",
       "      <th>var_104</th>\n",
       "      <th>var_105</th>\n",
       "      <th>var_106</th>\n",
       "      <th>...</th>\n",
       "      <th>count_var_90</th>\n",
       "      <th>count_var_91</th>\n",
       "      <th>count_var_92</th>\n",
       "      <th>count_var_93</th>\n",
       "      <th>count_var_94</th>\n",
       "      <th>count_var_95</th>\n",
       "      <th>count_var_96</th>\n",
       "      <th>count_var_97</th>\n",
       "      <th>count_var_98</th>\n",
       "      <th>count_var_99</th>\n",
       "    </tr>\n",
       "  </thead>\n",
       "  <tbody>\n",
       "    <tr>\n",
       "      <th>0</th>\n",
       "      <td>8.9255</td>\n",
       "      <td>-6.7863</td>\n",
       "      <td>2.9252</td>\n",
       "      <td>9.4763</td>\n",
       "      <td>13.3102</td>\n",
       "      <td>26.5376</td>\n",
       "      <td>1.4403</td>\n",
       "      <td>14.7100</td>\n",
       "      <td>6.0454</td>\n",
       "      <td>9.5426</td>\n",
       "      <td>...</td>\n",
       "      <td>1</td>\n",
       "      <td>51</td>\n",
       "      <td>3</td>\n",
       "      <td>18</td>\n",
       "      <td>3</td>\n",
       "      <td>20</td>\n",
       "      <td>2</td>\n",
       "      <td>1</td>\n",
       "      <td>14</td>\n",
       "      <td>4</td>\n",
       "    </tr>\n",
       "    <tr>\n",
       "      <th>1</th>\n",
       "      <td>11.5006</td>\n",
       "      <td>-4.1473</td>\n",
       "      <td>-0.4032</td>\n",
       "      <td>-13.6950</td>\n",
       "      <td>8.4068</td>\n",
       "      <td>35.4734</td>\n",
       "      <td>1.7093</td>\n",
       "      <td>15.1866</td>\n",
       "      <td>2.6227</td>\n",
       "      <td>7.3412</td>\n",
       "      <td>...</td>\n",
       "      <td>1</td>\n",
       "      <td>77</td>\n",
       "      <td>3</td>\n",
       "      <td>24</td>\n",
       "      <td>4</td>\n",
       "      <td>3</td>\n",
       "      <td>1</td>\n",
       "      <td>2</td>\n",
       "      <td>15</td>\n",
       "      <td>5</td>\n",
       "    </tr>\n",
       "    <tr>\n",
       "      <th>2</th>\n",
       "      <td>8.6093</td>\n",
       "      <td>-2.7457</td>\n",
       "      <td>-0.3249</td>\n",
       "      <td>-0.3939</td>\n",
       "      <td>12.6317</td>\n",
       "      <td>14.8863</td>\n",
       "      <td>1.3854</td>\n",
       "      <td>15.0284</td>\n",
       "      <td>3.9995</td>\n",
       "      <td>5.3683</td>\n",
       "      <td>...</td>\n",
       "      <td>1</td>\n",
       "      <td>72</td>\n",
       "      <td>6</td>\n",
       "      <td>26</td>\n",
       "      <td>6</td>\n",
       "      <td>17</td>\n",
       "      <td>2</td>\n",
       "      <td>1</td>\n",
       "      <td>22</td>\n",
       "      <td>8</td>\n",
       "    </tr>\n",
       "    <tr>\n",
       "      <th>3</th>\n",
       "      <td>11.0604</td>\n",
       "      <td>-2.1518</td>\n",
       "      <td>2.3061</td>\n",
       "      <td>-19.8592</td>\n",
       "      <td>22.5316</td>\n",
       "      <td>18.6129</td>\n",
       "      <td>1.3512</td>\n",
       "      <td>9.3291</td>\n",
       "      <td>4.2835</td>\n",
       "      <td>10.3907</td>\n",
       "      <td>...</td>\n",
       "      <td>1</td>\n",
       "      <td>62</td>\n",
       "      <td>2</td>\n",
       "      <td>24</td>\n",
       "      <td>1</td>\n",
       "      <td>4</td>\n",
       "      <td>3</td>\n",
       "      <td>1</td>\n",
       "      <td>9</td>\n",
       "      <td>3</td>\n",
       "    </tr>\n",
       "    <tr>\n",
       "      <th>4</th>\n",
       "      <td>9.8369</td>\n",
       "      <td>-1.4834</td>\n",
       "      <td>-9.4458</td>\n",
       "      <td>-22.9264</td>\n",
       "      <td>12.3562</td>\n",
       "      <td>17.3410</td>\n",
       "      <td>1.6940</td>\n",
       "      <td>7.1179</td>\n",
       "      <td>5.1934</td>\n",
       "      <td>8.8230</td>\n",
       "      <td>...</td>\n",
       "      <td>1</td>\n",
       "      <td>65</td>\n",
       "      <td>3</td>\n",
       "      <td>16</td>\n",
       "      <td>2</td>\n",
       "      <td>18</td>\n",
       "      <td>1</td>\n",
       "      <td>1</td>\n",
       "      <td>15</td>\n",
       "      <td>3</td>\n",
       "    </tr>\n",
       "  </tbody>\n",
       "</table>\n",
       "<p>5 rows × 400 columns</p>\n",
       "</div>"
      ],
      "text/plain": [
       "     var_0   var_1  var_10  var_100  var_101  var_102  var_103  var_104  \\\n",
       "0   8.9255 -6.7863  2.9252   9.4763  13.3102  26.5376   1.4403  14.7100   \n",
       "1  11.5006 -4.1473 -0.4032 -13.6950   8.4068  35.4734   1.7093  15.1866   \n",
       "2   8.6093 -2.7457 -0.3249  -0.3939  12.6317  14.8863   1.3854  15.0284   \n",
       "3  11.0604 -2.1518  2.3061 -19.8592  22.5316  18.6129   1.3512   9.3291   \n",
       "4   9.8369 -1.4834 -9.4458 -22.9264  12.3562  17.3410   1.6940   7.1179   \n",
       "\n",
       "   var_105  var_106      ...       count_var_90  count_var_91  count_var_92  \\\n",
       "0   6.0454   9.5426      ...                  1            51             3   \n",
       "1   2.6227   7.3412      ...                  1            77             3   \n",
       "2   3.9995   5.3683      ...                  1            72             6   \n",
       "3   4.2835  10.3907      ...                  1            62             2   \n",
       "4   5.1934   8.8230      ...                  1            65             3   \n",
       "\n",
       "   count_var_93  count_var_94  count_var_95  count_var_96  count_var_97  \\\n",
       "0            18             3            20             2             1   \n",
       "1            24             4             3             1             2   \n",
       "2            26             6            17             2             1   \n",
       "3            24             1             4             3             1   \n",
       "4            16             2            18             1             1   \n",
       "\n",
       "   count_var_98  count_var_99  \n",
       "0            14             4  \n",
       "1            15             5  \n",
       "2            22             8  \n",
       "3             9             3  \n",
       "4            15             3  \n",
       "\n",
       "[5 rows x 400 columns]"
      ]
     },
     "execution_count": 5,
     "metadata": {},
     "output_type": "execute_result"
    }
   ],
   "source": [
    "X.head()"
   ]
  },
  {
   "cell_type": "code",
   "execution_count": 9,
   "metadata": {},
   "outputs": [],
   "source": [
    "def get_df(models_list, X):\n",
    "    i = 0\n",
    "    df_dict = {}\n",
    "    for models in tqdm(models_list):\n",
    "        models = load_model(models)\n",
    "        for model in tqdm(models):\n",
    "            i += 1\n",
    "            key = f\"col_{i}\"\n",
    "            df_dict[key] = model.predict(X)\n",
    "    return pd.DataFrame(df_dict)        "
   ]
  },
  {
   "cell_type": "code",
   "execution_count": 10,
   "metadata": {},
   "outputs": [
    {
     "data": {
      "application/vnd.jupyter.widget-view+json": {
       "model_id": "97e30025273a48cbaa9af9ef1920db29",
       "version_major": 2,
       "version_minor": 0
      },
      "text/plain": [
       "HBox(children=(IntProgress(value=0, max=4), HTML(value='')))"
      ]
     },
     "metadata": {},
     "output_type": "display_data"
    },
    {
     "data": {
      "application/vnd.jupyter.widget-view+json": {
       "model_id": "68b6f7c83dd04b599857548bdc61ef53",
       "version_major": 2,
       "version_minor": 0
      },
      "text/plain": [
       "HBox(children=(IntProgress(value=0, max=10), HTML(value='')))"
      ]
     },
     "metadata": {},
     "output_type": "display_data"
    },
    {
     "data": {
      "application/vnd.jupyter.widget-view+json": {
       "model_id": "d219b69108654546a8bfa7ded5a6d38c",
       "version_major": 2,
       "version_minor": 0
      },
      "text/plain": [
       "HBox(children=(IntProgress(value=0, max=10), HTML(value='')))"
      ]
     },
     "metadata": {},
     "output_type": "display_data"
    },
    {
     "data": {
      "application/vnd.jupyter.widget-view+json": {
       "model_id": "867e4ae903a44675983a00ca8d454900",
       "version_major": 2,
       "version_minor": 0
      },
      "text/plain": [
       "HBox(children=(IntProgress(value=0, max=10), HTML(value='')))"
      ]
     },
     "metadata": {},
     "output_type": "display_data"
    },
    {
     "data": {
      "application/vnd.jupyter.widget-view+json": {
       "model_id": "0e9cf2da73194cc8b7afa0df39c41f7a",
       "version_major": 2,
       "version_minor": 0
      },
      "text/plain": [
       "HBox(children=(IntProgress(value=0, max=10), HTML(value='')))"
      ]
     },
     "metadata": {},
     "output_type": "display_data"
    },
    {
     "name": "stdout",
     "output_type": "stream",
     "text": [
      "\n"
     ]
    }
   ],
   "source": [
    "models = \"ovvverrr.m ovvverrrx2.m ovvverrrx3.m ovvverrrx4.m\".split()\n",
    "Xstack = get_df(models, X)"
   ]
  },
  {
   "cell_type": "code",
   "execution_count": 11,
   "metadata": {},
   "outputs": [],
   "source": [
    "Xstack.to_csv('Xstack.csv', index=False)"
   ]
  },
  {
   "cell_type": "code",
   "execution_count": null,
   "metadata": {},
   "outputs": [],
   "source": [
    "dftest = pd.read_csv('MakeAnswersFromThis.csv')\n",
    "dftest.rename(columns=lambda x: 'z' + str(x) if x[0] == 'c' else x, inplace=True)\n",
    "kek= dftest.reindex(sorted(dftest.columns), axis=1)"
   ]
  },
  {
   "cell_type": "code",
   "execution_count": 22,
   "metadata": {},
   "outputs": [
    {
     "data": {
      "application/vnd.jupyter.widget-view+json": {
       "model_id": "83e7740b82a04e9d9f4367818a35aae1",
       "version_major": 2,
       "version_minor": 0
      },
      "text/plain": [
       "HBox(children=(IntProgress(value=0, max=4), HTML(value='')))"
      ]
     },
     "metadata": {},
     "output_type": "display_data"
    },
    {
     "data": {
      "application/vnd.jupyter.widget-view+json": {
       "model_id": "3863d400c79b411ab388baed5b984868",
       "version_major": 2,
       "version_minor": 0
      },
      "text/plain": [
       "HBox(children=(IntProgress(value=0, max=10), HTML(value='')))"
      ]
     },
     "metadata": {},
     "output_type": "display_data"
    },
    {
     "data": {
      "application/vnd.jupyter.widget-view+json": {
       "model_id": "2f4f576fb44b43be89e0f17cd8fb27a6",
       "version_major": 2,
       "version_minor": 0
      },
      "text/plain": [
       "HBox(children=(IntProgress(value=0, max=10), HTML(value='')))"
      ]
     },
     "metadata": {},
     "output_type": "display_data"
    },
    {
     "data": {
      "application/vnd.jupyter.widget-view+json": {
       "model_id": "2ce942fccb5243ff9736dda29f84cd0e",
       "version_major": 2,
       "version_minor": 0
      },
      "text/plain": [
       "HBox(children=(IntProgress(value=0, max=10), HTML(value='')))"
      ]
     },
     "metadata": {},
     "output_type": "display_data"
    },
    {
     "data": {
      "application/vnd.jupyter.widget-view+json": {
       "model_id": "a2a92f6bfd70446bbcdf726c3a5885c2",
       "version_major": 2,
       "version_minor": 0
      },
      "text/plain": [
       "HBox(children=(IntProgress(value=0, max=10), HTML(value='')))"
      ]
     },
     "metadata": {},
     "output_type": "display_data"
    },
    {
     "name": "stdout",
     "output_type": "stream",
     "text": [
      "\n"
     ]
    }
   ],
   "source": [
    "adfstack = get_df(models, kek.drop(['ID_code'], axis=1))"
   ]
  },
  {
   "cell_type": "code",
   "execution_count": 23,
   "metadata": {},
   "outputs": [],
   "source": [
    "adfstack.to_csv('adfstack.csv', index=False)"
   ]
  },
  {
   "cell_type": "markdown",
   "metadata": {},
   "source": [
    "# Let the stacking begin"
   ]
  },
  {
   "cell_type": "code",
   "execution_count": 4,
   "metadata": {},
   "outputs": [],
   "source": [
    "final_test = pd.read_csv('adfstack.csv')"
   ]
  },
  {
   "cell_type": "code",
   "execution_count": 9,
   "metadata": {},
   "outputs": [],
   "source": [
    "X = pd.read_csv('Xstack.csv')"
   ]
  },
  {
   "cell_type": "code",
   "execution_count": 52,
   "metadata": {},
   "outputs": [
    {
     "name": "stdout",
     "output_type": "stream",
     "text": [
      "(200000, 40) | (200000, 40) | (200000, 1)\n"
     ]
    }
   ],
   "source": [
    "print(f\"{X.shape} | {final_test.shape} | {y.shape}\")"
   ]
  },
  {
   "cell_type": "code",
   "execution_count": 46,
   "metadata": {},
   "outputs": [],
   "source": [
    "y = pd.read_csv('finalY.csv')"
   ]
  },
  {
   "cell_type": "code",
   "execution_count": 48,
   "metadata": {},
   "outputs": [],
   "source": [
    "y.rename(columns=lambda x:'y', inplace=True )\n",
    "y.loc[-1] = 0.0\n",
    "y.index += 1"
   ]
  },
  {
   "cell_type": "markdown",
   "metadata": {},
   "source": [
    "# Bayesian search"
   ]
  },
  {
   "cell_type": "code",
   "execution_count": 51,
   "metadata": {},
   "outputs": [],
   "source": [
    "from bayes_opt import BayesianOptimization\n",
    "from skopt import BayesSearchCV"
   ]
  },
  {
   "cell_type": "code",
   "execution_count": 53,
   "metadata": {
    "scrolled": false
   },
   "outputs": [
    {
     "name": "stdout",
     "output_type": "stream",
     "text": [
      "|   iter    |  target   | baggin... | featur... | learni... | min_da... | min_su... | num_le... | num_th... | reg_alpha | reg_la... |\n",
      "-------------------------------------------------------------------------------------------------------------------------------------\n",
      "Training until validation scores don't improve for 100 rounds.\n",
      "Did not meet early stopping. Best iteration is:\n",
      "[100]\ttraining's auc: 0.564487\tvalid_1's auc: 0.500683\n",
      "| \u001b[0m 1       \u001b[0m | \u001b[0m 0.5007  \u001b[0m | \u001b[0m 0.5378  \u001b[0m | \u001b[0m 0.8561  \u001b[0m | \u001b[0m 0.007588\u001b[0m | \u001b[0m 143.8   \u001b[0m | \u001b[0m 6.56    \u001b[0m | \u001b[0m 10.46   \u001b[0m | \u001b[0m 6.232   \u001b[0m | \u001b[0m 0.8662  \u001b[0m | \u001b[0m 0.6011  \u001b[0m |\n",
      "Training until validation scores don't improve for 100 rounds.\n",
      "Did not meet early stopping. Best iteration is:\n",
      "[100]\ttraining's auc: 0.557723\tvalid_1's auc: 0.502136\n",
      "| \u001b[95m 2       \u001b[0m | \u001b[95m 0.5021  \u001b[0m | \u001b[95m 0.3043  \u001b[0m | \u001b[95m 0.02832 \u001b[0m | \u001b[95m 0.009729\u001b[0m | \u001b[95m 176.5   \u001b[0m | \u001b[95m 7.123   \u001b[0m | \u001b[95m 11.36   \u001b[0m | \u001b[95m 6.734   \u001b[0m | \u001b[95m 0.3042  \u001b[0m | \u001b[95m 0.5248  \u001b[0m |\n",
      "Training until validation scores don't improve for 100 rounds.\n",
      "Did not meet early stopping. Best iteration is:\n",
      "[100]\ttraining's auc: 0.604854\tvalid_1's auc: 0.498882\n",
      "| \u001b[0m 3       \u001b[0m | \u001b[0m 0.4989  \u001b[0m | \u001b[0m 0.4976  \u001b[0m | \u001b[0m 0.2692  \u001b[0m | \u001b[0m 0.006507\u001b[0m | \u001b[0m 79.53   \u001b[0m | \u001b[0m 7.921   \u001b[0m | \u001b[0m 17.82   \u001b[0m | \u001b[0m 7.824   \u001b[0m | \u001b[0m 0.7852  \u001b[0m | \u001b[0m 0.1997  \u001b[0m |\n",
      "Training until validation scores don't improve for 100 rounds.\n",
      "Did not meet early stopping. Best iteration is:\n",
      "[100]\ttraining's auc: 0.545615\tvalid_1's auc: 0.501045\n",
      "| \u001b[0m 4       \u001b[0m | \u001b[0m 0.501   \u001b[0m | \u001b[0m 0.44    \u001b[0m | \u001b[0m 0.5372  \u001b[0m | \u001b[0m 0.001418\u001b[0m | \u001b[0m 145.1   \u001b[0m | \u001b[0m 6.705   \u001b[0m | \u001b[0m 7.277   \u001b[0m | \u001b[0m 9.796   \u001b[0m | \u001b[0m 0.9656  \u001b[0m | \u001b[0m 0.8084  \u001b[0m |\n",
      "Training until validation scores don't improve for 100 rounds.\n",
      "Did not meet early stopping. Best iteration is:\n",
      "[100]\ttraining's auc: 0.611779\tvalid_1's auc: 0.500011\n",
      "| \u001b[0m 5       \u001b[0m | \u001b[0m 0.5     \u001b[0m | \u001b[0m 0.5868  \u001b[0m | \u001b[0m 0.09693 \u001b[0m | \u001b[0m 0.007158\u001b[0m | \u001b[0m 121.6   \u001b[0m | \u001b[0m 6.22    \u001b[0m | \u001b[0m 22.33   \u001b[0m | \u001b[0m 6.138   \u001b[0m | \u001b[0m 0.9093  \u001b[0m | \u001b[0m 0.2588  \u001b[0m |\n",
      "Training until validation scores don't improve for 100 rounds.\n",
      "Did not meet early stopping. Best iteration is:\n",
      "[100]\ttraining's auc: 0.632315\tvalid_1's auc: 0.501091\n",
      "| \u001b[0m 6       \u001b[0m | \u001b[0m 0.5011  \u001b[0m | \u001b[0m 0.3362  \u001b[0m | \u001b[0m 0.2874  \u001b[0m | \u001b[0m 0.005681\u001b[0m | \u001b[0m 136.5   \u001b[0m | \u001b[0m 6.849   \u001b[0m | \u001b[0m 38.94   \u001b[0m | \u001b[0m 9.101   \u001b[0m | \u001b[0m 0.9395  \u001b[0m | \u001b[0m 0.8948  \u001b[0m |\n",
      "Training until validation scores don't improve for 100 rounds.\n",
      "Did not meet early stopping. Best iteration is:\n",
      "[100]\ttraining's auc: 0.57323\tvalid_1's auc: 0.504519\n",
      "| \u001b[95m 7       \u001b[0m | \u001b[95m 0.5045  \u001b[0m | \u001b[95m 0.3815  \u001b[0m | \u001b[95m 0.8305  \u001b[0m | \u001b[95m 0.001796\u001b[0m | \u001b[95m 87.44   \u001b[0m | \u001b[95m 5.452   \u001b[0m | \u001b[95m 16.39   \u001b[0m | \u001b[95m 7.555   \u001b[0m | \u001b[95m 0.2713  \u001b[0m | \u001b[95m 0.8287  \u001b[0m |\n",
      "Training until validation scores don't improve for 100 rounds.\n",
      "Did not meet early stopping. Best iteration is:\n",
      "[100]\ttraining's auc: 0.556684\tvalid_1's auc: 0.498525\n",
      "| \u001b[0m 8       \u001b[0m | \u001b[0m 0.4985  \u001b[0m | \u001b[0m 0.5503  \u001b[0m | \u001b[0m 0.26    \u001b[0m | \u001b[0m 0.005884\u001b[0m | \u001b[0m 79.73   \u001b[0m | \u001b[0m 13.02   \u001b[0m | \u001b[0m 7.609   \u001b[0m | \u001b[0m 9.948   \u001b[0m | \u001b[0m 0.7722  \u001b[0m | \u001b[0m 0.1987  \u001b[0m |\n",
      "Training until validation scores don't improve for 100 rounds.\n",
      "Did not meet early stopping. Best iteration is:\n",
      "[100]\ttraining's auc: 0.558624\tvalid_1's auc: 0.496772\n",
      "| \u001b[0m 9       \u001b[0m | \u001b[0m 0.4968  \u001b[0m | \u001b[0m 0.7961  \u001b[0m | \u001b[0m 0.7358  \u001b[0m | \u001b[0m 0.007362\u001b[0m | \u001b[0m 162.1   \u001b[0m | \u001b[0m 12.71   \u001b[0m | \u001b[0m 7.592   \u001b[0m | \u001b[0m 7.434   \u001b[0m | \u001b[0m 0.1159  \u001b[0m | \u001b[0m 0.8631  \u001b[0m |\n",
      "Training until validation scores don't improve for 100 rounds.\n",
      "Did not meet early stopping. Best iteration is:\n",
      "[100]\ttraining's auc: 0.616915\tvalid_1's auc: 0.50352\n",
      "| \u001b[0m 10      \u001b[0m | \u001b[0m 0.5035  \u001b[0m | \u001b[0m 0.3637  \u001b[0m | \u001b[0m 0.3045  \u001b[0m | \u001b[0m 0.001572\u001b[0m | \u001b[0m 103.5   \u001b[0m | \u001b[0m 8.252   \u001b[0m | \u001b[0m 30.54   \u001b[0m | \u001b[0m 8.55    \u001b[0m | \u001b[0m 0.8872  \u001b[0m | \u001b[0m 0.4722  \u001b[0m |\n",
      "Training until validation scores don't improve for 100 rounds.\n",
      "Did not meet early stopping. Best iteration is:\n",
      "[100]\ttraining's auc: 0.634973\tvalid_1's auc: 0.499773\n",
      "| \u001b[0m 11      \u001b[0m | \u001b[0m 0.4998  \u001b[0m | \u001b[0m 0.7163  \u001b[0m | \u001b[0m 0.6448  \u001b[0m | \u001b[0m 0.007847\u001b[0m | \u001b[0m 138.6   \u001b[0m | \u001b[0m 12.71   \u001b[0m | \u001b[0m 22.28   \u001b[0m | \u001b[0m 8.091   \u001b[0m | \u001b[0m 0.4275  \u001b[0m | \u001b[0m 0.02542 \u001b[0m |\n",
      "Training until validation scores don't improve for 100 rounds.\n",
      "Did not meet early stopping. Best iteration is:\n",
      "[100]\ttraining's auc: 0.611698\tvalid_1's auc: 0.503329\n",
      "| \u001b[0m 12      \u001b[0m | \u001b[0m 0.5033  \u001b[0m | \u001b[0m 0.7245  \u001b[0m | \u001b[0m 0.03797 \u001b[0m | \u001b[0m 0.006728\u001b[0m | \u001b[0m 104.0   \u001b[0m | \u001b[0m 10.09   \u001b[0m | \u001b[0m 36.76   \u001b[0m | \u001b[0m 6.997   \u001b[0m | \u001b[0m 0.4104  \u001b[0m | \u001b[0m 0.7556  \u001b[0m |\n",
      "Training until validation scores don't improve for 100 rounds.\n",
      "Did not meet early stopping. Best iteration is:\n",
      "[100]\ttraining's auc: 0.634529\tvalid_1's auc: 0.504991\n",
      "| \u001b[95m 13      \u001b[0m | \u001b[95m 0.505   \u001b[0m | \u001b[95m 0.6398  \u001b[0m | \u001b[95m 0.07851 \u001b[0m | \u001b[95m 0.003608\u001b[0m | \u001b[95m 82.57   \u001b[0m | \u001b[95m 14.3    \u001b[0m | \u001b[95m 33.28   \u001b[0m | \u001b[95m 8.534   \u001b[0m | \u001b[95m 0.8715  \u001b[0m | \u001b[95m 0.8037  \u001b[0m |\n",
      "Training until validation scores don't improve for 100 rounds.\n",
      "Did not meet early stopping. Best iteration is:\n",
      "[100]\ttraining's auc: 0.598634\tvalid_1's auc: 0.501885\n",
      "| \u001b[0m 14      \u001b[0m | \u001b[0m 0.5019  \u001b[0m | \u001b[0m 0.6694  \u001b[0m | \u001b[0m 0.8044  \u001b[0m | \u001b[0m 0.005854\u001b[0m | \u001b[0m 173.0   \u001b[0m | \u001b[0m 13.96   \u001b[0m | \u001b[0m 16.13   \u001b[0m | \u001b[0m 6.44    \u001b[0m | \u001b[0m 0.2279  \u001b[0m | \u001b[0m 0.4271  \u001b[0m |\n",
      "Training until validation scores don't improve for 100 rounds.\n",
      "Did not meet early stopping. Best iteration is:\n",
      "[100]\ttraining's auc: 0.552345\tvalid_1's auc: 0.495322\n",
      "| \u001b[0m 15      \u001b[0m | \u001b[0m 0.4953  \u001b[0m | \u001b[0m 0.2274  \u001b[0m | \u001b[0m 0.7761  \u001b[0m | \u001b[0m 0.001063\u001b[0m | \u001b[0m 131.5   \u001b[0m | \u001b[0m 9.174   \u001b[0m | \u001b[0m 12.77   \u001b[0m | \u001b[0m 6.479   \u001b[0m | \u001b[0m 0.3376  \u001b[0m | \u001b[0m 0.9429  \u001b[0m |\n",
      "Training until validation scores don't improve for 100 rounds.\n",
      "Did not meet early stopping. Best iteration is:\n",
      "[100]\ttraining's auc: 0.653007\tvalid_1's auc: 0.504234\n",
      "| \u001b[0m 16      \u001b[0m | \u001b[0m 0.5042  \u001b[0m | \u001b[0m 0.8     \u001b[0m | \u001b[0m 0.5034  \u001b[0m | \u001b[0m 0.003547\u001b[0m | \u001b[0m 199.9   \u001b[0m | \u001b[0m 5.383   \u001b[0m | \u001b[0m 38.16   \u001b[0m | \u001b[0m 9.597   \u001b[0m | \u001b[0m 0.4778  \u001b[0m | \u001b[0m 0.572   \u001b[0m |\n",
      "Training until validation scores don't improve for 100 rounds.\n",
      "Did not meet early stopping. Best iteration is:\n",
      "[100]\ttraining's auc: 0.671431\tvalid_1's auc: 0.503337\n",
      "| \u001b[0m 17      \u001b[0m | \u001b[0m 0.5033  \u001b[0m | \u001b[0m 0.8     \u001b[0m | \u001b[0m 0.7767  \u001b[0m | \u001b[0m 0.008392\u001b[0m | \u001b[0m 60.88   \u001b[0m | \u001b[0m 5.271   \u001b[0m | \u001b[0m 37.94   \u001b[0m | \u001b[0m 9.625   \u001b[0m | \u001b[0m 0.5532  \u001b[0m | \u001b[0m 0.3889  \u001b[0m |\n",
      "Training until validation scores don't improve for 100 rounds.\n",
      "Did not meet early stopping. Best iteration is:\n",
      "[95]\ttraining's auc: 0.537152\tvalid_1's auc: 0.50114\n",
      "| \u001b[0m 18      \u001b[0m | \u001b[0m 0.5011  \u001b[0m | \u001b[0m 0.8     \u001b[0m | \u001b[0m 0.851   \u001b[0m | \u001b[0m 0.008189\u001b[0m | \u001b[0m 199.1   \u001b[0m | \u001b[0m 7.667   \u001b[0m | \u001b[0m 5.131   \u001b[0m | \u001b[0m 9.873   \u001b[0m | \u001b[0m 0.249   \u001b[0m | \u001b[0m 0.3354  \u001b[0m |\n",
      "Training until validation scores don't improve for 100 rounds.\n",
      "Did not meet early stopping. Best iteration is:\n",
      "[100]\ttraining's auc: 0.64568\tvalid_1's auc: 0.503343\n",
      "| \u001b[0m 19      \u001b[0m | \u001b[0m 0.5033  \u001b[0m | \u001b[0m 0.8     \u001b[0m | \u001b[0m 0.1239  \u001b[0m | \u001b[0m 0.00132 \u001b[0m | \u001b[0m 199.5   \u001b[0m | \u001b[0m 5.442   \u001b[0m | \u001b[0m 39.81   \u001b[0m | \u001b[0m 9.465   \u001b[0m | \u001b[0m 0.4562  \u001b[0m | \u001b[0m 0.1286  \u001b[0m |\n",
      "Training until validation scores don't improve for 100 rounds.\n",
      "Did not meet early stopping. Best iteration is:\n",
      "[100]\ttraining's auc: 0.661667\tvalid_1's auc: 0.500398\n",
      "| \u001b[0m 20      \u001b[0m | \u001b[0m 0.5004  \u001b[0m | \u001b[0m 0.8     \u001b[0m | \u001b[0m 0.861   \u001b[0m | \u001b[0m 0.007125\u001b[0m | \u001b[0m 199.3   \u001b[0m | \u001b[0m 5.128   \u001b[0m | \u001b[0m 39.99   \u001b[0m | \u001b[0m 7.134   \u001b[0m | \u001b[0m 0.4101  \u001b[0m | \u001b[0m 0.3608  \u001b[0m |\n",
      "Training until validation scores don't improve for 100 rounds.\n",
      "Did not meet early stopping. Best iteration is:\n",
      "[100]\ttraining's auc: 0.626784\tvalid_1's auc: 0.497265\n",
      "| \u001b[0m 21      \u001b[0m | \u001b[0m 0.4973  \u001b[0m | \u001b[0m 0.8     \u001b[0m | \u001b[0m 0.8345  \u001b[0m | \u001b[0m 0.009456\u001b[0m | \u001b[0m 170.0   \u001b[0m | \u001b[0m 5.239   \u001b[0m | \u001b[0m 26.32   \u001b[0m | \u001b[0m 9.758   \u001b[0m | \u001b[0m 0.5331  \u001b[0m | \u001b[0m 0.1845  \u001b[0m |\n"
     ]
    },
    {
     "name": "stdout",
     "output_type": "stream",
     "text": [
      "Training until validation scores don't improve for 100 rounds.\n",
      "Did not meet early stopping. Best iteration is:\n",
      "[97]\ttraining's auc: 0.650741\tvalid_1's auc: 0.501416\n",
      "| \u001b[0m 22      \u001b[0m | \u001b[0m 0.5014  \u001b[0m | \u001b[0m 0.8     \u001b[0m | \u001b[0m 0.1508  \u001b[0m | \u001b[0m 0.004867\u001b[0m | \u001b[0m 198.5   \u001b[0m | \u001b[0m 14.63   \u001b[0m | \u001b[0m 36.97   \u001b[0m | \u001b[0m 7.29    \u001b[0m | \u001b[0m 0.9188  \u001b[0m | \u001b[0m 0.6807  \u001b[0m |\n",
      "Training until validation scores don't improve for 100 rounds.\n",
      "Did not meet early stopping. Best iteration is:\n",
      "[99]\ttraining's auc: 0.676347\tvalid_1's auc: 0.50331\n",
      "| \u001b[0m 23      \u001b[0m | \u001b[0m 0.5033  \u001b[0m | \u001b[0m 0.8     \u001b[0m | \u001b[0m 0.5493  \u001b[0m | \u001b[0m 0.004028\u001b[0m | \u001b[0m 60.88   \u001b[0m | \u001b[0m 5.183   \u001b[0m | \u001b[0m 39.81   \u001b[0m | \u001b[0m 8.606   \u001b[0m | \u001b[0m 0.6437  \u001b[0m | \u001b[0m 0.01046 \u001b[0m |\n",
      "Training until validation scores don't improve for 100 rounds.\n",
      "Did not meet early stopping. Best iteration is:\n",
      "[100]\ttraining's auc: 0.66808\tvalid_1's auc: 0.501472\n",
      "| \u001b[0m 24      \u001b[0m | \u001b[0m 0.5015  \u001b[0m | \u001b[0m 0.8     \u001b[0m | \u001b[0m 0.1168  \u001b[0m | \u001b[0m 0.006785\u001b[0m | \u001b[0m 60.34   \u001b[0m | \u001b[0m 5.236   \u001b[0m | \u001b[0m 39.71   \u001b[0m | \u001b[0m 9.911   \u001b[0m | \u001b[0m 0.7693  \u001b[0m | \u001b[0m 0.2853  \u001b[0m |\n",
      "Training until validation scores don't improve for 100 rounds.\n",
      "Did not meet early stopping. Best iteration is:\n",
      "[100]\ttraining's auc: 0.655668\tvalid_1's auc: 0.500385\n",
      "| \u001b[0m 25      \u001b[0m | \u001b[0m 0.5004  \u001b[0m | \u001b[0m 0.8     \u001b[0m | \u001b[0m 0.441   \u001b[0m | \u001b[0m 0.002685\u001b[0m | \u001b[0m 63.41   \u001b[0m | \u001b[0m 14.91   \u001b[0m | \u001b[0m 39.84   \u001b[0m | \u001b[0m 9.476   \u001b[0m | \u001b[0m 0.01056 \u001b[0m | \u001b[0m 0.3424  \u001b[0m |\n",
      "Training until validation scores don't improve for 100 rounds.\n",
      "Did not meet early stopping. Best iteration is:\n",
      "[100]\ttraining's auc: 0.677144\tvalid_1's auc: 0.50237\n",
      "| \u001b[0m 26      \u001b[0m | \u001b[0m 0.5024  \u001b[0m | \u001b[0m 0.8     \u001b[0m | \u001b[0m 0.5411  \u001b[0m | \u001b[0m 0.005579\u001b[0m | \u001b[0m 64.25   \u001b[0m | \u001b[0m 5.861   \u001b[0m | \u001b[0m 39.9    \u001b[0m | \u001b[0m 6.021   \u001b[0m | \u001b[0m 0.1498  \u001b[0m | \u001b[0m 0.4206  \u001b[0m |\n",
      "Training until validation scores don't improve for 100 rounds.\n",
      "Did not meet early stopping. Best iteration is:\n",
      "[100]\ttraining's auc: 0.658273\tvalid_1's auc: 0.500012\n",
      "| \u001b[0m 27      \u001b[0m | \u001b[0m 0.5     \u001b[0m | \u001b[0m 0.8     \u001b[0m | \u001b[0m 0.2604  \u001b[0m | \u001b[0m 0.003212\u001b[0m | \u001b[0m 62.15   \u001b[0m | \u001b[0m 5.603   \u001b[0m | \u001b[0m 39.93   \u001b[0m | \u001b[0m 9.478   \u001b[0m | \u001b[0m 0.6766  \u001b[0m | \u001b[0m 0.6751  \u001b[0m |\n",
      "Training until validation scores don't improve for 100 rounds.\n",
      "Did not meet early stopping. Best iteration is:\n",
      "[99]\ttraining's auc: 0.66897\tvalid_1's auc: 0.502095\n",
      "| \u001b[0m 28      \u001b[0m | \u001b[0m 0.5021  \u001b[0m | \u001b[0m 0.8     \u001b[0m | \u001b[0m 0.6988  \u001b[0m | \u001b[0m 0.006264\u001b[0m | \u001b[0m 199.9   \u001b[0m | \u001b[0m 5.305   \u001b[0m | \u001b[0m 40.0    \u001b[0m | \u001b[0m 6.257   \u001b[0m | \u001b[0m 0.06556 \u001b[0m | \u001b[0m 0.3264  \u001b[0m |\n",
      "Training until validation scores don't improve for 100 rounds.\n",
      "Did not meet early stopping. Best iteration is:\n",
      "[100]\ttraining's auc: 0.637788\tvalid_1's auc: 0.504633\n",
      "| \u001b[0m 29      \u001b[0m | \u001b[0m 0.5046  \u001b[0m | \u001b[0m 0.8     \u001b[0m | \u001b[0m 0.0639  \u001b[0m | \u001b[0m 0.002958\u001b[0m | \u001b[0m 199.1   \u001b[0m | \u001b[0m 5.115   \u001b[0m | \u001b[0m 39.9    \u001b[0m | \u001b[0m 8.984   \u001b[0m | \u001b[0m 0.0591  \u001b[0m | \u001b[0m 0.5729  \u001b[0m |\n",
      "Training until validation scores don't improve for 100 rounds.\n",
      "Did not meet early stopping. Best iteration is:\n",
      "[100]\ttraining's auc: 0.661836\tvalid_1's auc: 0.503018\n",
      "| \u001b[0m 30      \u001b[0m | \u001b[0m 0.503   \u001b[0m | \u001b[0m 0.8     \u001b[0m | \u001b[0m 0.5046  \u001b[0m | \u001b[0m 0.004365\u001b[0m | \u001b[0m 199.5   \u001b[0m | \u001b[0m 5.294   \u001b[0m | \u001b[0m 39.9    \u001b[0m | \u001b[0m 9.993   \u001b[0m | \u001b[0m 0.4617  \u001b[0m | \u001b[0m 0.4803  \u001b[0m |\n",
      "Training until validation scores don't improve for 100 rounds.\n",
      "Did not meet early stopping. Best iteration is:\n",
      "[100]\ttraining's auc: 0.658815\tvalid_1's auc: 0.499299\n",
      "| \u001b[0m 31      \u001b[0m | \u001b[0m 0.4993  \u001b[0m | \u001b[0m 0.8     \u001b[0m | \u001b[0m 0.4662  \u001b[0m | \u001b[0m 0.003986\u001b[0m | \u001b[0m 197.8   \u001b[0m | \u001b[0m 5.753   \u001b[0m | \u001b[0m 39.88   \u001b[0m | \u001b[0m 9.282   \u001b[0m | \u001b[0m 0.3502  \u001b[0m | \u001b[0m 0.3289  \u001b[0m |\n",
      "Training until validation scores don't improve for 100 rounds.\n",
      "Did not meet early stopping. Best iteration is:\n",
      "[100]\ttraining's auc: 0.688466\tvalid_1's auc: 0.504898\n",
      "| \u001b[0m 32      \u001b[0m | \u001b[0m 0.5049  \u001b[0m | \u001b[0m 0.8     \u001b[0m | \u001b[0m 0.2061  \u001b[0m | \u001b[0m 0.009843\u001b[0m | \u001b[0m 60.39   \u001b[0m | \u001b[0m 5.36    \u001b[0m | \u001b[0m 39.64   \u001b[0m | \u001b[0m 6.727   \u001b[0m | \u001b[0m 0.3092  \u001b[0m | \u001b[0m 0.4968  \u001b[0m |\n",
      "Training until validation scores don't improve for 100 rounds.\n",
      "Did not meet early stopping. Best iteration is:\n",
      "[99]\ttraining's auc: 0.670773\tvalid_1's auc: 0.501574\n",
      "| \u001b[0m 33      \u001b[0m | \u001b[0m 0.5016  \u001b[0m | \u001b[0m 0.8     \u001b[0m | \u001b[0m 0.3466  \u001b[0m | \u001b[0m 0.003555\u001b[0m | \u001b[0m 63.25   \u001b[0m | \u001b[0m 5.326   \u001b[0m | \u001b[0m 39.51   \u001b[0m | \u001b[0m 6.906   \u001b[0m | \u001b[0m 0.7413  \u001b[0m | \u001b[0m 0.3715  \u001b[0m |\n",
      "Training until validation scores don't improve for 100 rounds.\n",
      "Did not meet early stopping. Best iteration is:\n",
      "[100]\ttraining's auc: 0.675294\tvalid_1's auc: 0.504771\n",
      "| \u001b[0m 34      \u001b[0m | \u001b[0m 0.5048  \u001b[0m | \u001b[0m 0.8     \u001b[0m | \u001b[0m 0.4568  \u001b[0m | \u001b[0m 0.004256\u001b[0m | \u001b[0m 62.46   \u001b[0m | \u001b[0m 5.049   \u001b[0m | \u001b[0m 39.85   \u001b[0m | \u001b[0m 6.643   \u001b[0m | \u001b[0m 0.3906  \u001b[0m | \u001b[0m 0.8568  \u001b[0m |\n",
      "Training until validation scores don't improve for 100 rounds.\n",
      "Did not meet early stopping. Best iteration is:\n",
      "[100]\ttraining's auc: 0.677559\tvalid_1's auc: 0.503726\n",
      "| \u001b[0m 35      \u001b[0m | \u001b[0m 0.5037  \u001b[0m | \u001b[0m 0.8     \u001b[0m | \u001b[0m 0.3224  \u001b[0m | \u001b[0m 0.006015\u001b[0m | \u001b[0m 66.88   \u001b[0m | \u001b[0m 5.029   \u001b[0m | \u001b[0m 39.83   \u001b[0m | \u001b[0m 6.555   \u001b[0m | \u001b[0m 0.5979  \u001b[0m | \u001b[0m 0.2049  \u001b[0m |\n",
      "Training until validation scores don't improve for 100 rounds.\n",
      "Did not meet early stopping. Best iteration is:\n",
      "[100]\ttraining's auc: 0.677648\tvalid_1's auc: 0.506999\n",
      "| \u001b[95m 36      \u001b[0m | \u001b[95m 0.507   \u001b[0m | \u001b[95m 0.8     \u001b[0m | \u001b[95m 0.6409  \u001b[0m | \u001b[95m 0.004444\u001b[0m | \u001b[95m 61.13   \u001b[0m | \u001b[95m 5.477   \u001b[0m | \u001b[95m 39.8    \u001b[0m | \u001b[95m 6.977   \u001b[0m | \u001b[95m 0.5714  \u001b[0m | \u001b[95m 0.766   \u001b[0m |\n",
      "Training until validation scores don't improve for 100 rounds.\n",
      "Did not meet early stopping. Best iteration is:\n",
      "[100]\ttraining's auc: 0.549205\tvalid_1's auc: 0.499602\n",
      "| \u001b[0m 37      \u001b[0m | \u001b[0m 0.4996  \u001b[0m | \u001b[0m 0.8     \u001b[0m | \u001b[0m 0.7717  \u001b[0m | \u001b[0m 0.009138\u001b[0m | \u001b[0m 60.38   \u001b[0m | \u001b[0m 5.133   \u001b[0m | \u001b[0m 5.973   \u001b[0m | \u001b[0m 6.201   \u001b[0m | \u001b[0m 0.9791  \u001b[0m | \u001b[0m 0.6875  \u001b[0m |\n",
      "Training until validation scores don't improve for 100 rounds.\n",
      "Did not meet early stopping. Best iteration is:\n",
      "[100]\ttraining's auc: 0.675045\tvalid_1's auc: 0.502578\n",
      "| \u001b[0m 38      \u001b[0m | \u001b[0m 0.5026  \u001b[0m | \u001b[0m 0.8     \u001b[0m | \u001b[0m 0.4471  \u001b[0m | \u001b[0m 0.004979\u001b[0m | \u001b[0m 61.37   \u001b[0m | \u001b[0m 5.758   \u001b[0m | \u001b[0m 39.99   \u001b[0m | \u001b[0m 6.417   \u001b[0m | \u001b[0m 0.1202  \u001b[0m | \u001b[0m 0.3004  \u001b[0m |\n",
      "Training until validation scores don't improve for 100 rounds.\n",
      "Did not meet early stopping. Best iteration is:\n",
      "[100]\ttraining's auc: 0.681648\tvalid_1's auc: 0.503585\n",
      "| \u001b[0m 39      \u001b[0m | \u001b[0m 0.5036  \u001b[0m | \u001b[0m 0.8     \u001b[0m | \u001b[0m 0.3006  \u001b[0m | \u001b[0m 0.0066  \u001b[0m | \u001b[0m 66.37   \u001b[0m | \u001b[0m 5.32    \u001b[0m | \u001b[0m 39.78   \u001b[0m | \u001b[0m 6.257   \u001b[0m | \u001b[0m 0.3018  \u001b[0m | \u001b[0m 0.8878  \u001b[0m |\n",
      "Training until validation scores don't improve for 100 rounds.\n",
      "Did not meet early stopping. Best iteration is:\n",
      "[100]\ttraining's auc: 0.68226\tvalid_1's auc: 0.504263\n",
      "| \u001b[0m 40      \u001b[0m | \u001b[0m 0.5043  \u001b[0m | \u001b[0m 0.8     \u001b[0m | \u001b[0m 0.6631  \u001b[0m | \u001b[0m 0.00549 \u001b[0m | \u001b[0m 63.86   \u001b[0m | \u001b[0m 5.165   \u001b[0m | \u001b[0m 39.73   \u001b[0m | \u001b[0m 6.304   \u001b[0m | \u001b[0m 0.8974  \u001b[0m | \u001b[0m 0.2275  \u001b[0m |\n",
      "=====================================================================================================================================\n"
     ]
    }
   ],
   "source": [
    "def bayes_parameter_opt_lgb(X, y, init_round=15, opt_round=25, n_folds=5, random_seed=6, n_estimators=10000, output_process=False):\n",
    "    # prepare data\n",
    "#     Xtr, Xval, ytr, yval  = train_test_split(X, y, test_size = 0.2, random_state=42)\n",
    "#     train_data = lgb.Dataset(data=Xtr, label=ytr, free_raw_data=False)\n",
    "#     val_data = lgb.Dataset(data=Xval, label=yval, free_raw_data=False)\n",
    "\n",
    "    # parameters\n",
    "    def lgb_eval(num_leaves, feature_fraction, bagging_fraction, learning_rate, num_threads, min_data_in_leaf, min_sum_hessian_in_leaf, reg_alpha, reg_lambda):\n",
    "        # fixed parameters\n",
    "        params = {'application':'binary',\n",
    "                  'num_iterations': n_estimators,\n",
    "                  'learning_rate':learning_rate,\n",
    "                  'early_stopping_round':100,\n",
    "                  'metric':'auc',\n",
    "                  'max_depth':-1,\n",
    "                  'bagging_freq':7,\n",
    "                  'verbosity':-1}\n",
    "        # variables\n",
    "        params[\"num_leaves\"] = int(round(num_leaves))\n",
    "        params['feature_fraction'] = max(min(feature_fraction, 1), 0)\n",
    "        params['bagging_fraction'] = max(min(bagging_fraction, 1), 0)\n",
    "        params['learning_rate'] = learning_rate\n",
    "        params['num_threads'] = int(num_threads)\n",
    "        params['min_data_in_leaf'] = int(min_data_in_leaf)\n",
    "        params['min_sum_hessian_in_leaf'] = min_sum_hessian_in_leaf\n",
    "        params['reg_alpha'] = max(min(reg_alpha, 1), 0)\n",
    "        params['reg_lambda'] = max(min(reg_lambda, 1), 0)\n",
    "        \n",
    "        score = lgb_trainer_for_bayesian_optim(X, y, params)\n",
    "#         cv_result = lgb.cv(params, train_data, nfold=n_folds, seed=random_seed, stratified=True, verbose_eval =200, metrics=['auc'])\n",
    "        \n",
    "        return score\n",
    "    # range of variables\n",
    "    lgbBO = BayesianOptimization(lgb_eval, {'num_leaves': (5, 40),\n",
    "                                            'feature_fraction': (0.01, 0.9),\n",
    "                                            'bagging_fraction': (0.8, 0.1),\n",
    "                                            'learning_rate': (0.001, 0.01),\n",
    "                                            'num_threads': (6, 10),\n",
    "                                            'min_data_in_leaf': (60, 200),\n",
    "                                            'min_sum_hessian_in_leaf': (5.0 , 15.0),\n",
    "                                            'reg_alpha': (0.0 , 1.0),\n",
    "                                            'reg_lambda': (0.0 , 1.0),\n",
    "                                           },\n",
    "                                             random_state=42)\n",
    "    # optimize!\n",
    "    lgbBO.maximize(init_points=init_round, n_iter=opt_round)\n",
    "    \n",
    "    # output optimization process\n",
    "    if output_process==True: lgbBO.points_to_csv(\"bayes_opt_result.csv\")\n",
    "    \n",
    "    # return best parameters\n",
    "    return lgbBO.res\n",
    "\n",
    "opt_params = bayes_parameter_opt_lgb(X, y, init_round=15, opt_round=25, n_folds=5, random_seed=42, n_estimators=100) "
   ]
  },
  {
   "cell_type": "code",
   "execution_count": 55,
   "metadata": {},
   "outputs": [
    {
     "data": {
      "text/plain": [
       "{'target': 0.5069993743091272,\n",
       " 'params': {'bagging_fraction': 0.8,\n",
       "  'feature_fraction': 0.6409129751307899,\n",
       "  'learning_rate': 0.004444183166341189,\n",
       "  'min_data_in_leaf': 61.12700472473412,\n",
       "  'min_sum_hessian_in_leaf': 5.477195782834263,\n",
       "  'num_leaves': 39.80431753787029,\n",
       "  'num_threads': 6.977054472760379,\n",
       "  'reg_alpha': 0.5713746629098466,\n",
       "  'reg_lambda': 0.7659697399878922}}"
      ]
     },
     "execution_count": 55,
     "metadata": {},
     "output_type": "execute_result"
    }
   ],
   "source": [
    "opt_params[35]"
   ]
  },
  {
   "cell_type": "markdown",
   "metadata": {},
   "source": [
    "# Train"
   ]
  },
  {
   "cell_type": "code",
   "execution_count": 56,
   "metadata": {},
   "outputs": [],
   "source": [
    "Xtr, Xval, ytr, yval  = train_test_split(X, y, test_size = 0.2, random_state=42)"
   ]
  },
  {
   "cell_type": "code",
   "execution_count": 59,
   "metadata": {},
   "outputs": [],
   "source": [
    "param = {\n",
    "   'bagging_fraction': 0.8,\n",
    "  'feature_fraction': 0.6409129751307899,\n",
    "  'learning_rate': 0.004444183166341189,\n",
    "  'min_data_in_leaf': 61,\n",
    "  'min_sum_hessian_in_leaf': 5.477195782834263,\n",
    "  'num_leaves': 39,\n",
    "  'num_threads': 7,\n",
    "  'reg_alpha': 0.5713746629098466,\n",
    "  'reg_lambda': 0.7659697399878922,\n",
    "    'boost': 'gbdt',\n",
    "    'metric':'auc',\n",
    "    'tree_learner': 'serial',\n",
    "    'objective': 'binary', \n",
    "    'verbosity': -1,\n",
    "    'seed':42,\n",
    "}\n",
    "\n",
    "\n",
    "#^best"
   ]
  },
  {
   "cell_type": "code",
   "execution_count": 81,
   "metadata": {},
   "outputs": [
    {
     "data": {
      "application/vnd.jupyter.widget-view+json": {
       "model_id": "8881b5a93bcb4333b8a643cb305bc058",
       "version_major": 2,
       "version_minor": 0
      },
      "text/plain": [
       "HBox(children=(IntProgress(value=1, bar_style='info', max=1), HTML(value='')))"
      ]
     },
     "metadata": {},
     "output_type": "display_data"
    },
    {
     "name": "stdout",
     "output_type": "stream",
     "text": [
      "Training until validation scores don't improve for 4000 rounds.\n",
      "Early stopping, best iteration is:\n",
      "[2]\ttraining's auc: 0.537037\tvalid_1's auc: 0.503822\n",
      "Training until validation scores don't improve for 4000 rounds.\n",
      "Early stopping, best iteration is:\n",
      "[28]\ttraining's auc: 0.58447\tvalid_1's auc: 0.501803\n",
      "Training until validation scores don't improve for 4000 rounds.\n",
      "Early stopping, best iteration is:\n",
      "[44]\ttraining's auc: 0.594663\tvalid_1's auc: 0.505405\n",
      "Training until validation scores don't improve for 4000 rounds.\n",
      "Early stopping, best iteration is:\n",
      "[7]\ttraining's auc: 0.55323\tvalid_1's auc: 0.509027\n",
      "Training until validation scores don't improve for 4000 rounds.\n",
      "Early stopping, best iteration is:\n",
      "[13]\ttraining's auc: 0.593732\tvalid_1's auc: 0.502715\n"
     ]
    }
   ],
   "source": [
    "rank_models = lgb_trainer_no_aug(Xtr, pd.Series(ytr.values[:,0]), param, n_folds = 5)"
   ]
  },
  {
   "cell_type": "code",
   "execution_count": 83,
   "metadata": {},
   "outputs": [
    {
     "name": "stdout",
     "output_type": "stream",
     "text": [
      "Fold: 0 \t Score: 0.5017701249486\n",
      "Fold: 1 \t Score: 0.4995392315914421\n",
      "Fold: 2 \t Score: 0.5055092692410392\n",
      "Fold: 3 \t Score: 0.5023224748657927\n",
      "Fold: 4 \t Score: 0.5004523109329986\n",
      "Score: 0.5050976123548913\n"
     ]
    }
   ],
   "source": [
    "scorre, q, w = test_f(Xval, yval, rank_models)"
   ]
  },
  {
   "cell_type": "markdown",
   "metadata": {},
   "source": [
    "# asdasd"
   ]
  },
  {
   "cell_type": "code",
   "execution_count": 86,
   "metadata": {},
   "outputs": [],
   "source": [
    "final_test = pd.read_csv('adfstack.csv')"
   ]
  },
  {
   "cell_type": "code",
   "execution_count": 92,
   "metadata": {},
   "outputs": [
    {
     "data": {
      "text/html": [
       "<div>\n",
       "<style scoped>\n",
       "    .dataframe tbody tr th:only-of-type {\n",
       "        vertical-align: middle;\n",
       "    }\n",
       "\n",
       "    .dataframe tbody tr th {\n",
       "        vertical-align: top;\n",
       "    }\n",
       "\n",
       "    .dataframe thead th {\n",
       "        text-align: right;\n",
       "    }\n",
       "</style>\n",
       "<table border=\"1\" class=\"dataframe\">\n",
       "  <thead>\n",
       "    <tr style=\"text-align: right;\">\n",
       "      <th></th>\n",
       "      <th>ID_code</th>\n",
       "      <th>target</th>\n",
       "    </tr>\n",
       "  </thead>\n",
       "  <tbody>\n",
       "    <tr>\n",
       "      <th>0</th>\n",
       "      <td>test_0</td>\n",
       "      <td>0.103566</td>\n",
       "    </tr>\n",
       "    <tr>\n",
       "      <th>1</th>\n",
       "      <td>test_1</td>\n",
       "      <td>0.207013</td>\n",
       "    </tr>\n",
       "    <tr>\n",
       "      <th>2</th>\n",
       "      <td>test_2</td>\n",
       "      <td>0.157158</td>\n",
       "    </tr>\n",
       "    <tr>\n",
       "      <th>3</th>\n",
       "      <td>test_3</td>\n",
       "      <td>0.188586</td>\n",
       "    </tr>\n",
       "    <tr>\n",
       "      <th>4</th>\n",
       "      <td>test_4</td>\n",
       "      <td>0.045161</td>\n",
       "    </tr>\n",
       "  </tbody>\n",
       "</table>\n",
       "</div>"
      ],
      "text/plain": [
       "  ID_code    target\n",
       "0  test_0  0.103566\n",
       "1  test_1  0.207013\n",
       "2  test_2  0.157158\n",
       "3  test_3  0.188586\n",
       "4  test_4  0.045161"
      ]
     },
     "execution_count": 92,
     "metadata": {},
     "output_type": "execute_result"
    }
   ],
   "source": [
    "submission = pd.read_csv('answer_1_simple_gbm.csv')\n",
    "submission.head()"
   ]
  },
  {
   "cell_type": "code",
   "execution_count": 93,
   "metadata": {},
   "outputs": [],
   "source": [
    "submission.target = final_test.mean(axis=1)"
   ]
  },
  {
   "cell_type": "code",
   "execution_count": 95,
   "metadata": {},
   "outputs": [
    {
     "data": {
      "text/html": [
       "<div>\n",
       "<style scoped>\n",
       "    .dataframe tbody tr th:only-of-type {\n",
       "        vertical-align: middle;\n",
       "    }\n",
       "\n",
       "    .dataframe tbody tr th {\n",
       "        vertical-align: top;\n",
       "    }\n",
       "\n",
       "    .dataframe thead th {\n",
       "        text-align: right;\n",
       "    }\n",
       "</style>\n",
       "<table border=\"1\" class=\"dataframe\">\n",
       "  <thead>\n",
       "    <tr style=\"text-align: right;\">\n",
       "      <th></th>\n",
       "      <th>ID_code</th>\n",
       "      <th>target</th>\n",
       "    </tr>\n",
       "  </thead>\n",
       "  <tbody>\n",
       "    <tr>\n",
       "      <th>0</th>\n",
       "      <td>test_0</td>\n",
       "      <td>0.044425</td>\n",
       "    </tr>\n",
       "    <tr>\n",
       "      <th>1</th>\n",
       "      <td>test_1</td>\n",
       "      <td>0.129835</td>\n",
       "    </tr>\n",
       "    <tr>\n",
       "      <th>2</th>\n",
       "      <td>test_2</td>\n",
       "      <td>0.151489</td>\n",
       "    </tr>\n",
       "    <tr>\n",
       "      <th>3</th>\n",
       "      <td>test_3</td>\n",
       "      <td>0.174534</td>\n",
       "    </tr>\n",
       "    <tr>\n",
       "      <th>4</th>\n",
       "      <td>test_4</td>\n",
       "      <td>0.053164</td>\n",
       "    </tr>\n",
       "  </tbody>\n",
       "</table>\n",
       "</div>"
      ],
      "text/plain": [
       "  ID_code    target\n",
       "0  test_0  0.044425\n",
       "1  test_1  0.129835\n",
       "2  test_2  0.151489\n",
       "3  test_3  0.174534\n",
       "4  test_4  0.053164"
      ]
     },
     "execution_count": 95,
     "metadata": {},
     "output_type": "execute_result"
    }
   ],
   "source": [
    "submission.to_csv('#a1.csv', index=False)\n",
    "submission.head()\n"
   ]
  },
  {
   "cell_type": "markdown",
   "metadata": {},
   "source": [
    "# cOrr"
   ]
  },
  {
   "cell_type": "code",
   "execution_count": 109,
   "metadata": {},
   "outputs": [
    {
     "data": {
      "text/plain": [
       "<matplotlib.axes._subplots.AxesSubplot at 0x7f63bb337be0>"
      ]
     },
     "execution_count": 109,
     "metadata": {},
     "output_type": "execute_result"
    },
    {
     "data": {
      "image/png": "[encoded data removed]",
      "text/plain": [
       "<Figure size 432x288 with 2 Axes>"
      ]
     },
     "metadata": {
      "needs_background": "light"
     },
     "output_type": "display_data"
    }
   ],
   "source": [
    "corr = final_test.corr(method='kendall')\n",
    "sns.heatmap(corr)"
   ]
  },
  {
   "cell_type": "code",
   "execution_count": 111,
   "metadata": {},
   "outputs": [],
   "source": [
    "weights = corr.sum(axis=1)"
   ]
  },
  {
   "cell_type": "code",
   "execution_count": 115,
   "metadata": {},
   "outputs": [
    {
     "data": {
      "text/plain": [
       "33.51129048895244"
      ]
     },
     "execution_count": 115,
     "metadata": {},
     "output_type": "execute_result"
    }
   ],
   "source": [
    "for col in weights.index:\n",
    "    w += 1 / (weights[col] ** 3)\n",
    "    "
   ]
  },
  {
   "cell_type": "code",
   "execution_count": null,
   "metadata": {},
   "outputs": [],
   "source": []
  }
 ],
 "metadata": {
  "kernelspec": {
   "display_name": "Python 3",
   "language": "python",
   "name": "python3"
  },
  "language_info": {
   "codemirror_mode": {
    "name": "ipython",
    "version": 3
   },
   "file_extension": ".py",
   "mimetype": "text/x-python",
   "name": "python",
   "nbconvert_exporter": "python",
   "pygments_lexer": "ipython3",
   "version": "3.6.8"
  }
 },
 "nbformat": 4,
 "nbformat_minor": 2
}

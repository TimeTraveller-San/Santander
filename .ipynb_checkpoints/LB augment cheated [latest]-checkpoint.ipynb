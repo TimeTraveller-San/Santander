{
 "cells": [
  {
   "cell_type": "markdown",
   "metadata": {},
   "source": [
    "# LB Shuffle Augment answer"
   ]
  },
  {
   "cell_type": "code",
   "execution_count": 52,
   "metadata": {},
   "outputs": [],
   "source": [
    "import numpy as np\n",
    "import pandas as pd\n",
    "from sklearn.model_selection import train_test_split, ParameterGrid\n",
    "from sklearn.model_selection import StratifiedKFold\n",
    "import pickle\n",
    "from sklearn.metrics import roc_auc_score\n",
    "import lightgbm as lgb\n",
    "from sklearn.metrics import roc_auc_score\n",
    "import gc\n",
    "import seaborn as sns\n",
    "import lightgbm as lgb\n",
    "from skopt.space import Real, Integer\n",
    "from skopt.utils import use_named_args\n",
    "import itertools\n",
    "from sklearn.metrics import roc_auc_score\n",
    "from skopt import gp_minimize\n",
    "from sklearn.model_selection import train_test_split, ParameterGrid\n",
    "from sklearn.ensemble import RandomForestRegressor, RandomForestClassifier\n",
    "TRAIN = 'data/train.csv'\n",
    "TEST = 'data/test.csv'\n",
    "SAMPLE = 'data/sample_submission.csv'\n",
    "train = pd.read_csv(TRAIN)\n",
    "test = pd.read_csv(TEST)\n",
    "gc.enable()"
   ]
  },
  {
   "cell_type": "code",
   "execution_count": 53,
   "metadata": {},
   "outputs": [],
   "source": [
    "X = train.drop(['ID_code', 'target'], axis=1)\n",
    "y = train.target\n",
    "X, Xval, y, yval  = train_test_split(X, y, test_size = 0.05)"
   ]
  },
  {
   "cell_type": "code",
   "execution_count": 54,
   "metadata": {},
   "outputs": [],
   "source": [
    "def save_model(models, filename):\n",
    "    with open(filename, 'wb') as handle:\n",
    "        pickle.dump(models, handle)"
   ]
  },
  {
   "cell_type": "code",
   "execution_count": 55,
   "metadata": {},
   "outputs": [],
   "source": [
    "def augment(x,y,t=2):\n",
    "    xs,xn = [],[]\n",
    "    for i in range(t):\n",
    "        mask = y>0\n",
    "        x1 = x[mask].copy()\n",
    "        ids = np.arange(x1.shape[0])\n",
    "        for c in range(x1.shape[1]):\n",
    "            np.random.shuffle(ids)\n",
    "            x1[:,c] = x1[ids][:,c]\n",
    "        xs.append(x1)\n",
    "\n",
    "    for i in range(t//2):\n",
    "        mask = y==0\n",
    "        x1 = x[mask].copy()\n",
    "        ids = np.arange(x1.shape[0])\n",
    "        for c in range(x1.shape[1]):\n",
    "            np.random.shuffle(ids)\n",
    "            x1[:,c] = x1[ids][:,c]\n",
    "        xn.append(x1)\n",
    "    xs = np.vstack(xs)\n",
    "    xn = np.vstack(xn)\n",
    "    ys = np.ones(xs.shape[0])\n",
    "    yn = np.zeros(xn.shape[0])\n",
    "    x = np.vstack([x,xs,xn])\n",
    "    y = np.concatenate([y,ys,yn])\n",
    "    return x,y"
   ]
  },
  {
   "cell_type": "code",
   "execution_count": 56,
   "metadata": {},
   "outputs": [],
   "source": [
    "param = {\n",
    "    'bagging_freq': 5,\n",
    "    'bagging_fraction': 0.335,\n",
    "    'boost_from_average':'false',\n",
    "    'boost': 'gbdt',\n",
    "    'feature_fraction': 0.041,\n",
    "    'learning_rate': 0.0083,\n",
    "    'max_depth': -1,\n",
    "    'metric':'auc',\n",
    "    'min_data_in_leaf': 80,\n",
    "    'min_sum_hessian_in_leaf': 10.0,\n",
    "    'num_leaves': 13,\n",
    "    'num_threads': 8,\n",
    "    'tree_learner': 'serial',\n",
    "    'objective': 'binary', \n",
    "    'verbosity': -1,\n",
    "}"
   ]
  },
  {
   "cell_type": "code",
   "execution_count": 57,
   "metadata": {},
   "outputs": [],
   "source": [
    "lgb_params = {\n",
    "    \"objective\" : \"binary\",\n",
    "    \"metric\" : \"auc\",\n",
    "    \"boosting\": 'gbdt',\n",
    "    \"max_depth\" : -1,\n",
    "    \"num_leaves\" : 13,\n",
    "    \"learning_rate\" : 0.01,\n",
    "    \"bagging_freq\": 5,\n",
    "    \"bagging_fraction\" : 0.4,\n",
    "    \"feature_fraction\" : 0.05,\n",
    "    \"min_data_in_leaf\": 80,\n",
    "    \"min_sum_heassian_in_leaf\": 10,\n",
    "    \"tree_learner\": \"serial\",\n",
    "    \"boost_from_average\": \"false\",\n",
    "    #\"lambda_l1\" : 5,\n",
    "    #\"lambda_l2\" : 5,\n",
    "    \"bagging_seed\" : 42,\n",
    "    \"verbosity\" : 1,\n",
    "    \"seed\": 42\n",
    "}"
   ]
  },
  {
   "cell_type": "code",
   "execution_count": 58,
   "metadata": {},
   "outputs": [],
   "source": [
    "def lgb_trainer(X, y, params, n_folds):\n",
    "    skf = StratifiedKFold(n_splits=n_folds)\n",
    "    models = []\n",
    "    for train_idx, test_idx in skf.split(X.values, y.values):\n",
    "            gc.collect()\n",
    "            X_train, y_train = X.iloc[train_idx], y.iloc[train_idx]\n",
    "            X_tr, y_tr = augment(X_train.values, y_train.values)\n",
    "            X_tr = pd.DataFrame(X_tr)\n",
    "            trn_data = lgb.Dataset(X_tr, label=y_tr)\n",
    "            test_data = lgb.Dataset(X.values[test_idx], label=y.values[test_idx])\n",
    "            model_lgb     = lgb.train(param, trn_data, 1000000, valid_sets = [trn_data, test_data], verbose_eval=5000, early_stopping_rounds = 4000)\n",
    "            models.append(model_lgb)\n",
    "            auc = roc_auc_score(y.values[test_idx], model_lgb.predict(X.values[test_idx]))\n",
    "    return models"
   ]
  },
  {
   "cell_type": "code",
   "execution_count": 65,
   "metadata": {},
   "outputs": [],
   "source": [
    "def lgb_trainer_no_aug(X, y, params, n_folds):\n",
    "    skf = StratifiedKFold(n_splits=n_folds)\n",
    "    models = []\n",
    "    for train_idx, test_idx in skf.split(X.values, y.values):\n",
    "            gc.collect()\n",
    "            X_train, y_train = X.iloc[train_idx], y.iloc[train_idx]\n",
    "            X_tr, y_tr = X_train.values, y_train.values\n",
    "            X_tr = pd.DataFrame(X_tr)\n",
    "            trn_data = lgb.Dataset(X_tr, label=y_tr)\n",
    "            test_data = lgb.Dataset(X.values[test_idx], label=y.values[test_idx])\n",
    "            model_lgb     = lgb.train(param, trn_data, 1000000, valid_sets = [trn_data, test_data], verbose_eval=5000, early_stopping_rounds = 4000)\n",
    "            models.append(model_lgb)\n",
    "            auc = roc_auc_score(y.values[test_idx], model_lgb.predict(X.values[test_idx]))\n",
    "    return models"
   ]
  },
  {
   "cell_type": "code",
   "execution_count": 14,
   "metadata": {},
   "outputs": [
    {
     "name": "stdout",
     "output_type": "stream",
     "text": [
      "Training until validation scores don't improve for 4000 rounds.\n",
      "[5000]\ttraining's auc: 0.914361\tvalid_1's auc: 0.898003\n",
      "[10000]\ttraining's auc: 0.925311\tvalid_1's auc: 0.900921\n",
      "Early stopping, best iteration is:\n",
      "[10949]\ttraining's auc: 0.92701\tvalid_1's auc: 0.901095\n",
      "Training until validation scores don't improve for 4000 rounds.\n",
      "[5000]\ttraining's auc: 0.913715\tvalid_1's auc: 0.899052\n",
      "[10000]\ttraining's auc: 0.924729\tvalid_1's auc: 0.90176\n",
      "[15000]\ttraining's auc: 0.933413\tvalid_1's auc: 0.901897\n",
      "Early stopping, best iteration is:\n",
      "[13987]\ttraining's auc: 0.931731\tvalid_1's auc: 0.90204\n",
      "Training until validation scores don't improve for 4000 rounds.\n",
      "[5000]\ttraining's auc: 0.914625\tvalid_1's auc: 0.897916\n",
      "[10000]\ttraining's auc: 0.925372\tvalid_1's auc: 0.900865\n",
      "[15000]\ttraining's auc: 0.933833\tvalid_1's auc: 0.901152\n",
      "Early stopping, best iteration is:\n",
      "[13546]\ttraining's auc: 0.931509\tvalid_1's auc: 0.901205\n",
      "Training until validation scores don't improve for 4000 rounds.\n",
      "[5000]\ttraining's auc: 0.915532\tvalid_1's auc: 0.895327\n",
      "[10000]\ttraining's auc: 0.926153\tvalid_1's auc: 0.897907\n",
      "[15000]\ttraining's auc: 0.93453\tvalid_1's auc: 0.897662\n",
      "Early stopping, best iteration is:\n",
      "[11658]\ttraining's auc: 0.929051\tvalid_1's auc: 0.897935\n",
      "Training until validation scores don't improve for 4000 rounds.\n",
      "[5000]\ttraining's auc: 0.91414\tvalid_1's auc: 0.898084\n",
      "[10000]\ttraining's auc: 0.925135\tvalid_1's auc: 0.900943\n",
      "[15000]\ttraining's auc: 0.933701\tvalid_1's auc: 0.90121\n",
      "Early stopping, best iteration is:\n",
      "[13171]\ttraining's auc: 0.930688\tvalid_1's auc: 0.90128\n"
     ]
    }
   ],
   "source": [
    "first_models = lgb_trainer(X, y, lgb_params)"
   ]
  },
  {
   "cell_type": "markdown",
   "metadata": {},
   "source": [
    "# Test"
   ]
  },
  {
   "cell_type": "code",
   "execution_count": 69,
   "metadata": {},
   "outputs": [],
   "source": [
    "def test(X, y, models):\n",
    "    preds = pd.DataFrame({})\n",
    "    for i, model in enumerate(models):\n",
    "        preds[str(i)] = model.predict(X)\n",
    "        print(f\"Fold: {i} \\t Score: {roc_auc_score(y, preds[str(i)].values)}\")\n",
    "    averaged_preds = preds.mean(axis=1)\n",
    "    print(f\"Score: {roc_auc_score(y, averaged_preds)}\")\n",
    "    return averaged_preds, preds"
   ]
  },
  {
   "cell_type": "code",
   "execution_count": 23,
   "metadata": {},
   "outputs": [
    {
     "name": "stdout",
     "output_type": "stream",
     "text": [
      "Fold: 0 \t Score: 0.897515061872474\n",
      "Fold: 1 \t Score: 0.8974844339003554\n",
      "Fold: 2 \t Score: 0.8975224352731692\n",
      "Fold: 3 \t Score: 0.8983880725147866\n",
      "Fold: 4 \t Score: 0.8962125789988986\n",
      "Score: 0.8986053042429611\n"
     ]
    }
   ],
   "source": [
    "q, w = test(Xval, yval, first_models)"
   ]
  },
  {
   "cell_type": "markdown",
   "metadata": {},
   "source": [
    "# Create answer"
   ]
  },
  {
   "cell_type": "code",
   "execution_count": 51,
   "metadata": {},
   "outputs": [
    {
     "ename": "AttributeError",
     "evalue": "'function' object has no attribute 'ID_code'",
     "output_type": "error",
     "traceback": [
      "\u001b[0;31m---------------------------------------------------------------------------\u001b[0m",
      "\u001b[0;31mAttributeError\u001b[0m                            Traceback (most recent call last)",
      "\u001b[0;32m<ipython-input-51-10f23367052a>\u001b[0m in \u001b[0;36m<module>\u001b[0;34m\u001b[0m\n\u001b[0;32m----> 1\u001b[0;31m \u001b[0mcodes\u001b[0m \u001b[0;34m=\u001b[0m \u001b[0mtest\u001b[0m\u001b[0;34m.\u001b[0m\u001b[0mID_code\u001b[0m\u001b[0;34m\u001b[0m\u001b[0;34m\u001b[0m\u001b[0m\n\u001b[0m\u001b[1;32m      2\u001b[0m \u001b[0mdf_test\u001b[0m \u001b[0;34m=\u001b[0m \u001b[0mtest\u001b[0m\u001b[0;34m.\u001b[0m\u001b[0mdrop\u001b[0m\u001b[0;34m(\u001b[0m\u001b[0;34m'ID_code'\u001b[0m\u001b[0;34m,\u001b[0m \u001b[0maxis\u001b[0m\u001b[0;34m=\u001b[0m\u001b[0;36m1\u001b[0m\u001b[0;34m)\u001b[0m\u001b[0;34m\u001b[0m\u001b[0;34m\u001b[0m\u001b[0m\n\u001b[1;32m      3\u001b[0m \u001b[0manswer\u001b[0m \u001b[0;34m=\u001b[0m \u001b[0;34m[\u001b[0m\u001b[0mmodel\u001b[0m\u001b[0;34m.\u001b[0m\u001b[0mpredict\u001b[0m\u001b[0;34m(\u001b[0m\u001b[0mdf_test\u001b[0m\u001b[0;34m,\u001b[0m \u001b[0mnum_iteration\u001b[0m\u001b[0;34m=\u001b[0m\u001b[0mmodel\u001b[0m\u001b[0;34m.\u001b[0m\u001b[0mbest_iteration\u001b[0m\u001b[0;34m)\u001b[0m \u001b[0;32mfor\u001b[0m \u001b[0mmodel\u001b[0m \u001b[0;32min\u001b[0m \u001b[0mmodels\u001b[0m\u001b[0;34m]\u001b[0m\u001b[0;34m\u001b[0m\u001b[0;34m\u001b[0m\u001b[0m\n",
      "\u001b[0;31mAttributeError\u001b[0m: 'function' object has no attribute 'ID_code'"
     ]
    }
   ],
   "source": [
    "codes = test.ID_code\n",
    "df_test = test.drop('ID_code', axis=1)\n",
    "answer = [model.predict(df_test, num_iteration=model.best_iteration) for model in models]"
   ]
  },
  {
   "cell_type": "code",
   "execution_count": 8,
   "metadata": {},
   "outputs": [],
   "source": [
    "ans = np.array(answer)\n",
    "a = np.average(ans, axis=0)"
   ]
  },
  {
   "cell_type": "code",
   "execution_count": 9,
   "metadata": {},
   "outputs": [],
   "source": [
    "answer_df = pd.DataFrame({\n",
    "    'ID_code' : codes,\n",
    "    'target' : a\n",
    "})\n",
    "answer_df.to_csv('answer_9_lb_aug.csv', index=False)"
   ]
  },
  {
   "cell_type": "code",
   "execution_count": 10,
   "metadata": {},
   "outputs": [],
   "source": [
    "save_model(models, 'lb_aug_901_cv10.m')"
   ]
  },
  {
   "cell_type": "markdown",
   "metadata": {},
   "source": [
    "# Augment #2 (bin-ing)"
   ]
  },
  {
   "cell_type": "code",
   "execution_count": 59,
   "metadata": {},
   "outputs": [],
   "source": [
    "new_params = {\n",
    "    'bagging_freq': 5,\n",
    "    'bagging_fraction': 0.890,\n",
    "    'boost_from_average':'false',\n",
    "    'boost': 'gbdt',\n",
    "    'feature_fraction': 0.109,\n",
    "    'learning_rate': 0.0083,\n",
    "    'max_depth': -1,\n",
    "    'metric':'auc',\n",
    "    'min_data_in_leaf': 41.37,\n",
    "    'min_sum_hessian_in_leaf': 28.77,\n",
    "    'num_leaves': 20,\n",
    "    'num_threads': 8,\n",
    "    'tree_learner': 'serial',\n",
    "    'objective': 'binary', \n",
    "    'verbosity': -1,\n",
    "    'lambda_l1': 0.486,\n",
    "     'lambda_l2': 2.6219,\n",
    "}"
   ]
  },
  {
   "cell_type": "code",
   "execution_count": 60,
   "metadata": {},
   "outputs": [],
   "source": [
    "def bin_augment(X):\n",
    "    uniques = X.nunique()    \n",
    "    bins = {}\n",
    "    df = X.copy()\n",
    "    for column in X.columns:\n",
    "        bin_hash = uniques[column] // 20\n",
    "        if bin_hash > 100:\n",
    "            bin_hash = 100\n",
    "        df[f\"bin_{column}\"], bins[column] = pd.cut(X[column], bin_hash, labels= [i for i in range(bin_hash)], retbins=True) \n",
    "    return to_numeric(df), bins\n",
    "\n",
    "def to_numeric(df):\n",
    "    for column in df.columns:\n",
    "        df[column] = pd.to_numeric(df[column])\n",
    "    return df     \n",
    "\n",
    "def test_bin_augment(X, bins):\n",
    "    uniques = X.nunique()    \n",
    "    df = X.copy()\n",
    "    for column in X.columns:\n",
    "        bin_hash = uniques[column] // 20\n",
    "        if bin_hash > 100:\n",
    "            bin_hash = 100\n",
    "        df[f\"bin_{column}\"] = pd.cut(X[column], bins=bins[column], labels=False) \n",
    "    return to_numeric(df)"
   ]
  },
  {
   "cell_type": "code",
   "execution_count": 61,
   "metadata": {},
   "outputs": [],
   "source": [
    "X_binned, bins = bin_augment(X)"
   ]
  },
  {
   "cell_type": "code",
   "execution_count": 62,
   "metadata": {},
   "outputs": [],
   "source": [
    "val_x = test_bin_augment(Xval, bins)"
   ]
  },
  {
   "cell_type": "code",
   "execution_count": 63,
   "metadata": {},
   "outputs": [
    {
     "data": {
      "text/plain": [
       "(190000, 400)"
      ]
     },
     "execution_count": 63,
     "metadata": {},
     "output_type": "execute_result"
    }
   ],
   "source": [
    "X_binned.shape"
   ]
  },
  {
   "cell_type": "code",
   "execution_count": 66,
   "metadata": {
    "scrolled": true
   },
   "outputs": [
    {
     "name": "stdout",
     "output_type": "stream",
     "text": [
      "Training until validation scores don't improve for 4000 rounds.\n",
      "[5000]\ttraining's auc: 0.927816\tvalid_1's auc: 0.894424\n",
      "[10000]\ttraining's auc: 0.945961\tvalid_1's auc: 0.896321\n",
      "Early stopping, best iteration is:\n",
      "[10839]\ttraining's auc: 0.948538\tvalid_1's auc: 0.896485\n",
      "Training until validation scores don't improve for 4000 rounds.\n",
      "[5000]\ttraining's auc: 0.927217\tvalid_1's auc: 0.898672\n",
      "[10000]\ttraining's auc: 0.945631\tvalid_1's auc: 0.90149\n",
      "[15000]\ttraining's auc: 0.959999\tvalid_1's auc: 0.90147\n",
      "Early stopping, best iteration is:\n",
      "[13089]\ttraining's auc: 0.954845\tvalid_1's auc: 0.901645\n",
      "Training until validation scores don't improve for 4000 rounds.\n",
      "[5000]\ttraining's auc: 0.927853\tvalid_1's auc: 0.890624\n",
      "[10000]\ttraining's auc: 0.945999\tvalid_1's auc: 0.892794\n",
      "Early stopping, best iteration is:\n",
      "[9457]\ttraining's auc: 0.944306\tvalid_1's auc: 0.892945\n",
      "Training until validation scores don't improve for 4000 rounds.\n",
      "[5000]\ttraining's auc: 0.926538\tvalid_1's auc: 0.905305\n",
      "[10000]\ttraining's auc: 0.944946\tvalid_1's auc: 0.907848\n",
      "[15000]\ttraining's auc: 0.959373\tvalid_1's auc: 0.907492\n",
      "Early stopping, best iteration is:\n",
      "[12133]\ttraining's auc: 0.951417\tvalid_1's auc: 0.908048\n",
      "Training until validation scores don't improve for 4000 rounds.\n",
      "[5000]\ttraining's auc: 0.927592\tvalid_1's auc: 0.895519\n",
      "[10000]\ttraining's auc: 0.945857\tvalid_1's auc: 0.896451\n",
      "Early stopping, best iteration is:\n",
      "[7984]\ttraining's auc: 0.939358\tvalid_1's auc: 0.896842\n",
      "Training until validation scores don't improve for 4000 rounds.\n",
      "[5000]\ttraining's auc: 0.927738\tvalid_1's auc: 0.894333\n",
      "[10000]\ttraining's auc: 0.945775\tvalid_1's auc: 0.897292\n",
      "[15000]\ttraining's auc: 0.960082\tvalid_1's auc: 0.897191\n",
      "Early stopping, best iteration is:\n",
      "[11243]\ttraining's auc: 0.949557\tvalid_1's auc: 0.897524\n",
      "Training until validation scores don't improve for 4000 rounds.\n",
      "[5000]\ttraining's auc: 0.926758\tvalid_1's auc: 0.90288\n",
      "[10000]\ttraining's auc: 0.945067\tvalid_1's auc: 0.90625\n",
      "Early stopping, best iteration is:\n",
      "[10452]\ttraining's auc: 0.946503\tvalid_1's auc: 0.906323\n",
      "Training until validation scores don't improve for 4000 rounds.\n",
      "[5000]\ttraining's auc: 0.927356\tvalid_1's auc: 0.898873\n",
      "[10000]\ttraining's auc: 0.945612\tvalid_1's auc: 0.900404\n",
      "Early stopping, best iteration is:\n",
      "[8671]\ttraining's auc: 0.941354\tvalid_1's auc: 0.900587\n",
      "Training until validation scores don't improve for 4000 rounds.\n",
      "[5000]\ttraining's auc: 0.927898\tvalid_1's auc: 0.893669\n",
      "[10000]\ttraining's auc: 0.945997\tvalid_1's auc: 0.895631\n",
      "Early stopping, best iteration is:\n",
      "[8803]\ttraining's auc: 0.942217\tvalid_1's auc: 0.895778\n",
      "Training until validation scores don't improve for 4000 rounds.\n",
      "[5000]\ttraining's auc: 0.926751\tvalid_1's auc: 0.906437\n",
      "[10000]\ttraining's auc: 0.945214\tvalid_1's auc: 0.908268\n",
      "Early stopping, best iteration is:\n",
      "[9732]\ttraining's auc: 0.944338\tvalid_1's auc: 0.908306\n"
     ]
    }
   ],
   "source": [
    "bin_models = lgb_trainer_no_aug(X_binned, y, new_params, n_folds = 10)"
   ]
  },
  {
   "cell_type": "code",
   "execution_count": 39,
   "metadata": {},
   "outputs": [],
   "source": [
    "# skf = StratifiedKFold(n_splits=10)\n",
    "# bin_models = []\n",
    "# for train_idx, test_idx in skf.split(X_binned.values, y.values):\n",
    "#         X_train, ytrain = X_binned.iloc[train_idx], y.iloc[train_idx]\n",
    "#         X_tr, y_tr = augment(X_train.values, ytrain.values)\n",
    "#         X_tr = pd.DataFrame(X_tr)\n",
    "#         trn_data = lgb.Dataset(X_tr, label=y_tr)\n",
    "#         test_data = lgb.Dataset(X_binned.values[test_idx], label=y.values[test_idx])\n",
    "#         model_lgb = lgb.train(param, trn_data, 1000000, valid_sets = [trn_data, test_data], verbose_eval=5000, early_stopping_rounds = 4000)\n",
    "#         bin_models.append(model_lgb)\n",
    "#         auc = roc_auc_score(y.values[test_idx], model_lgb.predict(X_binned.values[test_idx]))"
   ]
  },
  {
   "cell_type": "code",
   "execution_count": 67,
   "metadata": {},
   "outputs": [],
   "source": [
    "save_model(bin_models, \"idk_stupid_bin.m\")"
   ]
  },
  {
   "cell_type": "code",
   "execution_count": 43,
   "metadata": {},
   "outputs": [
    {
     "name": "stdout",
     "output_type": "stream",
     "text": [
      "Fold: 0 \t Score: 0.8997628105772392\n",
      "Fold: 1 \t Score: 0.897699849701752\n",
      "Fold: 2 \t Score: 0.8984115353905406\n",
      "Fold: 3 \t Score: 0.898697806584942\n",
      "Fold: 4 \t Score: 0.8983126673242215\n",
      "Fold: 5 \t Score: 0.8982486731482787\n",
      "Fold: 6 \t Score: 0.8988506880841669\n",
      "Fold: 7 \t Score: 0.8993218965760181\n",
      "Fold: 8 \t Score: 0.8994424874360056\n",
      "Fold: 9 \t Score: 0.8990419660889578\n",
      "Score: 0.8994592785684093\n"
     ]
    }
   ],
   "source": [
    "q, w = test(val_x, yval, bin_models)"
   ]
  },
  {
   "cell_type": "code",
   "execution_count": 70,
   "metadata": {},
   "outputs": [
    {
     "name": "stdout",
     "output_type": "stream",
     "text": [
      "Fold: 0 \t Score: 0.8988681888032579\n",
      "Fold: 1 \t Score: 0.8982155849719852\n",
      "Fold: 2 \t Score: 0.898358649917888\n",
      "Fold: 3 \t Score: 0.8976797755533203\n",
      "Fold: 4 \t Score: 0.899158806577835\n",
      "Fold: 5 \t Score: 0.8984488454155346\n",
      "Fold: 6 \t Score: 0.8982855302668833\n",
      "Fold: 7 \t Score: 0.8984893458210313\n",
      "Fold: 8 \t Score: 0.8986090956686349\n",
      "Fold: 9 \t Score: 0.8986002293636477\n",
      "Score: 0.8993433570742332\n"
     ]
    }
   ],
   "source": [
    "q, w = test(val_x, yval, bin_models)"
   ]
  },
  {
   "cell_type": "markdown",
   "metadata": {},
   "source": [
    "# Make answer"
   ]
  },
  {
   "cell_type": "code",
   "execution_count": 72,
   "metadata": {},
   "outputs": [],
   "source": [
    "def make_answer(models, bins):\n",
    "    answer_qdf = pd.read_csv('data/test.csv')\n",
    "    test_labels = answer_qdf.ID_code\n",
    "    answer_qdf = answer_qdf.drop('ID_code', axis=1)\n",
    "    answer_qdf = test_bin_augment(answer_qdf, bins)\n",
    "    y_preds = {}\n",
    "    for i, model in enumerate(models):\n",
    "            print(f\"On fold: {i}\")\n",
    "            y_preds[str(i)] = model.predict(answer_qdf)\n",
    "    y_preds = pd.DataFrame(y_preds)\n",
    "    answer_df = pd.DataFrame({\n",
    "        'ID_code' : test_labels,\n",
    "        'target' : y_preds.mean(axis = 1),\n",
    "        })\n",
    "    return answer_df "
   ]
  },
  {
   "cell_type": "code",
   "execution_count": 73,
   "metadata": {},
   "outputs": [
    {
     "name": "stdout",
     "output_type": "stream",
     "text": [
      "On fold: 0\n",
      "On fold: 1\n",
      "On fold: 2\n",
      "On fold: 3\n",
      "On fold: 4\n",
      "On fold: 5\n",
      "On fold: 6\n",
      "On fold: 7\n",
      "On fold: 8\n",
      "On fold: 9\n"
     ]
    }
   ],
   "source": [
    "answer_df = make_answer(bin_models, bins)"
   ]
  },
  {
   "cell_type": "code",
   "execution_count": 74,
   "metadata": {},
   "outputs": [
    {
     "data": {
      "text/html": [
       "<div>\n",
       "<style scoped>\n",
       "    .dataframe tbody tr th:only-of-type {\n",
       "        vertical-align: middle;\n",
       "    }\n",
       "\n",
       "    .dataframe tbody tr th {\n",
       "        vertical-align: top;\n",
       "    }\n",
       "\n",
       "    .dataframe thead th {\n",
       "        text-align: right;\n",
       "    }\n",
       "</style>\n",
       "<table border=\"1\" class=\"dataframe\">\n",
       "  <thead>\n",
       "    <tr style=\"text-align: right;\">\n",
       "      <th></th>\n",
       "      <th>ID_code</th>\n",
       "      <th>target</th>\n",
       "    </tr>\n",
       "  </thead>\n",
       "  <tbody>\n",
       "    <tr>\n",
       "      <th>0</th>\n",
       "      <td>test_0</td>\n",
       "      <td>0.110535</td>\n",
       "    </tr>\n",
       "    <tr>\n",
       "      <th>1</th>\n",
       "      <td>test_1</td>\n",
       "      <td>0.216304</td>\n",
       "    </tr>\n",
       "    <tr>\n",
       "      <th>2</th>\n",
       "      <td>test_2</td>\n",
       "      <td>0.166457</td>\n",
       "    </tr>\n",
       "    <tr>\n",
       "      <th>3</th>\n",
       "      <td>test_3</td>\n",
       "      <td>0.189949</td>\n",
       "    </tr>\n",
       "    <tr>\n",
       "      <th>4</th>\n",
       "      <td>test_4</td>\n",
       "      <td>0.041769</td>\n",
       "    </tr>\n",
       "  </tbody>\n",
       "</table>\n",
       "</div>"
      ],
      "text/plain": [
       "  ID_code    target\n",
       "0  test_0  0.110535\n",
       "1  test_1  0.216304\n",
       "2  test_2  0.166457\n",
       "3  test_3  0.189949\n",
       "4  test_4  0.041769"
      ]
     },
     "execution_count": 74,
     "metadata": {},
     "output_type": "execute_result"
    }
   ],
   "source": [
    "answer_df.head()"
   ]
  },
  {
   "cell_type": "code",
   "execution_count": 77,
   "metadata": {},
   "outputs": [
    {
     "name": "stdout",
     "output_type": "stream",
     "text": [
      "answer_10_gpu_lgbm.csv\r\n",
      "answer_11_gpu_lgbm_and_pred_best.csv\r\n",
      "answer_12_lgbm_bin_trainednotonval.csv\r\n",
      "answer_13_lgbm_bin_trainednotonval.csv\r\n",
      "answer_1_simple_gbm.csv\r\n",
      "answer_2_lgbm_with_CV10.csv\r\n",
      "answer_3_lgbm_with_augmented_data_smote_and_shiz.csv\r\n",
      "answer_4_lgbm_with_augmented_data_smote_and_shiz_and_super_learner.csv\r\n",
      "answer_5_lgbm_with_only_random_augmented_data.csv\r\n",
      "answer_6_lgbm_with_best_and_random_averaged.csv\r\n",
      "answer_7_lgbm_ORbwRandomAndBest.csv\r\n",
      "answer_8_lgbm_AveragedORbwRandomAndBest.csv\r\n",
      "answer_9_lb_aug.csv\r\n",
      "init3.csv\r\n",
      "test_augmented.csv\r\n",
      "train_augmented.csv\r\n"
     ]
    }
   ],
   "source": [
    "!ls *csv"
   ]
  },
  {
   "cell_type": "code",
   "execution_count": 75,
   "metadata": {},
   "outputs": [],
   "source": [
    "answer_df.to_csv('answer_13_lgbm_bin_trainednotonval.csv', index = False)"
   ]
  },
  {
   "cell_type": "code",
   "execution_count": null,
   "metadata": {},
   "outputs": [],
   "source": [
    "answer_df1 = pd.read_csv('answer_13_lgbm_bin_trainednotonval.csv')\n",
    "answer_df2 = pd.read_csv('answer_11_gpu_lgbm_and_pred_best.csv')\n",
    "answer_df3 = pd.read_csv('init3.csv')\n",
    "answer_df4 = pd.read_csv('answer_9_lb_aug.csv')"
   ]
  },
  {
   "cell_type": "code",
   "execution_count": null,
   "metadata": {},
   "outputs": [],
   "source": []
  },
  {
   "cell_type": "code",
   "execution_count": null,
   "metadata": {},
   "outputs": [],
   "source": []
  },
  {
   "cell_type": "markdown",
   "metadata": {
    "heading_collapsed": true
   },
   "source": [
    "# Bayesian optim"
   ]
  },
  {
   "cell_type": "code",
   "execution_count": null,
   "metadata": {
    "hidden": true
   },
   "outputs": [],
   "source": [
    "baysian_space  = [\n",
    "          Integer(5, 20, name='num_leaves'),\n",
    "          Integer(50, 200, name='min_child_samples'),\n",
    "          Integer(20, 50,  name='min_data_in_leaf'),\n",
    "          Integer(1, 10, name='bagging_freq'),\n",
    "          Real(0.6, 0.9, name='subsample'),\n",
    "          Real(0.01, 0.2, name='feature_fraction'),\n",
    "          Real(0.001, 0.01, name='learning_rate'),\n",
    "          Real(0.1, 0.5, name='bagging_fraction'),\n",
    "         ]"
   ]
  },
  {
   "cell_type": "code",
   "execution_count": null,
   "metadata": {
    "hidden": true
   },
   "outputs": [],
   "source": [
    "def lgb_optim(values):\n",
    "    params = {'num_leaves': values[0], \n",
    "          'min_child_samples': values[1], \n",
    "          'min_data_in_leaf': values[2], \n",
    "          'bagging_freq': values[3],\n",
    "            'subsample': values[4],\n",
    "            'feature_fraction': values[5],\n",
    "             'learning_rate':values[6],\n",
    "             'bagging_fraction': values[7],\n",
    "             'boosting_type': 'gbdt',\n",
    "             'objective': 'binary',\n",
    "              'max_depth':-1,\n",
    "              'metric':'auc',\n",
    "              'boost_from_average':'false',\n",
    "               'verbosity': -1,\n",
    "              'objective': 'binary',\n",
    "              'tree_learner': 'serial',\n",
    "               'gpu_platform_id': -1,\n",
    "             }\n",
    "    print('\\nNext set of params.....',params)\n",
    "    trn_data = lgb.Dataset(X_binned, label=y)\n",
    "    val_data = lgb.Dataset(val_x, label=yval)\n",
    "    model_lgb     = lgb.train(params, trn_data, 1000000, valid_sets = [trn_data, val_data], verbose_eval=5000, early_stopping_rounds = 4000)\n",
    "    auc = -roc_auc_score(y_train, model_lgb.predict(X_train))\n",
    "    return  auc"
   ]
  },
  {
   "cell_type": "code",
   "execution_count": null,
   "metadata": {
    "hidden": true
   },
   "outputs": [],
   "source": [
    "res_gp = gp_minimize(lgb_optim, baysian_space, n_calls=20,\n",
    "                     random_state=0,n_random_starts=10)"
   ]
  },
  {
   "cell_type": "markdown",
   "metadata": {
    "heading_collapsed": true
   },
   "source": [
    "# Bayes opt"
   ]
  },
  {
   "cell_type": "code",
   "execution_count": 15,
   "metadata": {
    "hidden": true
   },
   "outputs": [],
   "source": [
    "from bayes_opt import BayesianOptimization"
   ]
  },
  {
   "cell_type": "code",
   "execution_count": 16,
   "metadata": {
    "hidden": true
   },
   "outputs": [],
   "source": [
    "def bayes_parameter_opt_lgbm(X, y, init_round = 15, opt_round = 25, n_folds = 5, random_seed = 6, n_estimators = 10000, \n",
    "learning_rate = 0.05, output_process=False, early_stopping_round = 1000, verbose_eval = 2500):\n",
    "    train_data = lgb.Dataset(data = X, label = y)\n",
    "    \n",
    "    def lgb_eval(num_leaves, feature_fraction, bagging_fraction, lambda_l1, lambda_l2, min_split_gain, \n",
    "    min_child_weight, min_data_in_leaf,min_sum_heassian_in_leaf):\n",
    "        params = {'application':'binary','num_iterations': n_estimators, 'learning_rate':learning_rate, \n",
    "        'early_stopping_round': early_stopping_round, 'metric':'auc', 'max_depth':-1}\n",
    "        params[\"num_leaves\"] = int(round(num_leaves)) #since num_leaves should be a integer so we are converting it to integer\n",
    "        params['feature_fraction'] = max(min(feature_fraction, 1), 0) # it should be between 0 to 1\n",
    "        params['bagging_fraction'] = max(min(bagging_fraction, 1), 0) # it should be between 0 to 1\n",
    "        params['lambda_l1'] = max(lambda_l1, 0) # it should be greater than 0\n",
    "        params['lambda_l2'] = max(lambda_l2, 0) # it should be greater than 0\n",
    "        params['min_split_gain'] = min_split_gain\n",
    "        params['min_child_weight'] = min_child_weight\n",
    "        params['min_data_in_leaf'] = int(round(min_data_in_leaf))\n",
    "        params['min_sum_heassian_in_leaf'] = int(round(min_sum_heassian_in_leaf))\n",
    "        cv_result = lgb.cv(params, train_data, nfold=5, seed=random_seed, stratified=True, verbose_eval = verbose_eval, \n",
    "        metrics=['auc'])\n",
    "        return max(cv_result['auc-mean'])\n",
    "        \n",
    "    lgbBO = BayesianOptimization(lgb_eval, {'num_leaves': (2,20),\n",
    "                                            'feature_fraction': (0.1, 0.9),\n",
    "                                            'bagging_fraction': (0.8, 1),\n",
    "                                            'lambda_l1': (0, 5),\n",
    "                                            'lambda_l2': (0, 3),\n",
    "                                            'min_split_gain': (0.001, 0.1),\n",
    "                                            'min_child_weight': (5, 50),\n",
    "                                            'min_data_in_leaf':(10,100),\n",
    "                                            'min_sum_heassian_in_leaf':(1,30)\n",
    "                                            }, random_state=0)\n",
    "    lgbBO.maximize(init_points=init_round, n_iter=opt_round)\n",
    "    \n",
    "    # output optimization process\n",
    "    if output_process==True: lgbBO.points_to_csv(\"bayes_opt_result.csv\")\n",
    "    \n",
    "    #garbage collect\n",
    "    gc.collect()\n",
    "    # return best parameters\n",
    "    return lgbBO"
   ]
  },
  {
   "cell_type": "code",
   "execution_count": 27,
   "metadata": {
    "hidden": true
   },
   "outputs": [],
   "source": [
    "??bayes_parameter_opt_lgbm"
   ]
  },
  {
   "cell_type": "code",
   "execution_count": 17,
   "metadata": {
    "hidden": true,
    "scrolled": true
   },
   "outputs": [
    {
     "name": "stdout",
     "output_type": "stream",
     "text": [
      "|   iter    |  target   | baggin... | featur... | lambda_l1 | lambda_l2 | min_ch... | min_da... | min_sp... | min_su... | num_le... |\n",
      "-------------------------------------------------------------------------------------------------------------------------------------\n"
     ]
    },
    {
     "name": "stderr",
     "output_type": "stream",
     "text": [
      "/home/timetraveller/.local/lib/python3.6/site-packages/lightgbm/engine.py:430: UserWarning: Found `num_iterations` in params. Will use it instead of argument\n",
      "  warnings.warn(\"Found `{}` in params. Will use it instead of argument\".format(alias))\n",
      "/home/timetraveller/.local/lib/python3.6/site-packages/lightgbm/engine.py:435: UserWarning: Found `early_stopping_round` in params. Will use it instead of argument\n",
      "  warnings.warn(\"Found `{}` in params. Will use it instead of argument\".format(alias))\n"
     ]
    },
    {
     "name": "stdout",
     "output_type": "stream",
     "text": [
      "[250]\tcv_agg's auc: 0.804351 + 0.00370799\n",
      "[500]\tcv_agg's auc: 0.835845 + 0.00262113\n",
      "[750]\tcv_agg's auc: 0.851732 + 0.00230812\n",
      "[1000]\tcv_agg's auc: 0.861644 + 0.00229497\n",
      "| \u001b[0m 1       \u001b[0m | \u001b[0m 0.8616  \u001b[0m | \u001b[0m 0.9098  \u001b[0m | \u001b[0m 0.6722  \u001b[0m | \u001b[0m 3.014   \u001b[0m | \u001b[0m 1.635   \u001b[0m | \u001b[0m 24.06   \u001b[0m | \u001b[0m 68.13   \u001b[0m | \u001b[0m 0.04432 \u001b[0m | \u001b[0m 26.86   \u001b[0m | \u001b[0m 19.35   \u001b[0m |\n"
     ]
    },
    {
     "name": "stderr",
     "output_type": "stream",
     "text": [
      "/home/timetraveller/.local/lib/python3.6/site-packages/lightgbm/engine.py:430: UserWarning: Found `num_iterations` in params. Will use it instead of argument\n",
      "  warnings.warn(\"Found `{}` in params. Will use it instead of argument\".format(alias))\n",
      "/home/timetraveller/.local/lib/python3.6/site-packages/lightgbm/engine.py:435: UserWarning: Found `early_stopping_round` in params. Will use it instead of argument\n",
      "  warnings.warn(\"Found `{}` in params. Will use it instead of argument\".format(alias))\n"
     ]
    },
    {
     "name": "stdout",
     "output_type": "stream",
     "text": [
      "[250]\tcv_agg's auc: 0.802309 + 0.00390135\n",
      "[500]\tcv_agg's auc: 0.833926 + 0.00277792\n",
      "[750]\tcv_agg's auc: 0.849946 + 0.00241102\n",
      "[1000]\tcv_agg's auc: 0.860061 + 0.00225994\n",
      "| \u001b[0m 2       \u001b[0m | \u001b[0m 0.8601  \u001b[0m | \u001b[0m 0.8767  \u001b[0m | \u001b[0m 0.7334  \u001b[0m | \u001b[0m 2.644   \u001b[0m | \u001b[0m 1.704   \u001b[0m | \u001b[0m 46.65   \u001b[0m | \u001b[0m 16.39   \u001b[0m | \u001b[0m 0.009626\u001b[0m | \u001b[0m 1.586   \u001b[0m | \u001b[0m 16.99   \u001b[0m |\n"
     ]
    },
    {
     "name": "stderr",
     "output_type": "stream",
     "text": [
      "/home/timetraveller/.local/lib/python3.6/site-packages/lightgbm/engine.py:430: UserWarning: Found `num_iterations` in params. Will use it instead of argument\n",
      "  warnings.warn(\"Found `{}` in params. Will use it instead of argument\".format(alias))\n",
      "/home/timetraveller/.local/lib/python3.6/site-packages/lightgbm/engine.py:435: UserWarning: Found `early_stopping_round` in params. Will use it instead of argument\n",
      "  warnings.warn(\"Found `{}` in params. Will use it instead of argument\".format(alias))\n"
     ]
    },
    {
     "name": "stdout",
     "output_type": "stream",
     "text": [
      "[250]\tcv_agg's auc: 0.766063 + 0.00585046\n",
      "[500]\tcv_agg's auc: 0.800439 + 0.00433963\n",
      "[750]\tcv_agg's auc: 0.819662 + 0.00355616\n",
      "[1000]\tcv_agg's auc: 0.832577 + 0.00283608\n",
      "| \u001b[0m 3       \u001b[0m | \u001b[0m 0.8326  \u001b[0m | \u001b[0m 0.9556  \u001b[0m | \u001b[0m 0.796   \u001b[0m | \u001b[0m 4.893   \u001b[0m | \u001b[0m 2.397   \u001b[0m | \u001b[0m 25.77   \u001b[0m | \u001b[0m 80.25   \u001b[0m | \u001b[0m 0.01271 \u001b[0m | \u001b[0m 19.56   \u001b[0m | \u001b[0m 4.58    \u001b[0m |\n"
     ]
    },
    {
     "name": "stderr",
     "output_type": "stream",
     "text": [
      "/home/timetraveller/.local/lib/python3.6/site-packages/lightgbm/engine.py:430: UserWarning: Found `num_iterations` in params. Will use it instead of argument\n",
      "  warnings.warn(\"Found `{}` in params. Will use it instead of argument\".format(alias))\n",
      "/home/timetraveller/.local/lib/python3.6/site-packages/lightgbm/engine.py:435: UserWarning: Found `early_stopping_round` in params. Will use it instead of argument\n",
      "  warnings.warn(\"Found `{}` in params. Will use it instead of argument\".format(alias))\n"
     ]
    },
    {
     "name": "stdout",
     "output_type": "stream",
     "text": [
      "[250]\tcv_agg's auc: 0.797094 + 0.00455423\n",
      "[500]\tcv_agg's auc: 0.828968 + 0.00313063\n",
      "[750]\tcv_agg's auc: 0.845672 + 0.0026062\n",
      "[1000]\tcv_agg's auc: 0.856111 + 0.00244238\n",
      "| \u001b[0m 4       \u001b[0m | \u001b[0m 0.8561  \u001b[0m | \u001b[0m 0.9889  \u001b[0m | \u001b[0m 0.5175  \u001b[0m | \u001b[0m 2.073   \u001b[0m | \u001b[0m 0.7937  \u001b[0m | \u001b[0m 39.84   \u001b[0m | \u001b[0m 51.05   \u001b[0m | \u001b[0m 0.05727 \u001b[0m | \u001b[0m 1.545   \u001b[0m | \u001b[0m 13.12   \u001b[0m |\n"
     ]
    },
    {
     "name": "stderr",
     "output_type": "stream",
     "text": [
      "/home/timetraveller/.local/lib/python3.6/site-packages/lightgbm/engine.py:430: UserWarning: Found `num_iterations` in params. Will use it instead of argument\n",
      "  warnings.warn(\"Found `{}` in params. Will use it instead of argument\".format(alias))\n",
      "/home/timetraveller/.local/lib/python3.6/site-packages/lightgbm/engine.py:435: UserWarning: Found `early_stopping_round` in params. Will use it instead of argument\n",
      "  warnings.warn(\"Found `{}` in params. Will use it instead of argument\".format(alias))\n"
     ]
    },
    {
     "name": "stdout",
     "output_type": "stream",
     "text": [
      "[250]\tcv_agg's auc: 0.798052 + 0.00426945\n",
      "[500]\tcv_agg's auc: 0.830055 + 0.00299571\n",
      "[750]\tcv_agg's auc: 0.846575 + 0.0025195\n",
      "[1000]\tcv_agg's auc: 0.856984 + 0.00224543\n",
      "| \u001b[0m 5       \u001b[0m | \u001b[0m 0.857   \u001b[0m | \u001b[0m 0.9224  \u001b[0m | \u001b[0m 0.5935  \u001b[0m | \u001b[0m 4.719   \u001b[0m | \u001b[0m 2.045   \u001b[0m | \u001b[0m 21.18   \u001b[0m | \u001b[0m 49.33   \u001b[0m | \u001b[0m 0.07007 \u001b[0m | \u001b[0m 2.747   \u001b[0m | \u001b[0m 14.0    \u001b[0m |\n"
     ]
    },
    {
     "name": "stderr",
     "output_type": "stream",
     "text": [
      "/home/timetraveller/.local/lib/python3.6/site-packages/lightgbm/engine.py:430: UserWarning: Found `num_iterations` in params. Will use it instead of argument\n",
      "  warnings.warn(\"Found `{}` in params. Will use it instead of argument\".format(alias))\n",
      "/home/timetraveller/.local/lib/python3.6/site-packages/lightgbm/engine.py:435: UserWarning: Found `early_stopping_round` in params. Will use it instead of argument\n",
      "  warnings.warn(\"Found `{}` in params. Will use it instead of argument\".format(alias))\n"
     ]
    },
    {
     "name": "stdout",
     "output_type": "stream",
     "text": [
      "[250]\tcv_agg's auc: 0.755002 + 0.0055986\n",
      "[500]\tcv_agg's auc: 0.791773 + 0.00483885\n",
      "[750]\tcv_agg's auc: 0.810976 + 0.00388619\n",
      "[1000]\tcv_agg's auc: 0.824509 + 0.00314276\n",
      "| \u001b[0m 6       \u001b[0m | \u001b[0m 0.8245  \u001b[0m | \u001b[0m 0.9341  \u001b[0m | \u001b[0m 0.2683  \u001b[0m | \u001b[0m 0.6446  \u001b[0m | \u001b[0m 0.9463  \u001b[0m | \u001b[0m 21.37   \u001b[0m | \u001b[0m 61.32   \u001b[0m | \u001b[0m 0.04442 \u001b[0m | \u001b[0m 29.66   \u001b[0m | \u001b[0m 3.837   \u001b[0m |\n"
     ]
    },
    {
     "name": "stderr",
     "output_type": "stream",
     "text": [
      "/home/timetraveller/.local/lib/python3.6/site-packages/lightgbm/engine.py:430: UserWarning: Found `num_iterations` in params. Will use it instead of argument\n",
      "  warnings.warn(\"Found `{}` in params. Will use it instead of argument\".format(alias))\n",
      "/home/timetraveller/.local/lib/python3.6/site-packages/lightgbm/engine.py:435: UserWarning: Found `early_stopping_round` in params. Will use it instead of argument\n",
      "  warnings.warn(\"Found `{}` in params. Will use it instead of argument\".format(alias))\n"
     ]
    },
    {
     "name": "stdout",
     "output_type": "stream",
     "text": [
      "[250]\tcv_agg's auc: 0.800188 + 0.00413054\n",
      "[500]\tcv_agg's auc: 0.83121 + 0.00268552\n",
      "[750]\tcv_agg's auc: 0.847372 + 0.00209429\n",
      "[1000]\tcv_agg's auc: 0.857702 + 0.0020925\n",
      "| \u001b[0m 7       \u001b[0m | \u001b[0m 0.8577  \u001b[0m | \u001b[0m 0.8418  \u001b[0m | \u001b[0m 0.229   \u001b[0m | \u001b[0m 3.266   \u001b[0m | \u001b[0m 0.7599  \u001b[0m | \u001b[0m 25.98   \u001b[0m | \u001b[0m 32.0    \u001b[0m | \u001b[0m 0.01674 \u001b[0m | \u001b[0m 4.201   \u001b[0m | \u001b[0m 13.81   \u001b[0m |\n"
     ]
    },
    {
     "name": "stderr",
     "output_type": "stream",
     "text": [
      "/home/timetraveller/.local/lib/python3.6/site-packages/lightgbm/engine.py:430: UserWarning: Found `num_iterations` in params. Will use it instead of argument\n",
      "  warnings.warn(\"Found `{}` in params. Will use it instead of argument\".format(alias))\n",
      "/home/timetraveller/.local/lib/python3.6/site-packages/lightgbm/engine.py:435: UserWarning: Found `early_stopping_round` in params. Will use it instead of argument\n",
      "  warnings.warn(\"Found `{}` in params. Will use it instead of argument\".format(alias))\n"
     ]
    },
    {
     "name": "stdout",
     "output_type": "stream",
     "text": [
      "[250]\tcv_agg's auc: 0.791658 + 0.00427151\n",
      "[500]\tcv_agg's auc: 0.823591 + 0.00282952\n",
      "[750]\tcv_agg's auc: 0.840756 + 0.00229753\n",
      "[1000]\tcv_agg's auc: 0.851729 + 0.00215568\n",
      "| \u001b[0m 8       \u001b[0m | \u001b[0m 0.8517  \u001b[0m | \u001b[0m 0.8276  \u001b[0m | \u001b[0m 0.2573  \u001b[0m | \u001b[0m 1.844   \u001b[0m | \u001b[0m 2.463   \u001b[0m | \u001b[0m 9.37    \u001b[0m | \u001b[0m 85.42   \u001b[0m | \u001b[0m 0.01051 \u001b[0m | \u001b[0m 29.32   \u001b[0m | \u001b[0m 10.44   \u001b[0m |\n"
     ]
    },
    {
     "name": "stderr",
     "output_type": "stream",
     "text": [
      "/home/timetraveller/.local/lib/python3.6/site-packages/lightgbm/engine.py:430: UserWarning: Found `num_iterations` in params. Will use it instead of argument\n",
      "  warnings.warn(\"Found `{}` in params. Will use it instead of argument\".format(alias))\n",
      "/home/timetraveller/.local/lib/python3.6/site-packages/lightgbm/engine.py:435: UserWarning: Found `early_stopping_round` in params. Will use it instead of argument\n",
      "  warnings.warn(\"Found `{}` in params. Will use it instead of argument\".format(alias))\n"
     ]
    },
    {
     "name": "stdout",
     "output_type": "stream",
     "text": [
      "[250]\tcv_agg's auc: 0.78391 + 0.00528054\n",
      "[500]\tcv_agg's auc: 0.816973 + 0.00366105\n",
      "[750]\tcv_agg's auc: 0.834893 + 0.00279573\n",
      "[1000]\tcv_agg's auc: 0.846066 + 0.00244424\n",
      "| \u001b[0m 9       \u001b[0m | \u001b[0m 0.8461  \u001b[0m | \u001b[0m 0.9954  \u001b[0m | \u001b[0m 0.5839  \u001b[0m | \u001b[0m 3.696   \u001b[0m | \u001b[0m 0.1176  \u001b[0m | \u001b[0m 17.73   \u001b[0m | \u001b[0m 20.82   \u001b[0m | \u001b[0m 0.03032 \u001b[0m | \u001b[0m 4.443   \u001b[0m | \u001b[0m 7.724   \u001b[0m |\n"
     ]
    },
    {
     "name": "stderr",
     "output_type": "stream",
     "text": [
      "/home/timetraveller/.local/lib/python3.6/site-packages/lightgbm/engine.py:430: UserWarning: Found `num_iterations` in params. Will use it instead of argument\n",
      "  warnings.warn(\"Found `{}` in params. Will use it instead of argument\".format(alias))\n",
      "/home/timetraveller/.local/lib/python3.6/site-packages/lightgbm/engine.py:435: UserWarning: Found `early_stopping_round` in params. Will use it instead of argument\n",
      "  warnings.warn(\"Found `{}` in params. Will use it instead of argument\".format(alias))\n"
     ]
    },
    {
     "name": "stdout",
     "output_type": "stream",
     "text": [
      "[250]\tcv_agg's auc: 0.815407 + 0.00274954\n",
      "[500]\tcv_agg's auc: 0.838785 + 0.00263138\n",
      "[750]\tcv_agg's auc: 0.853621 + 0.00235276\n",
      "[1000]\tcv_agg's auc: 0.863233 + 0.00209543\n",
      "| \u001b[95m 10      \u001b[0m | \u001b[95m 0.8632  \u001b[0m | \u001b[95m 0.8829  \u001b[0m | \u001b[95m 0.1513  \u001b[0m | \u001b[95m 3.462   \u001b[0m | \u001b[95m 1.7     \u001b[0m | \u001b[95m 16.94   \u001b[0m | \u001b[95m 57.09   \u001b[0m | \u001b[95m 0.0103  \u001b[0m | \u001b[95m 17.7    \u001b[0m | \u001b[95m 18.73   \u001b[0m |\n"
     ]
    },
    {
     "name": "stderr",
     "output_type": "stream",
     "text": [
      "/home/timetraveller/.local/lib/python3.6/site-packages/lightgbm/engine.py:430: UserWarning: Found `num_iterations` in params. Will use it instead of argument\n",
      "  warnings.warn(\"Found `{}` in params. Will use it instead of argument\".format(alias))\n",
      "/home/timetraveller/.local/lib/python3.6/site-packages/lightgbm/engine.py:435: UserWarning: Found `early_stopping_round` in params. Will use it instead of argument\n",
      "  warnings.warn(\"Found `{}` in params. Will use it instead of argument\".format(alias))\n"
     ]
    },
    {
     "name": "stdout",
     "output_type": "stream",
     "text": [
      "[250]\tcv_agg's auc: 0.806743 + 0.0037595\n",
      "[500]\tcv_agg's auc: 0.837599 + 0.0025841\n",
      "[750]\tcv_agg's auc: 0.853165 + 0.00237697\n",
      "[1000]\tcv_agg's auc: 0.86309 + 0.00231516\n",
      "| \u001b[0m 11      \u001b[0m | \u001b[0m 0.8631  \u001b[0m | \u001b[0m 0.9702  \u001b[0m | \u001b[0m 0.3791  \u001b[0m | \u001b[0m 0.5943  \u001b[0m | \u001b[0m 0.19    \u001b[0m | \u001b[0m 6.426   \u001b[0m | \u001b[0m 94.1    \u001b[0m | \u001b[0m 0.01418 \u001b[0m | \u001b[0m 3.348   \u001b[0m | \u001b[0m 19.72   \u001b[0m |\n"
     ]
    },
    {
     "name": "stderr",
     "output_type": "stream",
     "text": [
      "/home/timetraveller/.local/lib/python3.6/site-packages/lightgbm/engine.py:430: UserWarning: Found `num_iterations` in params. Will use it instead of argument\n",
      "  warnings.warn(\"Found `{}` in params. Will use it instead of argument\".format(alias))\n",
      "/home/timetraveller/.local/lib/python3.6/site-packages/lightgbm/engine.py:435: UserWarning: Found `early_stopping_round` in params. Will use it instead of argument\n",
      "  warnings.warn(\"Found `{}` in params. Will use it instead of argument\".format(alias))\n"
     ]
    },
    {
     "name": "stdout",
     "output_type": "stream",
     "text": [
      "[250]\tcv_agg's auc: 0.805671 + 0.00349787\n",
      "[500]\tcv_agg's auc: 0.836367 + 0.00230713\n",
      "[750]\tcv_agg's auc: 0.852226 + 0.00203798\n",
      "[1000]\tcv_agg's auc: 0.862193 + 0.0019132\n",
      "| \u001b[0m 12      \u001b[0m | \u001b[0m 0.8622  \u001b[0m | \u001b[0m 0.9042  \u001b[0m | \u001b[0m 0.273   \u001b[0m | \u001b[0m 0.3292  \u001b[0m | \u001b[0m 2.964   \u001b[0m | \u001b[0m 48.55   \u001b[0m | \u001b[0m 97.79   \u001b[0m | \u001b[0m 0.0231  \u001b[0m | \u001b[0m 1.018   \u001b[0m | \u001b[0m 18.16   \u001b[0m |\n"
     ]
    },
    {
     "name": "stderr",
     "output_type": "stream",
     "text": [
      "/home/timetraveller/.local/lib/python3.6/site-packages/lightgbm/engine.py:430: UserWarning: Found `num_iterations` in params. Will use it instead of argument\n",
      "  warnings.warn(\"Found `{}` in params. Will use it instead of argument\".format(alias))\n",
      "/home/timetraveller/.local/lib/python3.6/site-packages/lightgbm/engine.py:435: UserWarning: Found `early_stopping_round` in params. Will use it instead of argument\n",
      "  warnings.warn(\"Found `{}` in params. Will use it instead of argument\".format(alias))\n"
     ]
    },
    {
     "name": "stdout",
     "output_type": "stream",
     "text": [
      "[250]\tcv_agg's auc: 0.804307 + 0.00381367\n",
      "[500]\tcv_agg's auc: 0.835769 + 0.0026355\n",
      "[750]\tcv_agg's auc: 0.851736 + 0.00212548\n",
      "[1000]\tcv_agg's auc: 0.861744 + 0.00204332\n",
      "| \u001b[0m 13      \u001b[0m | \u001b[0m 0.8617  \u001b[0m | \u001b[0m 0.8746  \u001b[0m | \u001b[0m 0.8777  \u001b[0m | \u001b[0m 0.1547  \u001b[0m | \u001b[0m 1.805   \u001b[0m | \u001b[0m 5.131   \u001b[0m | \u001b[0m 20.67   \u001b[0m | \u001b[0m 0.05136 \u001b[0m | \u001b[0m 1.56    \u001b[0m | \u001b[0m 19.25   \u001b[0m |\n"
     ]
    },
    {
     "name": "stderr",
     "output_type": "stream",
     "text": [
      "/home/timetraveller/.local/lib/python3.6/site-packages/lightgbm/engine.py:430: UserWarning: Found `num_iterations` in params. Will use it instead of argument\n",
      "  warnings.warn(\"Found `{}` in params. Will use it instead of argument\".format(alias))\n",
      "/home/timetraveller/.local/lib/python3.6/site-packages/lightgbm/engine.py:435: UserWarning: Found `early_stopping_round` in params. Will use it instead of argument\n",
      "  warnings.warn(\"Found `{}` in params. Will use it instead of argument\".format(alias))\n"
     ]
    },
    {
     "name": "stdout",
     "output_type": "stream",
     "text": [
      "[250]\tcv_agg's auc: 0.806374 + 0.00382035\n",
      "[500]\tcv_agg's auc: 0.837217 + 0.00255943\n",
      "[750]\tcv_agg's auc: 0.852925 + 0.00211807\n",
      "[1000]\tcv_agg's auc: 0.862855 + 0.00212284\n",
      "| \u001b[0m 14      \u001b[0m | \u001b[0m 0.8629  \u001b[0m | \u001b[0m 0.9898  \u001b[0m | \u001b[0m 0.402   \u001b[0m | \u001b[0m 4.865   \u001b[0m | \u001b[0m 0.1005  \u001b[0m | \u001b[0m 14.81   \u001b[0m | \u001b[0m 98.98   \u001b[0m | \u001b[0m 0.06419 \u001b[0m | \u001b[0m 27.88   \u001b[0m | \u001b[0m 19.76   \u001b[0m |\n"
     ]
    },
    {
     "name": "stderr",
     "output_type": "stream",
     "text": [
      "/home/timetraveller/.local/lib/python3.6/site-packages/lightgbm/engine.py:430: UserWarning: Found `num_iterations` in params. Will use it instead of argument\n",
      "  warnings.warn(\"Found `{}` in params. Will use it instead of argument\".format(alias))\n",
      "/home/timetraveller/.local/lib/python3.6/site-packages/lightgbm/engine.py:435: UserWarning: Found `early_stopping_round` in params. Will use it instead of argument\n",
      "  warnings.warn(\"Found `{}` in params. Will use it instead of argument\".format(alias))\n"
     ]
    },
    {
     "name": "stdout",
     "output_type": "stream",
     "text": [
      "[250]\tcv_agg's auc: 0.804423 + 0.00395255\n",
      "[500]\tcv_agg's auc: 0.835863 + 0.00274277\n",
      "[750]\tcv_agg's auc: 0.851784 + 0.00224566\n",
      "[1000]\tcv_agg's auc: 0.861789 + 0.00208021\n",
      "| \u001b[0m 15      \u001b[0m | \u001b[0m 0.8618  \u001b[0m | \u001b[0m 0.9637  \u001b[0m | \u001b[0m 0.6525  \u001b[0m | \u001b[0m 3.71    \u001b[0m | \u001b[0m 2.305   \u001b[0m | \u001b[0m 6.288   \u001b[0m | \u001b[0m 12.0    \u001b[0m | \u001b[0m 0.07331 \u001b[0m | \u001b[0m 28.87   \u001b[0m | \u001b[0m 19.0    \u001b[0m |\n"
     ]
    },
    {
     "name": "stderr",
     "output_type": "stream",
     "text": [
      "/home/timetraveller/.local/lib/python3.6/site-packages/lightgbm/engine.py:430: UserWarning: Found `num_iterations` in params. Will use it instead of argument\n",
      "  warnings.warn(\"Found `{}` in params. Will use it instead of argument\".format(alias))\n",
      "/home/timetraveller/.local/lib/python3.6/site-packages/lightgbm/engine.py:435: UserWarning: Found `early_stopping_round` in params. Will use it instead of argument\n",
      "  warnings.warn(\"Found `{}` in params. Will use it instead of argument\".format(alias))\n"
     ]
    },
    {
     "name": "stdout",
     "output_type": "stream",
     "text": [
      "[250]\tcv_agg's auc: 0.812721 + 0.00319035\n",
      "[500]\tcv_agg's auc: 0.83869 + 0.00239314\n",
      "[750]\tcv_agg's auc: 0.854026 + 0.0021262\n",
      "[1000]\tcv_agg's auc: 0.863701 + 0.00199756\n",
      "| \u001b[95m 16      \u001b[0m | \u001b[95m 0.8637  \u001b[0m | \u001b[95m 0.9321  \u001b[0m | \u001b[95m 0.1751  \u001b[0m | \u001b[95m 0.7865  \u001b[0m | \u001b[95m 2.924   \u001b[0m | \u001b[95m 5.305   \u001b[0m | \u001b[95m 86.85   \u001b[0m | \u001b[95m 0.0596  \u001b[0m | \u001b[95m 27.58   \u001b[0m | \u001b[95m 19.81   \u001b[0m |\n"
     ]
    },
    {
     "name": "stderr",
     "output_type": "stream",
     "text": [
      "/home/timetraveller/.local/lib/python3.6/site-packages/lightgbm/engine.py:430: UserWarning: Found `num_iterations` in params. Will use it instead of argument\n",
      "  warnings.warn(\"Found `{}` in params. Will use it instead of argument\".format(alias))\n",
      "/home/timetraveller/.local/lib/python3.6/site-packages/lightgbm/engine.py:435: UserWarning: Found `early_stopping_round` in params. Will use it instead of argument\n",
      "  warnings.warn(\"Found `{}` in params. Will use it instead of argument\".format(alias))\n"
     ]
    },
    {
     "name": "stdout",
     "output_type": "stream",
     "text": [
      "[250]\tcv_agg's auc: 0.808179 + 0.0035373\n",
      "[500]\tcv_agg's auc: 0.838123 + 0.00244136\n",
      "[750]\tcv_agg's auc: 0.853641 + 0.0021361\n",
      "[1000]\tcv_agg's auc: 0.863213 + 0.00212871\n",
      "| \u001b[0m 17      \u001b[0m | \u001b[0m 0.8632  \u001b[0m | \u001b[0m 0.8386  \u001b[0m | \u001b[0m 0.2536  \u001b[0m | \u001b[0m 4.302   \u001b[0m | \u001b[0m 0.2947  \u001b[0m | \u001b[0m 49.48   \u001b[0m | \u001b[0m 48.02   \u001b[0m | \u001b[0m 0.05659 \u001b[0m | \u001b[0m 8.224   \u001b[0m | \u001b[0m 19.89   \u001b[0m |\n"
     ]
    },
    {
     "name": "stderr",
     "output_type": "stream",
     "text": [
      "/home/timetraveller/.local/lib/python3.6/site-packages/lightgbm/engine.py:430: UserWarning: Found `num_iterations` in params. Will use it instead of argument\n",
      "  warnings.warn(\"Found `{}` in params. Will use it instead of argument\".format(alias))\n",
      "/home/timetraveller/.local/lib/python3.6/site-packages/lightgbm/engine.py:435: UserWarning: Found `early_stopping_round` in params. Will use it instead of argument\n",
      "  warnings.warn(\"Found `{}` in params. Will use it instead of argument\".format(alias))\n"
     ]
    },
    {
     "name": "stdout",
     "output_type": "stream",
     "text": [
      "[250]\tcv_agg's auc: 0.80845 + 0.00345877\n",
      "[500]\tcv_agg's auc: 0.838479 + 0.00272164\n",
      "[750]\tcv_agg's auc: 0.85389 + 0.00218983\n",
      "[1000]\tcv_agg's auc: 0.863671 + 0.00215962\n",
      "| \u001b[0m 18      \u001b[0m | \u001b[0m 0.8637  \u001b[0m | \u001b[0m 0.8182  \u001b[0m | \u001b[0m 0.2456  \u001b[0m | \u001b[0m 0.1099  \u001b[0m | \u001b[0m 0.3057  \u001b[0m | \u001b[0m 29.63   \u001b[0m | \u001b[0m 70.49   \u001b[0m | \u001b[0m 0.04968 \u001b[0m | \u001b[0m 1.307   \u001b[0m | \u001b[0m 19.94   \u001b[0m |\n"
     ]
    },
    {
     "name": "stderr",
     "output_type": "stream",
     "text": [
      "/home/timetraveller/.local/lib/python3.6/site-packages/lightgbm/engine.py:430: UserWarning: Found `num_iterations` in params. Will use it instead of argument\n",
      "  warnings.warn(\"Found `{}` in params. Will use it instead of argument\".format(alias))\n",
      "/home/timetraveller/.local/lib/python3.6/site-packages/lightgbm/engine.py:435: UserWarning: Found `early_stopping_round` in params. Will use it instead of argument\n",
      "  warnings.warn(\"Found `{}` in params. Will use it instead of argument\".format(alias))\n"
     ]
    },
    {
     "name": "stdout",
     "output_type": "stream",
     "text": [
      "[250]\tcv_agg's auc: 0.806871 + 0.00388832\n",
      "[500]\tcv_agg's auc: 0.837599 + 0.00253793\n",
      "[750]\tcv_agg's auc: 0.853234 + 0.0021461\n",
      "[1000]\tcv_agg's auc: 0.863002 + 0.00201172\n",
      "| \u001b[0m 19      \u001b[0m | \u001b[0m 0.863   \u001b[0m | \u001b[0m 0.8775  \u001b[0m | \u001b[0m 0.3161  \u001b[0m | \u001b[0m 4.853   \u001b[0m | \u001b[0m 0.6181  \u001b[0m | \u001b[0m 5.165   \u001b[0m | \u001b[0m 57.87   \u001b[0m | \u001b[0m 0.06984 \u001b[0m | \u001b[0m 27.78   \u001b[0m | \u001b[0m 19.59   \u001b[0m |\n"
     ]
    },
    {
     "name": "stderr",
     "output_type": "stream",
     "text": [
      "/home/timetraveller/.local/lib/python3.6/site-packages/lightgbm/engine.py:430: UserWarning: Found `num_iterations` in params. Will use it instead of argument\n",
      "  warnings.warn(\"Found `{}` in params. Will use it instead of argument\".format(alias))\n",
      "/home/timetraveller/.local/lib/python3.6/site-packages/lightgbm/engine.py:435: UserWarning: Found `early_stopping_round` in params. Will use it instead of argument\n",
      "  warnings.warn(\"Found `{}` in params. Will use it instead of argument\".format(alias))\n"
     ]
    },
    {
     "name": "stdout",
     "output_type": "stream",
     "text": [
      "[250]\tcv_agg's auc: 0.806001 + 0.00371627\n",
      "[500]\tcv_agg's auc: 0.837238 + 0.00249507\n",
      "[750]\tcv_agg's auc: 0.85298 + 0.00225235\n",
      "[1000]\tcv_agg's auc: 0.862814 + 0.00213552\n",
      "| \u001b[0m 20      \u001b[0m | \u001b[0m 0.8628  \u001b[0m | \u001b[0m 0.9962  \u001b[0m | \u001b[0m 0.3756  \u001b[0m | \u001b[0m 4.21    \u001b[0m | \u001b[0m 2.024   \u001b[0m | \u001b[0m 17.79   \u001b[0m | \u001b[0m 11.81   \u001b[0m | \u001b[0m 0.09233 \u001b[0m | \u001b[0m 2.54    \u001b[0m | \u001b[0m 19.92   \u001b[0m |\n"
     ]
    },
    {
     "name": "stderr",
     "output_type": "stream",
     "text": [
      "/home/timetraveller/.local/lib/python3.6/site-packages/lightgbm/engine.py:430: UserWarning: Found `num_iterations` in params. Will use it instead of argument\n",
      "  warnings.warn(\"Found `{}` in params. Will use it instead of argument\".format(alias))\n",
      "/home/timetraveller/.local/lib/python3.6/site-packages/lightgbm/engine.py:435: UserWarning: Found `early_stopping_round` in params. Will use it instead of argument\n",
      "  warnings.warn(\"Found `{}` in params. Will use it instead of argument\".format(alias))\n"
     ]
    },
    {
     "name": "stdout",
     "output_type": "stream",
     "text": [
      "[250]\tcv_agg's auc: 0.807779 + 0.00326938\n",
      "[500]\tcv_agg's auc: 0.837992 + 0.00251634\n",
      "[750]\tcv_agg's auc: 0.853492 + 0.00225866\n",
      "[1000]\tcv_agg's auc: 0.863099 + 0.00205013\n",
      "| \u001b[0m 21      \u001b[0m | \u001b[0m 0.8631  \u001b[0m | \u001b[0m 0.8347  \u001b[0m | \u001b[0m 0.2738  \u001b[0m | \u001b[0m 3.305   \u001b[0m | \u001b[0m 2.67    \u001b[0m | \u001b[0m 44.39   \u001b[0m | \u001b[0m 11.46   \u001b[0m | \u001b[0m 0.09724 \u001b[0m | \u001b[0m 30.0    \u001b[0m | \u001b[0m 19.84   \u001b[0m |\n"
     ]
    },
    {
     "name": "stderr",
     "output_type": "stream",
     "text": [
      "/home/timetraveller/.local/lib/python3.6/site-packages/lightgbm/engine.py:430: UserWarning: Found `num_iterations` in params. Will use it instead of argument\n",
      "  warnings.warn(\"Found `{}` in params. Will use it instead of argument\".format(alias))\n",
      "/home/timetraveller/.local/lib/python3.6/site-packages/lightgbm/engine.py:435: UserWarning: Found `early_stopping_round` in params. Will use it instead of argument\n",
      "  warnings.warn(\"Found `{}` in params. Will use it instead of argument\".format(alias))\n"
     ]
    },
    {
     "name": "stdout",
     "output_type": "stream",
     "text": [
      "[250]\tcv_agg's auc: 0.805582 + 0.00395825\n",
      "[500]\tcv_agg's auc: 0.836917 + 0.00289216\n",
      "[750]\tcv_agg's auc: 0.852611 + 0.00249595\n",
      "[1000]\tcv_agg's auc: 0.862454 + 0.00229751\n",
      "| \u001b[0m 22      \u001b[0m | \u001b[0m 0.8625  \u001b[0m | \u001b[0m 0.9658  \u001b[0m | \u001b[0m 0.7865  \u001b[0m | \u001b[0m 0.3007  \u001b[0m | \u001b[0m 2.76    \u001b[0m | \u001b[0m 33.9    \u001b[0m | \u001b[0m 32.17   \u001b[0m | \u001b[0m 0.06086 \u001b[0m | \u001b[0m 14.33   \u001b[0m | \u001b[0m 19.59   \u001b[0m |\n"
     ]
    },
    {
     "name": "stderr",
     "output_type": "stream",
     "text": [
      "/home/timetraveller/.local/lib/python3.6/site-packages/lightgbm/engine.py:430: UserWarning: Found `num_iterations` in params. Will use it instead of argument\n",
      "  warnings.warn(\"Found `{}` in params. Will use it instead of argument\".format(alias))\n",
      "/home/timetraveller/.local/lib/python3.6/site-packages/lightgbm/engine.py:435: UserWarning: Found `early_stopping_round` in params. Will use it instead of argument\n",
      "  warnings.warn(\"Found `{}` in params. Will use it instead of argument\".format(alias))\n"
     ]
    },
    {
     "name": "stdout",
     "output_type": "stream",
     "text": [
      "[250]\tcv_agg's auc: 0.80712 + 0.00390487\n",
      "[500]\tcv_agg's auc: 0.837634 + 0.00232035\n",
      "[750]\tcv_agg's auc: 0.853278 + 0.00210966\n",
      "[1000]\tcv_agg's auc: 0.863139 + 0.00205283\n",
      "| \u001b[0m 23      \u001b[0m | \u001b[0m 0.8631  \u001b[0m | \u001b[0m 0.8622  \u001b[0m | \u001b[0m 0.3053  \u001b[0m | \u001b[0m 2.944   \u001b[0m | \u001b[0m 1.23    \u001b[0m | \u001b[0m 48.99   \u001b[0m | \u001b[0m 97.56   \u001b[0m | \u001b[0m 0.0184  \u001b[0m | \u001b[0m 29.84   \u001b[0m | \u001b[0m 19.95   \u001b[0m |\n"
     ]
    },
    {
     "name": "stderr",
     "output_type": "stream",
     "text": [
      "/home/timetraveller/.local/lib/python3.6/site-packages/lightgbm/engine.py:430: UserWarning: Found `num_iterations` in params. Will use it instead of argument\n",
      "  warnings.warn(\"Found `{}` in params. Will use it instead of argument\".format(alias))\n",
      "/home/timetraveller/.local/lib/python3.6/site-packages/lightgbm/engine.py:435: UserWarning: Found `early_stopping_round` in params. Will use it instead of argument\n",
      "  warnings.warn(\"Found `{}` in params. Will use it instead of argument\".format(alias))\n"
     ]
    },
    {
     "name": "stdout",
     "output_type": "stream",
     "text": [
      "[250]\tcv_agg's auc: 0.810304 + 0.00333398\n",
      "[500]\tcv_agg's auc: 0.836466 + 0.00281619\n",
      "[750]\tcv_agg's auc: 0.852027 + 0.00220142\n",
      "[1000]\tcv_agg's auc: 0.8619 + 0.00211268\n",
      "| \u001b[0m 24      \u001b[0m | \u001b[0m 0.8619  \u001b[0m | \u001b[0m 0.9691  \u001b[0m | \u001b[0m 0.1735  \u001b[0m | \u001b[0m 4.105   \u001b[0m | \u001b[0m 2.718   \u001b[0m | \u001b[0m 6.8     \u001b[0m | \u001b[0m 99.7    \u001b[0m | \u001b[0m 0.01298 \u001b[0m | \u001b[0m 2.285   \u001b[0m | \u001b[0m 17.7    \u001b[0m |\n"
     ]
    },
    {
     "name": "stderr",
     "output_type": "stream",
     "text": [
      "/home/timetraveller/.local/lib/python3.6/site-packages/lightgbm/engine.py:430: UserWarning: Found `num_iterations` in params. Will use it instead of argument\n",
      "  warnings.warn(\"Found `{}` in params. Will use it instead of argument\".format(alias))\n",
      "/home/timetraveller/.local/lib/python3.6/site-packages/lightgbm/engine.py:435: UserWarning: Found `early_stopping_round` in params. Will use it instead of argument\n",
      "  warnings.warn(\"Found `{}` in params. Will use it instead of argument\".format(alias))\n"
     ]
    },
    {
     "name": "stdout",
     "output_type": "stream",
     "text": [
      "[250]\tcv_agg's auc: 0.828417 + 0.00189422\n",
      "[500]\tcv_agg's auc: 0.844709 + 0.0019895\n",
      "[750]\tcv_agg's auc: 0.855829 + 0.00183882\n",
      "[1000]\tcv_agg's auc: 0.864445 + 0.00181571\n",
      "| \u001b[95m 25      \u001b[0m | \u001b[95m 0.8644  \u001b[0m | \u001b[95m 0.8161  \u001b[0m | \u001b[95m 0.1031  \u001b[0m | \u001b[95m 3.883   \u001b[0m | \u001b[95m 2.914   \u001b[0m | \u001b[95m 46.09   \u001b[0m | \u001b[95m 33.05   \u001b[0m | \u001b[95m 0.05564 \u001b[0m | \u001b[95m 1.767   \u001b[0m | \u001b[95m 19.9    \u001b[0m |\n"
     ]
    },
    {
     "name": "stderr",
     "output_type": "stream",
     "text": [
      "/home/timetraveller/.local/lib/python3.6/site-packages/lightgbm/engine.py:430: UserWarning: Found `num_iterations` in params. Will use it instead of argument\n",
      "  warnings.warn(\"Found `{}` in params. Will use it instead of argument\".format(alias))\n",
      "/home/timetraveller/.local/lib/python3.6/site-packages/lightgbm/engine.py:435: UserWarning: Found `early_stopping_round` in params. Will use it instead of argument\n",
      "  warnings.warn(\"Found `{}` in params. Will use it instead of argument\".format(alias))\n"
     ]
    },
    {
     "name": "stdout",
     "output_type": "stream",
     "text": [
      "[250]\tcv_agg's auc: 0.805544 + 0.00367551\n",
      "[500]\tcv_agg's auc: 0.837006 + 0.00266248\n",
      "[750]\tcv_agg's auc: 0.852687 + 0.00234935\n",
      "[1000]\tcv_agg's auc: 0.862573 + 0.00218455\n",
      "| \u001b[0m 26      \u001b[0m | \u001b[0m 0.8626  \u001b[0m | \u001b[0m 0.9828  \u001b[0m | \u001b[0m 0.8773  \u001b[0m | \u001b[0m 0.01618 \u001b[0m | \u001b[0m 0.7366  \u001b[0m | \u001b[0m 32.58   \u001b[0m | \u001b[0m 10.24   \u001b[0m | \u001b[0m 0.0809  \u001b[0m | \u001b[0m 29.13   \u001b[0m | \u001b[0m 19.99   \u001b[0m |\n"
     ]
    },
    {
     "name": "stderr",
     "output_type": "stream",
     "text": [
      "/home/timetraveller/.local/lib/python3.6/site-packages/lightgbm/engine.py:430: UserWarning: Found `num_iterations` in params. Will use it instead of argument\n",
      "  warnings.warn(\"Found `{}` in params. Will use it instead of argument\".format(alias))\n",
      "/home/timetraveller/.local/lib/python3.6/site-packages/lightgbm/engine.py:435: UserWarning: Found `early_stopping_round` in params. Will use it instead of argument\n",
      "  warnings.warn(\"Found `{}` in params. Will use it instead of argument\".format(alias))\n"
     ]
    },
    {
     "name": "stdout",
     "output_type": "stream",
     "text": [
      "[250]\tcv_agg's auc: 0.816134 + 0.00226489\n",
      "[500]\tcv_agg's auc: 0.839528 + 0.00209233\n",
      "[750]\tcv_agg's auc: 0.854452 + 0.00187567\n",
      "[1000]\tcv_agg's auc: 0.863949 + 0.00185723\n",
      "| \u001b[0m 27      \u001b[0m | \u001b[0m 0.8639  \u001b[0m | \u001b[0m 0.9433  \u001b[0m | \u001b[0m 0.1549  \u001b[0m | \u001b[0m 4.712   \u001b[0m | \u001b[0m 2.774   \u001b[0m | \u001b[0m 5.849   \u001b[0m | \u001b[0m 62.71   \u001b[0m | \u001b[0m 0.05162 \u001b[0m | \u001b[0m 1.54    \u001b[0m | \u001b[0m 19.81   \u001b[0m |\n"
     ]
    },
    {
     "name": "stderr",
     "output_type": "stream",
     "text": [
      "/home/timetraveller/.local/lib/python3.6/site-packages/lightgbm/engine.py:430: UserWarning: Found `num_iterations` in params. Will use it instead of argument\n",
      "  warnings.warn(\"Found `{}` in params. Will use it instead of argument\".format(alias))\n",
      "/home/timetraveller/.local/lib/python3.6/site-packages/lightgbm/engine.py:435: UserWarning: Found `early_stopping_round` in params. Will use it instead of argument\n",
      "  warnings.warn(\"Found `{}` in params. Will use it instead of argument\".format(alias))\n"
     ]
    },
    {
     "name": "stdout",
     "output_type": "stream",
     "text": [
      "[250]\tcv_agg's auc: 0.808651 + 0.00365375\n",
      "[500]\tcv_agg's auc: 0.83838 + 0.00230898\n",
      "[750]\tcv_agg's auc: 0.853798 + 0.00198408\n",
      "[1000]\tcv_agg's auc: 0.863542 + 0.00189725\n",
      "| \u001b[0m 28      \u001b[0m | \u001b[0m 0.8635  \u001b[0m | \u001b[0m 0.8646  \u001b[0m | \u001b[0m 0.2243  \u001b[0m | \u001b[0m 4.214   \u001b[0m | \u001b[0m 0.1337  \u001b[0m | \u001b[0m 21.73   \u001b[0m | \u001b[0m 40.05   \u001b[0m | \u001b[0m 0.03324 \u001b[0m | \u001b[0m 1.227   \u001b[0m | \u001b[0m 19.94   \u001b[0m |\n"
     ]
    },
    {
     "name": "stderr",
     "output_type": "stream",
     "text": [
      "/home/timetraveller/.local/lib/python3.6/site-packages/lightgbm/engine.py:430: UserWarning: Found `num_iterations` in params. Will use it instead of argument\n",
      "  warnings.warn(\"Found `{}` in params. Will use it instead of argument\".format(alias))\n",
      "/home/timetraveller/.local/lib/python3.6/site-packages/lightgbm/engine.py:435: UserWarning: Found `early_stopping_round` in params. Will use it instead of argument\n",
      "  warnings.warn(\"Found `{}` in params. Will use it instead of argument\".format(alias))\n"
     ]
    },
    {
     "name": "stdout",
     "output_type": "stream",
     "text": [
      "[250]\tcv_agg's auc: 0.807482 + 0.00360647\n",
      "[500]\tcv_agg's auc: 0.837993 + 0.00217417\n",
      "[750]\tcv_agg's auc: 0.853557 + 0.00197621\n",
      "[1000]\tcv_agg's auc: 0.863383 + 0.00195979\n",
      "| \u001b[0m 29      \u001b[0m | \u001b[0m 0.8634  \u001b[0m | \u001b[0m 0.9024  \u001b[0m | \u001b[0m 0.2983  \u001b[0m | \u001b[0m 1.021   \u001b[0m | \u001b[0m 2.647   \u001b[0m | \u001b[0m 49.69   \u001b[0m | \u001b[0m 10.39   \u001b[0m | \u001b[0m 0.07949 \u001b[0m | \u001b[0m 1.485   \u001b[0m | \u001b[0m 19.63   \u001b[0m |\n"
     ]
    },
    {
     "name": "stderr",
     "output_type": "stream",
     "text": [
      "/home/timetraveller/.local/lib/python3.6/site-packages/lightgbm/engine.py:430: UserWarning: Found `num_iterations` in params. Will use it instead of argument\n",
      "  warnings.warn(\"Found `{}` in params. Will use it instead of argument\".format(alias))\n",
      "/home/timetraveller/.local/lib/python3.6/site-packages/lightgbm/engine.py:435: UserWarning: Found `early_stopping_round` in params. Will use it instead of argument\n",
      "  warnings.warn(\"Found `{}` in params. Will use it instead of argument\".format(alias))\n"
     ]
    },
    {
     "name": "stdout",
     "output_type": "stream",
     "text": [
      "[250]\tcv_agg's auc: 0.80783 + 0.00324202\n",
      "[500]\tcv_agg's auc: 0.838298 + 0.00197489\n",
      "[750]\tcv_agg's auc: 0.853728 + 0.00182758\n",
      "[1000]\tcv_agg's auc: 0.863411 + 0.00191656\n",
      "| \u001b[0m 30      \u001b[0m | \u001b[0m 0.8634  \u001b[0m | \u001b[0m 0.9705  \u001b[0m | \u001b[0m 0.2642  \u001b[0m | \u001b[0m 0.2139  \u001b[0m | \u001b[0m 2.489   \u001b[0m | \u001b[0m 33.94   \u001b[0m | \u001b[0m 99.58   \u001b[0m | \u001b[0m 0.04611 \u001b[0m | \u001b[0m 23.32   \u001b[0m | \u001b[0m 19.82   \u001b[0m |\n"
     ]
    },
    {
     "name": "stderr",
     "output_type": "stream",
     "text": [
      "/home/timetraveller/.local/lib/python3.6/site-packages/lightgbm/engine.py:430: UserWarning: Found `num_iterations` in params. Will use it instead of argument\n",
      "  warnings.warn(\"Found `{}` in params. Will use it instead of argument\".format(alias))\n",
      "/home/timetraveller/.local/lib/python3.6/site-packages/lightgbm/engine.py:435: UserWarning: Found `early_stopping_round` in params. Will use it instead of argument\n",
      "  warnings.warn(\"Found `{}` in params. Will use it instead of argument\".format(alias))\n"
     ]
    },
    {
     "name": "stdout",
     "output_type": "stream",
     "text": [
      "[250]\tcv_agg's auc: 0.806889 + 0.00378718\n",
      "[500]\tcv_agg's auc: 0.837569 + 0.00241956\n",
      "[750]\tcv_agg's auc: 0.853194 + 0.00203479\n",
      "[1000]\tcv_agg's auc: 0.863008 + 0.00203313\n",
      "| \u001b[0m 31      \u001b[0m | \u001b[0m 0.863   \u001b[0m | \u001b[0m 0.8575  \u001b[0m | \u001b[0m 0.3286  \u001b[0m | \u001b[0m 4.878   \u001b[0m | \u001b[0m 2.388   \u001b[0m | \u001b[0m 48.32   \u001b[0m | \u001b[0m 82.81   \u001b[0m | \u001b[0m 0.06842 \u001b[0m | \u001b[0m 1.785   \u001b[0m | \u001b[0m 19.97   \u001b[0m |\n"
     ]
    },
    {
     "name": "stderr",
     "output_type": "stream",
     "text": [
      "/home/timetraveller/.local/lib/python3.6/site-packages/lightgbm/engine.py:430: UserWarning: Found `num_iterations` in params. Will use it instead of argument\n",
      "  warnings.warn(\"Found `{}` in params. Will use it instead of argument\".format(alias))\n",
      "/home/timetraveller/.local/lib/python3.6/site-packages/lightgbm/engine.py:435: UserWarning: Found `early_stopping_round` in params. Will use it instead of argument\n",
      "  warnings.warn(\"Found `{}` in params. Will use it instead of argument\".format(alias))\n"
     ]
    },
    {
     "name": "stdout",
     "output_type": "stream",
     "text": [
      "[250]\tcv_agg's auc: 0.80443 + 0.00386644\n",
      "[500]\tcv_agg's auc: 0.835975 + 0.00265254\n",
      "[750]\tcv_agg's auc: 0.851961 + 0.00235368\n",
      "[1000]\tcv_agg's auc: 0.861933 + 0.00226682\n",
      "| \u001b[0m 32      \u001b[0m | \u001b[0m 0.8619  \u001b[0m | \u001b[0m 0.8404  \u001b[0m | \u001b[0m 0.7864  \u001b[0m | \u001b[0m 1.236   \u001b[0m | \u001b[0m 2.652   \u001b[0m | \u001b[0m 5.074   \u001b[0m | \u001b[0m 99.94   \u001b[0m | \u001b[0m 0.07407 \u001b[0m | \u001b[0m 23.11   \u001b[0m | \u001b[0m 19.04   \u001b[0m |\n"
     ]
    },
    {
     "name": "stderr",
     "output_type": "stream",
     "text": [
      "/home/timetraveller/.local/lib/python3.6/site-packages/lightgbm/engine.py:430: UserWarning: Found `num_iterations` in params. Will use it instead of argument\n",
      "  warnings.warn(\"Found `{}` in params. Will use it instead of argument\".format(alias))\n",
      "/home/timetraveller/.local/lib/python3.6/site-packages/lightgbm/engine.py:435: UserWarning: Found `early_stopping_round` in params. Will use it instead of argument\n",
      "  warnings.warn(\"Found `{}` in params. Will use it instead of argument\".format(alias))\n"
     ]
    },
    {
     "name": "stdout",
     "output_type": "stream",
     "text": [
      "[250]\tcv_agg's auc: 0.806194 + 0.00368187\n",
      "[500]\tcv_agg's auc: 0.837519 + 0.00257102\n",
      "[750]\tcv_agg's auc: 0.853089 + 0.00222403\n",
      "[1000]\tcv_agg's auc: 0.862944 + 0.00216758\n",
      "| \u001b[0m 33      \u001b[0m | \u001b[0m 0.8629  \u001b[0m | \u001b[0m 0.8315  \u001b[0m | \u001b[0m 0.5383  \u001b[0m | \u001b[0m 0.1236  \u001b[0m | \u001b[0m 2.518   \u001b[0m | \u001b[0m 49.61   \u001b[0m | \u001b[0m 50.94   \u001b[0m | \u001b[0m 0.02423 \u001b[0m | \u001b[0m 2.523   \u001b[0m | \u001b[0m 19.72   \u001b[0m |\n"
     ]
    },
    {
     "name": "stderr",
     "output_type": "stream",
     "text": [
      "/home/timetraveller/.local/lib/python3.6/site-packages/lightgbm/engine.py:430: UserWarning: Found `num_iterations` in params. Will use it instead of argument\n",
      "  warnings.warn(\"Found `{}` in params. Will use it instead of argument\".format(alias))\n",
      "/home/timetraveller/.local/lib/python3.6/site-packages/lightgbm/engine.py:435: UserWarning: Found `early_stopping_round` in params. Will use it instead of argument\n",
      "  warnings.warn(\"Found `{}` in params. Will use it instead of argument\".format(alias))\n"
     ]
    },
    {
     "name": "stdout",
     "output_type": "stream",
     "text": [
      "[250]\tcv_agg's auc: 0.805381 + 0.00395244\n",
      "[500]\tcv_agg's auc: 0.836712 + 0.00283943\n",
      "[750]\tcv_agg's auc: 0.852541 + 0.00253153\n",
      "[1000]\tcv_agg's auc: 0.862432 + 0.00237195\n",
      "| \u001b[0m 34      \u001b[0m | \u001b[0m 0.8624  \u001b[0m | \u001b[0m 0.9525  \u001b[0m | \u001b[0m 0.7094  \u001b[0m | \u001b[0m 4.608   \u001b[0m | \u001b[0m 0.4596  \u001b[0m | \u001b[0m 46.82   \u001b[0m | \u001b[0m 99.75   \u001b[0m | \u001b[0m 0.07681 \u001b[0m | \u001b[0m 1.697   \u001b[0m | \u001b[0m 19.98   \u001b[0m |\n"
     ]
    },
    {
     "name": "stderr",
     "output_type": "stream",
     "text": [
      "/home/timetraveller/.local/lib/python3.6/site-packages/lightgbm/engine.py:430: UserWarning: Found `num_iterations` in params. Will use it instead of argument\n",
      "  warnings.warn(\"Found `{}` in params. Will use it instead of argument\".format(alias))\n",
      "/home/timetraveller/.local/lib/python3.6/site-packages/lightgbm/engine.py:435: UserWarning: Found `early_stopping_round` in params. Will use it instead of argument\n",
      "  warnings.warn(\"Found `{}` in params. Will use it instead of argument\".format(alias))\n"
     ]
    },
    {
     "name": "stdout",
     "output_type": "stream",
     "text": [
      "[250]\tcv_agg's auc: 0.825647 + 0.00215332\n",
      "[500]\tcv_agg's auc: 0.843882 + 0.00216609\n",
      "[750]\tcv_agg's auc: 0.855684 + 0.00172614\n",
      "[1000]\tcv_agg's auc: 0.864943 + 0.00192532\n",
      "| \u001b[95m 35      \u001b[0m | \u001b[95m 0.8649  \u001b[0m | \u001b[95m 0.89    \u001b[0m | \u001b[95m 0.1091  \u001b[0m | \u001b[95m 0.4864  \u001b[0m | \u001b[95m 2.622   \u001b[0m | \u001b[95m 5.637   \u001b[0m | \u001b[95m 41.38   \u001b[0m | \u001b[95m 0.002726\u001b[0m | \u001b[95m 28.77   \u001b[0m | \u001b[95m 19.86   \u001b[0m |\n",
      "=====================================================================================================================================\n"
     ]
    }
   ],
   "source": [
    "opt_params = bayes_parameter_opt_lgbm(X_binned, y, init_round=10, opt_round=25, n_folds=3, random_seed=5, n_estimators=1000, learning_rate=0.0083, early_stopping_round = 250, verbose_eval = 250)"
   ]
  },
  {
   "cell_type": "code",
   "execution_count": 41,
   "metadata": {
    "hidden": true
   },
   "outputs": [
    {
     "data": {
      "text/plain": [
       "[{'target': 0.8616438450660884,\n",
       "  'params': {'bagging_fraction': 0.909762700785465,\n",
       "   'feature_fraction': 0.6721514930979355,\n",
       "   'lambda_l1': 3.0138168803582195,\n",
       "   'lambda_l2': 1.6346495489906907,\n",
       "   'min_child_weight': 24.064465970250712,\n",
       "   'min_data_in_leaf': 68.13047017599905,\n",
       "   'min_split_gain': 0.04432113391500656,\n",
       "   'min_sum_heassian_in_leaf': 26.861417022680314,\n",
       "   'num_leaves': 19.345929689018526}},\n",
       " {'target': 0.8600606823851157,\n",
       "  'params': {'bagging_fraction': 0.8766883037651556,\n",
       "   'feature_fraction': 0.7333800304661316,\n",
       "   'lambda_l1': 2.644474598764522,\n",
       "   'lambda_l2': 1.704133683281797,\n",
       "   'min_child_weight': 46.65184872316975,\n",
       "   'min_data_in_leaf': 16.393245237809825,\n",
       "   'min_split_gain': 0.00962580067045253,\n",
       "   'min_sum_heassian_in_leaf': 1.586333525769446,\n",
       "   'num_leaves': 16.987157219862883}},\n",
       " {'target': 0.8325770259106328,\n",
       "  'params': {'bagging_fraction': 0.9556313501899701,\n",
       "   'feature_fraction': 0.7960097185974554,\n",
       "   'lambda_l1': 4.89309171116382,\n",
       "   'lambda_l2': 2.397475692650171,\n",
       "   'min_child_weight': 25.766571301381934,\n",
       "   'min_data_in_leaf': 80.24762586578099,\n",
       "   'min_split_gain': 0.012709168161024388,\n",
       "   'min_sum_heassian_in_leaf': 19.55770961849819,\n",
       "   'num_leaves': 4.580359173362835}},\n",
       " {'target': 0.8561108532295885,\n",
       "  'params': {'bagging_fraction': 0.9889337834099168,\n",
       "   'feature_fraction': 0.5174786574000574,\n",
       "   'lambda_l1': 2.0733096999526177,\n",
       "   'lambda_l2': 0.7936668363138809,\n",
       "   'min_child_weight': 39.84051602453975,\n",
       "   'min_data_in_leaf': 51.05352989948937,\n",
       "   'min_split_gain': 0.05727496093799621,\n",
       "   'min_sum_heassian_in_leaf': 1.5449042126542991,\n",
       "   'num_leaves': 13.117438947365788}},\n",
       " {'target': 0.8569843002834002,\n",
       "  'params': {'bagging_fraction': 0.9224191445444843,\n",
       "   'feature_fraction': 0.5935471974998056,\n",
       "   'lambda_l1': 4.718740392573121,\n",
       "   'lambda_l2': 2.04546089731045,\n",
       "   'min_child_weight': 21.17785552582037,\n",
       "   'min_data_in_leaf': 49.332875841940734,\n",
       "   'min_split_gain': 0.07006548839679923,\n",
       "   'min_sum_heassian_in_leaf': 2.746538677248825,\n",
       "   'num_leaves': 14.001800878022019}},\n",
       " {'target': 0.8245085885701171,\n",
       "  'params': {'bagging_fraction': 0.9341275739236319,\n",
       "   'feature_fraction': 0.2683060488590727,\n",
       "   'lambda_l1': 0.6446314882742665,\n",
       "   'lambda_l2': 0.9462850527725516,\n",
       "   'min_child_weight': 21.36698469241802,\n",
       "   'min_data_in_leaf': 61.317709337609166,\n",
       "   'min_split_gain': 0.04442154983276972,\n",
       "   'min_sum_heassian_in_leaf': 29.66284130371756,\n",
       "   'num_leaves': 3.8368065934645053}},\n",
       " {'target': 0.857702151786782,\n",
       "  'params': {'bagging_fraction': 0.841775351218967,\n",
       "   'feature_fraction': 0.22904761430799703,\n",
       "   'lambda_l1': 3.265541627326992,\n",
       "   'lambda_l2': 0.7598748076193463,\n",
       "   'min_child_weight': 25.983984778533785,\n",
       "   'min_data_in_leaf': 31.998303280144246,\n",
       "   'min_split_gain': 0.016737988780906453,\n",
       "   'min_sum_heassian_in_leaf': 4.200879093764849,\n",
       "   'num_leaves': 13.813932610374922}},\n",
       " {'target': 0.8517288027350098,\n",
       "  'params': {'bagging_fraction': 0.8276365902697228,\n",
       "   'feature_fraction': 0.2572658893440428,\n",
       "   'lambda_l1': 1.8436258533048204,\n",
       "   'lambda_l2': 2.4629796895438054,\n",
       "   'min_child_weight': 9.369557410687758,\n",
       "   'min_data_in_leaf': 85.41504167489235,\n",
       "   'min_split_gain': 0.010513742381502343,\n",
       "   'min_sum_heassian_in_leaf': 29.317324485388475,\n",
       "   'num_leaves': 10.435721629658628}},\n",
       " {'target': 0.8460660589103733,\n",
       "  'params': {'bagging_fraction': 0.9953522176380674,\n",
       "   'feature_fraction': 0.5838764157960368,\n",
       "   'lambda_l1': 3.6963178969915083,\n",
       "   'lambda_l2': 0.11756337676296202,\n",
       "   'min_child_weight': 17.72631331593843,\n",
       "   'min_data_in_leaf': 20.8176905091852,\n",
       "   'min_split_gain': 0.03031787955469235,\n",
       "   'min_sum_heassian_in_leaf': 4.4431038496730775,\n",
       "   'num_leaves': 7.723697229091568}},\n",
       " {'target': 0.8632334689384698,\n",
       "  'params': {'bagging_fraction': 0.882852598902934,\n",
       "   'feature_fraction': 0.1513179970790275,\n",
       "   'lambda_l1': 3.4623605968500994,\n",
       "   'lambda_l2': 1.6998043626197255,\n",
       "   'min_child_weight': 16.942527092275043,\n",
       "   'min_data_in_leaf': 57.09232481200297,\n",
       "   'min_split_gain': 0.010300110565085726,\n",
       "   'min_sum_heassian_in_leaf': 17.7024483711292,\n",
       "   'num_leaves': 18.727331556371855}},\n",
       " {'target': 0.863089844114622,\n",
       "  'params': {'bagging_fraction': 0.9702051193460532,\n",
       "   'feature_fraction': 0.3791431009971943,\n",
       "   'lambda_l1': 0.5942755114055359,\n",
       "   'lambda_l2': 0.1900056073903894,\n",
       "   'min_child_weight': 6.426165462131176,\n",
       "   'min_data_in_leaf': 94.09989650278185,\n",
       "   'min_split_gain': 0.014181202840866654,\n",
       "   'min_sum_heassian_in_leaf': 3.3482056994383687,\n",
       "   'num_leaves': 19.722979828050008}},\n",
       " {'target': 0.8621927966744287,\n",
       "  'params': {'bagging_fraction': 0.9042231844427603,\n",
       "   'feature_fraction': 0.2730442828420847,\n",
       "   'lambda_l1': 0.32917976277267336,\n",
       "   'lambda_l2': 2.9639716786438193,\n",
       "   'min_child_weight': 48.55265226627768,\n",
       "   'min_data_in_leaf': 97.79005760913185,\n",
       "   'min_split_gain': 0.023095671354099175,\n",
       "   'min_sum_heassian_in_leaf': 1.0177224964348728,\n",
       "   'num_leaves': 18.162452341674296}},\n",
       " {'target': 0.8617439350983649,\n",
       "  'params': {'bagging_fraction': 0.8745688701443342,\n",
       "   'feature_fraction': 0.8777152119670711,\n",
       "   'lambda_l1': 0.1547234580832102,\n",
       "   'lambda_l2': 1.805145464437621,\n",
       "   'min_child_weight': 5.131453191619995,\n",
       "   'min_data_in_leaf': 20.671405018170795,\n",
       "   'min_split_gain': 0.051364705968177764,\n",
       "   'min_sum_heassian_in_leaf': 1.560241375900394,\n",
       "   'num_leaves': 19.25258095700354}},\n",
       " {'target': 0.8628549571371774,\n",
       "  'params': {'bagging_fraction': 0.9897595360556248,\n",
       "   'feature_fraction': 0.4020445814948538,\n",
       "   'lambda_l1': 4.864932919970461,\n",
       "   'lambda_l2': 0.10054828171677088,\n",
       "   'min_child_weight': 14.813395943545634,\n",
       "   'min_data_in_leaf': 98.9778049880984,\n",
       "   'min_split_gain': 0.0641946900778959,\n",
       "   'min_sum_heassian_in_leaf': 27.879899382586704,\n",
       "   'num_leaves': 19.76126788868932}},\n",
       " {'target': 0.8617892172358792,\n",
       "  'params': {'bagging_fraction': 0.9636549492181776,\n",
       "   'feature_fraction': 0.6524994979451844,\n",
       "   'lambda_l1': 3.710058997760766,\n",
       "   'lambda_l2': 2.3047085312199114,\n",
       "   'min_child_weight': 6.287594950951219,\n",
       "   'min_data_in_leaf': 11.999857324992504,\n",
       "   'min_split_gain': 0.0733069486219715,\n",
       "   'min_sum_heassian_in_leaf': 28.868044918599963,\n",
       "   'num_leaves': 18.99867009636234}},\n",
       " {'target': 0.8637009315767695,\n",
       "  'params': {'bagging_fraction': 0.9321208936074415,\n",
       "   'feature_fraction': 0.1751110787851424,\n",
       "   'lambda_l1': 0.7865345692624198,\n",
       "   'lambda_l2': 2.9242814342581536,\n",
       "   'min_child_weight': 5.30482108022984,\n",
       "   'min_data_in_leaf': 86.85234241538456,\n",
       "   'min_split_gain': 0.0595956688897119,\n",
       "   'min_sum_heassian_in_leaf': 27.58110121512141,\n",
       "   'num_leaves': 19.811788439970684}},\n",
       " {'target': 0.8632131191246675,\n",
       "  'params': {'bagging_fraction': 0.8385897857911955,\n",
       "   'feature_fraction': 0.2535714420186791,\n",
       "   'lambda_l1': 4.302176218337783,\n",
       "   'lambda_l2': 0.29474551473813326,\n",
       "   'min_child_weight': 49.475148878444834,\n",
       "   'min_data_in_leaf': 48.021265130872436,\n",
       "   'min_split_gain': 0.05658933512163123,\n",
       "   'min_sum_heassian_in_leaf': 8.224444726801352,\n",
       "   'num_leaves': 19.886162698337056}},\n",
       " {'target': 0.8636707340341389,\n",
       "  'params': {'bagging_fraction': 0.8181690182465012,\n",
       "   'feature_fraction': 0.24559441499979134,\n",
       "   'lambda_l1': 0.1098926222676877,\n",
       "   'lambda_l2': 0.30572401475507616,\n",
       "   'min_child_weight': 29.62787238887381,\n",
       "   'min_data_in_leaf': 70.49134594980586,\n",
       "   'min_split_gain': 0.04968178537279001,\n",
       "   'min_sum_heassian_in_leaf': 1.3070956891847323,\n",
       "   'num_leaves': 19.94044503616042}},\n",
       " {'target': 0.8630015224550555,\n",
       "  'params': {'bagging_fraction': 0.8775363635597698,\n",
       "   'feature_fraction': 0.3160845854611726,\n",
       "   'lambda_l1': 4.852500517579689,\n",
       "   'lambda_l2': 0.6181012326147322,\n",
       "   'min_child_weight': 5.164817231549927,\n",
       "   'min_data_in_leaf': 57.86744829191288,\n",
       "   'min_split_gain': 0.06984085758738356,\n",
       "   'min_sum_heassian_in_leaf': 27.776720941651867,\n",
       "   'num_leaves': 19.58891090585649}},\n",
       " {'target': 0.8628137918395025,\n",
       "  'params': {'bagging_fraction': 0.9961914097577187,\n",
       "   'feature_fraction': 0.37560947735790795,\n",
       "   'lambda_l1': 4.2101020093111305,\n",
       "   'lambda_l2': 2.023887700571893,\n",
       "   'min_child_weight': 17.793698834599436,\n",
       "   'min_data_in_leaf': 11.807401438056523,\n",
       "   'min_split_gain': 0.09232820603818696,\n",
       "   'min_sum_heassian_in_leaf': 2.5400248606613234,\n",
       "   'num_leaves': 19.916390308114007}},\n",
       " {'target': 0.86309856951233,\n",
       "  'params': {'bagging_fraction': 0.8347037924423377,\n",
       "   'feature_fraction': 0.2737745179787463,\n",
       "   'lambda_l1': 3.3054311108970373,\n",
       "   'lambda_l2': 2.6702590752395454,\n",
       "   'min_child_weight': 44.39045854845337,\n",
       "   'min_data_in_leaf': 11.45978694174927,\n",
       "   'min_split_gain': 0.09723634614444773,\n",
       "   'min_sum_heassian_in_leaf': 29.995737739516482,\n",
       "   'num_leaves': 19.841985106303877}},\n",
       " {'target': 0.8624541531199812,\n",
       "  'params': {'bagging_fraction': 0.9658418042277728,\n",
       "   'feature_fraction': 0.7864893089906392,\n",
       "   'lambda_l1': 0.30068236274200355,\n",
       "   'lambda_l2': 2.7599655847986604,\n",
       "   'min_child_weight': 33.90101691634604,\n",
       "   'min_data_in_leaf': 32.17368395239936,\n",
       "   'min_split_gain': 0.060857284491858746,\n",
       "   'min_sum_heassian_in_leaf': 14.328283552523624,\n",
       "   'num_leaves': 19.594808743628352}},\n",
       " {'target': 0.8631390217532555,\n",
       "  'params': {'bagging_fraction': 0.8621841904040701,\n",
       "   'feature_fraction': 0.3052791913551933,\n",
       "   'lambda_l1': 2.9440733767498632,\n",
       "   'lambda_l2': 1.229754704791206,\n",
       "   'min_child_weight': 48.98844962195674,\n",
       "   'min_data_in_leaf': 97.56179130383882,\n",
       "   'min_split_gain': 0.01840409506689055,\n",
       "   'min_sum_heassian_in_leaf': 29.840370352370854,\n",
       "   'num_leaves': 19.95024914421202}},\n",
       " {'target': 0.8618998098334941,\n",
       "  'params': {'bagging_fraction': 0.9690887227290546,\n",
       "   'feature_fraction': 0.17354598487896328,\n",
       "   'lambda_l1': 4.105445534781255,\n",
       "   'lambda_l2': 2.7178553701504393,\n",
       "   'min_child_weight': 6.799643373177483,\n",
       "   'min_data_in_leaf': 99.69884182935172,\n",
       "   'min_split_gain': 0.0129831258614354,\n",
       "   'min_sum_heassian_in_leaf': 2.28516375991474,\n",
       "   'num_leaves': 17.696539093350097}},\n",
       " {'target': 0.8644453838344062,\n",
       "  'params': {'bagging_fraction': 0.8160992214212043,\n",
       "   'feature_fraction': 0.1030872094494332,\n",
       "   'lambda_l1': 3.8826760929829627,\n",
       "   'lambda_l2': 2.914142867518478,\n",
       "   'min_child_weight': 46.09133994751813,\n",
       "   'min_data_in_leaf': 33.049687487081925,\n",
       "   'min_split_gain': 0.05564400854278991,\n",
       "   'min_sum_heassian_in_leaf': 1.7665046544175278,\n",
       "   'num_leaves': 19.896660372154958}},\n",
       " {'target': 0.8625734837485364,\n",
       "  'params': {'bagging_fraction': 0.9827556211492445,\n",
       "   'feature_fraction': 0.8773267222936251,\n",
       "   'lambda_l1': 0.016180951898989715,\n",
       "   'lambda_l2': 0.7366019164797514,\n",
       "   'min_child_weight': 32.57886142477619,\n",
       "   'min_data_in_leaf': 10.238237491442423,\n",
       "   'min_split_gain': 0.08090108698418662,\n",
       "   'min_sum_heassian_in_leaf': 29.131675127533452,\n",
       "   'num_leaves': 19.986971728877176}},\n",
       " {'target': 0.8639493523013178,\n",
       "  'params': {'bagging_fraction': 0.9432889595419675,\n",
       "   'feature_fraction': 0.1549244518902489,\n",
       "   'lambda_l1': 4.711603921344452,\n",
       "   'lambda_l2': 2.773923975935675,\n",
       "   'min_child_weight': 5.849160097315171,\n",
       "   'min_data_in_leaf': 62.70991022810719,\n",
       "   'min_split_gain': 0.05162359277916031,\n",
       "   'min_sum_heassian_in_leaf': 1.540154116060939,\n",
       "   'num_leaves': 19.814075942408046}},\n",
       " {'target': 0.8635423877242303,\n",
       "  'params': {'bagging_fraction': 0.8645922681147487,\n",
       "   'feature_fraction': 0.22425036997368084,\n",
       "   'lambda_l1': 4.214473244858617,\n",
       "   'lambda_l2': 0.1337042630193781,\n",
       "   'min_child_weight': 21.72663255817909,\n",
       "   'min_data_in_leaf': 40.04768109425666,\n",
       "   'min_split_gain': 0.033235545993056566,\n",
       "   'min_sum_heassian_in_leaf': 1.2272785416008891,\n",
       "   'num_leaves': 19.93729726457807}},\n",
       " {'target': 0.8633834360299353,\n",
       "  'params': {'bagging_fraction': 0.9024308444722239,\n",
       "   'feature_fraction': 0.2983168059287434,\n",
       "   'lambda_l1': 1.021059225799461,\n",
       "   'lambda_l2': 2.647003861072801,\n",
       "   'min_child_weight': 49.69249648695694,\n",
       "   'min_data_in_leaf': 10.385213173537228,\n",
       "   'min_split_gain': 0.07949333226699341,\n",
       "   'min_sum_heassian_in_leaf': 1.4845203535838896,\n",
       "   'num_leaves': 19.62995812726565}},\n",
       " {'target': 0.8634112935302305,\n",
       "  'params': {'bagging_fraction': 0.9705355130331293,\n",
       "   'feature_fraction': 0.2642311430492521,\n",
       "   'lambda_l1': 0.21391862008178553,\n",
       "   'lambda_l2': 2.4886823819296633,\n",
       "   'min_child_weight': 33.93740292271896,\n",
       "   'min_data_in_leaf': 99.58182275836914,\n",
       "   'min_split_gain': 0.04610781689332834,\n",
       "   'min_sum_heassian_in_leaf': 23.31655110504393,\n",
       "   'num_leaves': 19.816243256523965}},\n",
       " {'target': 0.8630080358882433,\n",
       "  'params': {'bagging_fraction': 0.8575049647658263,\n",
       "   'feature_fraction': 0.3286083280940345,\n",
       "   'lambda_l1': 4.877894197388982,\n",
       "   'lambda_l2': 2.387606626021494,\n",
       "   'min_child_weight': 48.3170833473591,\n",
       "   'min_data_in_leaf': 82.80956779000545,\n",
       "   'min_split_gain': 0.06841936471448519,\n",
       "   'min_sum_heassian_in_leaf': 1.7850651607141617,\n",
       "   'num_leaves': 19.968214773460524}},\n",
       " {'target': 0.8619332949766477,\n",
       "  'params': {'bagging_fraction': 0.8404143756385204,\n",
       "   'feature_fraction': 0.7864363017469597,\n",
       "   'lambda_l1': 1.235928185350435,\n",
       "   'lambda_l2': 2.6516930546622817,\n",
       "   'min_child_weight': 5.073606436872698,\n",
       "   'min_data_in_leaf': 99.93629745400229,\n",
       "   'min_split_gain': 0.07406921768576893,\n",
       "   'min_sum_heassian_in_leaf': 23.106003001543172,\n",
       "   'num_leaves': 19.043691824469352}},\n",
       " {'target': 0.8629442677235982,\n",
       "  'params': {'bagging_fraction': 0.8314800921921156,\n",
       "   'feature_fraction': 0.5382697746903122,\n",
       "   'lambda_l1': 0.12357669541426697,\n",
       "   'lambda_l2': 2.5179792350265364,\n",
       "   'min_child_weight': 49.61355122145218,\n",
       "   'min_data_in_leaf': 50.93578544854778,\n",
       "   'min_split_gain': 0.024226674535234593,\n",
       "   'min_sum_heassian_in_leaf': 2.5227456007073714,\n",
       "   'num_leaves': 19.722665678497137}},\n",
       " {'target': 0.8624322161688088,\n",
       "  'params': {'bagging_fraction': 0.9524662207180041,\n",
       "   'feature_fraction': 0.7093609859815052,\n",
       "   'lambda_l1': 4.607634123836367,\n",
       "   'lambda_l2': 0.4595976316665893,\n",
       "   'min_child_weight': 46.819810473378695,\n",
       "   'min_data_in_leaf': 99.75030033207405,\n",
       "   'min_split_gain': 0.07681039641538262,\n",
       "   'min_sum_heassian_in_leaf': 1.6971081927474785,\n",
       "   'num_leaves': 19.981943097369687}},\n",
       " {'target': 0.86494306005419,\n",
       "  'params': {'bagging_fraction': 0.890035505408337,\n",
       "   'feature_fraction': 0.10908510767153522,\n",
       "   'lambda_l1': 0.4863959301227627,\n",
       "   'lambda_l2': 2.6218935751177073,\n",
       "   'min_child_weight': 5.63721361853795,\n",
       "   'min_data_in_leaf': 41.37882463633409,\n",
       "   'min_split_gain': 0.002725991720530222,\n",
       "   'min_sum_heassian_in_leaf': 28.771612187427262,\n",
       "   'num_leaves': 19.85619099470854}}]"
      ]
     },
     "execution_count": 41,
     "metadata": {},
     "output_type": "execute_result"
    }
   ],
   "source": [
    "opt_params.res"
   ]
  },
  {
   "cell_type": "code",
   "execution_count": 47,
   "metadata": {
    "hidden": true
   },
   "outputs": [],
   "source": [
    "mafuckoffx = 0\n",
    "for i in opt_params.res:\n",
    "    if i['target'] > mafuckoffx:\n",
    "        mafuckoffx = i['target']\n",
    "        good = i"
   ]
  },
  {
   "cell_type": "code",
   "execution_count": 50,
   "metadata": {
    "hidden": true
   },
   "outputs": [
    {
     "data": {
      "text/plain": [
       "{'bagging_fraction': 0.890035505408337,\n",
       " 'feature_fraction': 0.10908510767153522,\n",
       " 'lambda_l1': 0.4863959301227627,\n",
       " 'lambda_l2': 2.6218935751177073,\n",
       " 'min_child_weight': 5.63721361853795,\n",
       " 'min_data_in_leaf': 41.37882463633409,\n",
       " 'min_split_gain': 0.002725991720530222,\n",
       " 'min_sum_heassian_in_leaf': 28.771612187427262,\n",
       " 'num_leaves': 19.85619099470854}"
      ]
     },
     "execution_count": 50,
     "metadata": {},
     "output_type": "execute_result"
    }
   ],
   "source": [
    "good['params']"
   ]
  },
  {
   "cell_type": "code",
   "execution_count": null,
   "metadata": {
    "hidden": true
   },
   "outputs": [],
   "source": [
    "param = {\n",
    "    'bagging_freq': 5,\n",
    "    'bagging_fraction': 0.890,\n",
    "    'boost_from_average':'false',\n",
    "    'boost': 'gbdt',\n",
    "    'feature_fraction': 0.109,\n",
    "    'learning_rate': 0.0083,\n",
    "    'max_depth': -1,\n",
    "    'metric':'auc',\n",
    "    'min_data_in_leaf': 41.37,\n",
    "    'min_sum_hessian_in_leaf': 28.77,\n",
    "    'num_leaves': 20,\n",
    "    'num_threads': 8,\n",
    "    'tree_learner': 'serial',\n",
    "    'objective': 'binary', \n",
    "    'verbosity': -1,\n",
    "    'lambda_l1': 0.486,\n",
    "     'lambda_l2': 2.6219,\n",
    "}"
   ]
  }
 ],
 "metadata": {
  "kernelspec": {
   "display_name": "Python 3",
   "language": "python",
   "name": "python3"
  },
  "language_info": {
   "codemirror_mode": {
    "name": "ipython",
    "version": 3
   },
   "file_extension": ".py",
   "mimetype": "text/x-python",
   "name": "python",
   "nbconvert_exporter": "python",
   "pygments_lexer": "ipython3",
   "version": "3.6.8"
  }
 },
 "nbformat": 4,
 "nbformat_minor": 2
}

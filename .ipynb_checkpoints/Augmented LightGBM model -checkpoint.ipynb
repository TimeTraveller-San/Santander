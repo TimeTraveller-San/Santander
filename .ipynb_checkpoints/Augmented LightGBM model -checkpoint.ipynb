{
 "cells": [
  {
   "cell_type": "markdown",
   "metadata": {},
   "source": [
    "# Augmented answer generation"
   ]
  },
  {
   "cell_type": "code",
   "execution_count": 1,
   "metadata": {},
   "outputs": [],
   "source": [
    "from sklearn.model_selection import StratifiedKFold\n",
    "from skopt.space import Real, Integer\n",
    "from skopt.utils import use_named_args\n",
    "import itertools\n",
    "from sklearn.metrics import roc_auc_score\n",
    "from skopt import gp_minimize\n",
    "from fastai import *\n",
    "import numpy as np\n",
    "import pandas as pd\n",
    "import pandas_profiling\n",
    "import matplotlib.pyplot as plt\n",
    "import seaborn as sns\n",
    "import lightgbm as lgb"
   ]
  },
  {
   "cell_type": "code",
   "execution_count": 2,
   "metadata": {},
   "outputs": [],
   "source": [
    "TRAIN = 'data/train.csv'\n",
    "train = pd.read_csv(TRAIN)\n",
    "X = train.drop(['ID_code', 'target'], axis=1)\n",
    "y = train.target"
   ]
  },
  {
   "cell_type": "code",
   "execution_count": 3,
   "metadata": {},
   "outputs": [],
   "source": [
    "import pickle\n",
    "def save_model(models, filename):\n",
    "    with open(filename, 'wb') as handle:\n",
    "        pickle.dump(models, handle)"
   ]
  },
  {
   "cell_type": "code",
   "execution_count": 4,
   "metadata": {},
   "outputs": [],
   "source": [
    "def get_preds(X, y, params):\n",
    "    skf = StratifiedKFold(n_splits=5)\n",
    "    models = []\n",
    "    for train_idx, test_idx in skf.split(X, y):\n",
    "            trn_data = lgb.Dataset(X[train_idx], label=y[train_idx])\n",
    "            test_data = lgb.Dataset(X[test_idx], label=y[test_idx])\n",
    "            model_lgb     = lgb.train(params, trn_data, 100000, valid_sets = [trn_data, test_data], verbose_eval=5000, early_stopping_rounds = 4000)\n",
    "            models.append(model_lgb)\n",
    "            auc = roc_auc_score(y[test_idx], model_lgb.predict(X[test_idx]))\n",
    "            print(f\"This AUC: {auc}\")\n",
    "    return models"
   ]
  },
  {
   "cell_type": "code",
   "execution_count": 5,
   "metadata": {},
   "outputs": [],
   "source": [
    "params = {\n",
    "    'bagging_freq': 5,\n",
    "    'bagging_fraction': 0.335,\n",
    "    'boost_from_average':'false',\n",
    "    'boost': 'gbdt',\n",
    "    'feature_fraction': 0.041,\n",
    "    'learning_rate': 0.0053,\n",
    "    'max_depth': -1,\n",
    "    'metric':'auc',\n",
    "    'min_data_in_leaf': 80,\n",
    "    'min_sum_hessian_in_leaf': 10.0,\n",
    "    'num_leaves': 13,\n",
    "    'num_threads': 8,\n",
    "    'tree_learner': 'serial',\n",
    "    'objective': 'binary', \n",
    "    'verbosity': -1,\n",
    "    'gpu_platform_id': -1,\n",
    "}"
   ]
  },
  {
   "cell_type": "markdown",
   "metadata": {},
   "source": [
    "### Random super-sampling"
   ]
  },
  {
   "cell_type": "code",
   "execution_count": 6,
   "metadata": {},
   "outputs": [],
   "source": [
    "from imblearn.over_sampling import RandomOverSampler\n",
    "ros = RandomOverSampler(random_state=0)\n",
    "X_resampled, y_resampled = ros.fit_resample(X, y)"
   ]
  },
  {
   "cell_type": "code",
   "execution_count": 7,
   "metadata": {},
   "outputs": [
    {
     "name": "stdout",
     "output_type": "stream",
     "text": [
      "Training until validation scores don't improve for 4000 rounds.\n",
      "[5000]\ttraining's auc: 0.920294\tvalid_1's auc: 0.915505\n",
      "[10000]\ttraining's auc: 0.934396\tvalid_1's auc: 0.927559\n",
      "[15000]\ttraining's auc: 0.945706\tvalid_1's auc: 0.937056\n",
      "[20000]\ttraining's auc: 0.95526\tvalid_1's auc: 0.945119\n",
      "[25000]\ttraining's auc: 0.963304\tvalid_1's auc: 0.952058\n",
      "[30000]\ttraining's auc: 0.970102\tvalid_1's auc: 0.958076\n",
      "[35000]\ttraining's auc: 0.975699\tvalid_1's auc: 0.963216\n",
      "[40000]\ttraining's auc: 0.980349\tvalid_1's auc: 0.967655\n",
      "[45000]\ttraining's auc: 0.98412\tvalid_1's auc: 0.971439\n",
      "[50000]\ttraining's auc: 0.987216\tvalid_1's auc: 0.974739\n",
      "[55000]\ttraining's auc: 0.989739\tvalid_1's auc: 0.977526\n",
      "[60000]\ttraining's auc: 0.991776\tvalid_1's auc: 0.97994\n",
      "[65000]\ttraining's auc: 0.993425\tvalid_1's auc: 0.982034\n",
      "[70000]\ttraining's auc: 0.994753\tvalid_1's auc: 0.983844\n",
      "[75000]\ttraining's auc: 0.995824\tvalid_1's auc: 0.98542\n",
      "[80000]\ttraining's auc: 0.996682\tvalid_1's auc: 0.986787\n",
      "[85000]\ttraining's auc: 0.997377\tvalid_1's auc: 0.987995\n",
      "[90000]\ttraining's auc: 0.997928\tvalid_1's auc: 0.98905\n",
      "[95000]\ttraining's auc: 0.998372\tvalid_1's auc: 0.989972\n",
      "[100000]\ttraining's auc: 0.998722\tvalid_1's auc: 0.990788\n",
      "Did not meet early stopping. Best iteration is:\n",
      "[100000]\ttraining's auc: 0.998722\tvalid_1's auc: 0.990788\n",
      "This AUC: 0.9907883014829104\n",
      "Training until validation scores don't improve for 4000 rounds.\n",
      "[5000]\ttraining's auc: 0.919945\tvalid_1's auc: 0.915983\n",
      "[10000]\ttraining's auc: 0.933928\tvalid_1's auc: 0.928041\n",
      "[15000]\ttraining's auc: 0.945235\tvalid_1's auc: 0.93762\n",
      "[20000]\ttraining's auc: 0.954724\tvalid_1's auc: 0.945734\n",
      "[25000]\ttraining's auc: 0.962909\tvalid_1's auc: 0.95283\n",
      "[30000]\ttraining's auc: 0.969708\tvalid_1's auc: 0.958919\n",
      "[35000]\ttraining's auc: 0.975348\tvalid_1's auc: 0.964088\n",
      "[40000]\ttraining's auc: 0.980063\tvalid_1's auc: 0.968581\n",
      "[45000]\ttraining's auc: 0.983916\tvalid_1's auc: 0.972396\n",
      "[50000]\ttraining's auc: 0.987069\tvalid_1's auc: 0.975661\n",
      "[55000]\ttraining's auc: 0.989628\tvalid_1's auc: 0.978398\n",
      "[60000]\ttraining's auc: 0.991701\tvalid_1's auc: 0.980801\n",
      "[65000]\ttraining's auc: 0.993382\tvalid_1's auc: 0.982862\n",
      "[70000]\ttraining's auc: 0.994743\tvalid_1's auc: 0.984638\n",
      "[75000]\ttraining's auc: 0.995834\tvalid_1's auc: 0.986168\n",
      "[80000]\ttraining's auc: 0.996707\tvalid_1's auc: 0.987528\n",
      "[85000]\ttraining's auc: 0.997411\tvalid_1's auc: 0.988704\n",
      "[90000]\ttraining's auc: 0.997967\tvalid_1's auc: 0.989738\n",
      "[95000]\ttraining's auc: 0.998415\tvalid_1's auc: 0.990642\n",
      "[100000]\ttraining's auc: 0.998768\tvalid_1's auc: 0.99144\n",
      "Did not meet early stopping. Best iteration is:\n",
      "[100000]\ttraining's auc: 0.998768\tvalid_1's auc: 0.99144\n",
      "This AUC: 0.9914399328073029\n",
      "Training until validation scores don't improve for 4000 rounds.\n",
      "[5000]\ttraining's auc: 0.920186\tvalid_1's auc: 0.914391\n",
      "[10000]\ttraining's auc: 0.934168\tvalid_1's auc: 0.926566\n",
      "[15000]\ttraining's auc: 0.945468\tvalid_1's auc: 0.936165\n",
      "[20000]\ttraining's auc: 0.954974\tvalid_1's auc: 0.944258\n",
      "[25000]\ttraining's auc: 0.9631\tvalid_1's auc: 0.951408\n",
      "[30000]\ttraining's auc: 0.969909\tvalid_1's auc: 0.957469\n",
      "[35000]\ttraining's auc: 0.975533\tvalid_1's auc: 0.962663\n",
      "[40000]\ttraining's auc: 0.980198\tvalid_1's auc: 0.967155\n",
      "[45000]\ttraining's auc: 0.984027\tvalid_1's auc: 0.971035\n",
      "[50000]\ttraining's auc: 0.987163\tvalid_1's auc: 0.974401\n",
      "[55000]\ttraining's auc: 0.989719\tvalid_1's auc: 0.977277\n",
      "[60000]\ttraining's auc: 0.99178\tvalid_1's auc: 0.979737\n",
      "[65000]\ttraining's auc: 0.993442\tvalid_1's auc: 0.981835\n",
      "[70000]\ttraining's auc: 0.994794\tvalid_1's auc: 0.983693\n",
      "[75000]\ttraining's auc: 0.995879\tvalid_1's auc: 0.985279\n",
      "[80000]\ttraining's auc: 0.996747\tvalid_1's auc: 0.986697\n",
      "[85000]\ttraining's auc: 0.997445\tvalid_1's auc: 0.987914\n",
      "[90000]\ttraining's auc: 0.997992\tvalid_1's auc: 0.988973\n",
      "[95000]\ttraining's auc: 0.998434\tvalid_1's auc: 0.989913\n",
      "[100000]\ttraining's auc: 0.998781\tvalid_1's auc: 0.990741\n",
      "Did not meet early stopping. Best iteration is:\n",
      "[100000]\ttraining's auc: 0.998781\tvalid_1's auc: 0.990741\n",
      "This AUC: 0.9907405826719247\n",
      "Training until validation scores don't improve for 4000 rounds.\n",
      "[5000]\ttraining's auc: 0.919849\tvalid_1's auc: 0.916162\n",
      "[10000]\ttraining's auc: 0.933877\tvalid_1's auc: 0.928221\n",
      "[15000]\ttraining's auc: 0.945165\tvalid_1's auc: 0.937656\n",
      "[20000]\ttraining's auc: 0.954711\tvalid_1's auc: 0.945665\n",
      "[25000]\ttraining's auc: 0.962848\tvalid_1's auc: 0.952625\n",
      "[30000]\ttraining's auc: 0.969686\tvalid_1's auc: 0.958647\n",
      "[35000]\ttraining's auc: 0.975335\tvalid_1's auc: 0.96376\n",
      "[40000]\ttraining's auc: 0.98001\tvalid_1's auc: 0.96815\n",
      "[45000]\ttraining's auc: 0.983865\tvalid_1's auc: 0.97197\n",
      "[50000]\ttraining's auc: 0.987031\tvalid_1's auc: 0.975225\n",
      "[55000]\ttraining's auc: 0.989583\tvalid_1's auc: 0.977998\n",
      "[60000]\ttraining's auc: 0.991672\tvalid_1's auc: 0.980407\n",
      "[65000]\ttraining's auc: 0.993348\tvalid_1's auc: 0.982466\n",
      "[70000]\ttraining's auc: 0.994716\tvalid_1's auc: 0.98427\n",
      "[75000]\ttraining's auc: 0.995809\tvalid_1's auc: 0.985825\n",
      "[80000]\ttraining's auc: 0.996691\tvalid_1's auc: 0.987171\n",
      "[85000]\ttraining's auc: 0.997381\tvalid_1's auc: 0.988328\n",
      "[90000]\ttraining's auc: 0.997939\tvalid_1's auc: 0.98937\n",
      "[95000]\ttraining's auc: 0.998388\tvalid_1's auc: 0.990291\n",
      "[100000]\ttraining's auc: 0.998741\tvalid_1's auc: 0.991082\n",
      "Did not meet early stopping. Best iteration is:\n",
      "[100000]\ttraining's auc: 0.998741\tvalid_1's auc: 0.991082\n",
      "This AUC: 0.9910821959330751\n",
      "Training until validation scores don't improve for 4000 rounds.\n",
      "[5000]\ttraining's auc: 0.920198\tvalid_1's auc: 0.914125\n",
      "[10000]\ttraining's auc: 0.934071\tvalid_1's auc: 0.926558\n",
      "[15000]\ttraining's auc: 0.94531\tvalid_1's auc: 0.93637\n",
      "[20000]\ttraining's auc: 0.954808\tvalid_1's auc: 0.944696\n",
      "[25000]\ttraining's auc: 0.962891\tvalid_1's auc: 0.951924\n",
      "[30000]\ttraining's auc: 0.969707\tvalid_1's auc: 0.958163\n",
      "[35000]\ttraining's auc: 0.975385\tvalid_1's auc: 0.963483\n",
      "[40000]\ttraining's auc: 0.980053\tvalid_1's auc: 0.96804\n",
      "[45000]\ttraining's auc: 0.983922\tvalid_1's auc: 0.971934\n",
      "[50000]\ttraining's auc: 0.987064\tvalid_1's auc: 0.97526\n",
      "[55000]\ttraining's auc: 0.989615\tvalid_1's auc: 0.978106\n",
      "[60000]\ttraining's auc: 0.991707\tvalid_1's auc: 0.980546\n",
      "[65000]\ttraining's auc: 0.993387\tvalid_1's auc: 0.982672\n",
      "[70000]\ttraining's auc: 0.994744\tvalid_1's auc: 0.9845\n",
      "[75000]\ttraining's auc: 0.995841\tvalid_1's auc: 0.986075\n",
      "[80000]\ttraining's auc: 0.996701\tvalid_1's auc: 0.98742\n",
      "[85000]\ttraining's auc: 0.997401\tvalid_1's auc: 0.988619\n",
      "[90000]\ttraining's auc: 0.997956\tvalid_1's auc: 0.989643\n",
      "[95000]\ttraining's auc: 0.9984\tvalid_1's auc: 0.990555\n",
      "[100000]\ttraining's auc: 0.998749\tvalid_1's auc: 0.991335\n",
      "Did not meet early stopping. Best iteration is:\n",
      "[100000]\ttraining's auc: 0.998749\tvalid_1's auc: 0.991335\n",
      "This AUC: 0.991335099544216\n"
     ]
    }
   ],
   "source": [
    "random_trained_models = get_preds(X_resampled, y_resampled, params)"
   ]
  },
  {
   "cell_type": "code",
   "execution_count": 8,
   "metadata": {},
   "outputs": [],
   "source": [
    "save_model(random_trained_models, 'random_aug_lgbm_models_cv10.m')"
   ]
  },
  {
   "cell_type": "markdown",
   "metadata": {},
   "source": [
    "### SMOTE"
   ]
  },
  {
   "cell_type": "code",
   "execution_count": 9,
   "metadata": {},
   "outputs": [],
   "source": [
    "from imblearn.over_sampling import SMOTE\n",
    "smote = SMOTE(random_state=0)\n",
    "X_resampled, y_resampled = smote.fit_resample(X, y)"
   ]
  },
  {
   "cell_type": "code",
   "execution_count": 10,
   "metadata": {},
   "outputs": [
    {
     "name": "stdout",
     "output_type": "stream",
     "text": [
      "Training until validation scores don't improve for 4000 rounds.\n",
      "[5000]\ttraining's auc: 0.97333\tvalid_1's auc: 0.813928\n",
      "[10000]\ttraining's auc: 0.980199\tvalid_1's auc: 0.834526\n",
      "[15000]\ttraining's auc: 0.983753\tvalid_1's auc: 0.846639\n",
      "[20000]\ttraining's auc: 0.986295\tvalid_1's auc: 0.855567\n",
      "[25000]\ttraining's auc: 0.988356\tvalid_1's auc: 0.862391\n",
      "[30000]\ttraining's auc: 0.99013\tvalid_1's auc: 0.86792\n",
      "[35000]\ttraining's auc: 0.991656\tvalid_1's auc: 0.873065\n",
      "[40000]\ttraining's auc: 0.992983\tvalid_1's auc: 0.877587\n",
      "[45000]\ttraining's auc: 0.994121\tvalid_1's auc: 0.881634\n",
      "[50000]\ttraining's auc: 0.995098\tvalid_1's auc: 0.885424\n",
      "[55000]\ttraining's auc: 0.995928\tvalid_1's auc: 0.888881\n",
      "[60000]\ttraining's auc: 0.996637\tvalid_1's auc: 0.892138\n",
      "[65000]\ttraining's auc: 0.997233\tvalid_1's auc: 0.895116\n",
      "[70000]\ttraining's auc: 0.997739\tvalid_1's auc: 0.897938\n",
      "[75000]\ttraining's auc: 0.99816\tvalid_1's auc: 0.900547\n",
      "[80000]\ttraining's auc: 0.998507\tvalid_1's auc: 0.902909\n",
      "[85000]\ttraining's auc: 0.998796\tvalid_1's auc: 0.90514\n",
      "[90000]\ttraining's auc: 0.999033\tvalid_1's auc: 0.90719\n",
      "[95000]\ttraining's auc: 0.999228\tvalid_1's auc: 0.9091\n",
      "[100000]\ttraining's auc: 0.99939\tvalid_1's auc: 0.910971\n",
      "Did not meet early stopping. Best iteration is:\n",
      "[100000]\ttraining's auc: 0.99939\tvalid_1's auc: 0.910971\n",
      "This AUC: 0.9109706350063963\n",
      "Training until validation scores don't improve for 4000 rounds.\n",
      "[5000]\ttraining's auc: 0.94673\tvalid_1's auc: 0.971116\n",
      "[10000]\ttraining's auc: 0.95878\tvalid_1's auc: 0.976418\n",
      "[15000]\ttraining's auc: 0.964781\tvalid_1's auc: 0.978799\n",
      "[20000]\ttraining's auc: 0.969164\tvalid_1's auc: 0.980455\n",
      "[25000]\ttraining's auc: 0.97286\tvalid_1's auc: 0.981841\n",
      "[30000]\ttraining's auc: 0.976093\tvalid_1's auc: 0.983063\n",
      "[35000]\ttraining's auc: 0.978975\tvalid_1's auc: 0.984207\n",
      "[40000]\ttraining's auc: 0.981574\tvalid_1's auc: 0.985276\n",
      "[45000]\ttraining's auc: 0.983896\tvalid_1's auc: 0.986241\n",
      "[50000]\ttraining's auc: 0.985971\tvalid_1's auc: 0.987132\n",
      "[55000]\ttraining's auc: 0.987809\tvalid_1's auc: 0.987928\n",
      "[60000]\ttraining's auc: 0.989434\tvalid_1's auc: 0.988682\n",
      "[65000]\ttraining's auc: 0.990882\tvalid_1's auc: 0.989362\n",
      "[70000]\ttraining's auc: 0.992159\tvalid_1's auc: 0.98999\n",
      "[75000]\ttraining's auc: 0.993272\tvalid_1's auc: 0.99056\n",
      "[80000]\ttraining's auc: 0.994247\tvalid_1's auc: 0.991102\n",
      "[85000]\ttraining's auc: 0.995088\tvalid_1's auc: 0.991585\n",
      "[90000]\ttraining's auc: 0.995821\tvalid_1's auc: 0.992041\n",
      "[95000]\ttraining's auc: 0.996452\tvalid_1's auc: 0.992447\n",
      "[100000]\ttraining's auc: 0.996998\tvalid_1's auc: 0.992832\n",
      "Did not meet early stopping. Best iteration is:\n",
      "[100000]\ttraining's auc: 0.996998\tvalid_1's auc: 0.992832\n",
      "This AUC: 0.992832151984188\n",
      "Training until validation scores don't improve for 4000 rounds.\n",
      "[5000]\ttraining's auc: 0.946967\tvalid_1's auc: 0.970979\n",
      "[10000]\ttraining's auc: 0.958927\tvalid_1's auc: 0.97636\n",
      "[15000]\ttraining's auc: 0.964897\tvalid_1's auc: 0.978781\n",
      "[20000]\ttraining's auc: 0.969252\tvalid_1's auc: 0.980445\n",
      "[25000]\ttraining's auc: 0.972909\tvalid_1's auc: 0.981854\n",
      "[30000]\ttraining's auc: 0.976142\tvalid_1's auc: 0.9831\n",
      "[35000]\ttraining's auc: 0.97901\tvalid_1's auc: 0.984241\n",
      "[40000]\ttraining's auc: 0.981586\tvalid_1's auc: 0.985299\n",
      "[45000]\ttraining's auc: 0.983924\tvalid_1's auc: 0.986246\n",
      "[50000]\ttraining's auc: 0.98602\tvalid_1's auc: 0.987118\n",
      "[55000]\ttraining's auc: 0.987882\tvalid_1's auc: 0.987913\n",
      "[60000]\ttraining's auc: 0.989523\tvalid_1's auc: 0.988659\n",
      "[65000]\ttraining's auc: 0.990968\tvalid_1's auc: 0.989323\n",
      "[70000]\ttraining's auc: 0.992238\tvalid_1's auc: 0.989945\n",
      "[75000]\ttraining's auc: 0.993343\tvalid_1's auc: 0.99051\n",
      "[80000]\ttraining's auc: 0.994319\tvalid_1's auc: 0.991018\n",
      "[85000]\ttraining's auc: 0.99516\tvalid_1's auc: 0.991489\n",
      "[90000]\ttraining's auc: 0.995884\tvalid_1's auc: 0.991916\n",
      "[95000]\ttraining's auc: 0.996514\tvalid_1's auc: 0.992307\n",
      "[100000]\ttraining's auc: 0.997055\tvalid_1's auc: 0.992682\n",
      "Did not meet early stopping. Best iteration is:\n",
      "[100000]\ttraining's auc: 0.997055\tvalid_1's auc: 0.992682\n",
      "This AUC: 0.9926824951543397\n",
      "Training until validation scores don't improve for 4000 rounds.\n",
      "[5000]\ttraining's auc: 0.946588\tvalid_1's auc: 0.972507\n",
      "[10000]\ttraining's auc: 0.958604\tvalid_1's auc: 0.977677\n",
      "[15000]\ttraining's auc: 0.964643\tvalid_1's auc: 0.980019\n",
      "[20000]\ttraining's auc: 0.969063\tvalid_1's auc: 0.981609\n",
      "[25000]\ttraining's auc: 0.972763\tvalid_1's auc: 0.982941\n",
      "[30000]\ttraining's auc: 0.975979\tvalid_1's auc: 0.984125\n",
      "[35000]\ttraining's auc: 0.978891\tvalid_1's auc: 0.985235\n",
      "[40000]\ttraining's auc: 0.981513\tvalid_1's auc: 0.986229\n",
      "[45000]\ttraining's auc: 0.983855\tvalid_1's auc: 0.987136\n",
      "[50000]\ttraining's auc: 0.985947\tvalid_1's auc: 0.987967\n",
      "[55000]\ttraining's auc: 0.987801\tvalid_1's auc: 0.988718\n",
      "[60000]\ttraining's auc: 0.989455\tvalid_1's auc: 0.989408\n",
      "[65000]\ttraining's auc: 0.990891\tvalid_1's auc: 0.990052\n",
      "[70000]\ttraining's auc: 0.992157\tvalid_1's auc: 0.990636\n",
      "[75000]\ttraining's auc: 0.993265\tvalid_1's auc: 0.991163\n",
      "[80000]\ttraining's auc: 0.99425\tvalid_1's auc: 0.991654\n",
      "[85000]\ttraining's auc: 0.995096\tvalid_1's auc: 0.992102\n",
      "[90000]\ttraining's auc: 0.995824\tvalid_1's auc: 0.992515\n",
      "[95000]\ttraining's auc: 0.996459\tvalid_1's auc: 0.992903\n",
      "[100000]\ttraining's auc: 0.997003\tvalid_1's auc: 0.993247\n",
      "Did not meet early stopping. Best iteration is:\n",
      "[100000]\ttraining's auc: 0.997003\tvalid_1's auc: 0.993247\n",
      "This AUC: 0.9932467762801952\n",
      "Training until validation scores don't improve for 4000 rounds.\n",
      "[5000]\ttraining's auc: 0.946622\tvalid_1's auc: 0.972287\n",
      "[10000]\ttraining's auc: 0.958657\tvalid_1's auc: 0.977449\n",
      "[15000]\ttraining's auc: 0.964708\tvalid_1's auc: 0.979729\n",
      "[20000]\ttraining's auc: 0.969101\tvalid_1's auc: 0.981321\n",
      "[25000]\ttraining's auc: 0.972781\tvalid_1's auc: 0.98266\n",
      "[30000]\ttraining's auc: 0.976\tvalid_1's auc: 0.983886\n",
      "[35000]\ttraining's auc: 0.978901\tvalid_1's auc: 0.985008\n",
      "[40000]\ttraining's auc: 0.981513\tvalid_1's auc: 0.986027\n",
      "[45000]\ttraining's auc: 0.983847\tvalid_1's auc: 0.986967\n",
      "[50000]\ttraining's auc: 0.985939\tvalid_1's auc: 0.987815\n",
      "[55000]\ttraining's auc: 0.987794\tvalid_1's auc: 0.988606\n",
      "[60000]\ttraining's auc: 0.989456\tvalid_1's auc: 0.98934\n",
      "[65000]\ttraining's auc: 0.9909\tvalid_1's auc: 0.989994\n",
      "[70000]\ttraining's auc: 0.992171\tvalid_1's auc: 0.990605\n",
      "[75000]\ttraining's auc: 0.993282\tvalid_1's auc: 0.991156\n",
      "[80000]\ttraining's auc: 0.994255\tvalid_1's auc: 0.991659\n",
      "[85000]\ttraining's auc: 0.995097\tvalid_1's auc: 0.992115\n",
      "[90000]\ttraining's auc: 0.995821\tvalid_1's auc: 0.992531\n",
      "[95000]\ttraining's auc: 0.996453\tvalid_1's auc: 0.99292\n",
      "[100000]\ttraining's auc: 0.997005\tvalid_1's auc: 0.993285\n",
      "Did not meet early stopping. Best iteration is:\n",
      "[100000]\ttraining's auc: 0.997005\tvalid_1's auc: 0.993285\n",
      "This AUC: 0.9932846122900099\n"
     ]
    }
   ],
   "source": [
    "smote_trained_models = get_preds(X_resampled, y_resampled, params)"
   ]
  },
  {
   "cell_type": "code",
   "execution_count": 11,
   "metadata": {},
   "outputs": [],
   "source": [
    "save_model(smote_trained_models, 'smote_aug_lgbm_models_cv10.m')"
   ]
  },
  {
   "cell_type": "markdown",
   "metadata": {},
   "source": [
    "### ADASYN"
   ]
  },
  {
   "cell_type": "code",
   "execution_count": null,
   "metadata": {},
   "outputs": [],
   "source": [
    "from imblearn.over_sampling import  ADASYN\n",
    "adasyn = ADASYN(random_state=0)\n",
    "X_resampled, y_resampled = adasyn.fit_resample(X, y)"
   ]
  },
  {
   "cell_type": "code",
   "execution_count": null,
   "metadata": {},
   "outputs": [],
   "source": [
    "adasyn_trained_models = get_preds(X_resampled, y_resampled, params)"
   ]
  },
  {
   "cell_type": "code",
   "execution_count": null,
   "metadata": {},
   "outputs": [],
   "source": [
    "save_model(adasyn_trained_models, 'adasyn_aug_lgbm_models_cv10.m')"
   ]
  },
  {
   "cell_type": "markdown",
   "metadata": {},
   "source": [
    "### Borderling SMOTE"
   ]
  },
  {
   "cell_type": "code",
   "execution_count": null,
   "metadata": {},
   "outputs": [],
   "source": [
    "from imblearn.over_sampling import BorderlineSMOTE\n",
    "bsmote = BorderlineSMOTE(random_state=0)\n",
    "X_resampled, y_resampled = bsmote.fit_resample(X, y)"
   ]
  },
  {
   "cell_type": "code",
   "execution_count": null,
   "metadata": {},
   "outputs": [],
   "source": [
    "bsmote_trained_models = get_preds(X_resampled, y_resampled, params)"
   ]
  },
  {
   "cell_type": "code",
   "execution_count": null,
   "metadata": {},
   "outputs": [],
   "source": [
    "save_model(bsmote_trained_models, 'bsmote_aug_lgbm_models_cv10.m')"
   ]
  },
  {
   "cell_type": "code",
   "execution_count": null,
   "metadata": {},
   "outputs": [],
   "source": []
  }
 ],
 "metadata": {
  "kernelspec": {
   "display_name": "Python 3",
   "language": "python",
   "name": "python3"
  },
  "language_info": {
   "codemirror_mode": {
    "name": "ipython",
    "version": 3
   },
   "file_extension": ".py",
   "mimetype": "text/x-python",
   "name": "python",
   "nbconvert_exporter": "python",
   "pygments_lexer": "ipython3",
   "version": "3.6.8"
  }
 },
 "nbformat": 4,
 "nbformat_minor": 2
}

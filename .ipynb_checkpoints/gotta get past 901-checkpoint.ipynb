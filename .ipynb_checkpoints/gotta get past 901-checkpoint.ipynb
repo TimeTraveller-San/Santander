{
 "cells": [
  {
   "cell_type": "markdown",
   "metadata": {},
   "source": [
    "# Imports"
   ]
  },
  {
   "cell_type": "code",
   "execution_count": 1,
   "metadata": {},
   "outputs": [],
   "source": [
    "from fastai import *\n",
    "import numpy as np\n",
    "import pandas as pd\n",
    "import pandas_profiling\n",
    "import matplotlib.pyplot as plt\n",
    "import seaborn as sns\n",
    "from sklearn.model_selection import StratifiedKFold\n",
    "from sklearn.model_selection import train_test_split\n",
    "from skopt.space import Real, Integer\n",
    "from skopt.utils import use_named_args\n",
    "import itertools\n",
    "from sklearn.metrics import roc_auc_score\n",
    "from skopt import gp_minimize\n",
    "import lightgbm as lgb\n",
    "import pickle\n",
    "import gc\n",
    "import xgboost as xgb"
   ]
  },
  {
   "cell_type": "markdown",
   "metadata": {},
   "source": [
    "# Make data"
   ]
  },
  {
   "cell_type": "code",
   "execution_count": 2,
   "metadata": {},
   "outputs": [],
   "source": [
    "df_train = pd.read_csv('data/train.csv')\n",
    "X_train = df_train.drop(['ID_code', 'target'], axis=1)\n",
    "y_train = df_train.target"
   ]
  },
  {
   "cell_type": "code",
   "execution_count": 3,
   "metadata": {},
   "outputs": [],
   "source": [
    "Xtr, Xval, ytr, yval  = train_test_split(X_train, y_train, test_size = 0.05)"
   ]
  },
  {
   "cell_type": "code",
   "execution_count": 4,
   "metadata": {},
   "outputs": [
    {
     "name": "stdout",
     "output_type": "stream",
     "text": [
      "(190000, 200) (10000, 200)\n"
     ]
    }
   ],
   "source": [
    "print(f\"{Xtr.shape} {Xval.shape}\")"
   ]
  },
  {
   "cell_type": "code",
   "execution_count": 5,
   "metadata": {},
   "outputs": [
    {
     "name": "stdout",
     "output_type": "stream",
     "text": [
      "1: 1028 | 0 : 8972\n"
     ]
    }
   ],
   "source": [
    "print(f\"1: {yval[yval == 1].shape[0]} | 0 : {yval[yval == 0].shape[0]}\")"
   ]
  },
  {
   "cell_type": "markdown",
   "metadata": {},
   "source": [
    "# Train the old LightGBModel"
   ]
  },
  {
   "cell_type": "code",
   "execution_count": 6,
   "metadata": {},
   "outputs": [],
   "source": [
    "def save_model(models, filename):\n",
    "    with open(filename, 'wb') as handle:\n",
    "        pickle.dump(models, handle)\n",
    "        \n",
    "def augment(x,y,t=2):\n",
    "    xs,xn = [],[]\n",
    "    for i in range(t):\n",
    "        mask = y>0\n",
    "        x1 = x[mask].copy()\n",
    "        ids = np.arange(x1.shape[0])\n",
    "        for c in range(x1.shape[1]):\n",
    "            np.random.shuffle(ids)\n",
    "            x1[:,c] = x1[ids][:,c]\n",
    "        xs.append(x1)\n",
    "\n",
    "    for i in range(t//2):\n",
    "        mask = y==0\n",
    "        x1 = x[mask].copy()\n",
    "        ids = np.arange(x1.shape[0])\n",
    "        for c in range(x1.shape[1]):\n",
    "            np.random.shuffle(ids)\n",
    "            x1[:,c] = x1[ids][:,c]\n",
    "        xn.append(x1)\n",
    "\n",
    "    xs = np.vstack(xs)\n",
    "    xn = np.vstack(xn)\n",
    "    ys = np.ones(xs.shape[0])\n",
    "    yn = np.zeros(xn.shape[0])\n",
    "    x = np.vstack([x,xs,xn])\n",
    "    y = np.concatenate([y,ys,yn])\n",
    "    return x,y"
   ]
  },
  {
   "cell_type": "code",
   "execution_count": 10,
   "metadata": {},
   "outputs": [],
   "source": [
    "param = {\n",
    "    'bagging_freq': 5,\n",
    "    'bagging_fraction': 0.335,\n",
    "    'boost_from_average':'false',\n",
    "    'boost': 'gbdt',\n",
    "    'feature_fraction': 0.041,\n",
    "    'learning_rate': 0.0083,\n",
    "    'max_depth': -1,\n",
    "    'metric':'auc',\n",
    "    'min_data_in_leaf': 80,\n",
    "    'min_sum_hessian_in_leaf': 10.0,\n",
    "    'num_leaves': 13,\n",
    "    'num_threads': 8,\n",
    "    'tree_learner': 'serial',\n",
    "    'objective': 'binary', \n",
    "    'verbosity': -1,\n",
    "    \"device\" : \"gpu\",\n",
    "    'gpu_platform_id' : 0,\n",
    "    'gpu_device_id' : 0,\n",
    "}"
   ]
  },
  {
   "cell_type": "code",
   "execution_count": 11,
   "metadata": {},
   "outputs": [
    {
     "name": "stdout",
     "output_type": "stream",
     "text": [
      "Training until validation scores don't improve for 4000 rounds.\n",
      "[5000]\ttraining's auc: 0.912646\tvalid_1's auc: 0.903208\n",
      "[10000]\ttraining's auc: 0.923005\tvalid_1's auc: 0.907249\n",
      "[15000]\ttraining's auc: 0.931071\tvalid_1's auc: 0.907831\n",
      "[20000]\ttraining's auc: 0.938295\tvalid_1's auc: 0.907875\n",
      "Early stopping, best iteration is:\n",
      "[17002]\ttraining's auc: 0.934041\tvalid_1's auc: 0.907989\n",
      "Training until validation scores don't improve for 4000 rounds.\n",
      "[5000]\ttraining's auc: 0.91372\tvalid_1's auc: 0.898341\n",
      "[10000]\ttraining's auc: 0.923905\tvalid_1's auc: 0.90175\n",
      "[15000]\ttraining's auc: 0.931813\tvalid_1's auc: 0.902068\n",
      "Early stopping, best iteration is:\n",
      "[15420]\ttraining's auc: 0.932426\tvalid_1's auc: 0.902109\n",
      "Training until validation scores don't improve for 4000 rounds.\n",
      "[5000]\ttraining's auc: 0.913414\tvalid_1's auc: 0.898391\n",
      "[10000]\ttraining's auc: 0.923549\tvalid_1's auc: 0.901734\n",
      "[15000]\ttraining's auc: 0.931467\tvalid_1's auc: 0.902197\n",
      "[20000]\ttraining's auc: 0.938578\tvalid_1's auc: 0.902162\n",
      "Early stopping, best iteration is:\n",
      "[17343]\ttraining's auc: 0.934862\tvalid_1's auc: 0.902412\n",
      "Training until validation scores don't improve for 4000 rounds.\n",
      "[5000]\ttraining's auc: 0.912797\tvalid_1's auc: 0.899033\n",
      "[10000]\ttraining's auc: 0.922996\tvalid_1's auc: 0.901675\n",
      "[15000]\ttraining's auc: 0.930919\tvalid_1's auc: 0.901601\n",
      "Early stopping, best iteration is:\n",
      "[12075]\ttraining's auc: 0.926423\tvalid_1's auc: 0.901827\n",
      "Training until validation scores don't improve for 4000 rounds.\n",
      "[5000]\ttraining's auc: 0.913423\tvalid_1's auc: 0.897872\n",
      "[10000]\ttraining's auc: 0.923611\tvalid_1's auc: 0.900098\n",
      "[15000]\ttraining's auc: 0.931522\tvalid_1's auc: 0.900149\n",
      "Early stopping, best iteration is:\n",
      "[12131]\ttraining's auc: 0.927134\tvalid_1's auc: 0.900277\n",
      "Training until validation scores don't improve for 4000 rounds.\n",
      "[5000]\ttraining's auc: 0.913132\tvalid_1's auc: 0.900359\n",
      "[10000]\ttraining's auc: 0.923334\tvalid_1's auc: 0.903397\n",
      "[15000]\ttraining's auc: 0.931227\tvalid_1's auc: 0.903603\n",
      "Early stopping, best iteration is:\n",
      "[12971]\ttraining's auc: 0.928142\tvalid_1's auc: 0.903706\n",
      "Training until validation scores don't improve for 4000 rounds.\n",
      "[5000]\ttraining's auc: 0.913651\tvalid_1's auc: 0.898888\n",
      "[10000]\ttraining's auc: 0.923768\tvalid_1's auc: 0.902677\n",
      "[15000]\ttraining's auc: 0.931534\tvalid_1's auc: 0.902998\n",
      "Early stopping, best iteration is:\n",
      "[15693]\ttraining's auc: 0.932536\tvalid_1's auc: 0.903113\n",
      "Training until validation scores don't improve for 4000 rounds.\n",
      "[5000]\ttraining's auc: 0.913455\tvalid_1's auc: 0.893468\n",
      "[10000]\ttraining's auc: 0.9236\tvalid_1's auc: 0.896845\n",
      "[15000]\ttraining's auc: 0.931442\tvalid_1's auc: 0.89707\n",
      "Early stopping, best iteration is:\n",
      "[13569]\ttraining's auc: 0.929296\tvalid_1's auc: 0.897166\n",
      "Training until validation scores don't improve for 4000 rounds.\n",
      "[5000]\ttraining's auc: 0.913507\tvalid_1's auc: 0.895736\n",
      "[10000]\ttraining's auc: 0.923834\tvalid_1's auc: 0.898672\n",
      "[15000]\ttraining's auc: 0.931768\tvalid_1's auc: 0.898668\n",
      "Early stopping, best iteration is:\n",
      "[11886]\ttraining's auc: 0.926992\tvalid_1's auc: 0.898816\n",
      "Training until validation scores don't improve for 4000 rounds.\n",
      "[5000]\ttraining's auc: 0.912907\tvalid_1's auc: 0.899304\n",
      "[10000]\ttraining's auc: 0.923161\tvalid_1's auc: 0.901718\n",
      "[15000]\ttraining's auc: 0.93103\tvalid_1's auc: 0.901651\n",
      "Early stopping, best iteration is:\n",
      "[13644]\ttraining's auc: 0.928995\tvalid_1's auc: 0.901914\n"
     ]
    }
   ],
   "source": [
    "gc.enable()\n",
    "skf = StratifiedKFold(n_splits=10)\n",
    "lgbm_models = []\n",
    "for train_idx, test_idx in skf.split(Xtr.values, ytr.values):\n",
    "        gc.collect()\n",
    "        X_train, y_train = Xtr.iloc[train_idx], ytr.iloc[train_idx]\n",
    "        X_tr, y_tr = augment(X_train.values, y_train.values)\n",
    "        X_tr = pd.DataFrame(X_tr)\n",
    "        trn_data = lgb.Dataset(X_tr, label=y_tr)\n",
    "        test_data = lgb.Dataset(Xtr.values[test_idx], label=ytr.values[test_idx])\n",
    "        model_lgb     = lgb.train(param, trn_data, 1000000, valid_sets = [trn_data, test_data], verbose_eval=5000, early_stopping_rounds = 4000)\n",
    "        lgbm_models.append(model_lgb)\n",
    "        auc = roc_auc_score(ytr.values[test_idx], model_lgb.predict(Xtr.values[test_idx]))"
   ]
  },
  {
   "cell_type": "code",
   "execution_count": 13,
   "metadata": {},
   "outputs": [],
   "source": [
    "save_model(lgbm_models, 'latest_lgb_models.m')"
   ]
  },
  {
   "cell_type": "markdown",
   "metadata": {
    "heading_collapsed": true
   },
   "source": [
    "# XGB"
   ]
  },
  {
   "cell_type": "code",
   "execution_count": null,
   "metadata": {
    "hidden": true
   },
   "outputs": [],
   "source": [
    "skf = StratifiedKFold(n_splits=10)\n",
    "xgb_models = []\n",
    "for k, (train_idx, test_idx) in enumerate(skf.split(Xtr.values, ytr.values)):\n",
    "        print(f\"Fold: {k}\")\n",
    "        gc.collect()\n",
    "        model_xgb =  xgb.XGBClassifier(max_depth=2,\n",
    "                              colsample_bytree=0.7,\n",
    "                              n_estimators=20000,\n",
    "                              scale_pos_weight = 9,\n",
    "                              learning_rate=0.02,\n",
    "                              objective='binary:logistic', \n",
    "                              verbosity =1,\n",
    "                              eval_metric  = 'auc',\n",
    "                              tree_method='gpu_hist',\n",
    "                               verbose = True,\n",
    "                              n_jobs=-1)\n",
    "        \n",
    "        X_train, y_train = Xtr.iloc[train_idx], ytr.iloc[train_idx]\n",
    "        X_tr, y_tr = augment(X_train.values, y_train.values)\n",
    "        bst = model_xgb.fit(X_tr, y_tr,  eval_set = [(Xtr.values[test_idx], ytr.values[test_idx])],\n",
    "                            early_stopping_rounds=200,\n",
    "                            verbose= True, \n",
    "                            eval_metric = 'auc')\n",
    "        xgb_models.append(model_xgb)                                "
   ]
  },
  {
   "cell_type": "code",
   "execution_count": null,
   "metadata": {
    "hidden": true
   },
   "outputs": [],
   "source": [
    "save_model(xgb_models, 'latest_xgb_models.m')"
   ]
  },
  {
   "cell_type": "markdown",
   "metadata": {
    "heading_collapsed": true
   },
   "source": [
    "# Lightgbm #2"
   ]
  },
  {
   "cell_type": "code",
   "execution_count": null,
   "metadata": {
    "hidden": true
   },
   "outputs": [],
   "source": [
    "new_params = {\n",
    "    \"objective\" : \"binary\", \"metric\" : \"auc\", \"boosting\": 'gbdt', \"max_depth\" : -1, \"num_leaves\" : 13,\n",
    "    \"learning_rate\" : 0.01, \"bagging_freq\": 5, \"bagging_fraction\" : 0.4, \"feature_fraction\" : 0.05,\n",
    "    \"min_data_in_leaf\": 80, \"min_sum_heassian_in_leaf\": 10, \"tree_learner\": \"serial\", \"boost_from_average\": \"false\",\n",
    "    \"bagging_seed\" : random_state, \"verbosity\" : 1, \"seed\": random_state\n",
    "}\n",
    "# Try CV 5"
   ]
  },
  {
   "cell_type": "markdown",
   "metadata": {
    "heading_collapsed": true
   },
   "source": [
    "# Lightgbm #3"
   ]
  },
  {
   "cell_type": "code",
   "execution_count": null,
   "metadata": {
    "hidden": true
   },
   "outputs": [],
   "source": [
    "new_params2 = {\n",
    "    \"objective\" : \"binary\",\n",
    "    \"metric\" : \"auc\",\n",
    "    \"boosting\": 'gbdt',\n",
    "    \"max_depth\" : -1,\n",
    "    \"num_leaves\" : 13,\n",
    "    \"learning_rate\" : 0.01,\n",
    "    \"bagging_freq\": 5,\n",
    "    \"bagging_fraction\" : 0.4,\n",
    "    \"feature_fraction\" : 0.05,\n",
    "    \"min_data_in_leaf\": 80,\n",
    "    \"min_sum_heassian_in_leaf\": 10,\n",
    "    \"tree_learner\": \"serial\",\n",
    "    \"boost_from_average\": \"false\",\n",
    "    #\"lambda_l1\" : 5,\n",
    "    #\"lambda_l2\" : 5,\n",
    "    \"bagging_seed\" : random_state,\n",
    "    \"verbosity\" : 1,\n",
    "    \"seed\": random_state\n",
    "}\n",
    "# Try CV 11"
   ]
  },
  {
   "cell_type": "markdown",
   "metadata": {},
   "source": [
    "# Get preds"
   ]
  },
  {
   "cell_type": "code",
   "execution_count": 54,
   "metadata": {},
   "outputs": [],
   "source": [
    "def load_model(model_name):\n",
    "    with open(model_name, 'rb') as handle:\n",
    "        model = pickle.load(handle)\n",
    "    return model    \n",
    "\n",
    "def make_prediction(model, X):\n",
    "    return model.predict(X)\n",
    "\n",
    "def get_all_preds(X, model_names):\n",
    "    all_preds = {}\n",
    "    for model_name in model_names:\n",
    "        i = 0\n",
    "        models = load_model(model_name)\n",
    "        for model in models:\n",
    "            i = i + 1\n",
    "            y_pred = make_prediction(model, X)\n",
    "            key = str(model_name) + str(i)\n",
    "            all_preds[key] = y_pred\n",
    "            print(f\"{key} Done with {len(y_pred)} shape\")\n",
    "    return pd.DataFrame(all_preds)      "
   ]
  },
  {
   "cell_type": "code",
   "execution_count": 39,
   "metadata": {},
   "outputs": [],
   "source": [
    "def get_score(y1, y2):\n",
    "    return roc_auc_score(y1, y2)"
   ]
  },
  {
   "cell_type": "code",
   "execution_count": null,
   "metadata": {},
   "outputs": [],
   "source": [
    "model_names"
   ]
  },
  {
   "cell_type": "code",
   "execution_count": null,
   "metadata": {},
   "outputs": [],
   "source": [
    "X_aug = get_all_preds(X_train, model_names)"
   ]
  },
  {
   "cell_type": "markdown",
   "metadata": {},
   "source": [
    "# Preds|"
   ]
  },
  {
   "cell_type": "code",
   "execution_count": 17,
   "metadata": {},
   "outputs": [
    {
     "name": "stdout",
     "output_type": "stream",
     "text": [
      "fold0\n",
      "fold1\n",
      "fold2\n",
      "fold3\n",
      "fold4\n",
      "fold5\n",
      "fold6\n",
      "fold7\n",
      "fold8\n",
      "fold9\n"
     ]
    }
   ],
   "source": [
    "preds = {}\n",
    "for i, model in enumerate(lgbm_models):\n",
    "    key = f\"fold{i}\"\n",
    "    print(key)\n",
    "    y_pred = make_prediction(model, Xval)\n",
    "    preds[key] = y_pred"
   ]
  },
  {
   "cell_type": "code",
   "execution_count": 28,
   "metadata": {},
   "outputs": [
    {
     "name": "stdout",
     "output_type": "stream",
     "text": [
      "fold0 : 0.890064159833186\n",
      "fold1 : 0.8912337085025441\n",
      "fold2 : 0.8907837569888853\n",
      "fold3 : 0.891505631007666\n",
      "fold4 : 0.8919291275407624\n",
      "fold5 : 0.8916691314613037\n",
      "fold6 : 0.891846835203686\n",
      "fold7 : 0.8922693559383191\n",
      "fold8 : 0.8915386997333685\n",
      "fold9 : 0.8923010151773525\n"
     ]
    }
   ],
   "source": [
    "for column in preds.columns:\n",
    "    print(f\"{column} : {roc_auc_score(yval, preds[column].values)}\")"
   ]
  },
  {
   "cell_type": "code",
   "execution_count": 38,
   "metadata": {},
   "outputs": [
    {
     "data": {
      "text/plain": [
       "0.8923989202898425"
      ]
     },
     "execution_count": 38,
     "metadata": {},
     "output_type": "execute_result"
    }
   ],
   "source": [
    "average = preds.mean(axis = 1)\n",
    "roc_auc_score(yval, average)"
   ]
  },
  {
   "cell_type": "code",
   "execution_count": 42,
   "metadata": {},
   "outputs": [
    {
     "name": "stdout",
     "output_type": "stream",
     "text": [
      "lb_aug_901_cv10.m1 Done with 10000 shape\n",
      "lb_aug_901_cv10.m2 Done with 10000 shape\n",
      "lb_aug_901_cv10.m3 Done with 10000 shape\n",
      "lb_aug_901_cv10.m4 Done with 10000 shape\n",
      "lb_aug_901_cv10.m5 Done with 10000 shape\n",
      "lb_aug_901_cv10.m6 Done with 10000 shape\n",
      "lb_aug_901_cv10.m7 Done with 10000 shape\n",
      "lb_aug_901_cv10.m8 Done with 10000 shape\n",
      "lb_aug_901_cv10.m9 Done with 10000 shape\n",
      "lb_aug_901_cv10.m10 Done with 10000 shape\n"
     ]
    }
   ],
   "source": [
    "mnames = ['lb_aug_901_cv10.m']\n",
    "X_aug = get_all_preds(Xval, mnames)"
   ]
  },
  {
   "cell_type": "code",
   "execution_count": 44,
   "metadata": {},
   "outputs": [
    {
     "name": "stdout",
     "output_type": "stream",
     "text": [
      "lb_aug_901_cv10.m1 : 0.9193087313579124\n",
      "lb_aug_901_cv10.m2 : 0.9163918529068387\n",
      "lb_aug_901_cv10.m3 : 0.9157911947416173\n",
      "lb_aug_901_cv10.m4 : 0.9178648748983\n",
      "lb_aug_901_cv10.m5 : 0.9161113650596496\n",
      "lb_aug_901_cv10.m6 : 0.9161777193551577\n",
      "lb_aug_901_cv10.m7 : 0.9219117279699403\n",
      "lb_aug_901_cv10.m8 : 0.9154303661542785\n",
      "lb_aug_901_cv10.m9 : 0.9151270012542262\n",
      "lb_aug_901_cv10.m10 : 0.9200904543491119\n"
     ]
    }
   ],
   "source": [
    "for column in X_aug.columns:\n",
    "    print(f\"{column} : {roc_auc_score(yval, X_aug[column].values)}\")"
   ]
  },
  {
   "cell_type": "code",
   "execution_count": 46,
   "metadata": {},
   "outputs": [
    {
     "name": "stdout",
     "output_type": "stream",
     "text": [
      "data/sample_submission.csv  data/test.csv  data/train.csv\r\n"
     ]
    }
   ],
   "source": [
    "!ls data/*csv"
   ]
  },
  {
   "cell_type": "markdown",
   "metadata": {},
   "source": [
    "# Generate answer"
   ]
  },
  {
   "cell_type": "code",
   "execution_count": 48,
   "metadata": {},
   "outputs": [],
   "source": [
    "dfTest = pd.read_csv('data/test.csv')"
   ]
  },
  {
   "cell_type": "code",
   "execution_count": 49,
   "metadata": {},
   "outputs": [
    {
     "data": {
      "text/html": [
       "<div>\n",
       "<style scoped>\n",
       "    .dataframe tbody tr th:only-of-type {\n",
       "        vertical-align: middle;\n",
       "    }\n",
       "\n",
       "    .dataframe tbody tr th {\n",
       "        vertical-align: top;\n",
       "    }\n",
       "\n",
       "    .dataframe thead th {\n",
       "        text-align: right;\n",
       "    }\n",
       "</style>\n",
       "<table border=\"1\" class=\"dataframe\">\n",
       "  <thead>\n",
       "    <tr style=\"text-align: right;\">\n",
       "      <th></th>\n",
       "      <th>ID_code</th>\n",
       "      <th>var_0</th>\n",
       "      <th>var_1</th>\n",
       "      <th>var_2</th>\n",
       "      <th>var_3</th>\n",
       "      <th>var_4</th>\n",
       "      <th>var_5</th>\n",
       "      <th>var_6</th>\n",
       "      <th>var_7</th>\n",
       "      <th>var_8</th>\n",
       "      <th>...</th>\n",
       "      <th>var_190</th>\n",
       "      <th>var_191</th>\n",
       "      <th>var_192</th>\n",
       "      <th>var_193</th>\n",
       "      <th>var_194</th>\n",
       "      <th>var_195</th>\n",
       "      <th>var_196</th>\n",
       "      <th>var_197</th>\n",
       "      <th>var_198</th>\n",
       "      <th>var_199</th>\n",
       "    </tr>\n",
       "  </thead>\n",
       "  <tbody>\n",
       "    <tr>\n",
       "      <th>0</th>\n",
       "      <td>test_0</td>\n",
       "      <td>11.0656</td>\n",
       "      <td>7.7798</td>\n",
       "      <td>12.9536</td>\n",
       "      <td>9.4292</td>\n",
       "      <td>11.4327</td>\n",
       "      <td>-2.3805</td>\n",
       "      <td>5.8493</td>\n",
       "      <td>18.2675</td>\n",
       "      <td>2.1337</td>\n",
       "      <td>...</td>\n",
       "      <td>-2.1556</td>\n",
       "      <td>11.8495</td>\n",
       "      <td>-1.4300</td>\n",
       "      <td>2.4508</td>\n",
       "      <td>13.7112</td>\n",
       "      <td>2.4669</td>\n",
       "      <td>4.3654</td>\n",
       "      <td>10.7200</td>\n",
       "      <td>15.4722</td>\n",
       "      <td>-8.7197</td>\n",
       "    </tr>\n",
       "    <tr>\n",
       "      <th>1</th>\n",
       "      <td>test_1</td>\n",
       "      <td>8.5304</td>\n",
       "      <td>1.2543</td>\n",
       "      <td>11.3047</td>\n",
       "      <td>5.1858</td>\n",
       "      <td>9.1974</td>\n",
       "      <td>-4.0117</td>\n",
       "      <td>6.0196</td>\n",
       "      <td>18.6316</td>\n",
       "      <td>-4.4131</td>\n",
       "      <td>...</td>\n",
       "      <td>10.6165</td>\n",
       "      <td>8.8349</td>\n",
       "      <td>0.9403</td>\n",
       "      <td>10.1282</td>\n",
       "      <td>15.5765</td>\n",
       "      <td>0.4773</td>\n",
       "      <td>-1.4852</td>\n",
       "      <td>9.8714</td>\n",
       "      <td>19.1293</td>\n",
       "      <td>-20.9760</td>\n",
       "    </tr>\n",
       "    <tr>\n",
       "      <th>2</th>\n",
       "      <td>test_2</td>\n",
       "      <td>5.4827</td>\n",
       "      <td>-10.3581</td>\n",
       "      <td>10.1407</td>\n",
       "      <td>7.0479</td>\n",
       "      <td>10.2628</td>\n",
       "      <td>9.8052</td>\n",
       "      <td>4.8950</td>\n",
       "      <td>20.2537</td>\n",
       "      <td>1.5233</td>\n",
       "      <td>...</td>\n",
       "      <td>-0.7484</td>\n",
       "      <td>10.9935</td>\n",
       "      <td>1.9803</td>\n",
       "      <td>2.1800</td>\n",
       "      <td>12.9813</td>\n",
       "      <td>2.1281</td>\n",
       "      <td>-7.1086</td>\n",
       "      <td>7.0618</td>\n",
       "      <td>19.8956</td>\n",
       "      <td>-23.1794</td>\n",
       "    </tr>\n",
       "    <tr>\n",
       "      <th>3</th>\n",
       "      <td>test_3</td>\n",
       "      <td>8.5374</td>\n",
       "      <td>-1.3222</td>\n",
       "      <td>12.0220</td>\n",
       "      <td>6.5749</td>\n",
       "      <td>8.8458</td>\n",
       "      <td>3.1744</td>\n",
       "      <td>4.9397</td>\n",
       "      <td>20.5660</td>\n",
       "      <td>3.3755</td>\n",
       "      <td>...</td>\n",
       "      <td>9.5702</td>\n",
       "      <td>9.0766</td>\n",
       "      <td>1.6580</td>\n",
       "      <td>3.5813</td>\n",
       "      <td>15.1874</td>\n",
       "      <td>3.1656</td>\n",
       "      <td>3.9567</td>\n",
       "      <td>9.2295</td>\n",
       "      <td>13.0168</td>\n",
       "      <td>-4.2108</td>\n",
       "    </tr>\n",
       "    <tr>\n",
       "      <th>4</th>\n",
       "      <td>test_4</td>\n",
       "      <td>11.7058</td>\n",
       "      <td>-0.1327</td>\n",
       "      <td>14.1295</td>\n",
       "      <td>7.7506</td>\n",
       "      <td>9.1035</td>\n",
       "      <td>-8.5848</td>\n",
       "      <td>6.8595</td>\n",
       "      <td>10.6048</td>\n",
       "      <td>2.9890</td>\n",
       "      <td>...</td>\n",
       "      <td>4.2259</td>\n",
       "      <td>9.1723</td>\n",
       "      <td>1.2835</td>\n",
       "      <td>3.3778</td>\n",
       "      <td>19.5542</td>\n",
       "      <td>-0.2860</td>\n",
       "      <td>-5.1612</td>\n",
       "      <td>7.2882</td>\n",
       "      <td>13.9260</td>\n",
       "      <td>-9.1846</td>\n",
       "    </tr>\n",
       "  </tbody>\n",
       "</table>\n",
       "<p>5 rows × 201 columns</p>\n",
       "</div>"
      ],
      "text/plain": [
       "  ID_code    var_0    var_1    var_2   var_3    var_4   var_5   var_6  \\\n",
       "0  test_0  11.0656   7.7798  12.9536  9.4292  11.4327 -2.3805  5.8493   \n",
       "1  test_1   8.5304   1.2543  11.3047  5.1858   9.1974 -4.0117  6.0196   \n",
       "2  test_2   5.4827 -10.3581  10.1407  7.0479  10.2628  9.8052  4.8950   \n",
       "3  test_3   8.5374  -1.3222  12.0220  6.5749   8.8458  3.1744  4.9397   \n",
       "4  test_4  11.7058  -0.1327  14.1295  7.7506   9.1035 -8.5848  6.8595   \n",
       "\n",
       "     var_7   var_8   ...     var_190  var_191  var_192  var_193  var_194  \\\n",
       "0  18.2675  2.1337   ...     -2.1556  11.8495  -1.4300   2.4508  13.7112   \n",
       "1  18.6316 -4.4131   ...     10.6165   8.8349   0.9403  10.1282  15.5765   \n",
       "2  20.2537  1.5233   ...     -0.7484  10.9935   1.9803   2.1800  12.9813   \n",
       "3  20.5660  3.3755   ...      9.5702   9.0766   1.6580   3.5813  15.1874   \n",
       "4  10.6048  2.9890   ...      4.2259   9.1723   1.2835   3.3778  19.5542   \n",
       "\n",
       "   var_195  var_196  var_197  var_198  var_199  \n",
       "0   2.4669   4.3654  10.7200  15.4722  -8.7197  \n",
       "1   0.4773  -1.4852   9.8714  19.1293 -20.9760  \n",
       "2   2.1281  -7.1086   7.0618  19.8956 -23.1794  \n",
       "3   3.1656   3.9567   9.2295  13.0168  -4.2108  \n",
       "4  -0.2860  -5.1612   7.2882  13.9260  -9.1846  \n",
       "\n",
       "[5 rows x 201 columns]"
      ]
     },
     "execution_count": 49,
     "metadata": {},
     "output_type": "execute_result"
    }
   ],
   "source": [
    "dfTest.head()"
   ]
  },
  {
   "cell_type": "code",
   "execution_count": 56,
   "metadata": {},
   "outputs": [],
   "source": [
    "def make_answer(X, models, disk = True):\n",
    "    codes = X.ID_code\n",
    "    X = X.drop('ID_code', axis = 1)\n",
    "    y_preds = get_all_preds(X, models, disk)\n",
    "    answer_df = pd.DataFrame({\n",
    "    'ID_code' : codes,\n",
    "    'target' : answer_df.mean(axis = 1)\n",
    "    })\n",
    "    return answer_df"
   ]
  },
  {
   "cell_type": "code",
   "execution_count": null,
   "metadata": {},
   "outputs": [
    {
     "name": "stdout",
     "output_type": "stream",
     "text": [
      "<lightgbm.basic.Booster object at 0x7f0ca00c02b0>1 Done with 200000 shape\n",
      "<lightgbm.basic.Booster object at 0x7f0ca00c02b0>2 Done with 200000 shape\n",
      "<lightgbm.basic.Booster object at 0x7f0ca00c02b0>3 Done with 200000 shape\n",
      "<lightgbm.basic.Booster object at 0x7f0ca00c02b0>4 Done with 200000 shape\n",
      "<lightgbm.basic.Booster object at 0x7f0ca00c02b0>5 Done with 200000 shape\n",
      "<lightgbm.basic.Booster object at 0x7f0ca00c02b0>6 Done with 200000 shape\n",
      "<lightgbm.basic.Booster object at 0x7f0ca00c02b0>7 Done with 200000 shape\n",
      "<lightgbm.basic.Booster object at 0x7f0ca00c02b0>8 Done with 200000 shape\n",
      "<lightgbm.basic.Booster object at 0x7f0ca00c02b0>9 Done with 200000 shape\n",
      "<lightgbm.basic.Booster object at 0x7f0ca00c02b0>10 Done with 200000 shape\n",
      "<lightgbm.basic.Booster object at 0x7f0c646d2550>1 Done with 200000 shape\n",
      "<lightgbm.basic.Booster object at 0x7f0c646d2550>2 Done with 200000 shape\n",
      "<lightgbm.basic.Booster object at 0x7f0c646d2550>3 Done with 200000 shape\n",
      "<lightgbm.basic.Booster object at 0x7f0c646d2550>4 Done with 200000 shape\n"
     ]
    }
   ],
   "source": [
    "answer_df = make_answer(dfTest, lgbm_models, disk=False)"
   ]
  },
  {
   "cell_type": "code",
   "execution_count": null,
   "metadata": {},
   "outputs": [],
   "source": []
  }
 ],
 "metadata": {
  "kernelspec": {
   "display_name": "Python 3",
   "language": "python",
   "name": "python3"
  },
  "language_info": {
   "codemirror_mode": {
    "name": "ipython",
    "version": 3
   },
   "file_extension": ".py",
   "mimetype": "text/x-python",
   "name": "python",
   "nbconvert_exporter": "python",
   "pygments_lexer": "ipython3",
   "version": "3.6.8"
  }
 },
 "nbformat": 4,
 "nbformat_minor": 2
}

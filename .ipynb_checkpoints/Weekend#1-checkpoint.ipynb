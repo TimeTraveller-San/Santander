{
 "cells": [
  {
   "cell_type": "code",
   "execution_count": 1,
   "metadata": {},
   "outputs": [],
   "source": [
    "import numpy as np\n",
    "import pandas as pd\n",
    "from sklearn.model_selection import train_test_split, ParameterGrid\n",
    "from sklearn.model_selection import StratifiedKFold\n",
    "import pickle\n",
    "from sklearn.metrics import roc_auc_score\n",
    "import lightgbm as lgb\n",
    "from sklearn.metrics import roc_auc_score\n",
    "import gc\n",
    "import seaborn as sns\n",
    "import lightgbm as lgb\n",
    "from skopt.space import Real, Integer\n",
    "from skopt.utils import use_named_args\n",
    "import itertools\n",
    "from sklearn.metrics import roc_auc_score\n",
    "from skopt import gp_minimize\n",
    "from sklearn.model_selection import train_test_split, ParameterGrid\n",
    "from sklearn.ensemble import RandomForestRegressor, RandomForestClassifier\n",
    "TRAIN = 'data/train.csv'\n",
    "# TEST = 'data/test.csv'\n",
    "SAMPLE = 'data/sample_submission.csv'\n",
    "train = pd.read_csv(TRAIN)\n",
    "# test = pd.read_csv(TEST)\n",
    "gc.enable()"
   ]
  },
  {
   "cell_type": "code",
   "execution_count": 2,
   "metadata": {},
   "outputs": [],
   "source": [
    "X = train.drop(['ID_code', 'target'], axis=1)\n",
    "y = train.target\n",
    "X, Xval, y, yval  = train_test_split(X, y, test_size = 0.2)"
   ]
  },
  {
   "cell_type": "code",
   "execution_count": 38,
   "metadata": {},
   "outputs": [],
   "source": [
    "def save_model(models, filename):\n",
    "    with open(filename, 'wb') as handle:\n",
    "        pickle.dump(models, handle)\n",
    "        \n",
    "def augment(x,y,t=2):\n",
    "    xs,xn = [],[]\n",
    "    for i in range(t):\n",
    "        mask = y>0\n",
    "        x1 = x[mask].copy()\n",
    "        ids = np.arange(x1.shape[0])\n",
    "        for c in range(x1.shape[1]):\n",
    "            np.random.shuffle(ids)\n",
    "            x1[:,c] = x1[ids][:,c]\n",
    "        xs.append(x1)\n",
    "\n",
    "    for i in range(t//2):\n",
    "        mask = y==0\n",
    "        x1 = x[mask].copy()\n",
    "        ids = np.arange(x1.shape[0])\n",
    "        for c in range(x1.shape[1]):\n",
    "            np.random.shuffle(ids)\n",
    "            x1[:,c] = x1[ids][:,c]\n",
    "        xn.append(x1)\n",
    "    xs = np.vstack(xs)\n",
    "    xn = np.vstack(xn)\n",
    "    ys = np.ones(xs.shape[0])\n",
    "    yn = np.zeros(xn.shape[0])\n",
    "    x = np.vstack([x,xs,xn])\n",
    "    y = np.concatenate([y,ys,yn])\n",
    "    return x,y\n",
    "\n",
    "def lgb_trainer(X, y, params, n_folds):\n",
    "    skf = StratifiedKFold(n_splits=n_folds)\n",
    "    models = []\n",
    "    for train_idx, test_idx in skf.split(X.values, y.values):\n",
    "            gc.collect()\n",
    "            X_train, y_train = X.iloc[train_idx], y.iloc[train_idx]\n",
    "            X_tr, y_tr = augment(X_train.values, y_train.values)\n",
    "            X_tr = pd.DataFrame(X_tr)\n",
    "            trn_data = lgb.Dataset(X_tr, label=y_tr)\n",
    "            test_data = lgb.Dataset(X.values[test_idx], label=y.values[test_idx])\n",
    "            model_lgb     = lgb.train(param, trn_data, 100000, valid_sets = [trn_data, test_data], verbose_eval=5000, early_stopping_rounds = 4000)\n",
    "            models.append(model_lgb)\n",
    "            auc = roc_auc_score(y.values[test_idx], model_lgb.predict(X.values[test_idx]))\n",
    "    return models\n",
    "\n",
    "def lgb_trainer_no_aug(X, y, params, n_folds):\n",
    "    skf = StratifiedKFold(n_splits=n_folds)\n",
    "    models = []\n",
    "    for train_idx, test_idx in skf.split(X.values, y.values):\n",
    "            gc.collect()\n",
    "            X_train, y_train = X.iloc[train_idx], y.iloc[train_idx]\n",
    "            X_tr, y_tr = X_train.values, y_train.values\n",
    "            X_tr = pd.DataFrame(X_tr)\n",
    "            trn_data = lgb.Dataset(X_tr, label=y_tr)\n",
    "            test_data = lgb.Dataset(X.values[test_idx], label=y.values[test_idx])\n",
    "            model_lgb     = lgb.train(param, trn_data, 1000000, valid_sets = [trn_data, test_data], verbose_eval=5000, early_stopping_rounds = 4000)\n",
    "            models.append(model_lgb)\n",
    "            auc = roc_auc_score(y.values[test_idx], model_lgb.predict(X.values[test_idx]))\n",
    "    return models\n",
    "\n",
    "def test(X, y, models):\n",
    "    preds = pd.DataFrame({})\n",
    "    for i, model in enumerate(models):\n",
    "        preds[str(i)] = model.predict(X)\n",
    "        print(f\"Fold: {i} \\t Score: {roc_auc_score(y, preds[str(i)].values)}\")\n",
    "    averaged_preds = preds.mean(axis=1)\n",
    "    print(f\"Score: {roc_auc_score(y, averaged_preds)}\")\n",
    "    return averaged_preds, preds"
   ]
  },
  {
   "cell_type": "markdown",
   "metadata": {},
   "source": [
    "# Oversampling target == 1"
   ]
  },
  {
   "cell_type": "code",
   "execution_count": 32,
   "metadata": {},
   "outputs": [],
   "source": [
    "trn, test  = train_test_split(train, test_size = 0.2)"
   ]
  },
  {
   "cell_type": "code",
   "execution_count": 33,
   "metadata": {},
   "outputs": [],
   "source": [
    "tone = trn[trn.target == 1]\n",
    "kek = trn.append(tone)\n",
    "kek = kek.append(tone).append(tone).append(tone).append(tone).append(tone)"
   ]
  },
  {
   "cell_type": "code",
   "execution_count": 34,
   "metadata": {},
   "outputs": [
    {
     "name": "stdout",
     "output_type": "stream",
     "text": [
      "(16014, 202) | (160000, 202) | (256084, 202)\n"
     ]
    }
   ],
   "source": [
    "print(f\"{tone.shape} | {trn.shape} | {kek.shape}\")"
   ]
  },
  {
   "cell_type": "code",
   "execution_count": 35,
   "metadata": {},
   "outputs": [],
   "source": [
    "X = kek.drop(['ID_code', 'target'], axis=1)\n",
    "y = kek.target\n",
    "Xval = test.drop(['ID_code', 'target'], axis=1)\n",
    "yval = test.target"
   ]
  },
  {
   "cell_type": "code",
   "execution_count": 36,
   "metadata": {},
   "outputs": [],
   "source": [
    "param = {\n",
    "    'bagging_freq': 5,\n",
    "    'bagging_fraction': 0.335,\n",
    "    'boost_from_average':'false',\n",
    "    'boost': 'gbdt',\n",
    "    'feature_fraction': 0.041,\n",
    "    'learning_rate': 0.0083,\n",
    "    'max_depth': -1,\n",
    "    'metric':'auc',\n",
    "    'min_data_in_leaf': 80,\n",
    "    'min_sum_hessian_in_leaf': 10.0,\n",
    "    'num_leaves': 13,\n",
    "    'num_threads': 8,\n",
    "    'tree_learner': 'serial',\n",
    "    'objective': 'binary', \n",
    "    'verbosity': -1,\n",
    "    'seed':42,\n",
    "}"
   ]
  },
  {
   "cell_type": "code",
   "execution_count": 41,
   "metadata": {},
   "outputs": [
    {
     "name": "stdout",
     "output_type": "stream",
     "text": [
      "Training until validation scores don't improve for 4000 rounds.\n",
      "[5000]\ttraining's auc: 0.913004\tvalid_1's auc: 0.912656\n",
      "[10000]\ttraining's auc: 0.923279\tvalid_1's auc: 0.923266\n",
      "[15000]\ttraining's auc: 0.931143\tvalid_1's auc: 0.931171\n",
      "[20000]\ttraining's auc: 0.938121\tvalid_1's auc: 0.938081\n",
      "[25000]\ttraining's auc: 0.944417\tvalid_1's auc: 0.944184\n",
      "[30000]\ttraining's auc: 0.950161\tvalid_1's auc: 0.949627\n",
      "[35000]\ttraining's auc: 0.955352\tvalid_1's auc: 0.954376\n",
      "[40000]\ttraining's auc: 0.960095\tvalid_1's auc: 0.958576\n",
      "[45000]\ttraining's auc: 0.964346\tvalid_1's auc: 0.962302\n",
      "[50000]\ttraining's auc: 0.968183\tvalid_1's auc: 0.965567\n",
      "[55000]\ttraining's auc: 0.971641\tvalid_1's auc: 0.96842\n",
      "[60000]\ttraining's auc: 0.974728\tvalid_1's auc: 0.970901\n",
      "[65000]\ttraining's auc: 0.977509\tvalid_1's auc: 0.973061\n",
      "[70000]\ttraining's auc: 0.980017\tvalid_1's auc: 0.975004\n",
      "[75000]\ttraining's auc: 0.982263\tvalid_1's auc: 0.976675\n",
      "[80000]\ttraining's auc: 0.984287\tvalid_1's auc: 0.978178\n",
      "[85000]\ttraining's auc: 0.986111\tvalid_1's auc: 0.979512\n",
      "[90000]\ttraining's auc: 0.987748\tvalid_1's auc: 0.980701\n",
      "[95000]\ttraining's auc: 0.989225\tvalid_1's auc: 0.98179\n",
      "[100000]\ttraining's auc: 0.990545\tvalid_1's auc: 0.98276\n",
      "Did not meet early stopping. Best iteration is:\n",
      "[99999]\ttraining's auc: 0.990545\tvalid_1's auc: 0.98276\n",
      "Training until validation scores don't improve for 4000 rounds.\n",
      "[5000]\ttraining's auc: 0.912765\tvalid_1's auc: 0.913099\n",
      "[10000]\ttraining's auc: 0.9231\tvalid_1's auc: 0.923778\n",
      "[15000]\ttraining's auc: 0.930916\tvalid_1's auc: 0.931609\n",
      "[20000]\ttraining's auc: 0.937903\tvalid_1's auc: 0.938479\n",
      "[25000]\ttraining's auc: 0.944237\tvalid_1's auc: 0.944623\n",
      "[30000]\ttraining's auc: 0.950035\tvalid_1's auc: 0.95003\n",
      "[35000]\ttraining's auc: 0.955332\tvalid_1's auc: 0.954823\n",
      "[40000]\ttraining's auc: 0.960051\tvalid_1's auc: 0.958943\n",
      "[45000]\ttraining's auc: 0.964359\tvalid_1's auc: 0.962638\n",
      "[50000]\ttraining's auc: 0.968196\tvalid_1's auc: 0.96585\n",
      "[55000]\ttraining's auc: 0.971662\tvalid_1's auc: 0.968661\n",
      "[60000]\ttraining's auc: 0.974763\tvalid_1's auc: 0.971113\n",
      "[65000]\ttraining's auc: 0.977553\tvalid_1's auc: 0.973258\n",
      "[70000]\ttraining's auc: 0.980054\tvalid_1's auc: 0.975151\n",
      "[75000]\ttraining's auc: 0.982308\tvalid_1's auc: 0.976849\n",
      "[80000]\ttraining's auc: 0.984321\tvalid_1's auc: 0.978324\n",
      "[85000]\ttraining's auc: 0.986141\tvalid_1's auc: 0.979637\n",
      "[90000]\ttraining's auc: 0.987759\tvalid_1's auc: 0.980832\n",
      "[95000]\ttraining's auc: 0.989206\tvalid_1's auc: 0.981874\n",
      "[100000]\ttraining's auc: 0.990504\tvalid_1's auc: 0.982814\n",
      "Did not meet early stopping. Best iteration is:\n",
      "[100000]\ttraining's auc: 0.990504\tvalid_1's auc: 0.982814\n"
     ]
    }
   ],
   "source": [
    "first_models = lgb_trainer(X, y, param, 2)"
   ]
  },
  {
   "cell_type": "code",
   "execution_count": 42,
   "metadata": {},
   "outputs": [
    {
     "name": "stdout",
     "output_type": "stream",
     "text": [
      "Fold: 0 \t Score: 0.8918934009587504\n",
      "Fold: 1 \t Score: 0.8918013031058758\n",
      "Score: 0.8942140568716274\n"
     ]
    }
   ],
   "source": [
    "q, w = test(Xval, yval, first_models)"
   ]
  },
  {
   "cell_type": "code",
   "execution_count": null,
   "metadata": {},
   "outputs": [],
   "source": []
  }
 ],
 "metadata": {
  "kernelspec": {
   "display_name": "Python 3",
   "language": "python",
   "name": "python3"
  },
  "language_info": {
   "codemirror_mode": {
    "name": "ipython",
    "version": 3
   },
   "file_extension": ".py",
   "mimetype": "text/x-python",
   "name": "python",
   "nbconvert_exporter": "python",
   "pygments_lexer": "ipython3",
   "version": "3.6.8"
  }
 },
 "nbformat": 4,
 "nbformat_minor": 2
}

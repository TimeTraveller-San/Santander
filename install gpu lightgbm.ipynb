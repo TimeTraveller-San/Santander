{
 "cells": [
  {
   "cell_type": "code",
   "execution_count": 1,
   "metadata": {},
   "outputs": [
    {
     "name": "stdout",
     "output_type": "stream",
     "text": [
      "Cloning into 'LightGBM'...\n",
      "remote: Enumerating objects: 6, done.\u001b[K\n",
      "remote: Counting objects: 100% (6/6), done.\u001b[K\n",
      "remote: Compressing objects: 100% (6/6), done.\u001b[K\n",
      "remote: Total 13108 (delta 1), reused 2 (delta 0), pack-reused 13102\u001b[K\n",
      "Receiving objects: 100% (13108/13108), 9.38 MiB | 3.48 MiB/s, done.\n",
      "Resolving deltas: 100% (9317/9317), done.\n",
      "Submodule 'include/boost/compute' (https://github.com/boostorg/compute) registered for path 'compute'\n",
      "Cloning into '/home/timetraveller/Desktop/ML python/my_notebooks/Santander/LightGBM/compute'...\n",
      "remote: Enumerating objects: 14, done.        \n",
      "remote: Counting objects: 100% (14/14), done.        \n",
      "remote: Compressing objects: 100% (11/11), done.        \n",
      "remote: Total 21670 (delta 3), reused 8 (delta 2), pack-reused 21656        \n",
      "Receiving objects: 100% (21670/21670), 8.51 MiB | 2.89 MiB/s, done.\n",
      "Resolving deltas: 100% (17523/17523), done.\n",
      "Submodule path 'compute': checked out '509ebe4a9282eec8a92c65ce3bbc1925f1fdbe07'\n",
      "/usr/bin/sh: apt-get: command not found\n"
     ]
    }
   ],
   "source": [
    "!git clone --recursive https://github.com/Microsoft/LightGBM\n",
    "!apt-get install -y -qq libboost-all-dev"
   ]
  },
  {
   "cell_type": "code",
   "execution_count": null,
   "metadata": {},
   "outputs": [],
   "source": []
  }
 ],
 "metadata": {
  "kernelspec": {
   "display_name": "Python 3",
   "language": "python",
   "name": "python3"
  },
  "language_info": {
   "codemirror_mode": {
    "name": "ipython",
    "version": 3
   },
   "file_extension": ".py",
   "mimetype": "text/x-python",
   "name": "python",
   "nbconvert_exporter": "python",
   "pygments_lexer": "ipython3",
   "version": "3.6.8"
  }
 },
 "nbformat": 4,
 "nbformat_minor": 2
}

{
 "cells": [
  {
   "cell_type": "code",
   "execution_count": 1,
   "metadata": {},
   "outputs": [],
   "source": [
    "import numpy as np\n",
    "import pandas as pd\n",
    "import matplotlib.pyplot as plt\n",
    "from sklearn.model_selection import StratifiedKFold, train_test_split\n",
    "import scikitplot as skplt\n",
    "from sklearn.metrics import roc_auc_score\n",
    "import lightgbm as lgb\n",
    "import pickle\n",
    "import gc\n",
    "from helpers import save_model, lgb_trainer, lgb_trainer_no_aug, test\n",
    "import multiprocessing"
   ]
  },
  {
   "cell_type": "code",
   "execution_count": 5,
   "metadata": {},
   "outputs": [],
   "source": [
    "def load_dataframe(dataset):\n",
    "    return pd.read_csv(dataset)\n",
    "with multiprocessing.Pool() as pool:\n",
    "    otrain_df, otest_df = pool.map(load_dataframe, ['data/train.csv', 'data/test.csv'])"
   ]
  },
  {
   "cell_type": "markdown",
   "metadata": {},
   "source": [
    "### Helpers"
   ]
  },
  {
   "cell_type": "code",
   "execution_count": 2,
   "metadata": {},
   "outputs": [],
   "source": [
    "def save_model(models, filename):\n",
    "    with open(filename, 'wb') as handle:\n",
    "        pickle.dump(models, handle)\n",
    "        \n",
    "def disarrange(a, axis=-1):\n",
    "    \"\"\"\n",
    "    Shuffle `a` in-place along the given axis.\n",
    "\n",
    "    Apply numpy.random.shuffle to the given axis of `a`.\n",
    "    Each one-dimensional slice is shuffled independently.\n",
    "    \"\"\"\n",
    "    b = a.swapaxes(axis, -1)\n",
    "    # Shuffle `b` in-place along the last axis.  `b` is a view of `a`,\n",
    "    # so `a` is shuffled in place, too.\n",
    "    shp = b.shape[:-1]\n",
    "    for ndx in np.ndindex(shp):\n",
    "        np.random.shuffle(b[ndx])\n",
    "    return\n",
    "\n",
    "def augment(x,y,t=2):\n",
    "    xs,xn = [],[]\n",
    "    for i in range(t):\n",
    "        mask = y>0\n",
    "        x1 = x[mask].copy()\n",
    "        disarrange(x1,axis=0)\n",
    "        xs.append(x1)\n",
    "\n",
    "    for i in range(t//2):\n",
    "        mask = y==0\n",
    "        x1 = x[mask].copy()\n",
    "        disarrange(x1,axis=0)\n",
    "        xn.append(x1)\n",
    "\n",
    "    xs = np.vstack(xs)\n",
    "    xn = np.vstack(xn)\n",
    "    ys = np.ones(xs.shape[0])\n",
    "    yn = np.zeros(xn.shape[0])\n",
    "    x = np.vstack([x,xs,xn])\n",
    "    y = np.concatenate([y,ys,yn])\n",
    "    return x,y\n",
    "\n",
    "def lgb_trainer(X, y, params, n_folds):\n",
    "    skf = StratifiedKFold(n_splits=n_folds)\n",
    "    models = []\n",
    "    for train_idx, test_idx in skf.split(X.values, y.values):\n",
    "            gc.collect()\n",
    "            X_train, y_train = X.iloc[train_idx], y.iloc[train_idx]\n",
    "            X_tr, y_tr = augment(X_train.values, y_train.values)\n",
    "            X_tr = pd.DataFrame(X_tr)\n",
    "            trn_data = lgb.Dataset(X_tr, label=y_tr)\n",
    "            test_data = lgb.Dataset(X.values[test_idx], label=y.values[test_idx])\n",
    "            model_lgb     = lgb.train(param, trn_data, 1000000, valid_sets = [trn_data, test_data], verbose_eval=5000, early_stopping_rounds = 4000)\n",
    "            models.append(model_lgb)\n",
    "            auc = roc_auc_score(y.values[test_idx], model_lgb.predict(X.values[test_idx]))\n",
    "    return models\n",
    "\n",
    "def lgb_trainer_no_aug(X, y, params, n_folds):\n",
    "    skf = StratifiedKFold(n_splits=n_folds)\n",
    "    models = []\n",
    "    for train_idx, test_idx in skf.split(X.values, y.values):\n",
    "            gc.collect()\n",
    "            X_train, y_train = X.iloc[train_idx], y.iloc[train_idx]\n",
    "            X_tr, y_tr = X_train.values, y_train.values\n",
    "            X_tr = pd.DataFrame(X_tr)\n",
    "            trn_data = lgb.Dataset(X_tr, label=y_tr)\n",
    "            test_data = lgb.Dataset(X.values[test_idx], label=y.values[test_idx])\n",
    "            model_lgb     = lgb.train(param, trn_data, 1000000, valid_sets = [trn_data, test_data], verbose_eval=5000, early_stopping_rounds = 4000)\n",
    "            models.append(model_lgb)\n",
    "            auc = roc_auc_score(y.values[test_idx], model_lgb.predict(X.values[test_idx]))\n",
    "    return models\n",
    "\n",
    "def test(X, y, models):\n",
    "    preds = pd.DataFrame({})\n",
    "    for i, model in enumerate(models):\n",
    "        preds[str(i)] = model.predict(X)\n",
    "        print(f\"Fold: {i} \\t Score: {roc_auc_score(y, preds[str(i)].values)}\")\n",
    "    averaged_preds = preds.mean(axis=1)\n",
    "    print(f\"Score: {roc_auc_score(y, averaged_preds)}\")\n",
    "    return averaged_preds, preds\n",
    "\n",
    "param = {\n",
    "    'bagging_freq': 5,\n",
    "    'bagging_fraction': 0.335,\n",
    "    'boost_from_average':'false',\n",
    "    'boost': 'gbdt',\n",
    "    'feature_fraction': 0.041,\n",
    "    'learning_rate': 0.01,\n",
    "    'max_depth': -1,\n",
    "    'metric':'auc',\n",
    "    'min_data_in_leaf': 80,\n",
    "    'min_sum_hessian_in_leaf': 10.0,\n",
    "    'num_leaves': 13,\n",
    "    'num_threads': 8,\n",
    "    'tree_learner': 'serial',\n",
    "    'objective': 'binary', \n",
    "    'verbosity': -1,\n",
    "}"
   ]
  },
  {
   "cell_type": "markdown",
   "metadata": {
    "heading_collapsed": true
   },
   "source": [
    "# Augment #1 - Squares"
   ]
  },
  {
   "cell_type": "code",
   "execution_count": 4,
   "metadata": {
    "hidden": true
   },
   "outputs": [
    {
     "name": "stderr",
     "output_type": "stream",
     "text": [
      "/home/timetraveller/miniconda3/lib/python3.6/site-packages/pandas/core/frame.py:6211: FutureWarning: Sorting because non-concatenation axis is not aligned. A future version\n",
      "of pandas will change to not sort by default.\n",
      "\n",
      "To accept the future behavior, pass 'sort=False'.\n",
      "\n",
      "To retain the current behavior and silence the warning, pass 'sort=True'.\n",
      "\n",
      "  sort=sort)\n"
     ]
    }
   ],
   "source": [
    "whole = train_df.append(test_df)"
   ]
  },
  {
   "cell_type": "code",
   "execution_count": 5,
   "metadata": {
    "hidden": true
   },
   "outputs": [],
   "source": [
    "def augment_squares(df):\n",
    "    for column in df.columns:\n",
    "        if column in ['ID_code', 'target']:\n",
    "            continue\n",
    "        key = column + '_square'\n",
    "        df[key] = np.square(df[column])\n",
    "    return df   "
   ]
  },
  {
   "cell_type": "code",
   "execution_count": 6,
   "metadata": {
    "hidden": true
   },
   "outputs": [],
   "source": [
    "whole = augment_squares(whole)\n",
    "train_df, test_df = whole[:200000], whole[200000:]\n",
    "y_train = train_df.target\n",
    "train_df = train_df.drop(['target', 'ID_code'], axis=1)\n",
    "Xtr, Xval, ytr, yval  = train_test_split(train_df, y_train, test_size = 0.05)"
   ]
  },
  {
   "cell_type": "code",
   "execution_count": 8,
   "metadata": {
    "hidden": true
   },
   "outputs": [
    {
     "name": "stdout",
     "output_type": "stream",
     "text": [
      "Training until validation scores don't improve for 4000 rounds.\n",
      "[5000]\ttraining's auc: 0.930218\tvalid_1's auc: 0.900855\n",
      "[10000]\ttraining's auc: 0.950958\tvalid_1's auc: 0.902792\n",
      "Early stopping, best iteration is:\n",
      "[10371]\ttraining's auc: 0.952166\tvalid_1's auc: 0.902857\n",
      "Training until validation scores don't improve for 4000 rounds.\n",
      "[5000]\ttraining's auc: 0.931839\tvalid_1's auc: 0.891377\n",
      "[10000]\ttraining's auc: 0.952127\tvalid_1's auc: 0.893871\n",
      "[15000]\ttraining's auc: 0.967181\tvalid_1's auc: 0.893717\n",
      "Early stopping, best iteration is:\n",
      "[11134]\ttraining's auc: 0.955876\tvalid_1's auc: 0.893933\n",
      "Training until validation scores don't improve for 4000 rounds.\n",
      "[5000]\ttraining's auc: 0.930154\tvalid_1's auc: 0.901229\n",
      "[10000]\ttraining's auc: 0.950674\tvalid_1's auc: 0.903684\n",
      "Early stopping, best iteration is:\n",
      "[10767]\ttraining's auc: 0.953312\tvalid_1's auc: 0.903802\n",
      "Training until validation scores don't improve for 4000 rounds.\n",
      "[5000]\ttraining's auc: 0.93154\tvalid_1's auc: 0.894204\n",
      "[10000]\ttraining's auc: 0.952039\tvalid_1's auc: 0.896585\n",
      "Early stopping, best iteration is:\n",
      "[9261]\ttraining's auc: 0.949413\tvalid_1's auc: 0.896642\n",
      "Training until validation scores don't improve for 4000 rounds.\n",
      "[5000]\ttraining's auc: 0.931107\tvalid_1's auc: 0.898272\n",
      "[10000]\ttraining's auc: 0.951509\tvalid_1's auc: 0.900095\n",
      "Early stopping, best iteration is:\n",
      "[8325]\ttraining's auc: 0.945588\tvalid_1's auc: 0.900184\n"
     ]
    }
   ],
   "source": [
    "rank_models = lgb_trainer_no_aug(Xtr, ytr, param, n_folds = 5)"
   ]
  },
  {
   "cell_type": "code",
   "execution_count": 18,
   "metadata": {
    "hidden": true
   },
   "outputs": [
    {
     "name": "stdout",
     "output_type": "stream",
     "text": [
      "Fold: 0 \t Score: 0.9011898326312805\n",
      "Fold: 1 \t Score: 0.9018027909059605\n",
      "Fold: 2 \t Score: 0.9008703628374002\n",
      "Fold: 3 \t Score: 0.8995685094888662\n",
      "Fold: 4 \t Score: 0.8996896069395307\n",
      "Score: 0.9020395219259979\n"
     ]
    }
   ],
   "source": [
    "q, w = test(Xval, yval, rank_models)"
   ]
  },
  {
   "cell_type": "markdown",
   "metadata": {
    "heading_collapsed": true
   },
   "source": [
    "# Augment #2 - (x-mean)^^2"
   ]
  },
  {
   "cell_type": "code",
   "execution_count": 14,
   "metadata": {
    "hidden": true
   },
   "outputs": [],
   "source": [
    "def augment_squares_prime(df):\n",
    "    for column in df.columns:\n",
    "        if column in ['ID_code', 'target']:\n",
    "            continue\n",
    "        key = column + '_square'\n",
    "        df[key] = np.square(df[column] - df[column].mean())\n",
    "    return df   "
   ]
  },
  {
   "cell_type": "code",
   "execution_count": 15,
   "metadata": {
    "hidden": true
   },
   "outputs": [
    {
     "name": "stderr",
     "output_type": "stream",
     "text": [
      "/home/timetraveller/miniconda3/lib/python3.6/site-packages/pandas/core/frame.py:6211: FutureWarning: Sorting because non-concatenation axis is not aligned. A future version\n",
      "of pandas will change to not sort by default.\n",
      "\n",
      "To accept the future behavior, pass 'sort=False'.\n",
      "\n",
      "To retain the current behavior and silence the warning, pass 'sort=True'.\n",
      "\n",
      "  sort=sort)\n"
     ]
    }
   ],
   "source": [
    "whole = train_df.append(test_df)\n",
    "whole = augment_squares_prime(whole)\n",
    "train_df, test_df = whole[:200000], whole[200000:]\n",
    "y_train = train_df.target\n",
    "train_df = train_df.drop(['target', 'ID_code'], axis=1)\n",
    "Xtr, Xval, ytr, yval  = train_test_split(train_df, y_train, test_size = 0.05)"
   ]
  },
  {
   "cell_type": "code",
   "execution_count": 16,
   "metadata": {
    "hidden": true
   },
   "outputs": [
    {
     "name": "stdout",
     "output_type": "stream",
     "text": [
      "Training until validation scores don't improve for 4000 rounds.\n",
      "[5000]\ttraining's auc: 0.930282\tvalid_1's auc: 0.895956\n",
      "[10000]\ttraining's auc: 0.952013\tvalid_1's auc: 0.900068\n",
      "[15000]\ttraining's auc: 0.967219\tvalid_1's auc: 0.900571\n",
      "Early stopping, best iteration is:\n",
      "[14174]\ttraining's auc: 0.965024\tvalid_1's auc: 0.90065\n",
      "Training until validation scores don't improve for 4000 rounds.\n",
      "[5000]\ttraining's auc: 0.93053\tvalid_1's auc: 0.895697\n",
      "[10000]\ttraining's auc: 0.952317\tvalid_1's auc: 0.899372\n",
      "[15000]\ttraining's auc: 0.967456\tvalid_1's auc: 0.899599\n",
      "Early stopping, best iteration is:\n",
      "[15378]\ttraining's auc: 0.968447\tvalid_1's auc: 0.899663\n",
      "Training until validation scores don't improve for 4000 rounds.\n",
      "[5000]\ttraining's auc: 0.931103\tvalid_1's auc: 0.892626\n",
      "[10000]\ttraining's auc: 0.952853\tvalid_1's auc: 0.89593\n",
      "[15000]\ttraining's auc: 0.96773\tvalid_1's auc: 0.895715\n",
      "Early stopping, best iteration is:\n",
      "[11402]\ttraining's auc: 0.957474\tvalid_1's auc: 0.896116\n",
      "Training until validation scores don't improve for 4000 rounds.\n",
      "[5000]\ttraining's auc: 0.930687\tvalid_1's auc: 0.895183\n",
      "[10000]\ttraining's auc: 0.952137\tvalid_1's auc: 0.898845\n",
      "[15000]\ttraining's auc: 0.967271\tvalid_1's auc: 0.899058\n",
      "Early stopping, best iteration is:\n",
      "[12530]\ttraining's auc: 0.960334\tvalid_1's auc: 0.89933\n",
      "Training until validation scores don't improve for 4000 rounds.\n",
      "[5000]\ttraining's auc: 0.930971\tvalid_1's auc: 0.894435\n",
      "[10000]\ttraining's auc: 0.952373\tvalid_1's auc: 0.897909\n",
      "[15000]\ttraining's auc: 0.967417\tvalid_1's auc: 0.897977\n",
      "Early stopping, best iteration is:\n",
      "[11155]\ttraining's auc: 0.956212\tvalid_1's auc: 0.89819\n"
     ]
    }
   ],
   "source": [
    "rank_models = lgb_trainer_no_aug(Xtr, ytr, param, n_folds = 5)"
   ]
  },
  {
   "cell_type": "code",
   "execution_count": 17,
   "metadata": {
    "hidden": true
   },
   "outputs": [
    {
     "name": "stdout",
     "output_type": "stream",
     "text": [
      "Fold: 0 \t Score: 0.9011898326312805\n",
      "Fold: 1 \t Score: 0.9018027909059605\n",
      "Fold: 2 \t Score: 0.9008703628374002\n",
      "Fold: 3 \t Score: 0.8995685094888662\n",
      "Fold: 4 \t Score: 0.8996896069395307\n",
      "Score: 0.9020395219259979\n"
     ]
    }
   ],
   "source": [
    "q, w = test(Xval, yval, rank_models)"
   ]
  },
  {
   "cell_type": "markdown",
   "metadata": {
    "heading_collapsed": true
   },
   "source": [
    "# Exponent"
   ]
  },
  {
   "cell_type": "code",
   "execution_count": 7,
   "metadata": {
    "hidden": true
   },
   "outputs": [],
   "source": [
    "def augment_exponent(df):\n",
    "    for column in df.columns:\n",
    "        if column in ['ID_code', 'target']:\n",
    "            continue\n",
    "        key = column + '_square'\n",
    "        df[key] = np.exp(df[column] - df[column].mean())\n",
    "    return df   \n",
    "\n",
    "def augment_exponent_prime(df):\n",
    "    for column in df.columns:\n",
    "        if column in ['ID_code', 'target']:\n",
    "            continue\n",
    "        key = column + '_square'\n",
    "        df[key] = np.exp(df[column])\n",
    "    return df \n",
    "\n",
    "def augment_squares_prime(df):\n",
    "    for column in df.columns:\n",
    "        if column in ['ID_code', 'target']:\n",
    "            continue\n",
    "        key = column + '_square'\n",
    "        df[key] = np.square(df[column] - df[column].mean())\n",
    "    return df   \n",
    "\n",
    "def augment_squares(df):\n",
    "    for column in df.columns:\n",
    "        if column in ['ID_code', 'target']:\n",
    "            continue\n",
    "        key = column + '_square'\n",
    "        df[key] = np.square(df[column])\n",
    "    return df   "
   ]
  },
  {
   "cell_type": "code",
   "execution_count": 8,
   "metadata": {
    "hidden": true
   },
   "outputs": [
    {
     "name": "stderr",
     "output_type": "stream",
     "text": [
      "/home/timetraveller/miniconda3/lib/python3.6/site-packages/pandas/core/frame.py:6211: FutureWarning: Sorting because non-concatenation axis is not aligned. A future version\n",
      "of pandas will change to not sort by default.\n",
      "\n",
      "To accept the future behavior, pass 'sort=False'.\n",
      "\n",
      "To retain the current behavior and silence the warning, pass 'sort=True'.\n",
      "\n",
      "  sort=sort)\n"
     ]
    }
   ],
   "source": [
    "whole = otrain_df.append(otest_df)\n",
    "whole = augment_exponent(whole)\n",
    "train_df, test_df = whole[:200000], whole[200000:]\n",
    "y_train = train_df.target\n",
    "train_df = train_df.drop(['target', 'ID_code'], axis=1)\n",
    "Xtr, Xval, ytr, yval  = train_test_split(train_df, y_train, test_size = 0.05)"
   ]
  },
  {
   "cell_type": "code",
   "execution_count": 11,
   "metadata": {
    "hidden": true
   },
   "outputs": [
    {
     "name": "stdout",
     "output_type": "stream",
     "text": [
      "Training until validation scores don't improve for 4000 rounds.\n",
      "[5000]\ttraining's auc: 0.931132\tvalid_1's auc: 0.89762\n",
      "[10000]\ttraining's auc: 0.951039\tvalid_1's auc: 0.899225\n",
      "Early stopping, best iteration is:\n",
      "[9834]\ttraining's auc: 0.950496\tvalid_1's auc: 0.89929\n",
      "Training until validation scores don't improve for 4000 rounds.\n",
      "[5000]\ttraining's auc: 0.931052\tvalid_1's auc: 0.895564\n",
      "[10000]\ttraining's auc: 0.95098\tvalid_1's auc: 0.897643\n",
      "Early stopping, best iteration is:\n",
      "[9849]\ttraining's auc: 0.950481\tvalid_1's auc: 0.897668\n",
      "Training until validation scores don't improve for 4000 rounds.\n",
      "[5000]\ttraining's auc: 0.929996\tvalid_1's auc: 0.902342\n",
      "[10000]\ttraining's auc: 0.94997\tvalid_1's auc: 0.904284\n",
      "Early stopping, best iteration is:\n",
      "[10374]\ttraining's auc: 0.951237\tvalid_1's auc: 0.90432\n",
      "Training until validation scores don't improve for 4000 rounds.\n",
      "[5000]\ttraining's auc: 0.930996\tvalid_1's auc: 0.897699\n",
      "[10000]\ttraining's auc: 0.950765\tvalid_1's auc: 0.899544\n",
      "Early stopping, best iteration is:\n",
      "[10434]\ttraining's auc: 0.952275\tvalid_1's auc: 0.899608\n",
      "Training until validation scores don't improve for 4000 rounds.\n",
      "[5000]\ttraining's auc: 0.931933\tvalid_1's auc: 0.894221\n",
      "[10000]\ttraining's auc: 0.951695\tvalid_1's auc: 0.895987\n",
      "Early stopping, best iteration is:\n",
      "[9526]\ttraining's auc: 0.950098\tvalid_1's auc: 0.896051\n",
      "Fold: 0 \t Score: 0.9039380632004328\n",
      "Fold: 1 \t Score: 0.9052425814044828\n",
      "Fold: 2 \t Score: 0.9060473210124617\n",
      "Fold: 3 \t Score: 0.9051907492031916\n",
      "Fold: 4 \t Score: 0.9066384762047747\n",
      "Score: 0.9065855269301797\n"
     ]
    }
   ],
   "source": [
    "rank_models = lgb_trainer_no_aug(Xtr, ytr, param, n_folds = 5)\n",
    "q, w = test(Xval, yval, rank_models)"
   ]
  },
  {
   "cell_type": "markdown",
   "metadata": {},
   "source": [
    "# Apply all"
   ]
  },
  {
   "cell_type": "code",
   "execution_count": 3,
   "metadata": {},
   "outputs": [],
   "source": [
    "def augment_exponent(df):\n",
    "    for column in df.columns:\n",
    "        if column in ['ID_code', 'target']:\n",
    "            continue\n",
    "        key = column + '_exp'\n",
    "        df[key] = np.exp(df[column] - df[column].mean())\n",
    "    return df   \n",
    "\n",
    "def augment_exponent_prime(df):\n",
    "    for column in df.columns:\n",
    "        if column in ['ID_code', 'target']:\n",
    "            continue\n",
    "        key = column + '_expp'\n",
    "        df[key] = np.exp(df[column])\n",
    "    return df \n",
    "\n",
    "def augment_squares_prime(df):\n",
    "    for column in df.columns:\n",
    "        if column in ['ID_code', 'target']:\n",
    "            continue\n",
    "        key = column + '_squarep'\n",
    "        df[key] = np.square(df[column] - df[column].mean())\n",
    "    return df   \n",
    "\n",
    "def augment_squares(df):\n",
    "    for column in df.columns:\n",
    "        if column in ['ID_code', 'target']:\n",
    "            continue\n",
    "        key = column + '_square'\n",
    "        df[key] = np.square(df[column])\n",
    "    return df   \n",
    "\n",
    "def augment_log_prime(df):\n",
    "    for column in df.columns:\n",
    "        if column in ['ID_code', 'target']:\n",
    "            continue\n",
    "        key = column + '_logp'\n",
    "        df[key] = np.log(df[column] - df[column].mean())\n",
    "    return df   \n",
    "\n",
    "def augment_log(df):\n",
    "    for column in df.columns:\n",
    "        if column in ['ID_code', 'target']:\n",
    "            continue\n",
    "        key = column + '_log'\n",
    "        df[key] = np.log(df[column])\n",
    "    return df   \n",
    "\n",
    "def augment_row_wise(df):\n",
    "    cols = [col for col in df.columns]\n",
    "    df['average'] = df[cols].mean(axis=1)\n",
    "    df['std'] = df[cols].std(axis=1)\n",
    "    return df   "
   ]
  },
  {
   "cell_type": "code",
   "execution_count": 4,
   "metadata": {},
   "outputs": [],
   "source": [
    "def load_dataframe(dataset):\n",
    "    return pd.read_csv(dataset)\n",
    "with multiprocessing.Pool() as pool:\n",
    "    otrain_df, otest_df = pool.map(load_dataframe, ['data/train.csv', 'data/test.csv'])"
   ]
  },
  {
   "cell_type": "code",
   "execution_count": 6,
   "metadata": {},
   "outputs": [],
   "source": [
    "def apply_all(otrain_df, otest_df, augmentations, param, n_folds):\n",
    "    all_models = []\n",
    "    for augmentation in augmentations:\n",
    "        if augmentation == 'Normal':\n",
    "            print(f\"Doing augmentation: {augmentation}\")\n",
    "            whole = otrain_df.append(otest_df)\n",
    "        else:    \n",
    "            print(f\"Doing augmentation: {augmentation.__name__}\")\n",
    "            whole = augmentation(otrain_df.append(otest_df))\n",
    "        train_df, test_df = whole[:200000], whole[200000:]\n",
    "        y_train = train_df.target\n",
    "        train_df = train_df.drop(['target', 'ID_code'], axis=1)\n",
    "        models = lgb_trainer_no_aug(train_df, y_train, param, n_folds = n_folds)\n",
    "        models2 = lgb_trainer(train_df, y_train, param, n_folds = n_folds)\n",
    "        all_models += models\n",
    "        all_models += models2\n",
    "    return all_models    "
   ]
  },
  {
   "cell_type": "code",
   "execution_count": 7,
   "metadata": {},
   "outputs": [],
   "source": [
    "augmentations = [augment_row_wise, 'Normal', augment_log, augment_log_prime, augment_exponent, \n",
    "                                         augment_exponent_prime, augment_squares, augment_squares_prime\n",
    "                                        ]"
   ]
  },
  {
   "cell_type": "code",
   "execution_count": 8,
   "metadata": {
    "scrolled": false
   },
   "outputs": [
    {
     "name": "stdout",
     "output_type": "stream",
     "text": [
      "Doing augmentation: augment_row_wise\n"
     ]
    },
    {
     "name": "stderr",
     "output_type": "stream",
     "text": [
      "/home/timetraveller/miniconda3/lib/python3.6/site-packages/pandas/core/frame.py:6211: FutureWarning: Sorting because non-concatenation axis is not aligned. A future version\n",
      "of pandas will change to not sort by default.\n",
      "\n",
      "To accept the future behavior, pass 'sort=False'.\n",
      "\n",
      "To retain the current behavior and silence the warning, pass 'sort=True'.\n",
      "\n",
      "  sort=sort)\n"
     ]
    },
    {
     "name": "stdout",
     "output_type": "stream",
     "text": [
      "Training until validation scores don't improve for 4000 rounds.\n",
      "[5000]\ttraining's auc: 0.937209\tvalid_1's auc: 0.897396\n",
      "[10000]\ttraining's auc: 0.957509\tvalid_1's auc: 0.898353\n",
      "Early stopping, best iteration is:\n",
      "[7918]\ttraining's auc: 0.949861\tvalid_1's auc: 0.898501\n",
      "Training until validation scores don't improve for 4000 rounds.\n",
      "[5000]\ttraining's auc: 0.937168\tvalid_1's auc: 0.897812\n",
      "[10000]\ttraining's auc: 0.957348\tvalid_1's auc: 0.898511\n",
      "Early stopping, best iteration is:\n",
      "[8517]\ttraining's auc: 0.951967\tvalid_1's auc: 0.898588\n",
      "Training until validation scores don't improve for 4000 rounds.\n",
      "[5000]\ttraining's auc: 0.936399\tvalid_1's auc: 0.900596\n",
      "[10000]\ttraining's auc: 0.957103\tvalid_1's auc: 0.901175\n",
      "Early stopping, best iteration is:\n",
      "[7752]\ttraining's auc: 0.948591\tvalid_1's auc: 0.901495\n",
      "Training until validation scores don't improve for 4000 rounds.\n",
      "[5000]\ttraining's auc: 0.919809\tvalid_1's auc: 0.897041\n",
      "[10000]\ttraining's auc: 0.932757\tvalid_1's auc: 0.898944\n",
      "Early stopping, best iteration is:\n",
      "[10096]\ttraining's auc: 0.932977\tvalid_1's auc: 0.898967\n",
      "Training until validation scores don't improve for 4000 rounds.\n",
      "[5000]\ttraining's auc: 0.919726\tvalid_1's auc: 0.897628\n",
      "[10000]\ttraining's auc: 0.932581\tvalid_1's auc: 0.899213\n",
      "Early stopping, best iteration is:\n",
      "[10840]\ttraining's auc: 0.934402\tvalid_1's auc: 0.899274\n",
      "Training until validation scores don't improve for 4000 rounds.\n",
      "[5000]\ttraining's auc: 0.919345\tvalid_1's auc: 0.900292\n",
      "[10000]\ttraining's auc: 0.932275\tvalid_1's auc: 0.901792\n",
      "Early stopping, best iteration is:\n",
      "[9076]\ttraining's auc: 0.930145\tvalid_1's auc: 0.901865\n",
      "Doing augmentation: Normal\n"
     ]
    },
    {
     "name": "stderr",
     "output_type": "stream",
     "text": [
      "/home/timetraveller/miniconda3/lib/python3.6/site-packages/pandas/core/frame.py:6211: FutureWarning: Sorting because non-concatenation axis is not aligned. A future version\n",
      "of pandas will change to not sort by default.\n",
      "\n",
      "To accept the future behavior, pass 'sort=False'.\n",
      "\n",
      "To retain the current behavior and silence the warning, pass 'sort=True'.\n",
      "\n",
      "  sort=sort)\n"
     ]
    },
    {
     "name": "stdout",
     "output_type": "stream",
     "text": [
      "Training until validation scores don't improve for 4000 rounds.\n",
      "[5000]\ttraining's auc: 0.937257\tvalid_1's auc: 0.897585\n",
      "[10000]\ttraining's auc: 0.957451\tvalid_1's auc: 0.898738\n",
      "Early stopping, best iteration is:\n",
      "[9114]\ttraining's auc: 0.954262\tvalid_1's auc: 0.89887\n",
      "Training until validation scores don't improve for 4000 rounds.\n",
      "[5000]\ttraining's auc: 0.937046\tvalid_1's auc: 0.89795\n",
      "[10000]\ttraining's auc: 0.957306\tvalid_1's auc: 0.898537\n",
      "Early stopping, best iteration is:\n",
      "[9463]\ttraining's auc: 0.955356\tvalid_1's auc: 0.898563\n",
      "Training until validation scores don't improve for 4000 rounds.\n",
      "[5000]\ttraining's auc: 0.936469\tvalid_1's auc: 0.900259\n",
      "[10000]\ttraining's auc: 0.957042\tvalid_1's auc: 0.900544\n",
      "Early stopping, best iteration is:\n",
      "[8190]\ttraining's auc: 0.95028\tvalid_1's auc: 0.900853\n",
      "Training until validation scores don't improve for 4000 rounds.\n",
      "[5000]\ttraining's auc: 0.919231\tvalid_1's auc: 0.897259\n",
      "[10000]\ttraining's auc: 0.932239\tvalid_1's auc: 0.898728\n",
      "Early stopping, best iteration is:\n",
      "[10625]\ttraining's auc: 0.933669\tvalid_1's auc: 0.898832\n",
      "Training until validation scores don't improve for 4000 rounds.\n",
      "[5000]\ttraining's auc: 0.918501\tvalid_1's auc: 0.898208\n",
      "[10000]\ttraining's auc: 0.931493\tvalid_1's auc: 0.899676\n",
      "Early stopping, best iteration is:\n",
      "[10632]\ttraining's auc: 0.932936\tvalid_1's auc: 0.899706\n",
      "Training until validation scores don't improve for 4000 rounds.\n",
      "[5000]\ttraining's auc: 0.918919\tvalid_1's auc: 0.900269\n",
      "[10000]\ttraining's auc: 0.932035\tvalid_1's auc: 0.901587\n",
      "Early stopping, best iteration is:\n",
      "[8086]\ttraining's auc: 0.927469\tvalid_1's auc: 0.901666\n",
      "Doing augmentation: augment_log\n"
     ]
    },
    {
     "name": "stderr",
     "output_type": "stream",
     "text": [
      "/home/timetraveller/miniconda3/lib/python3.6/site-packages/pandas/core/frame.py:6211: FutureWarning: Sorting because non-concatenation axis is not aligned. A future version\n",
      "of pandas will change to not sort by default.\n",
      "\n",
      "To accept the future behavior, pass 'sort=False'.\n",
      "\n",
      "To retain the current behavior and silence the warning, pass 'sort=True'.\n",
      "\n",
      "  sort=sort)\n",
      "/home/timetraveller/miniconda3/lib/python3.6/site-packages/ipykernel_launcher.py:46: RuntimeWarning: divide by zero encountered in log\n",
      "/home/timetraveller/miniconda3/lib/python3.6/site-packages/ipykernel_launcher.py:46: RuntimeWarning: invalid value encountered in log\n"
     ]
    },
    {
     "name": "stdout",
     "output_type": "stream",
     "text": [
      "Training until validation scores don't improve for 4000 rounds.\n",
      "[5000]\ttraining's auc: 0.939885\tvalid_1's auc: 0.896979\n",
      "[10000]\ttraining's auc: 0.963143\tvalid_1's auc: 0.898005\n",
      "Early stopping, best iteration is:\n",
      "[7901]\ttraining's auc: 0.954345\tvalid_1's auc: 0.898178\n",
      "Training until validation scores don't improve for 4000 rounds.\n",
      "[5000]\ttraining's auc: 0.939837\tvalid_1's auc: 0.897473\n",
      "[10000]\ttraining's auc: 0.962757\tvalid_1's auc: 0.897928\n",
      "Early stopping, best iteration is:\n",
      "[8679]\ttraining's auc: 0.957462\tvalid_1's auc: 0.898151\n",
      "Training until validation scores don't improve for 4000 rounds.\n",
      "[5000]\ttraining's auc: 0.93955\tvalid_1's auc: 0.898928\n",
      "[10000]\ttraining's auc: 0.96289\tvalid_1's auc: 0.899238\n",
      "Early stopping, best iteration is:\n",
      "[7246]\ttraining's auc: 0.951161\tvalid_1's auc: 0.899643\n",
      "Training until validation scores don't improve for 4000 rounds.\n",
      "[5000]\ttraining's auc: 0.951423\tvalid_1's auc: 0.892474\n",
      "[10000]\ttraining's auc: 0.961751\tvalid_1's auc: 0.89782\n",
      "[15000]\ttraining's auc: 0.969181\tvalid_1's auc: 0.898269\n",
      "Early stopping, best iteration is:\n",
      "[15886]\ttraining's auc: 0.970372\tvalid_1's auc: 0.898304\n",
      "Training until validation scores don't improve for 4000 rounds.\n",
      "[5000]\ttraining's auc: 0.950279\tvalid_1's auc: 0.894621\n",
      "[10000]\ttraining's auc: 0.960969\tvalid_1's auc: 0.898759\n",
      "[15000]\ttraining's auc: 0.968546\tvalid_1's auc: 0.898931\n",
      "Early stopping, best iteration is:\n",
      "[12685]\ttraining's auc: 0.96522\tvalid_1's auc: 0.899085\n",
      "Training until validation scores don't improve for 4000 rounds.\n",
      "[5000]\ttraining's auc: 0.950629\tvalid_1's auc: 0.896062\n",
      "[10000]\ttraining's auc: 0.961241\tvalid_1's auc: 0.900052\n",
      "[15000]\ttraining's auc: 0.968775\tvalid_1's auc: 0.900071\n",
      "Early stopping, best iteration is:\n",
      "[11467]\ttraining's auc: 0.963581\tvalid_1's auc: 0.900241\n",
      "Doing augmentation: augment_log_prime\n"
     ]
    },
    {
     "name": "stderr",
     "output_type": "stream",
     "text": [
      "/home/timetraveller/miniconda3/lib/python3.6/site-packages/pandas/core/frame.py:6211: FutureWarning: Sorting because non-concatenation axis is not aligned. A future version\n",
      "of pandas will change to not sort by default.\n",
      "\n",
      "To accept the future behavior, pass 'sort=False'.\n",
      "\n",
      "To retain the current behavior and silence the warning, pass 'sort=True'.\n",
      "\n",
      "  sort=sort)\n",
      "/home/timetraveller/miniconda3/lib/python3.6/site-packages/ipykernel_launcher.py:38: RuntimeWarning: invalid value encountered in log\n"
     ]
    },
    {
     "name": "stdout",
     "output_type": "stream",
     "text": [
      "Training until validation scores don't improve for 4000 rounds.\n",
      "[5000]\ttraining's auc: 0.940055\tvalid_1's auc: 0.896468\n",
      "[10000]\ttraining's auc: 0.96341\tvalid_1's auc: 0.897367\n",
      "Early stopping, best iteration is:\n",
      "[8435]\ttraining's auc: 0.957026\tvalid_1's auc: 0.897628\n",
      "Training until validation scores don't improve for 4000 rounds.\n",
      "[5000]\ttraining's auc: 0.940098\tvalid_1's auc: 0.896677\n",
      "[10000]\ttraining's auc: 0.963263\tvalid_1's auc: 0.89729\n",
      "Early stopping, best iteration is:\n",
      "[8260]\ttraining's auc: 0.956103\tvalid_1's auc: 0.897479\n",
      "Training until validation scores don't improve for 4000 rounds.\n",
      "[5000]\ttraining's auc: 0.939318\tvalid_1's auc: 0.899186\n",
      "[10000]\ttraining's auc: 0.963024\tvalid_1's auc: 0.899533\n",
      "Early stopping, best iteration is:\n",
      "[7239]\ttraining's auc: 0.951052\tvalid_1's auc: 0.899875\n",
      "Training until validation scores don't improve for 4000 rounds.\n",
      "[5000]\ttraining's auc: 0.944437\tvalid_1's auc: 0.891416\n",
      "[10000]\ttraining's auc: 0.956306\tvalid_1's auc: 0.895338\n",
      "[15000]\ttraining's auc: 0.964858\tvalid_1's auc: 0.895312\n",
      "Early stopping, best iteration is:\n",
      "[11297]\ttraining's auc: 0.958668\tvalid_1's auc: 0.895455\n",
      "Training until validation scores don't improve for 4000 rounds.\n",
      "[5000]\ttraining's auc: 0.944324\tvalid_1's auc: 0.892692\n",
      "[10000]\ttraining's auc: 0.956185\tvalid_1's auc: 0.895759\n",
      "[15000]\ttraining's auc: 0.964673\tvalid_1's auc: 0.89556\n",
      "Early stopping, best iteration is:\n",
      "[12126]\ttraining's auc: 0.959963\tvalid_1's auc: 0.895851\n",
      "Training until validation scores don't improve for 4000 rounds.\n",
      "[5000]\ttraining's auc: 0.943738\tvalid_1's auc: 0.895735\n",
      "[10000]\ttraining's auc: 0.955706\tvalid_1's auc: 0.898763\n",
      "[15000]\ttraining's auc: 0.964288\tvalid_1's auc: 0.898572\n",
      "Early stopping, best iteration is:\n",
      "[11445]\ttraining's auc: 0.958342\tvalid_1's auc: 0.89889\n",
      "Doing augmentation: augment_exponent\n"
     ]
    },
    {
     "name": "stderr",
     "output_type": "stream",
     "text": [
      "/home/timetraveller/miniconda3/lib/python3.6/site-packages/pandas/core/frame.py:6211: FutureWarning: Sorting because non-concatenation axis is not aligned. A future version\n",
      "of pandas will change to not sort by default.\n",
      "\n",
      "To accept the future behavior, pass 'sort=False'.\n",
      "\n",
      "To retain the current behavior and silence the warning, pass 'sort=True'.\n",
      "\n",
      "  sort=sort)\n"
     ]
    },
    {
     "name": "stdout",
     "output_type": "stream",
     "text": [
      "Training until validation scores don't improve for 4000 rounds.\n",
      "[5000]\ttraining's auc: 0.939816\tvalid_1's auc: 0.896891\n",
      "[10000]\ttraining's auc: 0.962781\tvalid_1's auc: 0.898171\n",
      "Early stopping, best iteration is:\n",
      "[8340]\ttraining's auc: 0.955998\tvalid_1's auc: 0.898235\n",
      "Training until validation scores don't improve for 4000 rounds.\n",
      "[5000]\ttraining's auc: 0.939713\tvalid_1's auc: 0.898079\n",
      "[10000]\ttraining's auc: 0.96239\tvalid_1's auc: 0.898136\n",
      "Early stopping, best iteration is:\n",
      "[6745]\ttraining's auc: 0.948592\tvalid_1's auc: 0.898598\n",
      "Training until validation scores don't improve for 4000 rounds.\n",
      "[5000]\ttraining's auc: 0.939267\tvalid_1's auc: 0.899764\n",
      "[10000]\ttraining's auc: 0.962553\tvalid_1's auc: 0.899981\n",
      "Early stopping, best iteration is:\n",
      "[7259]\ttraining's auc: 0.950826\tvalid_1's auc: 0.900279\n",
      "Training until validation scores don't improve for 4000 rounds.\n",
      "[5000]\ttraining's auc: 0.952039\tvalid_1's auc: 0.893689\n",
      "[10000]\ttraining's auc: 0.962152\tvalid_1's auc: 0.898555\n",
      "[15000]\ttraining's auc: 0.969417\tvalid_1's auc: 0.898819\n",
      "Early stopping, best iteration is:\n",
      "[14739]\ttraining's auc: 0.969064\tvalid_1's auc: 0.898856\n",
      "Training until validation scores don't improve for 4000 rounds.\n",
      "[5000]\ttraining's auc: 0.951723\tvalid_1's auc: 0.89534\n",
      "[10000]\ttraining's auc: 0.96204\tvalid_1's auc: 0.899603\n",
      "[15000]\ttraining's auc: 0.969305\tvalid_1's auc: 0.899725\n",
      "Early stopping, best iteration is:\n",
      "[13054]\ttraining's auc: 0.966609\tvalid_1's auc: 0.899863\n",
      "Training until validation scores don't improve for 4000 rounds.\n",
      "[5000]\ttraining's auc: 0.951348\tvalid_1's auc: 0.897086\n",
      "[10000]\ttraining's auc: 0.961644\tvalid_1's auc: 0.901423\n",
      "[15000]\ttraining's auc: 0.968988\tvalid_1's auc: 0.901395\n",
      "Early stopping, best iteration is:\n",
      "[12839]\ttraining's auc: 0.965938\tvalid_1's auc: 0.90159\n",
      "Doing augmentation: augment_exponent_prime\n"
     ]
    },
    {
     "name": "stderr",
     "output_type": "stream",
     "text": [
      "/home/timetraveller/miniconda3/lib/python3.6/site-packages/pandas/core/frame.py:6211: FutureWarning: Sorting because non-concatenation axis is not aligned. A future version\n",
      "of pandas will change to not sort by default.\n",
      "\n",
      "To accept the future behavior, pass 'sort=False'.\n",
      "\n",
      "To retain the current behavior and silence the warning, pass 'sort=True'.\n",
      "\n",
      "  sort=sort)\n"
     ]
    },
    {
     "name": "stdout",
     "output_type": "stream",
     "text": [
      "Training until validation scores don't improve for 4000 rounds.\n",
      "[5000]\ttraining's auc: 0.939788\tvalid_1's auc: 0.89701\n",
      "[10000]\ttraining's auc: 0.962793\tvalid_1's auc: 0.898279\n",
      "Early stopping, best iteration is:\n",
      "[8839]\ttraining's auc: 0.958121\tvalid_1's auc: 0.898337\n",
      "Training until validation scores don't improve for 4000 rounds.\n",
      "[5000]\ttraining's auc: 0.939667\tvalid_1's auc: 0.898\n",
      "[10000]\ttraining's auc: 0.962366\tvalid_1's auc: 0.89811\n",
      "Early stopping, best iteration is:\n",
      "[7089]\ttraining's auc: 0.95014\tvalid_1's auc: 0.898511\n",
      "Training until validation scores don't improve for 4000 rounds.\n",
      "[5000]\ttraining's auc: 0.939215\tvalid_1's auc: 0.899724\n",
      "[10000]\ttraining's auc: 0.962527\tvalid_1's auc: 0.899931\n",
      "Early stopping, best iteration is:\n",
      "[7254]\ttraining's auc: 0.950813\tvalid_1's auc: 0.90023\n",
      "Training until validation scores don't improve for 4000 rounds.\n",
      "[5000]\ttraining's auc: 0.952133\tvalid_1's auc: 0.893573\n",
      "[10000]\ttraining's auc: 0.962355\tvalid_1's auc: 0.898513\n",
      "[15000]\ttraining's auc: 0.969566\tvalid_1's auc: 0.898956\n",
      "Early stopping, best iteration is:\n",
      "[14750]\ttraining's auc: 0.96924\tvalid_1's auc: 0.89899\n",
      "Training until validation scores don't improve for 4000 rounds.\n",
      "[5000]\ttraining's auc: 0.951715\tvalid_1's auc: 0.895332\n",
      "[10000]\ttraining's auc: 0.962078\tvalid_1's auc: 0.899414\n",
      "[15000]\ttraining's auc: 0.969348\tvalid_1's auc: 0.899583\n",
      "Early stopping, best iteration is:\n",
      "[13317]\ttraining's auc: 0.967022\tvalid_1's auc: 0.899689\n",
      "Training until validation scores don't improve for 4000 rounds.\n",
      "[5000]\ttraining's auc: 0.95121\tvalid_1's auc: 0.897039\n",
      "[10000]\ttraining's auc: 0.961606\tvalid_1's auc: 0.901465\n",
      "[15000]\ttraining's auc: 0.969055\tvalid_1's auc: 0.901464\n",
      "Early stopping, best iteration is:\n",
      "[13308]\ttraining's auc: 0.966668\tvalid_1's auc: 0.901615\n",
      "Doing augmentation: augment_squares\n"
     ]
    },
    {
     "name": "stderr",
     "output_type": "stream",
     "text": [
      "/home/timetraveller/miniconda3/lib/python3.6/site-packages/pandas/core/frame.py:6211: FutureWarning: Sorting because non-concatenation axis is not aligned. A future version\n",
      "of pandas will change to not sort by default.\n",
      "\n",
      "To accept the future behavior, pass 'sort=False'.\n",
      "\n",
      "To retain the current behavior and silence the warning, pass 'sort=True'.\n",
      "\n",
      "  sort=sort)\n"
     ]
    },
    {
     "name": "stdout",
     "output_type": "stream",
     "text": [
      "Training until validation scores don't improve for 4000 rounds.\n",
      "[5000]\ttraining's auc: 0.939926\tvalid_1's auc: 0.896665\n",
      "[10000]\ttraining's auc: 0.963277\tvalid_1's auc: 0.897833\n",
      "Early stopping, best iteration is:\n",
      "[8291]\ttraining's auc: 0.956174\tvalid_1's auc: 0.898069\n",
      "Training until validation scores don't improve for 4000 rounds.\n",
      "[5000]\ttraining's auc: 0.939739\tvalid_1's auc: 0.897141\n",
      "[10000]\ttraining's auc: 0.962916\tvalid_1's auc: 0.89769\n",
      "Early stopping, best iteration is:\n",
      "[6763]\ttraining's auc: 0.948977\tvalid_1's auc: 0.897996\n",
      "Training until validation scores don't improve for 4000 rounds.\n",
      "[5000]\ttraining's auc: 0.939285\tvalid_1's auc: 0.899042\n",
      "[10000]\ttraining's auc: 0.962869\tvalid_1's auc: 0.899629\n",
      "Early stopping, best iteration is:\n",
      "[7274]\ttraining's auc: 0.951179\tvalid_1's auc: 0.899831\n",
      "Training until validation scores don't improve for 4000 rounds.\n",
      "[5000]\ttraining's auc: 0.945732\tvalid_1's auc: 0.892131\n",
      "[10000]\ttraining's auc: 0.957295\tvalid_1's auc: 0.896442\n",
      "[15000]\ttraining's auc: 0.965674\tvalid_1's auc: 0.896593\n",
      "Early stopping, best iteration is:\n",
      "[13792]\ttraining's auc: 0.963777\tvalid_1's auc: 0.896745\n",
      "Training until validation scores don't improve for 4000 rounds.\n",
      "[5000]\ttraining's auc: 0.944954\tvalid_1's auc: 0.892825\n",
      "[10000]\ttraining's auc: 0.95671\tvalid_1's auc: 0.89657\n",
      "Early stopping, best iteration is:\n",
      "[10880]\ttraining's auc: 0.958328\tvalid_1's auc: 0.896684\n",
      "Training until validation scores don't improve for 4000 rounds.\n",
      "[5000]\ttraining's auc: 0.945198\tvalid_1's auc: 0.894228\n",
      "[10000]\ttraining's auc: 0.956883\tvalid_1's auc: 0.898077\n",
      "[15000]\ttraining's auc: 0.965373\tvalid_1's auc: 0.898078\n",
      "Early stopping, best iteration is:\n",
      "[12275]\ttraining's auc: 0.960941\tvalid_1's auc: 0.898336\n",
      "Doing augmentation: augment_squares_prime\n"
     ]
    },
    {
     "name": "stderr",
     "output_type": "stream",
     "text": [
      "/home/timetraveller/miniconda3/lib/python3.6/site-packages/pandas/core/frame.py:6211: FutureWarning: Sorting because non-concatenation axis is not aligned. A future version\n",
      "of pandas will change to not sort by default.\n",
      "\n",
      "To accept the future behavior, pass 'sort=False'.\n",
      "\n",
      "To retain the current behavior and silence the warning, pass 'sort=True'.\n",
      "\n",
      "  sort=sort)\n"
     ]
    },
    {
     "name": "stdout",
     "output_type": "stream",
     "text": [
      "Training until validation scores don't improve for 4000 rounds.\n",
      "[5000]\ttraining's auc: 0.94076\tvalid_1's auc: 0.894427\n",
      "[10000]\ttraining's auc: 0.964587\tvalid_1's auc: 0.896854\n",
      "Early stopping, best iteration is:\n",
      "[10676]\ttraining's auc: 0.967089\tvalid_1's auc: 0.896891\n",
      "Training until validation scores don't improve for 4000 rounds.\n",
      "[5000]\ttraining's auc: 0.940628\tvalid_1's auc: 0.895193\n",
      "[10000]\ttraining's auc: 0.964378\tvalid_1's auc: 0.897416\n",
      "Early stopping, best iteration is:\n",
      "[9990]\ttraining's auc: 0.964345\tvalid_1's auc: 0.897418\n",
      "Training until validation scores don't improve for 4000 rounds.\n",
      "[5000]\ttraining's auc: 0.940153\tvalid_1's auc: 0.896916\n",
      "[10000]\ttraining's auc: 0.964144\tvalid_1's auc: 0.899047\n",
      "Early stopping, best iteration is:\n",
      "[9592]\ttraining's auc: 0.962604\tvalid_1's auc: 0.89912\n",
      "Training until validation scores don't improve for 4000 rounds.\n",
      "[5000]\ttraining's auc: 0.936567\tvalid_1's auc: 0.888258\n",
      "[10000]\ttraining's auc: 0.950663\tvalid_1's auc: 0.893498\n",
      "[15000]\ttraining's auc: 0.960504\tvalid_1's auc: 0.894134\n",
      "Early stopping, best iteration is:\n",
      "[14893]\ttraining's auc: 0.960324\tvalid_1's auc: 0.894139\n",
      "Training until validation scores don't improve for 4000 rounds.\n",
      "[5000]\ttraining's auc: 0.935804\tvalid_1's auc: 0.890293\n",
      "[10000]\ttraining's auc: 0.949977\tvalid_1's auc: 0.89485\n",
      "[15000]\ttraining's auc: 0.959914\tvalid_1's auc: 0.895357\n",
      "Early stopping, best iteration is:\n",
      "[12661]\ttraining's auc: 0.955564\tvalid_1's auc: 0.895426\n",
      "Training until validation scores don't improve for 4000 rounds.\n",
      "[5000]\ttraining's auc: 0.935917\tvalid_1's auc: 0.891294\n",
      "[10000]\ttraining's auc: 0.950187\tvalid_1's auc: 0.895494\n",
      "[15000]\ttraining's auc: 0.960088\tvalid_1's auc: 0.895779\n",
      "Early stopping, best iteration is:\n",
      "[12787]\ttraining's auc: 0.956018\tvalid_1's auc: 0.895882\n"
     ]
    }
   ],
   "source": [
    "all_models = apply_all(otrain_df, otest_df, augmentations, param, 3)"
   ]
  },
  {
   "cell_type": "code",
   "execution_count": 9,
   "metadata": {},
   "outputs": [],
   "source": [
    "save_model(all_models, 'many_models.m')"
   ]
  },
  {
   "cell_type": "code",
   "execution_count": null,
   "metadata": {},
   "outputs": [],
   "source": [
    "save_model"
   ]
  }
 ],
 "metadata": {
  "kernelspec": {
   "display_name": "Python 3",
   "language": "python",
   "name": "python3"
  },
  "language_info": {
   "codemirror_mode": {
    "name": "ipython",
    "version": 3
   },
   "file_extension": ".py",
   "mimetype": "text/x-python",
   "name": "python",
   "nbconvert_exporter": "python",
   "pygments_lexer": "ipython3",
   "version": "3.6.8"
  }
 },
 "nbformat": 4,
 "nbformat_minor": 2
}
